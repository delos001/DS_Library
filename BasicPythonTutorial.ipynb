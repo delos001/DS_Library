{
 "cells": [
  {
   "cell_type": "markdown",
   "metadata": {
    "colab_type": "text",
    "id": "view-in-github"
   },
   "source": [
    "<a href=\"https://colab.research.google.com/github/delos001/DS_Recipes/blob/master/BasicPythonTutorial.ipynb\" target=\"_parent\"><img src=\"https://colab.research.google.com/assets/colab-badge.svg\" alt=\"Open In Colab\"/></a>"
   ]
  },
  {
   "cell_type": "code",
   "execution_count": 0,
   "metadata": {
    "colab": {},
    "colab_type": "code",
    "id": "cKJDifbCpEad"
   },
   "outputs": [],
   "source": [
    "arr = [5, 19, 5, 99, 30, 3, 20, 21]\n",
    "\n",
    "\n",
    "if len(arr) <= 1:\n",
    "  print(arr)"
   ]
  },
  {
   "cell_type": "code",
   "execution_count": 28,
   "metadata": {
    "colab": {
<<<<<<< HEAD
     "base_uri": "https://localhost:8080/",
     "height": 34
    },
    "colab_type": "code",
    "id": "ahjV99bjwI0B",
    "outputId": "6bf3fedf-8895-4bb1-a851-8605bfc20056"
   },
   "outputs": [
    {
     "name": "stdout",
     "output_type": "stream",
     "text": [
      "30\n"
     ]
=======
      "name": "Untitled0.ipynb",
      "provenance": [],
      "authorship_tag": "ABX9TyOfD44wxFYnMrelF7l0GtxO",
      "include_colab_link": true
    },
    "kernelspec": {
      "name": "python3",
      "display_name": "Python 3"
>>>>>>> 46a8eeec854646d6c2d6b14c9b12ff5054024515
    }
   ],
   "source": [
    "pivot = arr[len(arr) // 2]\n",
    "print(pivot)"
   ]
  },
<<<<<<< HEAD
  {
   "cell_type": "code",
   "execution_count": 29,
   "metadata": {
    "colab": {
     "base_uri": "https://localhost:8080/",
     "height": 34
    },
    "colab_type": "code",
    "id": "cJS99toAv9qh",
    "outputId": "e083a7cb-7a4a-4239-c067-4e066f0d3d19"
   },
   "outputs": [
    {
     "name": "stdout",
     "output_type": "stream",
     "text": [
      "[5, 19, 5, 3, 20, 21]\n"
     ]
    }
   ],
   "source": [
    "left = [x for x in arr if x < pivot]\n",
    "\n",
    "print(left)"
   ]
  },
  {
   "cell_type": "code",
   "execution_count": 33,
   "metadata": {
    "colab": {
     "base_uri": "https://localhost:8080/",
     "height": 34
    },
    "colab_type": "code",
    "id": "w6ZeHPya1h3F",
    "outputId": "794775d9-4a26-46e0-c188-3860829016fe"
   },
   "outputs": [
    {
     "name": "stdout",
     "output_type": "stream",
     "text": [
      "[30]\n"
     ]
    }
   ],
   "source": [
    "middle = [x for x in arr if x == pivot]\n",
    "\n",
    "print(middle)"
   ]
  },
  {
   "cell_type": "code",
   "execution_count": 31,
   "metadata": {
    "colab": {
     "base_uri": "https://localhost:8080/",
     "height": 34
    },
    "colab_type": "code",
    "id": "JqSv8ezf1Zgo",
    "outputId": "06fcbfde-2f7e-4c4e-9fa2-33a187e9a6dc"
   },
   "outputs": [
    {
     "name": "stdout",
     "output_type": "stream",
     "text": [
      "[99]\n"
     ]
    }
   ],
   "source": [
    "right = [x for x in arr if x > pivot]\n",
    "\n",
    "print(right)"
   ]
  },
  {
   "cell_type": "code",
   "execution_count": 3,
   "metadata": {
    "colab": {
     "base_uri": "https://localhost:8080/",
     "height": 34
    },
    "colab_type": "code",
    "id": "FWs57u6QpozC",
    "outputId": "ee55cc20-8f3f-4584-cac1-c708b0cf9cb7"
   },
   "outputs": [
    {
     "name": "stdout",
     "output_type": "stream",
     "text": [
      "[3, 5, 5, 19, 20, 21, 30, 99]\n"
     ]
    }
   ],
   "source": [
    "def quicksort(arr):\n",
    "    if len(arr) <= 1:\n",
    "        return arr\n",
    "    pivot = arr[len(arr) // 2]\n",
    "    left = [x for x in arr if x < pivot]\n",
    "    middle = [x for x in arr if x == pivot]\n",
    "    right = [x for x in arr if x > pivot]\n",
    "    return quicksort(left) + middle + quicksort(right)\n",
    "\n",
    "#print(quicksort([3,6,8,10,1,2,19,20,1,5,50,99]))\n",
    "\n",
    "print(quicksort(arr))"
   ]
  },
  {
   "cell_type": "code",
   "execution_count": 4,
   "metadata": {
    "colab": {
     "base_uri": "https://localhost:8080/",
     "height": 34
    },
    "colab_type": "code",
    "id": "Lb8y2ZGXRieV",
    "outputId": "6345b849-1848-4f52-89b6-062b64de21b3"
   },
   "outputs": [
    {
     "name": "stdout",
     "output_type": "stream",
     "text": [
      "hello 5\n"
     ]
    }
   ],
   "source": [
    "hello = 'hello'\n",
    "world = 'world'\n",
    "\n",
    "print(hello, len(hello))"
   ]
  },
  {
   "cell_type": "code",
   "execution_count": 6,
   "metadata": {
    "colab": {
     "base_uri": "https://localhost:8080/",
     "height": 34
    },
    "colab_type": "code",
    "id": "VK-zl9oUe1y6",
    "outputId": "bd1091a7-d429-4063-a700-baab86c689dc"
   },
   "outputs": [
    {
     "name": "stdout",
     "output_type": "stream",
     "text": [
      "hello world\n"
     ]
    }
   ],
   "source": [
    "print(hello + ' ' + world)"
   ]
  },
  {
   "cell_type": "code",
   "execution_count": 8,
   "metadata": {
    "colab": {
     "base_uri": "https://localhost:8080/",
     "height": 34
    },
    "colab_type": "code",
    "id": "nIsJm4ase4pz",
    "outputId": "4a750df8-0f22-4d4a-850c-c0ef512ea09a"
   },
   "outputs": [
    {
     "name": "stdout",
     "output_type": "stream",
     "text": [
      "hello world 12\n"
     ]
    }
   ],
   "source": [
    "hw12 = '{} {} {}' .format(hello, world, 12)\n",
    "print(hw12)"
   ]
  },
  {
   "cell_type": "code",
   "execution_count": 14,
   "metadata": {
    "colab": {
     "base_uri": "https://localhost:8080/",
     "height": 102
    },
    "colab_type": "code",
    "id": "CBSdwyMJfQQD",
    "outputId": "ac677577-da0f-4523-ab7c-66bb54e2af85"
   },
   "outputs": [
    {
     "name": "stdout",
     "output_type": "stream",
     "text": [
      "Hello\n",
      "HELLO\n",
      "  hello\n",
      " hello \n",
      "he(ello)(ello)o\n"
     ]
    }
   ],
   "source": [
    "s = 'hello'\n",
    "\n",
    "print(s.capitalize())\n",
    "print(s.upper())\n",
    "print(s.rjust(7))\n",
    "print(s.center(7))\n",
    "print(s.replace('l', '(ello)'))\n"
   ]
  },
  {
   "cell_type": "code",
   "execution_count": 16,
   "metadata": {
    "colab": {
     "base_uri": "https://localhost:8080/",
     "height": 51
    },
    "colab_type": "code",
    "id": "lWJnGPnUhqHi",
    "outputId": "f7d6e471-6e07-4682-8814-033384d9cd3a"
   },
   "outputs": [
    {
     "name": "stdout",
     "output_type": "stream",
     "text": [
      "[1, 2, 9] 9\n",
      "9\n"
     ]
    }
   ],
   "source": [
    "z = [1, 2, 9]\n",
    "\n",
    "print(z, z[2])\n",
    "print(z[-1])"
   ]
  },
  {
   "cell_type": "code",
   "execution_count": 18,
   "metadata": {
    "colab": {
     "base_uri": "https://localhost:8080/",
     "height": 34
    },
    "colab_type": "code",
    "id": "xogDxO_mh1pL",
    "outputId": "dc7bb95a-984b-4e19-e24a-8a86df8a3afa"
   },
   "outputs": [
    {
     "name": "stdout",
     "output_type": "stream",
     "text": [
      "[1, 2, 'foo']\n"
     ]
    }
   ],
   "source": [
    "z[2] = 'foo'\n",
    "print(z)"
   ]
  },
  {
   "cell_type": "code",
   "execution_count": 0,
   "metadata": {
    "colab": {},
    "colab_type": "code",
    "id": "XPvR8G_jiE1Y"
   },
   "outputs": [],
   "source": [
    "z = z + z"
   ]
  },
  {
   "cell_type": "code",
   "execution_count": 20,
   "metadata": {
    "colab": {
     "base_uri": "https://localhost:8080/",
     "height": 34
    },
    "colab_type": "code",
    "id": "c7tD8SOdiN8S",
    "outputId": "e8c78b4d-884f-49e9-be90-94d3e40e8fbe"
   },
   "outputs": [
    {
     "name": "stdout",
     "output_type": "stream",
     "text": [
      "[1, 2, 'foo', 1, 2, 'foo']\n"
     ]
    }
   ],
   "source": [
    "print(z)"
   ]
  },
  {
   "cell_type": "code",
   "execution_count": 0,
   "metadata": {
    "colab": {},
    "colab_type": "code",
    "id": "CbgHxzfhiO5v"
   },
   "outputs": [],
   "source": [
    "z = z[0:3]"
   ]
  },
  {
   "cell_type": "code",
   "execution_count": 25,
   "metadata": {
    "colab": {
     "base_uri": "https://localhost:8080/",
     "height": 34
    },
    "colab_type": "code",
    "id": "3_y2ZFK6iXJT",
    "outputId": "b3c8f61a-5ad7-41dc-81c4-7c48607b60fd"
   },
   "outputs": [
    {
     "name": "stdout",
     "output_type": "stream",
     "text": [
      "[1, 2, 'foo']\n"
     ]
    }
   ],
   "source": [
    "print(z)"
   ]
  },
  {
   "cell_type": "code",
   "execution_count": 23,
   "metadata": {
    "colab": {
     "base_uri": "https://localhost:8080/",
     "height": 34
    },
    "colab_type": "code",
    "id": "1dVOgSa0iXwG",
    "outputId": "8c329cff-a7bf-4c0c-e35e-ce4d7bca2072"
   },
   "outputs": [
    {
     "name": "stdout",
     "output_type": "stream",
     "text": [
      "[1, 2, 'foo']\n"
     ]
    }
   ],
   "source": [
    "z.append('foo')\n",
    "print(z)"
   ]
  },
  {
   "cell_type": "code",
   "execution_count": 26,
   "metadata": {
    "colab": {
     "base_uri": "https://localhost:8080/",
     "height": 34
    },
    "colab_type": "code",
    "id": "8rdEraVoiflk",
    "outputId": "51cdf571-db6e-4a71-efcf-841e807cb2de"
   },
   "outputs": [
    {
     "name": "stdout",
     "output_type": "stream",
     "text": [
      "[1, 2, 'foo', 'bar']\n"
     ]
    }
   ],
   "source": [
    "z.append('bar')\n",
    "print(z)"
   ]
  },
  {
   "cell_type": "code",
   "execution_count": 27,
   "metadata": {
    "colab": {
     "base_uri": "https://localhost:8080/",
     "height": 34
    },
    "colab_type": "code",
    "id": "ssUEksoziqse",
    "outputId": "9d003794-69f1-470a-cdd7-56c3a9c1cbeb"
   },
   "outputs": [
    {
     "data": {
      "text/plain": [
       "'bar'"
      ]
     },
     "execution_count": 27,
     "metadata": {
      "tags": []
     },
     "output_type": "execute_result"
    }
   ],
   "source": [
    "z.pop()"
   ]
  },
  {
   "cell_type": "code",
   "execution_count": 28,
   "metadata": {
    "colab": {
     "base_uri": "https://localhost:8080/",
     "height": 34
    },
    "colab_type": "code",
    "id": "9edjSCoPiwh9",
    "outputId": "4b374add-95c6-43d1-b6e5-d4e4eb699a8f"
   },
   "outputs": [
    {
     "name": "stdout",
     "output_type": "stream",
     "text": [
      "[1, 2, 'foo']\n"
     ]
    }
   ],
   "source": [
    "print(z)"
   ]
  },
  {
   "cell_type": "code",
   "execution_count": 30,
   "metadata": {
    "colab": {
     "base_uri": "https://localhost:8080/",
     "height": 34
    },
    "colab_type": "code",
    "id": "fpAECBGIiyDX",
    "outputId": "a736e8da-f0d2-4d7d-a74e-89797f24032e"
   },
   "outputs": [
    {
     "name": "stdout",
     "output_type": "stream",
     "text": [
      "[0, 1, 2, 3, 4, 5, 6, 7, 8, 9]\n"
     ]
    }
   ],
   "source": [
    "ran = list(range(10))\n",
    "print(ran)"
   ]
  },
  {
   "cell_type": "code",
   "execution_count": 32,
   "metadata": {
    "colab": {
     "base_uri": "https://localhost:8080/",
     "height": 136
    },
    "colab_type": "code",
    "id": "kD5oT2DEkdtY",
    "outputId": "c4648eea-9fae-4ed3-b173-000a8e7aed62"
   },
   "outputs": [
    {
     "name": "stdout",
     "output_type": "stream",
     "text": [
      "2\n",
      "[0, 1, 2, 3, 4]\n",
      "[2, 3, 4, 5, 6, 7]\n",
      "[7, 8, 9]\n",
      "[0, 1, 2, 3, 4, 5, 6, 7, 8, 9]\n",
      "[0, 1, 2, 3, 4, 5, 6, 7, 8]\n",
      "9\n"
     ]
    }
   ],
   "source": [
    "print(ran[2])\n",
    "print(ran[0:5])\n",
    "print(ran[2:8])\n",
    "print(ran[7:])\n",
    "print(ran[:])\n",
    "print(ran[:-1])\n",
    "print(ran[-1])"
   ]
  },
  {
   "cell_type": "code",
   "execution_count": 33,
   "metadata": {
    "colab": {
     "base_uri": "https://localhost:8080/",
     "height": 85
    },
    "colab_type": "code",
    "id": "EEjPlQ5sk2jh",
    "outputId": "421a5b4a-46fa-4809-ee0a-f3cf79a59cec"
   },
   "outputs": [
    {
     "name": "stdout",
     "output_type": "stream",
     "text": [
      "cat\n",
      "dog\n",
      "bird\n",
      "cow\n"
     ]
    }
   ],
   "source": [
    "animals = ['cat', 'dog', 'bird', 'cow']\n",
    "\n",
    "for animal in animals:\n",
    "  print(animal)"
   ]
  },
  {
   "cell_type": "code",
   "execution_count": 34,
   "metadata": {
    "colab": {
     "base_uri": "https://localhost:8080/",
     "height": 85
    },
    "colab_type": "code",
    "id": "ljpIVKpglyLl",
    "outputId": "873682f8-1a29-4609-a439-015c79562b18"
   },
   "outputs": [
    {
     "name": "stdout",
     "output_type": "stream",
     "text": [
      "1: cat\n",
      "2: dog\n",
      "3: bird\n",
      "4: cow\n"
     ]
    }
   ],
   "source": [
    "for idx, animal in enumerate(animals):\n",
    "  print('{}: {}'. format(idx + 1, animal))\n"
   ]
  },
  {
   "cell_type": "code",
   "execution_count": 36,
   "metadata": {
    "colab": {
     "base_uri": "https://localhost:8080/",
     "height": 85
    },
    "colab_type": "code",
    "id": "vHPMvRYBmV3P",
    "outputId": "daef287f-4b37-4a49-e8e4-06dcad379596"
   },
   "outputs": [
    {
     "name": "stdout",
     "output_type": "stream",
     "text": [
      "[1]\n",
      "[1, 4]\n",
      "[1, 4, 9]\n",
      "[1, 4, 9, 16]\n"
     ]
    }
   ],
   "source": [
    "nums = [1, 2, 3, 4]\n",
    "\n",
    "sqd = []\n",
    "for num in nums:\n",
    "  sqd.append(num**2)\n",
    "\n",
    "  print(sqd)\n"
   ]
  },
  {
   "cell_type": "code",
   "execution_count": 37,
   "metadata": {
    "colab": {
     "base_uri": "https://localhost:8080/",
     "height": 34
    },
    "colab_type": "code",
    "id": "L_38qxUiv4DT",
    "outputId": "9423f19b-9fbc-44bd-9bfe-e60be121508b"
   },
   "outputs": [
    {
     "name": "stdout",
     "output_type": "stream",
     "text": [
      "[1, 4, 9, 16]\n"
     ]
    }
   ],
   "source": [
    "print(sqd)"
   ]
  },
  {
   "cell_type": "code",
   "execution_count": 38,
   "metadata": {
    "colab": {
     "base_uri": "https://localhost:8080/",
     "height": 34
    },
    "colab_type": "code",
    "id": "FM4vX-UKwNrL",
    "outputId": "c01a6dfa-7457-459e-ea9d-a8b5340dd85d"
   },
   "outputs": [
    {
     "name": "stdout",
     "output_type": "stream",
     "text": [
      "[1, 4, 9, 16]\n"
     ]
    }
   ],
   "source": [
    "nums = [1,2,3,4]\n",
    "\n",
    "sqd = [num**2 for num in nums]\n",
    "\n",
    "print(sqd)"
   ]
  },
  {
   "cell_type": "code",
   "execution_count": 41,
   "metadata": {
    "colab": {
     "base_uri": "https://localhost:8080/",
     "height": 34
    },
    "colab_type": "code",
    "id": "Mk9oXgBhyUJu",
    "outputId": "2fd99f2b-b081-46d6-ec20-823e866cd2e4"
   },
   "outputs": [
    {
     "name": "stdout",
     "output_type": "stream",
     "text": [
      "[4, 16]\n"
     ]
    }
   ],
   "source": [
    "nums = [1,2,3,4]\n",
    "\n",
    "evnsqd = [num**2 for num in nums if num % 2 == 0]\n",
    "print(evnsqd)"
   ]
  },
  {
   "cell_type": "code",
   "execution_count": 42,
   "metadata": {
    "colab": {
     "base_uri": "https://localhost:8080/",
     "height": 34
    },
    "colab_type": "code",
    "id": "bXwBJaCwzqKW",
    "outputId": "1af727e4-7286-48d6-c3c0-219525f18248"
   },
   "outputs": [
    {
     "data": {
      "text/plain": [
       "141440"
      ]
     },
     "execution_count": 42,
     "metadata": {
      "tags": []
     },
     "output_type": "execute_result"
    }
   ],
   "source": [
    "68*40*52"
   ]
  },
  {
   "cell_type": "code",
   "execution_count": 0,
   "metadata": {
    "colab": {},
    "colab_type": "code",
    "id": "c2Dc-LyzKV8S"
   },
   "outputs": [],
   "source": [
    "animals = {'cat': 'cute', 'dog': 'furry'}"
   ]
  },
  {
   "cell_type": "code",
   "execution_count": 2,
   "metadata": {
    "colab": {
     "base_uri": "https://localhost:8080/",
     "height": 34
    },
    "colab_type": "code",
    "id": "V5G4P2eIHzuf",
    "outputId": "aad59914-f173-4e34-cde2-1cfe9180bf37"
   },
   "outputs": [
    {
     "data": {
      "text/plain": [
       "'cute'"
      ]
     },
     "execution_count": 2,
     "metadata": {
      "tags": []
     },
     "output_type": "execute_result"
    }
   ],
   "source": [
    "animals['cat']"
   ]
  },
  {
   "cell_type": "code",
   "execution_count": 3,
   "metadata": {
    "colab": {
     "base_uri": "https://localhost:8080/",
     "height": 34
    },
    "colab_type": "code",
    "id": "lth4W1b_H1wz",
    "outputId": "f720c87b-51c2-4350-c883-cc9e892b6344"
   },
   "outputs": [
    {
     "name": "stdout",
     "output_type": "stream",
     "text": [
      "True\n"
     ]
    }
   ],
   "source": [
    "print('cat' in animals)"
   ]
  },
  {
   "cell_type": "code",
   "execution_count": 0,
   "metadata": {
    "colab": {},
    "colab_type": "code",
    "id": "4xS5zQ7uM2mw"
   },
   "outputs": [],
   "source": [
    "animals['fish'] = 'wet'"
   ]
  },
  {
   "cell_type": "code",
   "execution_count": 5,
   "metadata": {
    "colab": {
     "base_uri": "https://localhost:8080/",
     "height": 34
    },
    "colab_type": "code",
    "id": "LnIkT2prNYEY",
    "outputId": "d1ff59f4-8314-4721-95e5-55bd328b2475"
   },
   "outputs": [
    {
     "data": {
      "text/plain": [
       "{'cat': 'cute', 'dog': 'furry', 'fish': 'wet'}"
      ]
     },
     "execution_count": 5,
     "metadata": {
      "tags": []
     },
     "output_type": "execute_result"
    }
   ],
   "source": [
    "animals"
   ]
  },
  {
   "cell_type": "code",
   "execution_count": 7,
   "metadata": {
    "colab": {
     "base_uri": "https://localhost:8080/",
     "height": 34
    },
    "colab_type": "code",
    "id": "lrI1wZn9NZfY",
    "outputId": "f3432b6f-19d0-482f-95c3-9e04dd3fa277"
   },
   "outputs": [
    {
     "name": "stdout",
     "output_type": "stream",
     "text": [
      "{'cat': 'cute', 'dog': 'furry'}\n"
     ]
    }
   ],
   "source": [
    "del animals['fish']\n",
    "\n",
    "print(animals)"
   ]
  },
  {
   "cell_type": "code",
   "execution_count": 0,
   "metadata": {
    "colab": {},
    "colab_type": "code",
    "id": "jZj0kdxaN3d_"
   },
   "outputs": [],
   "source": [
    "d = {'dog': 4, 'human': 2, 'spider': 8}"
   ]
  },
  {
   "cell_type": "code",
   "execution_count": 19,
   "metadata": {
    "colab": {
     "base_uri": "https://localhost:8080/",
     "height": 68
    },
    "colab_type": "code",
    "id": "u-kUervpPfe6",
    "outputId": "133a0fc3-d813-4cba-e136-4b2cbe62e9b8"
   },
   "outputs": [
    {
     "name": "stdout",
     "output_type": "stream",
     "text": [
      "A dog has 4 legs\n",
      "A human has 2 legs\n",
      "A spider has 8 legs\n"
     ]
    }
   ],
   "source": [
    "for animal, leg in d.items():\n",
    "  print('A {} has {} legs'.format(animal, leg))"
   ]
  },
  {
   "cell_type": "code",
   "execution_count": 0,
   "metadata": {
    "colab": {},
    "colab_type": "code",
    "id": "CgCurie6P4xj"
   },
   "outputs": [],
   "source": [
    "legs = {}"
   ]
  },
  {
   "cell_type": "code",
   "execution_count": 21,
   "metadata": {
    "colab": {
     "base_uri": "https://localhost:8080/",
     "height": 34
    },
    "colab_type": "code",
    "id": "999qcXgyQCSa",
    "outputId": "3ce8a8b3-92a6-4740-b014-68730dc70e2d"
   },
   "outputs": [
    {
     "name": "stdout",
     "output_type": "stream",
     "text": [
      "{0: 0, 2: 4, 4: 16}\n"
     ]
    }
   ],
   "source": [
    "sqd = [0, 1, 2, 3, 4]\n",
    "\n",
    "result = {x: x**2 for x in sqd if x % 2 == 0}\n",
    "print(result)"
   ]
  },
  {
   "cell_type": "code",
   "execution_count": 0,
   "metadata": {
    "colab": {},
    "colab_type": "code",
    "id": "otwc4qbPUkIu"
   },
   "outputs": [],
   "source": [
    "animals = {'cat', 'dog'}"
   ]
  },
  {
   "cell_type": "code",
   "execution_count": 24,
   "metadata": {
    "colab": {
     "base_uri": "https://localhost:8080/",
     "height": 51
    },
    "colab_type": "code",
    "id": "VNrbJ0pCV-nW",
    "outputId": "0ef8d72a-98ba-4ef9-ac0f-c01fb644c28d"
   },
   "outputs": [
    {
     "name": "stdout",
     "output_type": "stream",
     "text": [
      "{'dog', 'cat', 'fish'}\n",
      "3\n"
     ]
    }
   ],
   "source": [
    "animals.add('fish')\n",
    "print(animals)\n",
    "print(len(animals))"
   ]
  },
  {
   "cell_type": "code",
   "execution_count": 26,
   "metadata": {
    "colab": {
     "base_uri": "https://localhost:8080/",
     "height": 34
    },
    "colab_type": "code",
    "id": "orI-VZHVWGTP",
    "outputId": "fd91f460-d205-4aed-878f-132a9d610e7c"
   },
   "outputs": [
    {
     "name": "stdout",
     "output_type": "stream",
     "text": [
      "2\n"
     ]
    }
   ],
   "source": [
    "animals.remove('fish')\n",
    "print(len(animals))"
   ]
  },
  {
   "cell_type": "code",
   "execution_count": 28,
   "metadata": {
    "colab": {
     "base_uri": "https://localhost:8080/",
     "height": 68
    },
    "colab_type": "code",
    "id": "KktOpgrtWTN2",
    "outputId": "f2075c1d-5274-445d-f75a-fc9927b63b31"
   },
   "outputs": [
    {
     "name": "stdout",
     "output_type": "stream",
     "text": [
      "ind: 1 dog\n",
      "ind: 2 cat\n",
      "ind: 3 fish\n"
     ]
    }
   ],
   "source": [
    "animals = {'cat', 'dog', 'fish'}\n",
    "\n",
    "for idx, animal in enumerate(animals):\n",
    "  print('ind: {} {}'.format(idx + 1, animal))"
   ]
  },
  {
   "cell_type": "code",
   "execution_count": 35,
   "metadata": {
    "colab": {
     "base_uri": "https://localhost:8080/",
     "height": 34
    },
    "colab_type": "code",
    "id": "7cla6cdZW0bd",
    "outputId": "86b9276e-06e3-4ac2-a86b-4669a6b6903c"
   },
   "outputs": [
    {
     "name": "stdout",
     "output_type": "stream",
     "text": [
      "{0, 1, 2, 3, 4, 5}\n"
     ]
    }
   ],
   "source": [
    "from math import sqrt\n",
    "\n",
    "print({int(sqrt(x)) for x in range(30)})"
   ]
  },
  {
   "cell_type": "code",
   "execution_count": 34,
   "metadata": {
    "colab": {
     "base_uri": "https://localhost:8080/",
     "height": 34
    },
    "colab_type": "code",
    "id": "9KsLHgZeaGW7",
    "outputId": "3ce65dbe-988e-429a-e1d6-6d25e71eed22"
   },
   "outputs": [
    {
     "data": {
      "text/plain": [
       "5.385164807134504"
      ]
     },
     "execution_count": 34,
     "metadata": {
      "tags": []
     },
     "output_type": "execute_result"
    }
   ],
   "source": [
    "sqrt(29)"
   ]
  },
  {
   "cell_type": "code",
   "execution_count": 0,
   "metadata": {
    "colab": {},
    "colab_type": "code",
    "id": "GoTCkm5xaQqM"
   },
   "outputs": [],
   "source": [
    "d = {(x, x + 1): x for x in range(10)}  # Create a dictionary with tuple keys\n",
    "t = (5, 6)       # Create a tuple\n",
    "print(type(t))\n",
    "print(d[t])       \n",
    "print(d[(1, 2)])"
   ]
  },
  {
   "cell_type": "code",
   "execution_count": 36,
   "metadata": {
    "colab": {
     "base_uri": "https://localhost:8080/",
     "height": 34
    },
    "colab_type": "code",
    "id": "XA1m94wXcPBy",
    "outputId": "52a3ba11-e420-4c5a-bee3-5bf1930a8365"
   },
   "outputs": [
    {
     "name": "stdout",
     "output_type": "stream",
     "text": [
      "{(0, 1): 0, (1, 2): 1, (2, 3): 2, (3, 4): 3, (4, 5): 4, (5, 6): 5, (6, 7): 6, (7, 8): 7, (8, 9): 8, (9, 10): 9}\n"
     ]
=======
  "cells": [
    {
      "cell_type": "markdown",
      "metadata": {
        "id": "view-in-github",
        "colab_type": "text"
      },
      "source": [
        "<a href=\"https://colab.research.google.com/github/delos001/DS_Recipes/blob/master/BasicPythonTutorial.ipynb\" target=\"_parent\"><img src=\"https://colab.research.google.com/assets/colab-badge.svg\" alt=\"Open In Colab\"/></a>"
      ]
    },
    {
      "cell_type": "code",
      "metadata": {
        "id": "cKJDifbCpEad",
        "colab_type": "code",
        "colab": {}
      },
      "source": [
        "arr = [5, 19, 5, 99, 30, 3, 20, 21]\n",
        "\n",
        "\n",
        "if len(arr) <= 1:\n",
        "  print(arr)"
      ],
      "execution_count": null,
      "outputs": []
    },
    {
      "cell_type": "code",
      "metadata": {
        "id": "ahjV99bjwI0B",
        "colab_type": "code",
        "colab": {
          "base_uri": "https://localhost:8080/",
          "height": 34
        },
        "outputId": "6bf3fedf-8895-4bb1-a851-8605bfc20056"
      },
      "source": [
        "pivot = arr[len(arr) // 2]\n",
        "print(pivot)"
      ],
      "execution_count": null,
      "outputs": [
        {
          "output_type": "stream",
          "text": [
            "30\n"
          ],
          "name": "stdout"
        }
      ]
    },
    {
      "cell_type": "code",
      "metadata": {
        "id": "cJS99toAv9qh",
        "colab_type": "code",
        "colab": {
          "base_uri": "https://localhost:8080/",
          "height": 34
        },
        "outputId": "e083a7cb-7a4a-4239-c067-4e066f0d3d19"
      },
      "source": [
        "left = [x for x in arr if x < pivot]\n",
        "\n",
        "print(left)"
      ],
      "execution_count": null,
      "outputs": [
        {
          "output_type": "stream",
          "text": [
            "[5, 19, 5, 3, 20, 21]\n"
          ],
          "name": "stdout"
        }
      ]
    },
    {
      "cell_type": "code",
      "metadata": {
        "id": "w6ZeHPya1h3F",
        "colab_type": "code",
        "colab": {
          "base_uri": "https://localhost:8080/",
          "height": 34
        },
        "outputId": "794775d9-4a26-46e0-c188-3860829016fe"
      },
      "source": [
        "middle = [x for x in arr if x == pivot]\n",
        "\n",
        "print(middle)"
      ],
      "execution_count": null,
      "outputs": [
        {
          "output_type": "stream",
          "text": [
            "[30]\n"
          ],
          "name": "stdout"
        }
      ]
    },
    {
      "cell_type": "code",
      "metadata": {
        "id": "JqSv8ezf1Zgo",
        "colab_type": "code",
        "colab": {
          "base_uri": "https://localhost:8080/",
          "height": 34
        },
        "outputId": "06fcbfde-2f7e-4c4e-9fa2-33a187e9a6dc"
      },
      "source": [
        "right = [x for x in arr if x > pivot]\n",
        "\n",
        "print(right)"
      ],
      "execution_count": null,
      "outputs": [
        {
          "output_type": "stream",
          "text": [
            "[99]\n"
          ],
          "name": "stdout"
        }
      ]
    },
    {
      "cell_type": "code",
      "metadata": {
        "id": "FWs57u6QpozC",
        "colab_type": "code",
        "colab": {
          "base_uri": "https://localhost:8080/",
          "height": 34
        },
        "outputId": "ee55cc20-8f3f-4584-cac1-c708b0cf9cb7"
      },
      "source": [
        "def quicksort(arr):\n",
        "    if len(arr) <= 1:\n",
        "        return arr\n",
        "    pivot = arr[len(arr) // 2]\n",
        "    left = [x for x in arr if x < pivot]\n",
        "    middle = [x for x in arr if x == pivot]\n",
        "    right = [x for x in arr if x > pivot]\n",
        "    return quicksort(left) + middle + quicksort(right)\n",
        "\n",
        "#print(quicksort([3,6,8,10,1,2,19,20,1,5,50,99]))\n",
        "\n",
        "print(quicksort(arr))"
      ],
      "execution_count": null,
      "outputs": [
        {
          "output_type": "stream",
          "text": [
            "[3, 5, 5, 19, 20, 21, 30, 99]\n"
          ],
          "name": "stdout"
        }
      ]
    },
    {
      "cell_type": "code",
      "metadata": {
        "id": "Lb8y2ZGXRieV",
        "colab_type": "code",
        "colab": {
          "base_uri": "https://localhost:8080/",
          "height": 34
        },
        "outputId": "6345b849-1848-4f52-89b6-062b64de21b3"
      },
      "source": [
        "hello = 'hello'\n",
        "world = 'world'\n",
        "\n",
        "print(hello, len(hello))"
      ],
      "execution_count": null,
      "outputs": [
        {
          "output_type": "stream",
          "text": [
            "hello 5\n"
          ],
          "name": "stdout"
        }
      ]
    },
    {
      "cell_type": "code",
      "metadata": {
        "id": "VK-zl9oUe1y6",
        "colab_type": "code",
        "colab": {
          "base_uri": "https://localhost:8080/",
          "height": 34
        },
        "outputId": "bd1091a7-d429-4063-a700-baab86c689dc"
      },
      "source": [
        "print(hello + ' ' + world)"
      ],
      "execution_count": null,
      "outputs": [
        {
          "output_type": "stream",
          "text": [
            "hello world\n"
          ],
          "name": "stdout"
        }
      ]
    },
    {
      "cell_type": "code",
      "metadata": {
        "id": "nIsJm4ase4pz",
        "colab_type": "code",
        "colab": {
          "base_uri": "https://localhost:8080/",
          "height": 34
        },
        "outputId": "4a750df8-0f22-4d4a-850c-c0ef512ea09a"
      },
      "source": [
        "hw12 = '{} {} {}' .format(hello, world, 12)\n",
        "print(hw12)"
      ],
      "execution_count": null,
      "outputs": [
        {
          "output_type": "stream",
          "text": [
            "hello world 12\n"
          ],
          "name": "stdout"
        }
      ]
    },
    {
      "cell_type": "code",
      "metadata": {
        "id": "CBSdwyMJfQQD",
        "colab_type": "code",
        "colab": {
          "base_uri": "https://localhost:8080/",
          "height": 102
        },
        "outputId": "ac677577-da0f-4523-ab7c-66bb54e2af85"
      },
      "source": [
        "s = 'hello'\n",
        "\n",
        "print(s.capitalize())\n",
        "print(s.upper())\n",
        "print(s.rjust(7))\n",
        "print(s.center(7))\n",
        "print(s.replace('l', '(ello)'))\n"
      ],
      "execution_count": null,
      "outputs": [
        {
          "output_type": "stream",
          "text": [
            "Hello\n",
            "HELLO\n",
            "  hello\n",
            " hello \n",
            "he(ello)(ello)o\n"
          ],
          "name": "stdout"
        }
      ]
    },
    {
      "cell_type": "code",
      "metadata": {
        "id": "lWJnGPnUhqHi",
        "colab_type": "code",
        "colab": {
          "base_uri": "https://localhost:8080/",
          "height": 51
        },
        "outputId": "f7d6e471-6e07-4682-8814-033384d9cd3a"
      },
      "source": [
        "z = [1, 2, 9]\n",
        "\n",
        "print(z, z[2])\n",
        "print(z[-1])"
      ],
      "execution_count": null,
      "outputs": [
        {
          "output_type": "stream",
          "text": [
            "[1, 2, 9] 9\n",
            "9\n"
          ],
          "name": "stdout"
        }
      ]
    },
    {
      "cell_type": "code",
      "metadata": {
        "id": "xogDxO_mh1pL",
        "colab_type": "code",
        "colab": {
          "base_uri": "https://localhost:8080/",
          "height": 34
        },
        "outputId": "dc7bb95a-984b-4e19-e24a-8a86df8a3afa"
      },
      "source": [
        "z[2] = 'foo'\n",
        "print(z)"
      ],
      "execution_count": null,
      "outputs": [
        {
          "output_type": "stream",
          "text": [
            "[1, 2, 'foo']\n"
          ],
          "name": "stdout"
        }
      ]
    },
    {
      "cell_type": "code",
      "metadata": {
        "id": "XPvR8G_jiE1Y",
        "colab_type": "code",
        "colab": {}
      },
      "source": [
        "z = z + z"
      ],
      "execution_count": null,
      "outputs": []
    },
    {
      "cell_type": "code",
      "metadata": {
        "id": "c7tD8SOdiN8S",
        "colab_type": "code",
        "colab": {
          "base_uri": "https://localhost:8080/",
          "height": 34
        },
        "outputId": "e8c78b4d-884f-49e9-be90-94d3e40e8fbe"
      },
      "source": [
        "print(z)"
      ],
      "execution_count": null,
      "outputs": [
        {
          "output_type": "stream",
          "text": [
            "[1, 2, 'foo', 1, 2, 'foo']\n"
          ],
          "name": "stdout"
        }
      ]
    },
    {
      "cell_type": "code",
      "metadata": {
        "id": "CbgHxzfhiO5v",
        "colab_type": "code",
        "colab": {}
      },
      "source": [
        "z = z[0:3]"
      ],
      "execution_count": null,
      "outputs": []
    },
    {
      "cell_type": "code",
      "metadata": {
        "id": "3_y2ZFK6iXJT",
        "colab_type": "code",
        "colab": {
          "base_uri": "https://localhost:8080/",
          "height": 34
        },
        "outputId": "b3c8f61a-5ad7-41dc-81c4-7c48607b60fd"
      },
      "source": [
        "print(z)"
      ],
      "execution_count": null,
      "outputs": [
        {
          "output_type": "stream",
          "text": [
            "[1, 2, 'foo']\n"
          ],
          "name": "stdout"
        }
      ]
    },
    {
      "cell_type": "code",
      "metadata": {
        "id": "1dVOgSa0iXwG",
        "colab_type": "code",
        "colab": {
          "base_uri": "https://localhost:8080/",
          "height": 34
        },
        "outputId": "8c329cff-a7bf-4c0c-e35e-ce4d7bca2072"
      },
      "source": [
        "z.append('foo')\n",
        "print(z)"
      ],
      "execution_count": null,
      "outputs": [
        {
          "output_type": "stream",
          "text": [
            "[1, 2, 'foo']\n"
          ],
          "name": "stdout"
        }
      ]
    },
    {
      "cell_type": "code",
      "metadata": {
        "id": "8rdEraVoiflk",
        "colab_type": "code",
        "colab": {
          "base_uri": "https://localhost:8080/",
          "height": 34
        },
        "outputId": "51cdf571-db6e-4a71-efcf-841e807cb2de"
      },
      "source": [
        "z.append('bar')\n",
        "print(z)"
      ],
      "execution_count": null,
      "outputs": [
        {
          "output_type": "stream",
          "text": [
            "[1, 2, 'foo', 'bar']\n"
          ],
          "name": "stdout"
        }
      ]
    },
    {
      "cell_type": "code",
      "metadata": {
        "id": "ssUEksoziqse",
        "colab_type": "code",
        "colab": {
          "base_uri": "https://localhost:8080/",
          "height": 34
        },
        "outputId": "9d003794-69f1-470a-cdd7-56c3a9c1cbeb"
      },
      "source": [
        "z.pop()"
      ],
      "execution_count": null,
      "outputs": [
        {
          "output_type": "execute_result",
          "data": {
            "text/plain": [
              "'bar'"
            ]
          },
          "metadata": {
            "tags": []
          },
          "execution_count": 27
        }
      ]
    },
    {
      "cell_type": "code",
      "metadata": {
        "id": "9edjSCoPiwh9",
        "colab_type": "code",
        "colab": {
          "base_uri": "https://localhost:8080/",
          "height": 34
        },
        "outputId": "4b374add-95c6-43d1-b6e5-d4e4eb699a8f"
      },
      "source": [
        "print(z)"
      ],
      "execution_count": null,
      "outputs": [
        {
          "output_type": "stream",
          "text": [
            "[1, 2, 'foo']\n"
          ],
          "name": "stdout"
        }
      ]
    },
    {
      "cell_type": "code",
      "metadata": {
        "id": "fpAECBGIiyDX",
        "colab_type": "code",
        "colab": {
          "base_uri": "https://localhost:8080/",
          "height": 34
        },
        "outputId": "a736e8da-f0d2-4d7d-a74e-89797f24032e"
      },
      "source": [
        "ran = list(range(10))\n",
        "print(ran)"
      ],
      "execution_count": null,
      "outputs": [
        {
          "output_type": "stream",
          "text": [
            "[0, 1, 2, 3, 4, 5, 6, 7, 8, 9]\n"
          ],
          "name": "stdout"
        }
      ]
    },
    {
      "cell_type": "code",
      "metadata": {
        "id": "kD5oT2DEkdtY",
        "colab_type": "code",
        "colab": {
          "base_uri": "https://localhost:8080/",
          "height": 136
        },
        "outputId": "c4648eea-9fae-4ed3-b173-000a8e7aed62"
      },
      "source": [
        "print(ran[2])\n",
        "print(ran[0:5])\n",
        "print(ran[2:8])\n",
        "print(ran[7:])\n",
        "print(ran[:])\n",
        "print(ran[:-1])\n",
        "print(ran[-1])"
      ],
      "execution_count": null,
      "outputs": [
        {
          "output_type": "stream",
          "text": [
            "2\n",
            "[0, 1, 2, 3, 4]\n",
            "[2, 3, 4, 5, 6, 7]\n",
            "[7, 8, 9]\n",
            "[0, 1, 2, 3, 4, 5, 6, 7, 8, 9]\n",
            "[0, 1, 2, 3, 4, 5, 6, 7, 8]\n",
            "9\n"
          ],
          "name": "stdout"
        }
      ]
    },
    {
      "cell_type": "code",
      "metadata": {
        "id": "EEjPlQ5sk2jh",
        "colab_type": "code",
        "colab": {
          "base_uri": "https://localhost:8080/",
          "height": 85
        },
        "outputId": "421a5b4a-46fa-4809-ee0a-f3cf79a59cec"
      },
      "source": [
        "animals = ['cat', 'dog', 'bird', 'cow']\n",
        "\n",
        "for animal in animals:\n",
        "  print(animal)"
      ],
      "execution_count": null,
      "outputs": [
        {
          "output_type": "stream",
          "text": [
            "cat\n",
            "dog\n",
            "bird\n",
            "cow\n"
          ],
          "name": "stdout"
        }
      ]
    },
    {
      "cell_type": "code",
      "metadata": {
        "id": "ljpIVKpglyLl",
        "colab_type": "code",
        "colab": {
          "base_uri": "https://localhost:8080/",
          "height": 85
        },
        "outputId": "873682f8-1a29-4609-a439-015c79562b18"
      },
      "source": [
        "for idx, animal in enumerate(animals):\n",
        "  print('{}: {}'. format(idx + 1, animal))\n"
      ],
      "execution_count": null,
      "outputs": [
        {
          "output_type": "stream",
          "text": [
            "1: cat\n",
            "2: dog\n",
            "3: bird\n",
            "4: cow\n"
          ],
          "name": "stdout"
        }
      ]
    },
    {
      "cell_type": "code",
      "metadata": {
        "id": "vHPMvRYBmV3P",
        "colab_type": "code",
        "colab": {
          "base_uri": "https://localhost:8080/",
          "height": 85
        },
        "outputId": "daef287f-4b37-4a49-e8e4-06dcad379596"
      },
      "source": [
        "nums = [1, 2, 3, 4]\n",
        "\n",
        "sqd = []\n",
        "for num in nums:\n",
        "  sqd.append(num**2)\n",
        "\n",
        "  print(sqd)\n"
      ],
      "execution_count": null,
      "outputs": [
        {
          "output_type": "stream",
          "text": [
            "[1]\n",
            "[1, 4]\n",
            "[1, 4, 9]\n",
            "[1, 4, 9, 16]\n"
          ],
          "name": "stdout"
        }
      ]
    },
    {
      "cell_type": "code",
      "metadata": {
        "id": "L_38qxUiv4DT",
        "colab_type": "code",
        "colab": {
          "base_uri": "https://localhost:8080/",
          "height": 34
        },
        "outputId": "9423f19b-9fbc-44bd-9bfe-e60be121508b"
      },
      "source": [
        "print(sqd)"
      ],
      "execution_count": null,
      "outputs": [
        {
          "output_type": "stream",
          "text": [
            "[1, 4, 9, 16]\n"
          ],
          "name": "stdout"
        }
      ]
    },
    {
      "cell_type": "code",
      "metadata": {
        "id": "FM4vX-UKwNrL",
        "colab_type": "code",
        "colab": {
          "base_uri": "https://localhost:8080/",
          "height": 34
        },
        "outputId": "c01a6dfa-7457-459e-ea9d-a8b5340dd85d"
      },
      "source": [
        "nums = [1,2,3,4]\n",
        "\n",
        "sqd = [num**2 for num in nums]\n",
        "\n",
        "print(sqd)"
      ],
      "execution_count": null,
      "outputs": [
        {
          "output_type": "stream",
          "text": [
            "[1, 4, 9, 16]\n"
          ],
          "name": "stdout"
        }
      ]
    },
    {
      "cell_type": "code",
      "metadata": {
        "id": "Mk9oXgBhyUJu",
        "colab_type": "code",
        "colab": {
          "base_uri": "https://localhost:8080/",
          "height": 34
        },
        "outputId": "2fd99f2b-b081-46d6-ec20-823e866cd2e4"
      },
      "source": [
        "nums = [1,2,3,4]\n",
        "\n",
        "evnsqd = [num**2 for num in nums if num % 2 == 0]\n",
        "print(evnsqd)"
      ],
      "execution_count": null,
      "outputs": [
        {
          "output_type": "stream",
          "text": [
            "[4, 16]\n"
          ],
          "name": "stdout"
        }
      ]
    },
    {
      "cell_type": "code",
      "metadata": {
        "id": "bXwBJaCwzqKW",
        "colab_type": "code",
        "colab": {
          "base_uri": "https://localhost:8080/",
          "height": 34
        },
        "outputId": "1af727e4-7286-48d6-c3c0-219525f18248"
      },
      "source": [
        "68*40*52"
      ],
      "execution_count": null,
      "outputs": [
        {
          "output_type": "execute_result",
          "data": {
            "text/plain": [
              "141440"
            ]
          },
          "metadata": {
            "tags": []
          },
          "execution_count": 42
        }
      ]
    },
    {
      "cell_type": "code",
      "metadata": {
        "id": "c2Dc-LyzKV8S",
        "colab_type": "code",
        "colab": {}
      },
      "source": [
        "animals = {'cat': 'cute', 'dog': 'furry'}"
      ],
      "execution_count": null,
      "outputs": []
    },
    {
      "cell_type": "code",
      "metadata": {
        "id": "V5G4P2eIHzuf",
        "colab_type": "code",
        "colab": {
          "base_uri": "https://localhost:8080/",
          "height": 34
        },
        "outputId": "aad59914-f173-4e34-cde2-1cfe9180bf37"
      },
      "source": [
        "animals['cat']"
      ],
      "execution_count": null,
      "outputs": [
        {
          "output_type": "execute_result",
          "data": {
            "text/plain": [
              "'cute'"
            ]
          },
          "metadata": {
            "tags": []
          },
          "execution_count": 2
        }
      ]
    },
    {
      "cell_type": "code",
      "metadata": {
        "id": "lth4W1b_H1wz",
        "colab_type": "code",
        "colab": {
          "base_uri": "https://localhost:8080/",
          "height": 34
        },
        "outputId": "f720c87b-51c2-4350-c883-cc9e892b6344"
      },
      "source": [
        "print('cat' in animals)"
      ],
      "execution_count": null,
      "outputs": [
        {
          "output_type": "stream",
          "text": [
            "True\n"
          ],
          "name": "stdout"
        }
      ]
    },
    {
      "cell_type": "code",
      "metadata": {
        "id": "4xS5zQ7uM2mw",
        "colab_type": "code",
        "colab": {}
      },
      "source": [
        "animals['fish'] = 'wet'"
      ],
      "execution_count": null,
      "outputs": []
    },
    {
      "cell_type": "code",
      "metadata": {
        "id": "LnIkT2prNYEY",
        "colab_type": "code",
        "colab": {
          "base_uri": "https://localhost:8080/",
          "height": 34
        },
        "outputId": "d1ff59f4-8314-4721-95e5-55bd328b2475"
      },
      "source": [
        "animals"
      ],
      "execution_count": null,
      "outputs": [
        {
          "output_type": "execute_result",
          "data": {
            "text/plain": [
              "{'cat': 'cute', 'dog': 'furry', 'fish': 'wet'}"
            ]
          },
          "metadata": {
            "tags": []
          },
          "execution_count": 5
        }
      ]
    },
    {
      "cell_type": "code",
      "metadata": {
        "id": "lrI1wZn9NZfY",
        "colab_type": "code",
        "colab": {
          "base_uri": "https://localhost:8080/",
          "height": 34
        },
        "outputId": "f3432b6f-19d0-482f-95c3-9e04dd3fa277"
      },
      "source": [
        "del animals['fish']\n",
        "\n",
        "print(animals)"
      ],
      "execution_count": null,
      "outputs": [
        {
          "output_type": "stream",
          "text": [
            "{'cat': 'cute', 'dog': 'furry'}\n"
          ],
          "name": "stdout"
        }
      ]
    },
    {
      "cell_type": "code",
      "metadata": {
        "id": "jZj0kdxaN3d_",
        "colab_type": "code",
        "colab": {}
      },
      "source": [
        "d = {'dog': 4, 'human': 2, 'spider': 8}"
      ],
      "execution_count": null,
      "outputs": []
    },
    {
      "cell_type": "code",
      "metadata": {
        "id": "u-kUervpPfe6",
        "colab_type": "code",
        "colab": {
          "base_uri": "https://localhost:8080/",
          "height": 68
        },
        "outputId": "133a0fc3-d813-4cba-e136-4b2cbe62e9b8"
      },
      "source": [
        "for animal, leg in d.items():\n",
        "  print('A {} has {} legs'.format(animal, leg))"
      ],
      "execution_count": null,
      "outputs": [
        {
          "output_type": "stream",
          "text": [
            "A dog has 4 legs\n",
            "A human has 2 legs\n",
            "A spider has 8 legs\n"
          ],
          "name": "stdout"
        }
      ]
    },
    {
      "cell_type": "code",
      "metadata": {
        "id": "CgCurie6P4xj",
        "colab_type": "code",
        "colab": {}
      },
      "source": [
        "legs = {}"
      ],
      "execution_count": null,
      "outputs": []
    },
    {
      "cell_type": "code",
      "metadata": {
        "id": "999qcXgyQCSa",
        "colab_type": "code",
        "colab": {
          "base_uri": "https://localhost:8080/",
          "height": 34
        },
        "outputId": "3ce8a8b3-92a6-4740-b014-68730dc70e2d"
      },
      "source": [
        "sqd = [0, 1, 2, 3, 4]\n",
        "\n",
        "result = {x: x**2 for x in sqd if x % 2 == 0}\n",
        "print(result)"
      ],
      "execution_count": null,
      "outputs": [
        {
          "output_type": "stream",
          "text": [
            "{0: 0, 2: 4, 4: 16}\n"
          ],
          "name": "stdout"
        }
      ]
    },
    {
      "cell_type": "code",
      "metadata": {
        "id": "otwc4qbPUkIu",
        "colab_type": "code",
        "colab": {}
      },
      "source": [
        "animals = {'cat', 'dog'}"
      ],
      "execution_count": null,
      "outputs": []
    },
    {
      "cell_type": "code",
      "metadata": {
        "id": "VNrbJ0pCV-nW",
        "colab_type": "code",
        "colab": {
          "base_uri": "https://localhost:8080/",
          "height": 51
        },
        "outputId": "0ef8d72a-98ba-4ef9-ac0f-c01fb644c28d"
      },
      "source": [
        "animals.add('fish')\n",
        "print(animals)\n",
        "print(len(animals))"
      ],
      "execution_count": null,
      "outputs": [
        {
          "output_type": "stream",
          "text": [
            "{'dog', 'cat', 'fish'}\n",
            "3\n"
          ],
          "name": "stdout"
        }
      ]
    },
    {
      "cell_type": "code",
      "metadata": {
        "id": "orI-VZHVWGTP",
        "colab_type": "code",
        "colab": {
          "base_uri": "https://localhost:8080/",
          "height": 34
        },
        "outputId": "fd91f460-d205-4aed-878f-132a9d610e7c"
      },
      "source": [
        "animals.remove('fish')\n",
        "print(len(animals))"
      ],
      "execution_count": null,
      "outputs": [
        {
          "output_type": "stream",
          "text": [
            "2\n"
          ],
          "name": "stdout"
        }
      ]
    },
    {
      "cell_type": "code",
      "metadata": {
        "id": "KktOpgrtWTN2",
        "colab_type": "code",
        "colab": {
          "base_uri": "https://localhost:8080/",
          "height": 68
        },
        "outputId": "f2075c1d-5274-445d-f75a-fc9927b63b31"
      },
      "source": [
        "animals = {'cat', 'dog', 'fish'}\n",
        "\n",
        "for idx, animal in enumerate(animals):\n",
        "  print('ind: {} {}'.format(idx + 1, animal))"
      ],
      "execution_count": null,
      "outputs": [
        {
          "output_type": "stream",
          "text": [
            "ind: 1 dog\n",
            "ind: 2 cat\n",
            "ind: 3 fish\n"
          ],
          "name": "stdout"
        }
      ]
    },
    {
      "cell_type": "code",
      "metadata": {
        "id": "7cla6cdZW0bd",
        "colab_type": "code",
        "colab": {
          "base_uri": "https://localhost:8080/",
          "height": 34
        },
        "outputId": "86b9276e-06e3-4ac2-a86b-4669a6b6903c"
      },
      "source": [
        "from math import sqrt\n",
        "\n",
        "print({int(sqrt(x)) for x in range(30)})"
      ],
      "execution_count": null,
      "outputs": [
        {
          "output_type": "stream",
          "text": [
            "{0, 1, 2, 3, 4, 5}\n"
          ],
          "name": "stdout"
        }
      ]
    },
    {
      "cell_type": "code",
      "metadata": {
        "id": "9KsLHgZeaGW7",
        "colab_type": "code",
        "colab": {
          "base_uri": "https://localhost:8080/",
          "height": 34
        },
        "outputId": "3ce65dbe-988e-429a-e1d6-6d25e71eed22"
      },
      "source": [
        "sqrt(29)"
      ],
      "execution_count": null,
      "outputs": [
        {
          "output_type": "execute_result",
          "data": {
            "text/plain": [
              "5.385164807134504"
            ]
          },
          "metadata": {
            "tags": []
          },
          "execution_count": 34
        }
      ]
    },
    {
      "cell_type": "code",
      "metadata": {
        "id": "GoTCkm5xaQqM",
        "colab_type": "code",
        "colab": {}
      },
      "source": [
        "d = {(x, x + 1): x for x in range(10)}  # Create a dictionary with tuple keys\n",
        "t = (5, 6)       # Create a tuple\n",
        "print(type(t))\n",
        "print(d[t])       \n",
        "print(d[(1, 2)])"
      ],
      "execution_count": null,
      "outputs": []
    },
    {
      "cell_type": "code",
      "metadata": {
        "id": "XA1m94wXcPBy",
        "colab_type": "code",
        "colab": {
          "base_uri": "https://localhost:8080/",
          "height": 34
        },
        "outputId": "52a3ba11-e420-4c5a-bee3-5bf1930a8365"
      },
      "source": [
        "d = {(x, x + 1): x for x in range(10)}\n",
        "print(d)"
      ],
      "execution_count": null,
      "outputs": [
        {
          "output_type": "stream",
          "text": [
            "{(0, 1): 0, (1, 2): 1, (2, 3): 2, (3, 4): 3, (4, 5): 4, (5, 6): 5, (6, 7): 6, (7, 8): 7, (8, 9): 8, (9, 10): 9}\n"
          ],
          "name": "stdout"
        }
      ]
    },
    {
      "cell_type": "code",
      "metadata": {
        "id": "hBIdT37UcVnu",
        "colab_type": "code",
        "colab": {
          "base_uri": "https://localhost:8080/",
          "height": 34
        },
        "outputId": "6807b089-dca9-4898-81a1-f9174f30875a"
      },
      "source": [
        "t = (5, 6)\n",
        "print(type(t))"
      ],
      "execution_count": null,
      "outputs": [
        {
          "output_type": "stream",
          "text": [
            "<class 'tuple'>\n"
          ],
          "name": "stdout"
        }
      ]
    },
    {
      "cell_type": "code",
      "metadata": {
        "id": "i5NP0Pg2clII",
        "colab_type": "code",
        "colab": {
          "base_uri": "https://localhost:8080/",
          "height": 34
        },
        "outputId": "e7c6c180-46e0-4468-a1e5-6b74cc47b521"
      },
      "source": [
        "print(d[t])"
      ],
      "execution_count": null,
      "outputs": [
        {
          "output_type": "stream",
          "text": [
            "5\n"
          ],
          "name": "stdout"
        }
      ]
    },
    {
      "cell_type": "code",
      "metadata": {
        "id": "JbwQn5ECcrGV",
        "colab_type": "code",
        "colab": {
          "base_uri": "https://localhost:8080/",
          "height": 34
        },
        "outputId": "2d517918-83d0-4d40-a8b5-85cdab2e3309"
      },
      "source": [
        "print(d[(1, 2)])"
      ],
      "execution_count": null,
      "outputs": [
        {
          "output_type": "stream",
          "text": [
            "1\n"
          ],
          "name": "stdout"
        }
      ]
    },
    {
      "cell_type": "code",
      "metadata": {
        "id": "HvFiwBu0c3iZ",
        "colab_type": "code",
        "colab": {}
      },
      "source": [
        "def sign(x):\n",
        "  if x > 0:\n",
        "    return 'positive'\n",
        "  elif x < 0:\n",
        "    return 'negative'\n",
        "  else:\n",
        "    return 'zero'"
      ],
      "execution_count": null,
      "outputs": []
    },
    {
      "cell_type": "code",
      "metadata": {
        "id": "MVpDfWOejlV7",
        "colab_type": "code",
        "colab": {
          "base_uri": "https://localhost:8080/",
          "height": 68
        },
        "outputId": "386057eb-bb70-4bf0-e5be-a1c573bf6092"
      },
      "source": [
        "for x in [-1, 0, 1]:\n",
        "  print(sign(x))"
      ],
      "execution_count": null,
      "outputs": [
        {
          "output_type": "stream",
          "text": [
            "negative\n",
            "zero\n",
            "positive\n"
          ],
          "name": "stdout"
        }
      ]
    },
    {
      "cell_type": "code",
      "metadata": {
        "id": "LV9N5m4YkxpE",
        "colab_type": "code",
        "colab": {}
      },
      "source": [
        "def hello(name, loud = False):\n",
        "  if loud:\n",
        "    print('HELLO {}'.format(name.upper()))\n",
        "\n",
        "  else:\n",
        "    print('Hello {}'.format(name))\n",
        "\n"
      ],
      "execution_count": null,
      "outputs": []
    },
    {
      "cell_type": "code",
      "metadata": {
        "id": "m7nzP3UKl3vS",
        "colab_type": "code",
        "colab": {
          "base_uri": "https://localhost:8080/",
          "height": 51
        },
        "outputId": "c855ed06-a9d2-4260-bb85-fb669053096b"
      },
      "source": [
        "hello('Pam', loud = True)\n",
        "hello('Pam')"
      ],
      "execution_count": null,
      "outputs": [
        {
          "output_type": "stream",
          "text": [
            "HELLO PAM\n",
            "Hello Pam\n"
          ],
          "name": "stdout"
        }
      ]
    },
    {
      "cell_type": "code",
      "metadata": {
        "id": "OD3akvGYmAPg",
        "colab_type": "code",
        "colab": {}
      },
      "source": [
        "import numpy as np"
      ],
      "execution_count": 1,
      "outputs": []
    },
    {
      "cell_type": "code",
      "metadata": {
        "id": "tBITUr0io5pj",
        "colab_type": "code",
        "colab": {
          "base_uri": "https://localhost:8080/",
          "height": 34
        },
        "outputId": "c3881f92-59f8-4e5c-d15d-89e51308f95c"
      },
      "source": [
        "a = np.array([1,2,3,4,5])\n",
        "print(a)"
      ],
      "execution_count": null,
      "outputs": [
        {
          "output_type": "stream",
          "text": [
            "[1 2 3 4 5]\n"
          ],
          "name": "stdout"
        }
      ]
    },
    {
      "cell_type": "code",
      "metadata": {
        "id": "qEFuVbIVpBnI",
        "colab_type": "code",
        "colab": {
          "base_uri": "https://localhost:8080/",
          "height": 34
        },
        "outputId": "6422e08c-e477-417b-b94a-f761870a6e36"
      },
      "source": [
        "print(type(a), a.shape, a[0], a[1], a[2], a[3])"
      ],
      "execution_count": null,
      "outputs": [
        {
          "output_type": "stream",
          "text": [
            "<class 'numpy.ndarray'> (5,) 1 2 3 4\n"
          ],
          "name": "stdout"
        }
      ]
    },
    {
      "cell_type": "code",
      "metadata": {
        "id": "O6RCiq-fpPgd",
        "colab_type": "code",
        "colab": {
          "base_uri": "https://localhost:8080/",
          "height": 34
        },
        "outputId": "e4a66328-e12e-4190-fadd-904fb1735351"
      },
      "source": [
        "a[4] = 0\n",
        "\n",
        "print(a)"
      ],
      "execution_count": null,
      "outputs": [
        {
          "output_type": "stream",
          "text": [
            "[1 2 3 4 0]\n"
          ],
          "name": "stdout"
        }
      ]
    },
    {
      "cell_type": "code",
      "metadata": {
        "id": "aVZpXHvppT_K",
        "colab_type": "code",
        "colab": {
          "base_uri": "https://localhost:8080/",
          "height": 51
        },
        "outputId": "5215ceec-ff01-4a09-de0f-ea425a491001"
      },
      "source": [
        "b = np.array([[1, 2, 3],\n",
        "             [4, 5, 6]])\n",
        "\n",
        "print(b, b.shape)"
      ],
      "execution_count": null,
      "outputs": [
        {
          "output_type": "stream",
          "text": [
            "[[1 2 3]\n",
            " [4 5 6]] (2, 3)\n"
          ],
          "name": "stdout"
        }
      ]
    },
    {
      "cell_type": "code",
      "metadata": {
        "id": "J_aMe-h1p6Om",
        "colab_type": "code",
        "colab": {
          "base_uri": "https://localhost:8080/",
          "height": 34
        },
        "outputId": "45d5df77-5c9f-44ad-a424-ff606962b887"
      },
      "source": [
        "print(b[0,1], b[1,1], b[1,0])"
      ],
      "execution_count": null,
      "outputs": [
        {
          "output_type": "stream",
          "text": [
            "2 5 4\n"
          ],
          "name": "stdout"
        }
      ]
    },
    {
      "cell_type": "code",
      "metadata": {
        "id": "-3-WI29NqlPT",
        "colab_type": "code",
        "colab": {
          "base_uri": "https://localhost:8080/",
          "height": 51
        },
        "outputId": "892de770-5bcd-45ac-be10-222c5c89765a"
      },
      "source": [
        "a = np.zeros((2,2))\n",
        "print(a)"
      ],
      "execution_count": null,
      "outputs": [
        {
          "output_type": "stream",
          "text": [
            "[[0. 0.]\n",
            " [0. 0.]]\n"
          ],
          "name": "stdout"
        }
      ]
    },
    {
      "cell_type": "code",
      "metadata": {
        "id": "Trb0bdBytXLA",
        "colab_type": "code",
        "colab": {
          "base_uri": "https://localhost:8080/",
          "height": 68
        },
        "outputId": "8965ef82-1923-4b57-bd19-fe946c23a073"
      },
      "source": [
        "b = np.ones((3,3))\n",
        "print(b)"
      ],
      "execution_count": null,
      "outputs": [
        {
          "output_type": "stream",
          "text": [
            "[[1. 1. 1.]\n",
            " [1. 1. 1.]\n",
            " [1. 1. 1.]]\n"
          ],
          "name": "stdout"
        }
      ]
    },
    {
      "cell_type": "code",
      "metadata": {
        "id": "iH3cgnnOtkVs",
        "colab_type": "code",
        "colab": {
          "base_uri": "https://localhost:8080/",
          "height": 68
        },
        "outputId": "36adb58c-6d86-45a6-ddd1-6761e24dec44"
      },
      "source": [
        "z = 7\n",
        "\n",
        "c = np.full((3,3), z)\n",
        "print(c)"
      ],
      "execution_count": null,
      "outputs": [
        {
          "output_type": "stream",
          "text": [
            "[[7 7 7]\n",
            " [7 7 7]\n",
            " [7 7 7]]\n"
          ],
          "name": "stdout"
        }
      ]
    },
    {
      "cell_type": "code",
      "metadata": {
        "id": "82VUxohQt1Nh",
        "colab_type": "code",
        "colab": {
          "base_uri": "https://localhost:8080/",
          "height": 68
        },
        "outputId": "873fce2e-56aa-45f0-e0ef-25921febf6d2"
      },
      "source": [
        "d = np.eye(3)\n",
        "print(d)"
      ],
      "execution_count": null,
      "outputs": [
        {
          "output_type": "stream",
          "text": [
            "[[1. 0. 0.]\n",
            " [0. 1. 0.]\n",
            " [0. 0. 1.]]\n"
          ],
          "name": "stdout"
        }
      ]
    },
    {
      "cell_type": "code",
      "metadata": {
        "id": "BID-R2qxuBux",
        "colab_type": "code",
        "colab": {
          "base_uri": "https://localhost:8080/",
          "height": 102
        },
        "outputId": "cdf83c71-8052-41dd-edd3-00a68a330373"
      },
      "source": [
        "e = np.random.random(size = (5,5))\n",
        "print(e)"
      ],
      "execution_count": null,
      "outputs": [
        {
          "output_type": "stream",
          "text": [
            "[[0.27547133 0.34975736 0.27635786 0.858638   0.74097399]\n",
            " [0.52511599 0.6477946  0.24327164 0.15048306 0.214206  ]\n",
            " [0.46626613 0.95230188 0.00515608 0.92505556 0.40310006]\n",
            " [0.3952282  0.55458886 0.40797626 0.48155134 0.28395892]\n",
            " [0.00718015 0.54689443 0.81799151 0.26783945 0.68512135]]\n"
          ],
          "name": "stdout"
        }
      ]
    },
    {
      "cell_type": "code",
      "metadata": {
        "id": "8cqdKIJMuaAq",
        "colab_type": "code",
        "colab": {
          "base_uri": "https://localhost:8080/",
          "height": 68
        },
        "outputId": "38fe0726-21b2-4fc6-9875-63e6effde5c6"
      },
      "source": [
        "a = np.array([[1,2,3,4], [5,6,7,8], [9, 10, 11, 12]])\n",
        "print(a)"
      ],
      "execution_count": 30,
      "outputs": [
        {
          "output_type": "stream",
          "text": [
            "[[ 1  2  3  4]\n",
            " [ 5  6  7  8]\n",
            " [ 9 10 11 12]]\n"
          ],
          "name": "stdout"
        }
      ]
    },
    {
      "cell_type": "code",
      "metadata": {
        "id": "1WobwxLGvk2M",
        "colab_type": "code",
        "colab": {
          "base_uri": "https://localhost:8080/",
          "height": 51
        },
        "outputId": "9fe27514-de0b-4394-a4a0-12a70ee40496"
      },
      "source": [
        "b = a[:2, 1:3]\n",
        "print(b)"
      ],
      "execution_count": 31,
      "outputs": [
        {
          "output_type": "stream",
          "text": [
            "[[2 3]\n",
            " [6 7]]\n"
          ],
          "name": "stdout"
        }
      ]
    },
    {
      "cell_type": "code",
      "metadata": {
        "id": "oP-hhE6SzpaQ",
        "colab_type": "code",
        "colab": {
          "base_uri": "https://localhost:8080/",
          "height": 34
        },
        "outputId": "feb458fd-0098-483f-df70-3aa4e0774c58"
      },
      "source": [
        "print(a[0,1])"
      ],
      "execution_count": 29,
      "outputs": [
        {
          "output_type": "stream",
          "text": [
            "77\n"
          ],
          "name": "stdout"
        }
      ]
    },
    {
      "cell_type": "code",
      "metadata": {
        "id": "pF2T4Pvenk32",
        "colab_type": "code",
        "colab": {
          "base_uri": "https://localhost:8080/",
          "height": 34
        },
        "outputId": "a8534133-bc28-43a4-b6c2-1bb5ce40e635"
      },
      "source": [
        "b[0, 0] = 77\n",
        "print(a[0, 1])"
      ],
      "execution_count": 27,
      "outputs": [
        {
          "output_type": "stream",
          "text": [
            "77\n"
          ],
          "name": "stdout"
        }
      ]
    },
    {
      "cell_type": "code",
      "metadata": {
        "id": "5xt_axJ8nuRt",
        "colab_type": "code",
        "colab": {
          "base_uri": "https://localhost:8080/",
          "height": 68
        },
        "outputId": "778ad7e5-d067-458c-f3c1-a7be06e0ecf4"
      },
      "source": [
        "a = np.array([[1,2,3,4], [5,6,7,8], [9, 10, 11, 12]])\n",
        "print(a)"
      ],
      "execution_count": 2,
      "outputs": [
        {
          "output_type": "stream",
          "text": [
            "[[ 1  2  3  4]\n",
            " [ 5  6  7  8]\n",
            " [ 9 10 11 12]]\n"
          ],
          "name": "stdout"
        }
      ]
    },
    {
      "cell_type": "code",
      "metadata": {
        "id": "bcfbqFm8rIle",
        "colab_type": "code",
        "colab": {}
      },
      "source": [
        "row1 = a[:, 1]\n",
        "row2 = a[1:2, :]\n",
        "row3 = a[[1], :]\n",
        "\n",
        "row4 = a[0]\n",
        "row5 = a[0:1, :]"
      ],
      "execution_count": 32,
      "outputs": []
    },
    {
      "cell_type": "code",
      "metadata": {
        "id": "6Xc0RzsFtHgx",
        "colab_type": "code",
        "colab": {
          "base_uri": "https://localhost:8080/",
          "height": 153
        },
        "outputId": "64b732f9-b080-4393-dcb5-b425ac4413a3"
      },
      "source": [
        "print(row1)\n",
        "print(row2)\n",
        "print(row3)\n",
        "print(row4)\n",
        "print(row5)"
      ],
      "execution_count": 33,
      "outputs": [
        {
          "output_type": "stream",
          "text": [
            "[ 2  6 10]\n",
            "[[1]\n",
            " [5]\n",
            " [9]]\n",
            "[[5 6 7 8]]\n",
            "[[5 6 7 8]]\n",
            "[1 2 3 4]\n",
            "[[1 2 3 4]]\n"
          ],
          "name": "stdout"
        }
      ]
    },
    {
      "cell_type": "code",
      "metadata": {
        "id": "_zCZqypitIzZ",
        "colab_type": "code",
        "colab": {}
      },
      "source": [
        "col1 = a[:, 1]\n",
        "col2 = a[:, 1:2]\n",
        "col3 = a[:, 0:4]"
      ],
      "execution_count": 41,
      "outputs": []
    },
    {
      "cell_type": "code",
      "metadata": {
        "id": "9CTr_WyirWTb",
        "colab_type": "code",
        "colab": {
          "base_uri": "https://localhost:8080/",
          "height": 136
        },
        "outputId": "c90ace55-7a88-4c42-edea-073221071fef"
      },
      "source": [
        "print(col1, col1.shape)\n",
        "print(col2, col2.shape)\n",
        "print(col3, col3.shape)"
      ],
      "execution_count": 42,
      "outputs": [
        {
          "output_type": "stream",
          "text": [
            "[ 2  6 10] (3,)\n",
            "[[ 2]\n",
            " [ 6]\n",
            " [10]] (3, 1)\n",
            "[[ 1  2  3  4]\n",
            " [ 5  6  7  8]\n",
            " [ 9 10 11 12]] (3, 4)\n"
          ],
          "name": "stdout"
        }
      ]
    },
    {
      "cell_type": "code",
      "metadata": {
        "id": "xJquCIpJrZ1r",
        "colab_type": "code",
        "colab": {}
      },
      "source": [
        ""
      ],
      "execution_count": 42,
      "outputs": []
    },
    {
      "cell_type": "code",
      "metadata": {
        "id": "3Jm_SexWDOfX",
        "colab_type": "code",
        "colab": {
          "base_uri": "https://localhost:8080/",
          "height": 119
        },
        "outputId": "4c3e430c-9bd6-4e78-a1aa-18c783a97ebc"
      },
      "source": [
        "a = np.array([[1, 2], [3, 4], [5, 6]])\n",
        "\n",
        "print(a)\n",
        "\n",
        "print(a[[0, 1, 2], [0, 1, 0]])\n",
        "\n",
        "print(np.array([a[0, 0], a[1, 1], a[2, 0]]))\n",
        "\n",
        "print(([a[0, 0], a[1, 1], a[2, 0]]))"
      ],
      "execution_count": 47,
      "outputs": [
        {
          "output_type": "stream",
          "text": [
            "[[1 2]\n",
            " [3 4]\n",
            " [5 6]]\n",
            "[1 4 5]\n",
            "[1 4 5]\n",
            "[1, 4, 5]\n"
          ],
          "name": "stdout"
        }
      ]
    },
    {
      "cell_type": "code",
      "metadata": {
        "id": "c-p2YEyJDjIv",
        "colab_type": "code",
        "colab": {
          "base_uri": "https://localhost:8080/",
          "height": 51
        },
        "outputId": "ac24aa66-3566-45ba-c8d4-826ab2fdf6bb"
      },
      "source": [
        "print(a[[0, 0], [1, 1]])\n",
        "\n",
        "print(np.array([a[0, 1], a[0, 1]]))"
      ],
      "execution_count": 48,
      "outputs": [
        {
          "output_type": "stream",
          "text": [
            "[2 2]\n",
            "[2 2]\n"
          ],
          "name": "stdout"
        }
      ]
    },
    {
      "cell_type": "code",
      "metadata": {
        "id": "wq_dd52LFDzo",
        "colab_type": "code",
        "colab": {
          "base_uri": "https://localhost:8080/",
          "height": 85
        },
        "outputId": "669009fa-aa5c-427d-fd50-f74bbcf43a82"
      },
      "source": [
        "a = np.array([[1, 2, 3], [4, 5, 6], [7, 8, 9], [10, 11, 12]])\n",
        "print(a)"
      ],
      "execution_count": 49,
      "outputs": [
        {
          "output_type": "stream",
          "text": [
            "[[ 1  2  3]\n",
            " [ 4  5  6]\n",
            " [ 7  8  9]\n",
            " [10 11 12]]\n"
          ],
          "name": "stdout"
        }
      ]
    },
    {
      "cell_type": "code",
      "metadata": {
        "id": "E_Iv11LoGEU2",
        "colab_type": "code",
        "colab": {
          "base_uri": "https://localhost:8080/",
          "height": 34
        },
        "outputId": "ac26bc16-7a46-44f5-8dea-41402b1853c9"
      },
      "source": [
        "b = np.array([0, 2, 0, 1])\n",
        "\n",
        "print(a[np.arange(4), b])"
      ],
      "execution_count": 51,
      "outputs": [
        {
          "output_type": "stream",
          "text": [
            "[ 1  6  7 11]\n"
          ],
          "name": "stdout"
        }
      ]
    },
    {
      "cell_type": "code",
      "metadata": {
        "id": "pGoJMHuLGoI3",
        "colab_type": "code",
        "colab": {
          "base_uri": "https://localhost:8080/",
          "height": 85
        },
        "outputId": "9318bedc-543f-4afc-e36d-10f1557918cc"
      },
      "source": [
        "a[np.arange(4), b] +=10\n",
        "print(a)"
      ],
      "execution_count": 53,
      "outputs": [
        {
          "output_type": "stream",
          "text": [
            "[[11  2  3]\n",
            " [ 4  5 16]\n",
            " [17  8  9]\n",
            " [10 21 12]]\n"
          ],
          "name": "stdout"
        }
      ]
    },
    {
      "cell_type": "code",
      "metadata": {
        "id": "L1LPhTjzHBiO",
        "colab_type": "code",
        "colab": {
          "base_uri": "https://localhost:8080/",
          "height": 68
        },
        "outputId": "183a3383-059d-4fe8-8c61-eef84a803d84"
      },
      "source": [
        "a = np.array([[1, 2], [3, 4], [5, 6]])\n",
        "\n",
        "bool_idx = (a > 2)\n",
        "\n",
        "print(bool_idx)"
      ],
      "execution_count": 55,
      "outputs": [
        {
          "output_type": "stream",
          "text": [
            "[[False False]\n",
            " [ True  True]\n",
            " [ True  True]]\n"
          ],
          "name": "stdout"
        }
      ]
    },
    {
      "cell_type": "code",
      "metadata": {
        "id": "OIDVPIrcI2XV",
        "colab_type": "code",
        "colab": {}
      },
      "source": [
        ""
      ],
      "execution_count": 61,
      "outputs": []
    },
    {
      "cell_type": "code",
      "metadata": {
        "id": "P71RsRXyJLnp",
        "colab_type": "code",
        "colab": {
          "base_uri": "https://localhost:8080/",
          "height": 34
        },
        "outputId": "f324c07a-4d45-4cd5-8fdf-07d32fb8af24"
      },
      "source": [
        "x = np.array([1, 2])\n",
        "y = np.array([1.0, 2.0])\n",
        "z = np.array([1, 2], dtype = np.int64)\n",
        "\n",
        "print(x.dtype, y.dtype, z.dtype)"
      ],
      "execution_count": 64,
      "outputs": [
        {
          "output_type": "stream",
          "text": [
            "int64 float64 int64\n"
          ],
          "name": "stdout"
        }
      ]
    },
    {
      "cell_type": "code",
      "metadata": {
        "id": "hTj-UqziM7cg",
        "colab_type": "code",
        "colab": {
          "base_uri": "https://localhost:8080/",
          "height": 85
        },
        "outputId": "7a23a1a3-f6eb-4036-b1a8-3041123182e4"
      },
      "source": [
        "x = np.array([[1, 2], [3, 4]], dtype = np.float64)\n",
        "y = np.array([[5, 6], [6, 7]], dtype = np.float64)\n",
        "\n",
        "print(x + y)\n",
        "print(np.add(x, y))"
      ],
      "execution_count": 65,
      "outputs": [
        {
          "output_type": "stream",
          "text": [
            "[[ 6.  8.]\n",
            " [ 9. 11.]]\n",
            "[[ 6.  8.]\n",
            " [ 9. 11.]]\n"
          ],
          "name": "stdout"
        }
      ]
    },
    {
      "cell_type": "code",
      "metadata": {
        "id": "cUyuBh-NNx9U",
        "colab_type": "code",
        "colab": {
          "base_uri": "https://localhost:8080/",
          "height": 85
        },
        "outputId": "d5dc70c3-ebda-4509-8b7c-c6ac7f41f229"
      },
      "source": [
        "print(x - y)\n",
        "print(np.subtract(x, y))"
      ],
      "execution_count": 66,
      "outputs": [
        {
          "output_type": "stream",
          "text": [
            "[[-4. -4.]\n",
            " [-3. -3.]]\n",
            "[[-4. -4.]\n",
            " [-3. -3.]]\n"
          ],
          "name": "stdout"
        }
      ]
    },
    {
      "cell_type": "code",
      "metadata": {
        "id": "-Iq6n6RTN4oS",
        "colab_type": "code",
        "colab": {
          "base_uri": "https://localhost:8080/",
          "height": 85
        },
        "outputId": "0948c3a9-51a2-4e32-959b-d88cc0fb249b"
      },
      "source": [
        "print(x*y)\n",
        "print(np.multiply(x, y))"
      ],
      "execution_count": 67,
      "outputs": [
        {
          "output_type": "stream",
          "text": [
            "[[ 5. 12.]\n",
            " [18. 28.]]\n",
            "[[ 5. 12.]\n",
            " [18. 28.]]\n"
          ],
          "name": "stdout"
        }
      ]
    },
    {
      "cell_type": "code",
      "metadata": {
        "id": "52Mp23wCN-wa",
        "colab_type": "code",
        "colab": {
          "base_uri": "https://localhost:8080/",
          "height": 85
        },
        "outputId": "2b1728f1-0a41-4e18-e8f4-f09f314fb7f0"
      },
      "source": [
        "print(x / y)\n",
        "print(np.divide(x, y))"
      ],
      "execution_count": 72,
      "outputs": [
        {
          "output_type": "stream",
          "text": [
            "[[0.2        0.33333333]\n",
            " [0.5        0.57142857]]\n",
            "[[0.2        0.33333333]\n",
            " [0.5        0.57142857]]\n"
          ],
          "name": "stdout"
        }
      ]
    },
    {
      "cell_type": "code",
      "metadata": {
        "id": "cPWCXGZVOEnK",
        "colab_type": "code",
        "colab": {
          "base_uri": "https://localhost:8080/",
          "height": 51
        },
        "outputId": "2baeb7f2-4204-4291-f5c1-b58a2da49dc5"
      },
      "source": [
        "print(np.sqrt(x))"
      ],
      "execution_count": 73,
      "outputs": [
        {
          "output_type": "stream",
          "text": [
            "[[1.         1.41421356]\n",
            " [1.73205081 2.        ]]\n"
          ],
          "name": "stdout"
        }
      ]
    },
    {
      "cell_type": "code",
      "metadata": {
        "id": "yCKXy0MyOj0K",
        "colab_type": "code",
        "colab": {
          "base_uri": "https://localhost:8080/",
          "height": 68
        },
        "outputId": "a983974d-8aa3-4452-889b-d844f26f33df"
      },
      "source": [
        "x = np.array([[1, 2], [3, 4]])\n",
        "y = np.array([[5, 6], [6, 7]])\n",
        "\n",
        "v = np.array([9, 10])\n",
        "w = np.array([11, 12])\n",
        "\n",
        "print(v.dot(w))\n",
        "print(np.dot(v, w))\n",
        "\n",
        "print(v @ w)"
      ],
      "execution_count": 75,
      "outputs": [
        {
          "output_type": "stream",
          "text": [
            "219\n",
            "219\n",
            "219\n"
          ],
          "name": "stdout"
        }
      ]
    },
    {
      "cell_type": "code",
      "metadata": {
        "id": "z1SzOXG-PCZB",
        "colab_type": "code",
        "colab": {}
      },
      "source": [
        ""
      ],
      "execution_count": null,
      "outputs": []
>>>>>>> 46a8eeec854646d6c2d6b14c9b12ff5054024515
    }
   ],
   "source": [
    "d = {(x, x + 1): x for x in range(10)}\n",
    "print(d)"
   ]
  },
  {
   "cell_type": "code",
   "execution_count": 37,
   "metadata": {
    "colab": {
     "base_uri": "https://localhost:8080/",
     "height": 34
    },
    "colab_type": "code",
    "id": "hBIdT37UcVnu",
    "outputId": "6807b089-dca9-4898-81a1-f9174f30875a"
   },
   "outputs": [
    {
     "name": "stdout",
     "output_type": "stream",
     "text": [
      "<class 'tuple'>\n"
     ]
    }
   ],
   "source": [
    "t = (5, 6)\n",
    "print(type(t))"
   ]
  },
  {
   "cell_type": "code",
   "execution_count": 38,
   "metadata": {
    "colab": {
     "base_uri": "https://localhost:8080/",
     "height": 34
    },
    "colab_type": "code",
    "id": "i5NP0Pg2clII",
    "outputId": "e7c6c180-46e0-4468-a1e5-6b74cc47b521"
   },
   "outputs": [
    {
     "name": "stdout",
     "output_type": "stream",
     "text": [
      "5\n"
     ]
    }
   ],
   "source": [
    "print(d[t])"
   ]
  },
  {
   "cell_type": "code",
   "execution_count": 42,
   "metadata": {
    "colab": {
     "base_uri": "https://localhost:8080/",
     "height": 34
    },
    "colab_type": "code",
    "id": "JbwQn5ECcrGV",
    "outputId": "2d517918-83d0-4d40-a8b5-85cdab2e3309"
   },
   "outputs": [
    {
     "name": "stdout",
     "output_type": "stream",
     "text": [
      "1\n"
     ]
    }
   ],
   "source": [
    "print(d[(1, 2)])"
   ]
  },
  {
   "cell_type": "code",
   "execution_count": 0,
   "metadata": {
    "colab": {},
    "colab_type": "code",
    "id": "HvFiwBu0c3iZ"
   },
   "outputs": [],
   "source": [
    "def sign(x):\n",
    "  if x > 0:\n",
    "    return 'positive'\n",
    "  elif x < 0:\n",
    "    return 'negative'\n",
    "  else:\n",
    "    return 'zero'"
   ]
  },
  {
   "cell_type": "code",
   "execution_count": 50,
   "metadata": {
    "colab": {
     "base_uri": "https://localhost:8080/",
     "height": 68
    },
    "colab_type": "code",
    "id": "MVpDfWOejlV7",
    "outputId": "386057eb-bb70-4bf0-e5be-a1c573bf6092"
   },
   "outputs": [
    {
     "name": "stdout",
     "output_type": "stream",
     "text": [
      "negative\n",
      "zero\n",
      "positive\n"
     ]
    }
   ],
   "source": [
    "for x in [-1, 0, 1]:\n",
    "  print(sign(x))"
   ]
  },
  {
   "cell_type": "code",
   "execution_count": 0,
   "metadata": {
    "colab": {},
    "colab_type": "code",
    "id": "LV9N5m4YkxpE"
   },
   "outputs": [],
   "source": [
    "def hello(name, loud = False):\n",
    "  if loud:\n",
    "    print('HELLO {}'.format(name.upper()))\n",
    "\n",
    "  else:\n",
    "    print('Hello {}'.format(name))\n",
    "\n"
   ]
  },
  {
   "cell_type": "code",
   "execution_count": 57,
   "metadata": {
    "colab": {
     "base_uri": "https://localhost:8080/",
     "height": 51
    },
    "colab_type": "code",
    "id": "m7nzP3UKl3vS",
    "outputId": "c855ed06-a9d2-4260-bb85-fb669053096b"
   },
   "outputs": [
    {
     "name": "stdout",
     "output_type": "stream",
     "text": [
      "HELLO PAM\n",
      "Hello Pam\n"
     ]
    }
   ],
   "source": [
    "hello('Pam', loud = True)\n",
    "hello('Pam')"
   ]
  },
  {
   "cell_type": "code",
   "execution_count": 0,
   "metadata": {
    "colab": {},
    "colab_type": "code",
    "id": "OD3akvGYmAPg"
   },
   "outputs": [],
   "source": [
    "import numpy as np"
   ]
  },
  {
   "cell_type": "code",
   "execution_count": 59,
   "metadata": {
    "colab": {
     "base_uri": "https://localhost:8080/",
     "height": 34
    },
    "colab_type": "code",
    "id": "tBITUr0io5pj",
    "outputId": "c3881f92-59f8-4e5c-d15d-89e51308f95c"
   },
   "outputs": [
    {
     "name": "stdout",
     "output_type": "stream",
     "text": [
      "[1 2 3 4 5]\n"
     ]
    }
   ],
   "source": [
    "a = np.array([1,2,3,4,5])\n",
    "print(a)"
   ]
  },
  {
   "cell_type": "code",
   "execution_count": 66,
   "metadata": {
    "colab": {
     "base_uri": "https://localhost:8080/",
     "height": 34
    },
    "colab_type": "code",
    "id": "qEFuVbIVpBnI",
    "outputId": "6422e08c-e477-417b-b94a-f761870a6e36"
   },
   "outputs": [
    {
     "name": "stdout",
     "output_type": "stream",
     "text": [
      "<class 'numpy.ndarray'> (5,) 1 2 3 4\n"
     ]
    }
   ],
   "source": [
    "print(type(a), a.shape, a[0], a[1], a[2], a[3])"
   ]
  },
  {
   "cell_type": "code",
   "execution_count": 64,
   "metadata": {
    "colab": {
     "base_uri": "https://localhost:8080/",
     "height": 34
    },
    "colab_type": "code",
    "id": "O6RCiq-fpPgd",
    "outputId": "e4a66328-e12e-4190-fadd-904fb1735351"
   },
   "outputs": [
    {
     "name": "stdout",
     "output_type": "stream",
     "text": [
      "[1 2 3 4 0]\n"
     ]
    }
   ],
   "source": [
    "a[4] = 0\n",
    "\n",
    "print(a)"
   ]
  },
  {
   "cell_type": "code",
   "execution_count": 68,
   "metadata": {
    "colab": {
     "base_uri": "https://localhost:8080/",
     "height": 51
    },
    "colab_type": "code",
    "id": "aVZpXHvppT_K",
    "outputId": "5215ceec-ff01-4a09-de0f-ea425a491001"
   },
   "outputs": [
    {
     "name": "stdout",
     "output_type": "stream",
     "text": [
      "[[1 2 3]\n",
      " [4 5 6]] (2, 3)\n"
     ]
    }
   ],
   "source": [
    "b = np.array([[1, 2, 3],\n",
    "             [4, 5, 6]])\n",
    "\n",
    "print(b, b.shape)"
   ]
  },
  {
   "cell_type": "code",
   "execution_count": 70,
   "metadata": {
    "colab": {
     "base_uri": "https://localhost:8080/",
     "height": 34
    },
    "colab_type": "code",
    "id": "J_aMe-h1p6Om",
    "outputId": "45d5df77-5c9f-44ad-a424-ff606962b887"
   },
   "outputs": [
    {
     "name": "stdout",
     "output_type": "stream",
     "text": [
      "2 5 4\n"
     ]
    }
   ],
   "source": [
    "print(b[0,1], b[1,1], b[1,0])"
   ]
  },
  {
   "cell_type": "code",
   "execution_count": 73,
   "metadata": {
    "colab": {
     "base_uri": "https://localhost:8080/",
     "height": 51
    },
    "colab_type": "code",
    "id": "-3-WI29NqlPT",
    "outputId": "892de770-5bcd-45ac-be10-222c5c89765a"
   },
   "outputs": [
    {
     "name": "stdout",
     "output_type": "stream",
     "text": [
      "[[0. 0.]\n",
      " [0. 0.]]\n"
     ]
    }
   ],
   "source": [
    "a = np.zeros((2,2))\n",
    "print(a)"
   ]
  },
  {
   "cell_type": "code",
   "execution_count": 74,
   "metadata": {
    "colab": {
     "base_uri": "https://localhost:8080/",
     "height": 68
    },
    "colab_type": "code",
    "id": "Trb0bdBytXLA",
    "outputId": "8965ef82-1923-4b57-bd19-fe946c23a073"
   },
   "outputs": [
    {
     "name": "stdout",
     "output_type": "stream",
     "text": [
      "[[1. 1. 1.]\n",
      " [1. 1. 1.]\n",
      " [1. 1. 1.]]\n"
     ]
    }
   ],
   "source": [
    "b = np.ones((3,3))\n",
    "print(b)"
   ]
  },
  {
   "cell_type": "code",
   "execution_count": 75,
   "metadata": {
    "colab": {
     "base_uri": "https://localhost:8080/",
     "height": 68
    },
    "colab_type": "code",
    "id": "iH3cgnnOtkVs",
    "outputId": "36adb58c-6d86-45a6-ddd1-6761e24dec44"
   },
   "outputs": [
    {
     "name": "stdout",
     "output_type": "stream",
     "text": [
      "[[7 7 7]\n",
      " [7 7 7]\n",
      " [7 7 7]]\n"
     ]
    }
   ],
   "source": [
    "z = 7\n",
    "\n",
    "c = np.full((3,3), z)\n",
    "print(c)"
   ]
  },
  {
   "cell_type": "code",
   "execution_count": 77,
   "metadata": {
    "colab": {
     "base_uri": "https://localhost:8080/",
     "height": 68
    },
    "colab_type": "code",
    "id": "82VUxohQt1Nh",
    "outputId": "873fce2e-56aa-45f0-e0ef-25921febf6d2"
   },
   "outputs": [
    {
     "name": "stdout",
     "output_type": "stream",
     "text": [
      "[[1. 0. 0.]\n",
      " [0. 1. 0.]\n",
      " [0. 0. 1.]]\n"
     ]
    }
   ],
   "source": [
    "d = np.eye(3)\n",
    "print(d)"
   ]
  },
  {
   "cell_type": "code",
   "execution_count": 79,
   "metadata": {
    "colab": {
     "base_uri": "https://localhost:8080/",
     "height": 102
    },
    "colab_type": "code",
    "id": "BID-R2qxuBux",
    "outputId": "cdf83c71-8052-41dd-edd3-00a68a330373"
   },
   "outputs": [
    {
     "name": "stdout",
     "output_type": "stream",
     "text": [
      "[[0.27547133 0.34975736 0.27635786 0.858638   0.74097399]\n",
      " [0.52511599 0.6477946  0.24327164 0.15048306 0.214206  ]\n",
      " [0.46626613 0.95230188 0.00515608 0.92505556 0.40310006]\n",
      " [0.3952282  0.55458886 0.40797626 0.48155134 0.28395892]\n",
      " [0.00718015 0.54689443 0.81799151 0.26783945 0.68512135]]\n"
     ]
    }
   ],
   "source": [
    "e = np.random.random(size = (5,5))\n",
    "print(e)"
   ]
  },
  {
   "cell_type": "code",
   "execution_count": 81,
   "metadata": {
    "colab": {
     "base_uri": "https://localhost:8080/",
     "height": 68
    },
    "colab_type": "code",
    "id": "8cqdKIJMuaAq",
    "outputId": "ba254362-4645-4654-c723-f4bc8fd4644f"
   },
   "outputs": [
    {
     "name": "stdout",
     "output_type": "stream",
     "text": [
      "[[ 1  2  3  4]\n",
      " [ 5  6  7  8]\n",
      " [ 9 10 11 12]]\n"
     ]
    }
   ],
   "source": [
    "a = np.array([[1,2,3,4], [5,6,7,8], [9, 10, 11, 12]])\n",
    "print(a)"
   ]
  },
  {
   "cell_type": "code",
   "execution_count": 85,
   "metadata": {
    "colab": {
     "base_uri": "https://localhost:8080/",
     "height": 51
    },
    "colab_type": "code",
    "id": "1WobwxLGvk2M",
    "outputId": "4b770a56-50b9-47af-d987-c850ee2b37a2"
   },
   "outputs": [
    {
     "name": "stdout",
     "output_type": "stream",
     "text": [
      "[[2 3]\n",
      " [6 7]]\n"
     ]
    }
   ],
   "source": [
    "b = a[:2, 1:3]\n",
    "print(b)"
   ]
  },
  {
   "cell_type": "code",
   "execution_count": 0,
   "metadata": {
    "colab": {},
    "colab_type": "code",
    "id": "oP-hhE6SzpaQ"
   },
   "outputs": [],
   "source": []
  }
 ],
 "metadata": {
  "colab": {
   "authorship_tag": "ABX9TyPGjDbS4RVNPBeBjYVyz3Dl",
   "include_colab_link": true,
   "name": "Untitled0.ipynb",
   "provenance": []
  },
  "kernelspec": {
   "display_name": "Python 3",
   "language": "python",
   "name": "python3"
  },
  "language_info": {
   "codemirror_mode": {
    "name": "ipython",
    "version": 3
   },
   "file_extension": ".py",
   "mimetype": "text/x-python",
   "name": "python",
   "nbconvert_exporter": "python",
   "pygments_lexer": "ipython3",
   "version": "3.7.4"
  }
 },
 "nbformat": 4,
 "nbformat_minor": 1
}
