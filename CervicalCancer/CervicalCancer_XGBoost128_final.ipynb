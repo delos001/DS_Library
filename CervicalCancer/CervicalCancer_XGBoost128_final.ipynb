{
 "cells": [
  {
   "cell_type": "code",
   "execution_count": 99,
   "metadata": {},
   "outputs": [],
   "source": [
    "\n",
    "###XGBoost Model 128###\n"
   ]
  },
  {
   "cell_type": "code",
   "execution_count": 1,
   "metadata": {},
   "outputs": [
    {
     "data": {
      "text/html": [
       "<script>requirejs.config({paths: { 'plotly': ['https://cdn.plot.ly/plotly-latest.min']},});if(!window.Plotly) {{require(['plotly'],function(plotly) {window.Plotly=plotly;});}}</script>"
      ],
      "text/vnd.plotly.v1+html": [
       "<script>requirejs.config({paths: { 'plotly': ['https://cdn.plot.ly/plotly-latest.min']},});if(!window.Plotly) {{require(['plotly'],function(plotly) {window.Plotly=plotly;});}}</script>"
      ]
     },
     "metadata": {},
     "output_type": "display_data"
    }
   ],
   "source": [
    "import numpy as np\n",
    "import pandas as pd\n",
    "import matplotlib.pyplot as plt\n",
    "import seaborn as sns\n",
    "from skimage.io import imread, imshow\n",
    "import cv2\n",
    "import os, os.path\n",
    "\n",
    "%matplotlib inline\n",
    "import plotly.offline as py\n",
    "py.init_notebook_mode(connected=True)\n",
    "import plotly.graph_objs as go\n",
    "import plotly.tools as tls\n",
    "\n",
    "from subprocess import check_output"
   ]
  },
  {
   "cell_type": "code",
   "execution_count": 2,
   "metadata": {},
   "outputs": [],
   "source": [
    "#set train and test directories for desktop local C drive------------------------\n",
    "\n",
    "#local directory parent folder containing the training folders: type_1, type_2, type_3 and test files\n",
    "\n",
    "dir_loc = 'C:\\\\Users\\\\Jason\\\\Desktop\\\\Cervix'\n",
    "dir_loc_sub = '\\\\XGBoost128x128'\n",
    "\n",
    "#local directory parent folder containing the training folders: type_1, type_2, type_3\n",
    "tr1_dir_loc = dir_loc + dir_loc_sub + '\\\\train\\\\Type_1'\n",
    "tr2_dir_loc = dir_loc + dir_loc_sub + '\\\\train\\\\Type_2'\n",
    "tr3_dir_loc = dir_loc + dir_loc_sub + '\\\\train\\\\Type_3'\n",
    "\n",
    "#local directory parent folder containing the test files\n",
    "tst1_dir_loc = dir_loc + dir_loc_sub + '\\\\test'\n",
    "\n",
    "\n",
    "#files for each training type (1,2,3)\n",
    "tr1_f_loc = [os.path.join(tr1_dir_loc, f) for f in os.listdir(tr1_dir_loc)]\n",
    "tr2_f_loc = [os.path.join(tr2_dir_loc, f) for f in os.listdir(tr2_dir_loc)]\n",
    "tr3_f_loc = [os.path.join(tr3_dir_loc, f) for f in os.listdir(tr3_dir_loc)]\n",
    "\n",
    "#test image directory\n",
    "tst1_f_loc = [os.path.join(tst1_dir_loc, f) for f in os.listdir(tst1_dir_loc)]"
   ]
  },
  {
   "cell_type": "code",
   "execution_count": 3,
   "metadata": {},
   "outputs": [],
   "source": [
    "#remove corrupt exif data for local files\n",
    "\n",
    "import piexif\n",
    "\n",
    "\n",
    "for f in tr1_f_loc:\n",
    "    piexif.remove(f)\n",
    "\n",
    "for f in tr2_f_loc:\n",
    "    piexif.remove(f)\n",
    "    \n",
    "for f in tr3_f_loc:\n",
    "    piexif.remove(f)\n",
    "    \n",
    "for f in tst1_f_loc:\n",
    "    piexif.remove(f)\n",
    "    \n",
    "##this operations was already performed on files saved locally so \n",
    "##it is blocked off here "
   ]
  },
  {
   "cell_type": "code",
   "execution_count": 4,
   "metadata": {},
   "outputs": [],
   "source": [
    "#resize type1 files (note: these were already resized once with NN model)\n",
    "\n",
    "from PIL import Image, ImageFile\n",
    "import os, sys\n",
    "\n",
    "# this operations to resize files was alreay performed and saved locally\n",
    "# so doesn't need to be run again\n",
    "\n",
    "ImageFile.LOAD_TRUNCATED_IMAGES = True\n",
    "\n",
    "path1 = tr1_dir_loc + \"\\\\\"\n",
    "dirs = os.listdir( path1 )\n",
    "final_size = 128;\n",
    "\n",
    "def resize_aspect_fit():\n",
    "    for item in dirs:\n",
    "        if item == '.DS_Store':\n",
    "            continue\n",
    "        if os.path.isfile(path1+item):\n",
    "            im = Image.open(path1+item)\n",
    "            f, e = os.path.splitext(path1+item)\n",
    "            size = im.size\n",
    "            ratio = float(final_size) / max(size)\n",
    "            new_image_size = tuple([int(x*ratio) for x in size])\n",
    "            im = im.resize(new_image_size, Image.ANTIALIAS)\n",
    "            new_im = Image.new(\"RGB\", (final_size, final_size))\n",
    "            new_im.paste(im, ((final_size-new_image_size[0])//2, (final_size-new_image_size[1])//2))\n",
    "            new_im.save(f + '.jpg', 'JPEG', quality=90)\n",
    "resize_aspect_fit()"
   ]
  },
  {
   "cell_type": "code",
   "execution_count": 5,
   "metadata": {},
   "outputs": [],
   "source": [
    "#resize type2 files  (note: these were already resized once with NN model)\n",
    "\n",
    "#this operations to resize files was alreay performed and saved locally\n",
    "#so doesn't need to be run again\n",
    "\n",
    "path2 = tr2_dir_loc + \"\\\\\"\n",
    "dirs = os.listdir( path2 )\n",
    "final_size = 128;\n",
    "\n",
    "def resize_aspect_fit():\n",
    "    for item in dirs:\n",
    "        if item == '.DS_Store':\n",
    "            continue\n",
    "        if os.path.isfile(path2+item):\n",
    "            im = Image.open(path2+item)\n",
    "            f, e = os.path.splitext(path2+item)\n",
    "            size = im.size\n",
    "            ratio = float(final_size) / max(size)\n",
    "            new_image_size = tuple([int(x*ratio) for x in size])\n",
    "            im = im.resize(new_image_size, Image.ANTIALIAS)\n",
    "            new_im = Image.new(\"RGB\", (final_size, final_size))\n",
    "            new_im.paste(im, ((final_size-new_image_size[0])//2, (final_size-new_image_size[1])//2))\n",
    "            new_im.save(f + '.jpg', 'JPEG', quality=90)\n",
    "resize_aspect_fit()"
   ]
  },
  {
   "cell_type": "code",
   "execution_count": 6,
   "metadata": {},
   "outputs": [],
   "source": [
    "#resize type3 files (note: these were already resized once with NN model)\n",
    "\n",
    "#this operations to resize files was alreay performed and saved locally\n",
    "#so doesn't need to be run again\n",
    "\n",
    "path3 = tr3_dir_loc + \"\\\\\"\n",
    "dirs = os.listdir( path3 )\n",
    "final_size = 128;\n",
    "\n",
    "def resize_aspect_fit():\n",
    "    for item in dirs:\n",
    "        if item == '.DS_Store':\n",
    "            continue\n",
    "        if os.path.isfile(path3+item):\n",
    "            im = Image.open(path3+item)\n",
    "            f, e = os.path.splitext(path3+item)\n",
    "            size = im.size\n",
    "            ratio = float(final_size) / max(size)\n",
    "            new_image_size = tuple([int(x*ratio) for x in size])\n",
    "            im = im.resize(new_image_size, Image.ANTIALIAS)\n",
    "            new_im = Image.new(\"RGB\", (final_size, final_size))\n",
    "            new_im.paste(im, ((final_size-new_image_size[0])//2, (final_size-new_image_size[1])//2))\n",
    "            new_im.save(f + '.jpg', 'JPEG', quality=90)\n",
    "resize_aspect_fit()"
   ]
  },
  {
   "cell_type": "code",
   "execution_count": 7,
   "metadata": {},
   "outputs": [],
   "source": [
    "#resize test files (note: these were already resized once with NN model)\n",
    "\n",
    "#this operations to resize files was alreay performed and saved locally\n",
    "#so doesn't need to be run again\n",
    "\n",
    "path4 = tst1_dir_loc + \"\\\\\"\n",
    "dirs = os.listdir( path4 )\n",
    "final_size = 128;\n",
    "\n",
    "def resize_aspect_fit():\n",
    "    for item in dirs:\n",
    "        if item == '.DS_Store':\n",
    "            continue\n",
    "        if os.path.isfile(path4+item):\n",
    "            im = Image.open(path4+item)\n",
    "            f, e = os.path.splitext(path4+item)\n",
    "            size = im.size\n",
    "            ratio = float(final_size) / max(size)\n",
    "            new_image_size = tuple([int(x*ratio) for x in size])\n",
    "            im = im.resize(new_image_size, Image.ANTIALIAS)\n",
    "            new_im = Image.new(\"RGB\", (final_size, final_size))\n",
    "            new_im.paste(im, ((final_size-new_image_size[0])//2, (final_size-new_image_size[1])//2))\n",
    "            new_im.save(f + '.jpg', 'JPEG', quality=90)\n",
    "resize_aspect_fit()"
   ]
  },
  {
   "cell_type": "code",
   "execution_count": null,
   "metadata": {},
   "outputs": [],
   "source": []
  },
  {
   "cell_type": "code",
   "execution_count": 8,
   "metadata": {},
   "outputs": [
    {
     "name": "stdout",
     "output_type": "stream",
     "text": [
      "(4160, 3120, 3)\n"
     ]
    },
    {
     "data": {
      "image/png": "[encoded data removed]",
      "text/plain": [
       "<matplotlib.figure.Figure at 0x1e9f4390a58>"
      ]
     },
     "metadata": {},
     "output_type": "display_data"
    }
   ],
   "source": [
    "#compare original image with scaled and cropped image\n",
    "\n",
    "import imageio\n",
    "\n",
    "testImage = imageio.imread(\"C:\\\\Users\\\\Jason\\\\Desktop\\\\Cervix backup files\\\\train\\\\Type_1\\\\2.jpg\")\n",
    "\n",
    "testImageGray = testImage[:,:,0]\n",
    "\n",
    "plt.figure()\n",
    "plt.gray()\n",
    "\n",
    "plt.subplot(121)\n",
    "plt.imshow(testImage)\n",
    "\n",
    "print(testImage.shape)"
   ]
  },
  {
   "cell_type": "code",
   "execution_count": 11,
   "metadata": {},
   "outputs": [
    {
     "name": "stdout",
     "output_type": "stream",
     "text": [
      "(128, 128, 3)\n"
     ]
    },
    {
     "data": {
      "image/png": "[encoded data removed]",
      "text/plain": [
       "<matplotlib.figure.Figure at 0x1e98005cd30>"
      ]
     },
     "metadata": {},
     "output_type": "display_data"
    }
   ],
   "source": [
    "#cropped and re-sized image\n",
    "testImage1 = imageio.imread(\"C:\\\\Users\\\\Jason\\\\Desktop\\\\Cervix\\\\XGBoost128x128\\\\train\\\\Type_1\\\\2.jpg\")\n",
    "\n",
    "plt.figure()\n",
    "\n",
    "plt.subplot(121)\n",
    "plt.imshow(testImage1)\n",
    "\n",
    "print(testImage1.shape)"
   ]
  },
  {
   "cell_type": "code",
   "execution_count": 12,
   "metadata": {},
   "outputs": [
    {
     "name": "stdout",
     "output_type": "stream",
     "text": [
      "(128, 128)\n"
     ]
    },
    {
     "data": {
      "image/png": "[encoded data removed]",
      "text/plain": [
       "<matplotlib.figure.Figure at 0x1e9800becf8>"
      ]
     },
     "metadata": {},
     "output_type": "display_data"
    }
   ],
   "source": [
    "#cropped and resized grey image\n",
    "testImageGray1 = testImage1[:,:,0]\n",
    "\n",
    "plt.subplot(121)\n",
    "plt.imshow(testImageGray1)\n",
    "\n",
    "print (testImageGray1.shape)"
   ]
  },
  {
   "cell_type": "code",
   "execution_count": null,
   "metadata": {},
   "outputs": [],
   "source": []
  },
  {
   "cell_type": "code",
   "execution_count": 13,
   "metadata": {},
   "outputs": [],
   "source": [
    "#######################################################\n",
    "#\n",
    "#\n",
    "#      Read Images into Python \n",
    "#\n",
    "#\n",
    "#######################################################\n",
    "from subprocess import check_output\n",
    "\n",
    "import os, sys\n",
    "from IPython.display import display\n",
    "from IPython.display import Image as _Imgdis\n",
    "from PIL import Image\n",
    "\n",
    "from time import time\n",
    "from time import sleep\n",
    "\n",
    "import pandas as pd\n",
    "import scipy.misc\n",
    "\n",
    "import matplotlib.pyplot as plt "
   ]
  },
  {
   "cell_type": "code",
   "execution_count": 14,
   "metadata": {},
   "outputs": [],
   "source": [
    "#re-set the files because they have been resized\n",
    "#files for each training type (1,2,3)\n",
    "tr1_f_loc = [os.path.join(tr1_dir_loc, f) for f in os.listdir(tr1_dir_loc)]\n",
    "tr2_f_loc = [os.path.join(tr2_dir_loc, f) for f in os.listdir(tr2_dir_loc)]\n",
    "tr3_f_loc = [os.path.join(tr3_dir_loc, f) for f in os.listdir(tr3_dir_loc)]\n",
    "\n",
    "#test image directory\n",
    "tst1_f_loc = [os.path.join(tst1_dir_loc, f) for f in os.listdir(tst1_dir_loc)]"
   ]
  },
  {
   "cell_type": "code",
   "execution_count": 15,
   "metadata": {},
   "outputs": [
    {
     "data": {
      "text/html": [
       "<div>\n",
       "<style scoped>\n",
       "    .dataframe tbody tr th:only-of-type {\n",
       "        vertical-align: middle;\n",
       "    }\n",
       "\n",
       "    .dataframe tbody tr th {\n",
       "        vertical-align: top;\n",
       "    }\n",
       "\n",
       "    .dataframe thead th {\n",
       "        text-align: right;\n",
       "    }\n",
       "</style>\n",
       "<table border=\"1\" class=\"dataframe\">\n",
       "  <thead>\n",
       "    <tr style=\"text-align: right;\">\n",
       "      <th></th>\n",
       "      <th>imagepath</th>\n",
       "      <th>filetype</th>\n",
       "      <th>type</th>\n",
       "      <th>name</th>\n",
       "    </tr>\n",
       "  </thead>\n",
       "  <tbody>\n",
       "    <tr>\n",
       "      <th>0</th>\n",
       "      <td>C:\\Users\\Jason\\Desktop\\Cervix\\XGBoost128x128\\t...</td>\n",
       "      <td>jpg</td>\n",
       "      <td>Type_1</td>\n",
       "      <td>10.jpg</td>\n",
       "    </tr>\n",
       "    <tr>\n",
       "      <th>1</th>\n",
       "      <td>C:\\Users\\Jason\\Desktop\\Cervix\\XGBoost128x128\\t...</td>\n",
       "      <td>jpg</td>\n",
       "      <td>Type_1</td>\n",
       "      <td>1013.jpg</td>\n",
       "    </tr>\n",
       "    <tr>\n",
       "      <th>2</th>\n",
       "      <td>C:\\Users\\Jason\\Desktop\\Cervix\\XGBoost128x128\\t...</td>\n",
       "      <td>jpg</td>\n",
       "      <td>Type_1</td>\n",
       "      <td>1014.jpg</td>\n",
       "    </tr>\n",
       "    <tr>\n",
       "      <th>3</th>\n",
       "      <td>C:\\Users\\Jason\\Desktop\\Cervix\\XGBoost128x128\\t...</td>\n",
       "      <td>jpg</td>\n",
       "      <td>Type_1</td>\n",
       "      <td>1019.jpg</td>\n",
       "    </tr>\n",
       "    <tr>\n",
       "      <th>4</th>\n",
       "      <td>C:\\Users\\Jason\\Desktop\\Cervix\\XGBoost128x128\\t...</td>\n",
       "      <td>jpg</td>\n",
       "      <td>Type_1</td>\n",
       "      <td>102.jpg</td>\n",
       "    </tr>\n",
       "  </tbody>\n",
       "</table>\n",
       "</div>"
      ],
      "text/plain": [
       "                                           imagepath filetype    type  \\\n",
       "0  C:\\Users\\Jason\\Desktop\\Cervix\\XGBoost128x128\\t...      jpg  Type_1   \n",
       "1  C:\\Users\\Jason\\Desktop\\Cervix\\XGBoost128x128\\t...      jpg  Type_1   \n",
       "2  C:\\Users\\Jason\\Desktop\\Cervix\\XGBoost128x128\\t...      jpg  Type_1   \n",
       "3  C:\\Users\\Jason\\Desktop\\Cervix\\XGBoost128x128\\t...      jpg  Type_1   \n",
       "4  C:\\Users\\Jason\\Desktop\\Cervix\\XGBoost128x128\\t...      jpg  Type_1   \n",
       "\n",
       "       name  \n",
       "0    10.jpg  \n",
       "1  1013.jpg  \n",
       "2  1014.jpg  \n",
       "3  1019.jpg  \n",
       "4   102.jpg  "
      ]
     },
     "execution_count": 15,
     "metadata": {},
     "output_type": "execute_result"
    }
   ],
   "source": [
    "#get path for all files in the local C: Type1 folder, then split to see file type and cervix type\n",
    "\n",
    "#tr1_f_loc = [os.path.join(tr_t1, f) for f in os.listdir(tr_t1)]\n",
    "tr1_im_loc = pd.DataFrame({\"imagepath\": tr1_f_loc})\n",
    "tr1_im_loc[\"filetype\"] = tr1_im_loc.apply(lambda row: row.imagepath.split(\".\")[-1], axis=1)\n",
    "tr1_im_loc[\"type\"] = tr1_im_loc.apply(lambda row: row.imagepath.split(\"\\\\\")[-2], axis=1)\n",
    "tr1_im_loc[\"name\"] = tr1_im_loc.apply(lambda row: row.imagepath.split(\"\\\\\")[8], axis=1)\n",
    "tr1_im_loc.head()\n",
    "\n",
    "# a=imageio.imread('C:\\\\Users\\\\Jason\\\\Desktop\\\\Cervix\\\\XGBoost64x64\\\\train\\\\Type_1\\\\2.jpg')\n",
    "# plt.imshow(a)"
   ]
  },
  {
   "cell_type": "code",
   "execution_count": 16,
   "metadata": {},
   "outputs": [
    {
     "data": {
      "text/plain": [
       "751"
      ]
     },
     "execution_count": 16,
     "metadata": {},
     "output_type": "execute_result"
    }
   ],
   "source": [
    "# a=imageio.imread('C:\\\\Users\\\\Jason\\Desktop\\\\Cervix\\\\train\\\\Type_1\\\\1013resCroppedres.jpg')\n",
    "# plt.imshow(a)\n",
    "\n",
    "#create ylab1\n",
    "\n",
    "y1 = tr1_im_loc['type']\n",
    "len(y1)"
   ]
  },
  {
   "cell_type": "code",
   "execution_count": 17,
   "metadata": {},
   "outputs": [
    {
     "data": {
      "text/html": [
       "<div>\n",
       "<style scoped>\n",
       "    .dataframe tbody tr th:only-of-type {\n",
       "        vertical-align: middle;\n",
       "    }\n",
       "\n",
       "    .dataframe tbody tr th {\n",
       "        vertical-align: top;\n",
       "    }\n",
       "\n",
       "    .dataframe thead th {\n",
       "        text-align: right;\n",
       "    }\n",
       "</style>\n",
       "<table border=\"1\" class=\"dataframe\">\n",
       "  <thead>\n",
       "    <tr style=\"text-align: right;\">\n",
       "      <th></th>\n",
       "      <th>imagepath</th>\n",
       "      <th>filetype</th>\n",
       "      <th>type</th>\n",
       "      <th>name</th>\n",
       "    </tr>\n",
       "  </thead>\n",
       "  <tbody>\n",
       "    <tr>\n",
       "      <th>0</th>\n",
       "      <td>C:\\Users\\Jason\\Desktop\\Cervix\\XGBoost128x128\\t...</td>\n",
       "      <td>jpg</td>\n",
       "      <td>Type_2</td>\n",
       "      <td>1.jpg</td>\n",
       "    </tr>\n",
       "    <tr>\n",
       "      <th>1</th>\n",
       "      <td>C:\\Users\\Jason\\Desktop\\Cervix\\XGBoost128x128\\t...</td>\n",
       "      <td>jpg</td>\n",
       "      <td>Type_2</td>\n",
       "      <td>100.jpg</td>\n",
       "    </tr>\n",
       "    <tr>\n",
       "      <th>2</th>\n",
       "      <td>C:\\Users\\Jason\\Desktop\\Cervix\\XGBoost128x128\\t...</td>\n",
       "      <td>jpg</td>\n",
       "      <td>Type_2</td>\n",
       "      <td>1001.jpg</td>\n",
       "    </tr>\n",
       "    <tr>\n",
       "      <th>3</th>\n",
       "      <td>C:\\Users\\Jason\\Desktop\\Cervix\\XGBoost128x128\\t...</td>\n",
       "      <td>jpg</td>\n",
       "      <td>Type_2</td>\n",
       "      <td>1002.jpg</td>\n",
       "    </tr>\n",
       "    <tr>\n",
       "      <th>4</th>\n",
       "      <td>C:\\Users\\Jason\\Desktop\\Cervix\\XGBoost128x128\\t...</td>\n",
       "      <td>jpg</td>\n",
       "      <td>Type_2</td>\n",
       "      <td>1005.jpg</td>\n",
       "    </tr>\n",
       "  </tbody>\n",
       "</table>\n",
       "</div>"
      ],
      "text/plain": [
       "                                           imagepath filetype    type  \\\n",
       "0  C:\\Users\\Jason\\Desktop\\Cervix\\XGBoost128x128\\t...      jpg  Type_2   \n",
       "1  C:\\Users\\Jason\\Desktop\\Cervix\\XGBoost128x128\\t...      jpg  Type_2   \n",
       "2  C:\\Users\\Jason\\Desktop\\Cervix\\XGBoost128x128\\t...      jpg  Type_2   \n",
       "3  C:\\Users\\Jason\\Desktop\\Cervix\\XGBoost128x128\\t...      jpg  Type_2   \n",
       "4  C:\\Users\\Jason\\Desktop\\Cervix\\XGBoost128x128\\t...      jpg  Type_2   \n",
       "\n",
       "       name  \n",
       "0     1.jpg  \n",
       "1   100.jpg  \n",
       "2  1001.jpg  \n",
       "3  1002.jpg  \n",
       "4  1005.jpg  "
      ]
     },
     "execution_count": 17,
     "metadata": {},
     "output_type": "execute_result"
    }
   ],
   "source": [
    "#get path for all files in the local C: Type2 folder, then split to see file type and cervix type\n",
    "\n",
    "tr2_im_loc = pd.DataFrame({\"imagepath\": tr2_f_loc})\n",
    "tr2_im_loc[\"filetype\"] = tr2_im_loc.apply(lambda row: row.imagepath.split(\".\")[-1], axis=1)\n",
    "tr2_im_loc[\"type\"] = tr2_im_loc.apply(lambda row: row.imagepath.split(\"\\\\\")[-2], axis=1)\n",
    "tr2_im_loc[\"name\"] = tr2_im_loc.apply(lambda row: row.imagepath.split(\"\\\\\")[8], axis=1)\n",
    "tr2_im_loc.head()\n"
   ]
  },
  {
   "cell_type": "code",
   "execution_count": 18,
   "metadata": {},
   "outputs": [
    {
     "data": {
      "text/plain": [
       "761"
      ]
     },
     "execution_count": 18,
     "metadata": {},
     "output_type": "execute_result"
    }
   ],
   "source": [
    "# a=imageio.imread('C:\\\\Users\\\\Jason\\Desktop\\\\Cervix\\\\train\\\\Type_2\\\\1001resCroppedres.jpg')\n",
    "# plt.imshow(a)\n",
    "\n",
    "#create ylab2\n",
    "\n",
    "y2 = tr2_im_loc['type']\n",
    "len(y2)"
   ]
  },
  {
   "cell_type": "code",
   "execution_count": 19,
   "metadata": {},
   "outputs": [
    {
     "data": {
      "text/html": [
       "<div>\n",
       "<style scoped>\n",
       "    .dataframe tbody tr th:only-of-type {\n",
       "        vertical-align: middle;\n",
       "    }\n",
       "\n",
       "    .dataframe tbody tr th {\n",
       "        vertical-align: top;\n",
       "    }\n",
       "\n",
       "    .dataframe thead th {\n",
       "        text-align: right;\n",
       "    }\n",
       "</style>\n",
       "<table border=\"1\" class=\"dataframe\">\n",
       "  <thead>\n",
       "    <tr style=\"text-align: right;\">\n",
       "      <th></th>\n",
       "      <th>imagepath</th>\n",
       "      <th>filetype</th>\n",
       "      <th>type</th>\n",
       "      <th>name</th>\n",
       "    </tr>\n",
       "  </thead>\n",
       "  <tbody>\n",
       "    <tr>\n",
       "      <th>0</th>\n",
       "      <td>C:\\Users\\Jason\\Desktop\\Cervix\\XGBoost128x128\\t...</td>\n",
       "      <td>jpg</td>\n",
       "      <td>Type_3</td>\n",
       "      <td>100.jpg</td>\n",
       "    </tr>\n",
       "    <tr>\n",
       "      <th>1</th>\n",
       "      <td>C:\\Users\\Jason\\Desktop\\Cervix\\XGBoost128x128\\t...</td>\n",
       "      <td>jpg</td>\n",
       "      <td>Type_3</td>\n",
       "      <td>1000.jpg</td>\n",
       "    </tr>\n",
       "    <tr>\n",
       "      <th>2</th>\n",
       "      <td>C:\\Users\\Jason\\Desktop\\Cervix\\XGBoost128x128\\t...</td>\n",
       "      <td>jpg</td>\n",
       "      <td>Type_3</td>\n",
       "      <td>1003.jpg</td>\n",
       "    </tr>\n",
       "    <tr>\n",
       "      <th>3</th>\n",
       "      <td>C:\\Users\\Jason\\Desktop\\Cervix\\XGBoost128x128\\t...</td>\n",
       "      <td>jpg</td>\n",
       "      <td>Type_3</td>\n",
       "      <td>1004.jpg</td>\n",
       "    </tr>\n",
       "    <tr>\n",
       "      <th>4</th>\n",
       "      <td>C:\\Users\\Jason\\Desktop\\Cervix\\XGBoost128x128\\t...</td>\n",
       "      <td>jpg</td>\n",
       "      <td>Type_3</td>\n",
       "      <td>1007.jpg</td>\n",
       "    </tr>\n",
       "  </tbody>\n",
       "</table>\n",
       "</div>"
      ],
      "text/plain": [
       "                                           imagepath filetype    type  \\\n",
       "0  C:\\Users\\Jason\\Desktop\\Cervix\\XGBoost128x128\\t...      jpg  Type_3   \n",
       "1  C:\\Users\\Jason\\Desktop\\Cervix\\XGBoost128x128\\t...      jpg  Type_3   \n",
       "2  C:\\Users\\Jason\\Desktop\\Cervix\\XGBoost128x128\\t...      jpg  Type_3   \n",
       "3  C:\\Users\\Jason\\Desktop\\Cervix\\XGBoost128x128\\t...      jpg  Type_3   \n",
       "4  C:\\Users\\Jason\\Desktop\\Cervix\\XGBoost128x128\\t...      jpg  Type_3   \n",
       "\n",
       "       name  \n",
       "0   100.jpg  \n",
       "1  1000.jpg  \n",
       "2  1003.jpg  \n",
       "3  1004.jpg  \n",
       "4  1007.jpg  "
      ]
     },
     "execution_count": 19,
     "metadata": {},
     "output_type": "execute_result"
    }
   ],
   "source": [
    "#get path for all files in the local C: Type3 folder, then split to see file type and cervix type\n",
    "\n",
    "tr3_im_loc = pd.DataFrame({\"imagepath\": tr3_f_loc})\n",
    "tr3_im_loc[\"filetype\"] = tr3_im_loc.apply(lambda row: row.imagepath.split(\".\")[-1], axis=1)\n",
    "tr3_im_loc[\"type\"] = tr3_im_loc.apply(lambda row: row.imagepath.split(\"\\\\\")[-2], axis=1)\n",
    "tr3_im_loc[\"name\"] = tr3_im_loc.apply(lambda row: row.imagepath.split(\"\\\\\")[8], axis=1)\n",
    "tr3_im_loc.head()\n"
   ]
  },
  {
   "cell_type": "code",
   "execution_count": 20,
   "metadata": {},
   "outputs": [
    {
     "data": {
      "text/plain": [
       "776"
      ]
     },
     "execution_count": 20,
     "metadata": {},
     "output_type": "execute_result"
    }
   ],
   "source": [
    "# a=imageio.imread('C:\\\\Users\\\\Jason\\Desktop\\\\Cervix\\\\train\\\\Type_3\\\\1000resCroppedres.jpg')\n",
    "# plt.imshow(a)\n",
    "\n",
    "#create ylab3\n",
    "\n",
    "y3 = tr3_im_loc['type']\n",
    "len(y3)"
   ]
  },
  {
   "cell_type": "code",
   "execution_count": 21,
   "metadata": {},
   "outputs": [
    {
     "data": {
      "text/html": [
       "<div>\n",
       "<style scoped>\n",
       "    .dataframe tbody tr th:only-of-type {\n",
       "        vertical-align: middle;\n",
       "    }\n",
       "\n",
       "    .dataframe tbody tr th {\n",
       "        vertical-align: top;\n",
       "    }\n",
       "\n",
       "    .dataframe thead th {\n",
       "        text-align: right;\n",
       "    }\n",
       "</style>\n",
       "<table border=\"1\" class=\"dataframe\">\n",
       "  <thead>\n",
       "    <tr style=\"text-align: right;\">\n",
       "      <th></th>\n",
       "      <th>imagepath</th>\n",
       "      <th>filetype</th>\n",
       "      <th>type</th>\n",
       "      <th>name</th>\n",
       "    </tr>\n",
       "  </thead>\n",
       "  <tbody>\n",
       "    <tr>\n",
       "      <th>0</th>\n",
       "      <td>C:\\Users\\Jason\\Desktop\\Cervix\\XGBoost128x128\\t...</td>\n",
       "      <td>jpg</td>\n",
       "      <td>test</td>\n",
       "      <td>0.jpg</td>\n",
       "    </tr>\n",
       "    <tr>\n",
       "      <th>1</th>\n",
       "      <td>C:\\Users\\Jason\\Desktop\\Cervix\\XGBoost128x128\\t...</td>\n",
       "      <td>jpg</td>\n",
       "      <td>test</td>\n",
       "      <td>1.jpg</td>\n",
       "    </tr>\n",
       "    <tr>\n",
       "      <th>2</th>\n",
       "      <td>C:\\Users\\Jason\\Desktop\\Cervix\\XGBoost128x128\\t...</td>\n",
       "      <td>jpg</td>\n",
       "      <td>test</td>\n",
       "      <td>10.jpg</td>\n",
       "    </tr>\n",
       "    <tr>\n",
       "      <th>3</th>\n",
       "      <td>C:\\Users\\Jason\\Desktop\\Cervix\\XGBoost128x128\\t...</td>\n",
       "      <td>jpg</td>\n",
       "      <td>test</td>\n",
       "      <td>100.jpg</td>\n",
       "    </tr>\n",
       "    <tr>\n",
       "      <th>4</th>\n",
       "      <td>C:\\Users\\Jason\\Desktop\\Cervix\\XGBoost128x128\\t...</td>\n",
       "      <td>jpg</td>\n",
       "      <td>test</td>\n",
       "      <td>101.jpg</td>\n",
       "    </tr>\n",
       "  </tbody>\n",
       "</table>\n",
       "</div>"
      ],
      "text/plain": [
       "                                           imagepath filetype  type     name\n",
       "0  C:\\Users\\Jason\\Desktop\\Cervix\\XGBoost128x128\\t...      jpg  test    0.jpg\n",
       "1  C:\\Users\\Jason\\Desktop\\Cervix\\XGBoost128x128\\t...      jpg  test    1.jpg\n",
       "2  C:\\Users\\Jason\\Desktop\\Cervix\\XGBoost128x128\\t...      jpg  test   10.jpg\n",
       "3  C:\\Users\\Jason\\Desktop\\Cervix\\XGBoost128x128\\t...      jpg  test  100.jpg\n",
       "4  C:\\Users\\Jason\\Desktop\\Cervix\\XGBoost128x128\\t...      jpg  test  101.jpg"
      ]
     },
     "execution_count": 21,
     "metadata": {},
     "output_type": "execute_result"
    }
   ],
   "source": [
    "#get path for all files in the local C: Test folder, then split to see file type and cervix type\n",
    "\n",
    "tst1_im_loc = pd.DataFrame({\"imagepath\": tst1_f_loc})\n",
    "tst1_im_loc[\"filetype\"] = tst1_im_loc.apply(lambda row: row.imagepath.split(\".\")[-1], axis=1)\n",
    "tst1_im_loc[\"type\"] = tst1_im_loc.apply(lambda row: row.imagepath.split(\"\\\\\")[-2], axis=1)\n",
    "tst1_im_loc[\"name\"] = tst1_im_loc.apply(lambda row: row.imagepath.split(\"\\\\\")[7], axis=1)\n",
    "tst1_im_loc.head()\n"
   ]
  },
  {
   "cell_type": "code",
   "execution_count": 22,
   "metadata": {},
   "outputs": [
    {
     "data": {
      "text/plain": [
       "(512, 512, 0    0.jpg\n",
       " 1    1.jpg\n",
       " Name: name, dtype: object)"
      ]
     },
     "execution_count": 22,
     "metadata": {},
     "output_type": "execute_result"
    }
   ],
   "source": [
    "# a=imageio.imread('C:\\\\Users\\\\Jason\\Desktop\\\\Cervix\\\\test\\\\0resCroppedres.jpg')\n",
    "# plt.imshow(a)\n",
    "\n",
    "#get the name of the images for testing\n",
    "tst_name = tst1_im_loc['name']\n",
    "len(tst_name), len(tst1_im_loc), tst_name[0:2]"
   ]
  },
  {
   "cell_type": "code",
   "execution_count": 23,
   "metadata": {},
   "outputs": [
    {
     "data": {
      "text/html": [
       "<div>\n",
       "<style scoped>\n",
       "    .dataframe tbody tr th:only-of-type {\n",
       "        vertical-align: middle;\n",
       "    }\n",
       "\n",
       "    .dataframe tbody tr th {\n",
       "        vertical-align: top;\n",
       "    }\n",
       "\n",
       "    .dataframe thead th {\n",
       "        text-align: right;\n",
       "    }\n",
       "</style>\n",
       "<table border=\"1\" class=\"dataframe\">\n",
       "  <thead>\n",
       "    <tr style=\"text-align: right;\">\n",
       "      <th></th>\n",
       "      <th>imagepath</th>\n",
       "      <th>filetype</th>\n",
       "      <th>type</th>\n",
       "      <th>name</th>\n",
       "    </tr>\n",
       "  </thead>\n",
       "  <tbody>\n",
       "    <tr>\n",
       "      <th>2283</th>\n",
       "      <td>C:\\Users\\Jason\\Desktop\\Cervix\\XGBoost128x128\\t...</td>\n",
       "      <td>jpg</td>\n",
       "      <td>Type_3</td>\n",
       "      <td>986.jpg</td>\n",
       "    </tr>\n",
       "    <tr>\n",
       "      <th>2284</th>\n",
       "      <td>C:\\Users\\Jason\\Desktop\\Cervix\\XGBoost128x128\\t...</td>\n",
       "      <td>jpg</td>\n",
       "      <td>Type_3</td>\n",
       "      <td>992.jpg</td>\n",
       "    </tr>\n",
       "    <tr>\n",
       "      <th>2285</th>\n",
       "      <td>C:\\Users\\Jason\\Desktop\\Cervix\\XGBoost128x128\\t...</td>\n",
       "      <td>jpg</td>\n",
       "      <td>Type_3</td>\n",
       "      <td>993.jpg</td>\n",
       "    </tr>\n",
       "    <tr>\n",
       "      <th>2286</th>\n",
       "      <td>C:\\Users\\Jason\\Desktop\\Cervix\\XGBoost128x128\\t...</td>\n",
       "      <td>jpg</td>\n",
       "      <td>Type_3</td>\n",
       "      <td>995.jpg</td>\n",
       "    </tr>\n",
       "    <tr>\n",
       "      <th>2287</th>\n",
       "      <td>C:\\Users\\Jason\\Desktop\\Cervix\\XGBoost128x128\\t...</td>\n",
       "      <td>jpg</td>\n",
       "      <td>Type_3</td>\n",
       "      <td>996.jpg</td>\n",
       "    </tr>\n",
       "  </tbody>\n",
       "</table>\n",
       "</div>"
      ],
      "text/plain": [
       "                                              imagepath filetype    type  \\\n",
       "2283  C:\\Users\\Jason\\Desktop\\Cervix\\XGBoost128x128\\t...      jpg  Type_3   \n",
       "2284  C:\\Users\\Jason\\Desktop\\Cervix\\XGBoost128x128\\t...      jpg  Type_3   \n",
       "2285  C:\\Users\\Jason\\Desktop\\Cervix\\XGBoost128x128\\t...      jpg  Type_3   \n",
       "2286  C:\\Users\\Jason\\Desktop\\Cervix\\XGBoost128x128\\t...      jpg  Type_3   \n",
       "2287  C:\\Users\\Jason\\Desktop\\Cervix\\XGBoost128x128\\t...      jpg  Type_3   \n",
       "\n",
       "         name  \n",
       "2283  986.jpg  \n",
       "2284  992.jpg  \n",
       "2285  993.jpg  \n",
       "2286  995.jpg  \n",
       "2287  996.jpg  "
      ]
     },
     "execution_count": 23,
     "metadata": {},
     "output_type": "execute_result"
    }
   ],
   "source": [
    "#combine all data frames together\n",
    "\n",
    "tr_all_loc = tr1_im_loc.append(tr2_im_loc)\n",
    "tr_all_loc = tr_all_loc.append(tr3_im_loc)\n",
    "\n",
    "tr_all_loc = tr_all_loc.reset_index(drop=True)\n",
    "\n",
    "tr_all_loc.tail()"
   ]
  },
  {
   "cell_type": "code",
   "execution_count": 24,
   "metadata": {},
   "outputs": [
    {
     "data": {
      "text/plain": [
       "(2288, 2288)"
      ]
     },
     "execution_count": 24,
     "metadata": {},
     "output_type": "execute_result"
    }
   ],
   "source": [
    "#check to make sure all files appended from each folder\n",
    "len(tr_all_loc), len(tr1_im_loc) + len(tr2_im_loc) + len(tr3_im_loc)"
   ]
  },
  {
   "cell_type": "code",
   "execution_count": 25,
   "metadata": {},
   "outputs": [
    {
     "data": {
      "text/plain": [
       "(2288, 0    Type_1\n",
       " 1    Type_1\n",
       " 2    Type_1\n",
       " 3    Type_1\n",
       " 4    Type_1\n",
       " Name: type, dtype: object, 2283    Type_3\n",
       " 2284    Type_3\n",
       " 2285    Type_3\n",
       " 2286    Type_3\n",
       " 2287    Type_3\n",
       " Name: type, dtype: object)"
      ]
     },
     "execution_count": 25,
     "metadata": {},
     "output_type": "execute_result"
    }
   ],
   "source": [
    "#combine all ylabels together\n",
    "type_all = y1.append(y2)\n",
    "type_all = type_all.append(y3)\n",
    "type_all = type_all.reset_index(drop=True)\n",
    "len(type_all), type_all.head(), type_all.tail()"
   ]
  },
  {
   "cell_type": "code",
   "execution_count": null,
   "metadata": {},
   "outputs": [],
   "source": []
  },
  {
   "cell_type": "code",
   "execution_count": 26,
   "metadata": {},
   "outputs": [],
   "source": [
    "import cv2\n",
    "\n",
    "arr_images_gr = []        \n",
    "\n",
    "for image in tr_all_loc[\"imagepath\"]:\n",
    "    arr_images_gr.append(cv2.imread(image, cv2.IMREAD_GRAYSCALE))"
   ]
  },
  {
   "cell_type": "code",
   "execution_count": 27,
   "metadata": {},
   "outputs": [
    {
     "data": {
      "text/plain": [
       "<matplotlib.image.AxesImage at 0x1e9801b2ef0>"
      ]
     },
     "execution_count": 27,
     "metadata": {},
     "output_type": "execute_result"
    },
    {
     "data": {
      "image/png": "[encoded data removed]",
      "text/plain": [
       "<matplotlib.figure.Figure at 0x1e9800e5c50>"
      ]
     },
     "metadata": {},
     "output_type": "display_data"
    }
   ],
   "source": [
    "a=imageio.imread('C:\\\\Users\\\\Jason\\Desktop\\\\Cervix\\\\XGBoost128x128\\\\train\\\\Type_1\\\\1013.jpg')\n",
    "plt.imshow(a)\n",
    "\n"
   ]
  },
  {
   "cell_type": "code",
   "execution_count": 28,
   "metadata": {},
   "outputs": [
    {
     "data": {
      "text/plain": [
       "<matplotlib.image.AxesImage at 0x1e9811c3358>"
      ]
     },
     "execution_count": 28,
     "metadata": {},
     "output_type": "execute_result"
    },
    {
     "data": {
      "image/png": "[encoded data removed]",
      "text/plain": [
       "<matplotlib.figure.Figure at 0x1e98019f940>"
      ]
     },
     "metadata": {},
     "output_type": "display_data"
    }
   ],
   "source": [
    "plt.imshow(arr_images_gr[0])"
   ]
  },
  {
   "cell_type": "code",
   "execution_count": null,
   "metadata": {},
   "outputs": [],
   "source": []
  },
  {
   "cell_type": "code",
   "execution_count": 29,
   "metadata": {},
   "outputs": [
    {
     "data": {
      "text/plain": [
       "<matplotlib.image.AxesImage at 0x1e9811ff7b8>"
      ]
     },
     "execution_count": 29,
     "metadata": {},
     "output_type": "execute_result"
    },
    {
     "data": {
      "image/png": "[encoded data removed]",
      "text/plain": [
       "<matplotlib.figure.Figure at 0x1e9811ad668>"
      ]
     },
     "metadata": {},
     "output_type": "display_data"
    }
   ],
   "source": [
    "a=imageio.imread('C:\\\\Users\\\\Jason\\Desktop\\\\Cervix\\\\XGBoost128x128\\\\train\\\\Type_3\\\\996.jpg')\n",
    "plt.imshow(a)\n"
   ]
  },
  {
   "cell_type": "code",
   "execution_count": 30,
   "metadata": {},
   "outputs": [
    {
     "data": {
      "text/plain": [
       "<matplotlib.image.AxesImage at 0x1e98123bac8>"
      ]
     },
     "execution_count": 30,
     "metadata": {},
     "output_type": "execute_result"
    },
    {
     "data": {
      "image/png": "[encoded data removed]",
      "text/plain": [
       "<matplotlib.figure.Figure at 0x1e9811d0908>"
      ]
     },
     "metadata": {},
     "output_type": "display_data"
    }
   ],
   "source": [
    "plt.imshow(arr_images_gr[2287])"
   ]
  },
  {
   "cell_type": "code",
   "execution_count": 31,
   "metadata": {},
   "outputs": [],
   "source": [
    "#convert all test images in the combined data frame to gray scale npy array\n",
    "\n",
    "arr_images_tst_gr = []        \n",
    "\n",
    "for image in tst1_im_loc[\"imagepath\"]:\n",
    "    arr_images_tst_gr.append(cv2.imread(image, cv2.IMREAD_GRAYSCALE))"
   ]
  },
  {
   "cell_type": "code",
   "execution_count": null,
   "metadata": {},
   "outputs": [],
   "source": []
  },
  {
   "cell_type": "code",
   "execution_count": 32,
   "metadata": {},
   "outputs": [],
   "source": [
    "#save the training files and the y variable to numpy arrays\n",
    "\n",
    "import numpy as np\n",
    "\n",
    "np.save(\"Reduced_array_file_gray_128\", arr_images_gr)\n",
    "np.save(\"Reduced_y_train_types_128\", type_all)\n",
    "\n",
    "#save the testfile to numpy arrays\n",
    "\n",
    "np.save(\"Reduced_array_file_tst_gray_128\", arr_images_tst_gr)\n",
    "np.save(\"Reduced_test_filenames_128\", tst_name)\n"
   ]
  },
  {
   "cell_type": "code",
   "execution_count": null,
   "metadata": {},
   "outputs": [],
   "source": []
  },
  {
   "cell_type": "code",
   "execution_count": null,
   "metadata": {},
   "outputs": [],
   "source": [
    "########################################################################\n",
    "#\n",
    "#\n",
    "#          XGBoost\n",
    "#\n",
    "#\n",
    "########################################################################"
   ]
  },
  {
   "cell_type": "code",
   "execution_count": 33,
   "metadata": {},
   "outputs": [],
   "source": [
    "import xgboost as xgb"
   ]
  },
  {
   "cell_type": "code",
   "execution_count": 34,
   "metadata": {},
   "outputs": [
    {
     "data": {
      "text/plain": [
       "(2288, (2288, 128, 128), 2288, (2288,), 512, 512)"
      ]
     },
     "execution_count": 34,
     "metadata": {},
     "output_type": "execute_result"
    }
   ],
   "source": [
    "#load gray npy array\n",
    "tr_im_in = np.load('Reduced_array_file_gray_128.npy')\n",
    "tr_lab_in = np.load('Reduced_y_train_types_128.npy')\n",
    "\n",
    "tst_im_in = np.load('Reduced_array_file_tst_gray_128.npy')\n",
    "tst_image_name = np.load('Reduced_test_filenames_128.npy')\n",
    "\n",
    "\n",
    "len(tr_im_in), tr_im_in.shape, len(tr_lab_in), tr_lab_in.shape, len(tst_im_in), len(tst_image_name)"
   ]
  },
  {
   "cell_type": "code",
   "execution_count": 83,
   "metadata": {},
   "outputs": [],
   "source": [
    "#y_lab = tr_lab_in.replace([\"Type_1\", \"Type_2\", \"Type_3\"], [0,1,2]).astype('category')"
   ]
  },
  {
   "cell_type": "code",
   "execution_count": 35,
   "metadata": {},
   "outputs": [
    {
     "data": {
      "text/plain": [
       "((2288, 16384), (512, 16384))"
      ]
     },
     "execution_count": 35,
     "metadata": {},
     "output_type": "execute_result"
    }
   ],
   "source": [
    "tr_im_in_rshape = tr_im_in.reshape(2288, 16384)\n",
    "tst_im_in_rshape = tst_im_in.reshape(512, 16384)\n",
    "\n",
    "tr_im_in_rshape.shape, tst_im_in_rshape.shape"
   ]
  },
  {
   "cell_type": "code",
   "execution_count": 36,
   "metadata": {},
   "outputs": [],
   "source": [
    "from sklearn.model_selection import train_test_split"
   ]
  },
  {
   "cell_type": "code",
   "execution_count": 37,
   "metadata": {},
   "outputs": [],
   "source": [
    "X_train, X_test, y_train, y_test = train_test_split(tr_im_in_rshape, tr_lab_in, test_size = 0.3, random_state=123)"
   ]
  },
  {
   "cell_type": "code",
   "execution_count": 38,
   "metadata": {},
   "outputs": [
    {
     "data": {
      "text/plain": [
       "array(['Type_1', 'Type_3', 'Type_1', 'Type_1'], dtype=object)"
      ]
     },
     "execution_count": 38,
     "metadata": {},
     "output_type": "execute_result"
    }
   ],
   "source": [
    "y_train[0:4]"
   ]
  },
  {
   "cell_type": "code",
   "execution_count": null,
   "metadata": {},
   "outputs": [],
   "source": []
  },
  {
   "cell_type": "code",
   "execution_count": 39,
   "metadata": {},
   "outputs": [],
   "source": [
    "from xgboost.sklearn import XGBClassifier\n",
    "from sklearn.model_selection import GridSearchCV\n",
    "from sklearn.metrics import accuracy_score"
   ]
  },
  {
   "cell_type": "code",
   "execution_count": 40,
   "metadata": {},
   "outputs": [
    {
     "name": "stdout",
     "output_type": "stream",
     "text": [
      "{'objective': 'binary:logistic', 'reg_alpha': 0, 'learning_rate': 0.1, 'scale_pos_weight': 1, 'nthread': 1, 'missing': None, 'seed': 0, 'silent': 1, 'booster': 'gbtree', 'base_score': 0.5, 'subsample': 1, 'min_child_weight': 1, 'max_delta_step': 0, 'colsample_bytree': 1, 'gamma': 0, 'max_depth': 3, 'n_estimators': 100, 'colsample_bylevel': 1, 'reg_lambda': 1}\n"
     ]
    }
   ],
   "source": [
    "xgb_model_3e = XGBClassifier()\n",
    "print(xgb_model_3e.get_xgb_params())"
   ]
  },
  {
   "cell_type": "code",
   "execution_count": 128,
   "metadata": {},
   "outputs": [],
   "source": [
    "#########     Model 3 using error as metric        #########"
   ]
  },
  {
   "cell_type": "code",
   "execution_count": 41,
   "metadata": {},
   "outputs": [
    {
     "name": "stdout",
     "output_type": "stream",
     "text": [
      "[0]\tvalidation_0-merror:0.44035\tvalidation_1-merror:0.56623\n",
      "[1]\tvalidation_0-merror:0.430356\tvalidation_1-merror:0.560408\n",
      "[2]\tvalidation_0-merror:0.418488\tvalidation_1-merror:0.54294\n",
      "[3]\tvalidation_0-merror:0.39975\tvalidation_1-merror:0.545852\n",
      "[4]\tvalidation_0-merror:0.392255\tvalidation_1-merror:0.547307\n",
      "[5]\tvalidation_0-merror:0.37664\tvalidation_1-merror:0.537118\n",
      "[6]\tvalidation_0-merror:0.364772\tvalidation_1-merror:0.540029\n",
      "[7]\tvalidation_0-merror:0.354154\tvalidation_1-merror:0.537118\n",
      "[8]\tvalidation_0-merror:0.343535\tvalidation_1-merror:0.540029\n",
      "[9]\tvalidation_0-merror:0.329794\tvalidation_1-merror:0.531295\n",
      "[10]\tvalidation_0-merror:0.324172\tvalidation_1-merror:0.548763\n",
      "[11]\tvalidation_0-merror:0.314179\tvalidation_1-merror:0.545852\n",
      "[12]\tvalidation_0-merror:0.30356\tvalidation_1-merror:0.544396\n",
      "[13]\tvalidation_0-merror:0.296065\tvalidation_1-merror:0.548763\n",
      "[14]\tvalidation_0-merror:0.286071\tvalidation_1-merror:0.556041\n",
      "[15]\tvalidation_0-merror:0.28857\tvalidation_1-merror:0.550218\n",
      "[16]\tvalidation_0-merror:0.277951\tvalidation_1-merror:0.544396\n",
      "[17]\tvalidation_0-merror:0.269207\tvalidation_1-merror:0.545852\n",
      "[18]\tvalidation_0-merror:0.266708\tvalidation_1-merror:0.545852\n",
      "[19]\tvalidation_0-merror:0.251718\tvalidation_1-merror:0.544396\n",
      "[20]\tvalidation_0-merror:0.258588\tvalidation_1-merror:0.547307\n",
      "[21]\tvalidation_0-merror:0.252342\tvalidation_1-merror:0.554585\n",
      "[22]\tvalidation_0-merror:0.252342\tvalidation_1-merror:0.550218\n",
      "[23]\tvalidation_0-merror:0.249219\tvalidation_1-merror:0.541485\n",
      "[24]\tvalidation_0-merror:0.248595\tvalidation_1-merror:0.538574\n",
      "[25]\tvalidation_0-merror:0.243598\tvalidation_1-merror:0.534207\n",
      "[26]\tvalidation_0-merror:0.234229\tvalidation_1-merror:0.535662\n",
      "[27]\tvalidation_0-merror:0.236102\tvalidation_1-merror:0.532751\n",
      "[28]\tvalidation_0-merror:0.226733\tvalidation_1-merror:0.531295\n",
      "[29]\tvalidation_0-merror:0.221736\tvalidation_1-merror:0.534207\n",
      "[30]\tvalidation_0-merror:0.21674\tvalidation_1-merror:0.535662\n",
      "[31]\tvalidation_0-merror:0.21549\tvalidation_1-merror:0.537118\n",
      "[32]\tvalidation_0-merror:0.211743\tvalidation_1-merror:0.528384\n",
      "[33]\tvalidation_0-merror:0.202998\tvalidation_1-merror:0.52984\n",
      "[34]\tvalidation_0-merror:0.204247\tvalidation_1-merror:0.525473\n",
      "[35]\tvalidation_0-merror:0.2005\tvalidation_1-merror:0.528384\n",
      "[36]\tvalidation_0-merror:0.195503\tvalidation_1-merror:0.524017\n",
      "[37]\tvalidation_0-merror:0.193629\tvalidation_1-merror:0.526929\n",
      "[38]\tvalidation_0-merror:0.186758\tvalidation_1-merror:0.532751\n",
      "[39]\tvalidation_0-merror:0.181137\tvalidation_1-merror:0.528384\n",
      "[40]\tvalidation_0-merror:0.178638\tvalidation_1-merror:0.528384\n",
      "[41]\tvalidation_0-merror:0.177389\tvalidation_1-merror:0.526929\n",
      "[42]\tvalidation_0-merror:0.174891\tvalidation_1-merror:0.528384\n",
      "[43]\tvalidation_0-merror:0.169269\tvalidation_1-merror:0.518195\n",
      "[44]\tvalidation_0-merror:0.166146\tvalidation_1-merror:0.518195\n",
      "[45]\tvalidation_0-merror:0.163023\tvalidation_1-merror:0.518195\n",
      "[46]\tvalidation_0-merror:0.161149\tvalidation_1-merror:0.516739\n",
      "[47]\tvalidation_0-merror:0.156152\tvalidation_1-merror:0.522562\n",
      "[48]\tvalidation_0-merror:0.154903\tvalidation_1-merror:0.513828\n",
      "[49]\tvalidation_0-merror:0.151156\tvalidation_1-merror:0.512373\n",
      "[50]\tvalidation_0-merror:0.144285\tvalidation_1-merror:0.512373\n",
      "[51]\tvalidation_0-merror:0.140537\tvalidation_1-merror:0.508006\n",
      "[52]\tvalidation_0-merror:0.142411\tvalidation_1-merror:0.505095\n",
      "[53]\tvalidation_0-merror:0.133666\tvalidation_1-merror:0.510917\n",
      "[54]\tvalidation_0-merror:0.12867\tvalidation_1-merror:0.513828\n",
      "[55]\tvalidation_0-merror:0.128045\tvalidation_1-merror:0.512373\n",
      "[56]\tvalidation_0-merror:0.126796\tvalidation_1-merror:0.508006\n",
      "[57]\tvalidation_0-merror:0.121799\tvalidation_1-merror:0.510917\n",
      "[58]\tvalidation_0-merror:0.116802\tvalidation_1-merror:0.509461\n",
      "[59]\tvalidation_0-merror:0.114928\tvalidation_1-merror:0.513828\n",
      "[60]\tvalidation_0-merror:0.114304\tvalidation_1-merror:0.515284\n",
      "[61]\tvalidation_0-merror:0.109931\tvalidation_1-merror:0.515284\n",
      "[62]\tvalidation_0-merror:0.108057\tvalidation_1-merror:0.515284\n",
      "[63]\tvalidation_0-merror:0.106184\tvalidation_1-merror:0.508006\n",
      "[64]\tvalidation_0-merror:0.10431\tvalidation_1-merror:0.510917\n",
      "[65]\tvalidation_0-merror:0.101811\tvalidation_1-merror:0.513828\n",
      "[66]\tvalidation_0-merror:0.098064\tvalidation_1-merror:0.521106\n",
      "[67]\tvalidation_0-merror:0.091818\tvalidation_1-merror:0.515284\n",
      "[68]\tvalidation_0-merror:0.091193\tvalidation_1-merror:0.516739\n",
      "[69]\tvalidation_0-merror:0.090568\tvalidation_1-merror:0.515284\n",
      "[70]\tvalidation_0-merror:0.086821\tvalidation_1-merror:0.508006\n",
      "[71]\tvalidation_0-merror:0.084322\tvalidation_1-merror:0.509461\n",
      "[72]\tvalidation_0-merror:0.081824\tvalidation_1-merror:0.509461\n",
      "[73]\tvalidation_0-merror:0.078076\tvalidation_1-merror:0.513828\n",
      "[74]\tvalidation_0-merror:0.077452\tvalidation_1-merror:0.512373\n",
      "[75]\tvalidation_0-merror:0.074953\tvalidation_1-merror:0.519651\n",
      "[76]\tvalidation_0-merror:0.076202\tvalidation_1-merror:0.515284\n",
      "[77]\tvalidation_0-merror:0.073704\tvalidation_1-merror:0.515284\n",
      "[78]\tvalidation_0-merror:0.071205\tvalidation_1-merror:0.518195\n",
      "[79]\tvalidation_0-merror:0.067458\tvalidation_1-merror:0.513828\n",
      "[80]\tvalidation_0-merror:0.067458\tvalidation_1-merror:0.515284\n",
      "[81]\tvalidation_0-merror:0.068082\tvalidation_1-merror:0.518195\n",
      "[82]\tvalidation_0-merror:0.065584\tvalidation_1-merror:0.518195\n",
      "[83]\tvalidation_0-merror:0.063086\tvalidation_1-merror:0.512373\n",
      "[84]\tvalidation_0-merror:0.059963\tvalidation_1-merror:0.512373\n",
      "[85]\tvalidation_0-merror:0.059963\tvalidation_1-merror:0.510917\n",
      "[86]\tvalidation_0-merror:0.056215\tvalidation_1-merror:0.512373\n",
      "[87]\tvalidation_0-merror:0.056839\tvalidation_1-merror:0.509461\n",
      "[88]\tvalidation_0-merror:0.056215\tvalidation_1-merror:0.510917\n",
      "[89]\tvalidation_0-merror:0.054341\tvalidation_1-merror:0.513828\n",
      "[90]\tvalidation_0-merror:0.054966\tvalidation_1-merror:0.508006\n",
      "[91]\tvalidation_0-merror:0.053716\tvalidation_1-merror:0.513828\n",
      "[92]\tvalidation_0-merror:0.052467\tvalidation_1-merror:0.510917\n",
      "[93]\tvalidation_0-merror:0.051218\tvalidation_1-merror:0.510917\n",
      "[94]\tvalidation_0-merror:0.051218\tvalidation_1-merror:0.510917\n",
      "[95]\tvalidation_0-merror:0.050593\tvalidation_1-merror:0.518195\n",
      "[96]\tvalidation_0-merror:0.049969\tvalidation_1-merror:0.516739\n",
      "[97]\tvalidation_0-merror:0.04872\tvalidation_1-merror:0.515284\n",
      "[98]\tvalidation_0-merror:0.048095\tvalidation_1-merror:0.515284\n",
      "[99]\tvalidation_0-merror:0.04872\tvalidation_1-merror:0.521106\n"
     ]
    },
    {
     "data": {
      "text/plain": [
       "XGBClassifier(base_score=0.5, booster='gbtree', colsample_bylevel=1,\n",
       "       colsample_bytree=1, gamma=0, learning_rate=0.1, max_delta_step=0,\n",
       "       max_depth=3, min_child_weight=1, missing=None, n_estimators=100,\n",
       "       n_jobs=1, nthread=None, objective='multi:softprob', random_state=0,\n",
       "       reg_alpha=0, reg_lambda=1, scale_pos_weight=1, seed=None,\n",
       "       silent=True, subsample=1)"
      ]
     },
     "execution_count": 41,
     "metadata": {},
     "output_type": "execute_result"
    }
   ],
   "source": [
    "# Train and evaluate.\n",
    "xgb_model_3e.fit(X_train, y_train, eval_metric=['merror'], eval_set=[((X_train, y_train)),(X_test, y_test)])"
   ]
  },
  {
   "cell_type": "code",
   "execution_count": 43,
   "metadata": {},
   "outputs": [
    {
     "data": {
      "text/plain": [
       "Text(0.5,0,'Number of iterations')"
      ]
     },
     "execution_count": 43,
     "metadata": {},
     "output_type": "execute_result"
    },
    {
     "data": {
      "image/png": "[encoded data removed]",
      "text/plain": [
       "<matplotlib.figure.Figure at 0x1e9866bf240>"
      ]
     },
     "metadata": {},
     "output_type": "display_data"
    }
   ],
   "source": [
    "from matplotlib import pyplot\n",
    "\n",
    "xgb_eval_3e = xgb_model_3e.evals_result()\n",
    "eval_steps_3e = range(len(xgb_eval_3e['validation_0']['merror']))\n",
    "\n",
    "fig, ax = pyplot.subplots(1, 1, sharex=True, figsize=(8, 6))\n",
    "\n",
    "ax.plot(eval_steps_3e, [1-x for x in xgb_eval_3e['validation_0']['merror']], label='Train')\n",
    "ax.plot(eval_steps_3e, [1-x for x in xgb_eval_3e['validation_1']['merror']], label='Test')\n",
    "ax.legend()\n",
    "ax.set_title('Accuracy')\n",
    "ax.set_xlabel('Number of iterations')"
   ]
  },
  {
   "cell_type": "code",
   "execution_count": 44,
   "metadata": {},
   "outputs": [],
   "source": [
    "# Select trained model.\n",
    "n_trees = 52\n",
    "y_pred_3e = xgb_model_3e.predict_proba(X_test, ntree_limit= n_trees)"
   ]
  },
  {
   "cell_type": "code",
   "execution_count": 45,
   "metadata": {},
   "outputs": [
    {
     "data": {
      "text/plain": [
       "array([[0.2828163 , 0.45104185, 0.26614186],\n",
       "       [0.69480306, 0.15445118, 0.15074575],\n",
       "       [0.11062803, 0.25939628, 0.6299757 ],\n",
       "       [0.15355347, 0.2796636 , 0.56678295],\n",
       "       [0.40245053, 0.21605434, 0.38149515],\n",
       "       [0.20740567, 0.2945039 , 0.49809045],\n",
       "       [0.11499465, 0.26583922, 0.61916614],\n",
       "       [0.5533619 , 0.12753846, 0.31909966],\n",
       "       [0.4056837 , 0.34017804, 0.25413826],\n",
       "       [0.380692  , 0.3226463 , 0.29666165]], dtype=float32)"
      ]
     },
     "execution_count": 45,
     "metadata": {},
     "output_type": "execute_result"
    }
   ],
   "source": [
    "y_pred_3e[0:10]"
   ]
  },
  {
   "cell_type": "code",
   "execution_count": 81,
   "metadata": {},
   "outputs": [],
   "source": [
    "# accuracy = accuracy_score(y_test, y_pred_1e)\n",
    "# print(\"Accuracy: %.1f%%\" % (accuracy * 100.0))"
   ]
  },
  {
   "cell_type": "code",
   "execution_count": 46,
   "metadata": {},
   "outputs": [],
   "source": [
    "#run test data through model using optimal number of trees\n",
    "# tst_im_in_rshape\n",
    "\n",
    "n_trees = 52\n",
    "y_pred_3e_tst = xgb_model_3e.predict_proba(tst_im_in_rshape, ntree_limit= n_trees)"
   ]
  },
  {
   "cell_type": "code",
   "execution_count": 47,
   "metadata": {},
   "outputs": [
    {
     "data": {
      "text/plain": [
       "array([[0.18488884, 0.40100154, 0.4141096 ],\n",
       "       [0.17088519, 0.3193321 , 0.50978273],\n",
       "       [0.605237  , 0.23726177, 0.15750122],\n",
       "       [0.21712643, 0.45102352, 0.33185   ],\n",
       "       [0.3318674 , 0.26008865, 0.40804398],\n",
       "       [0.30263323, 0.35035843, 0.34700835],\n",
       "       [0.15853988, 0.29083994, 0.5506202 ],\n",
       "       [0.3382509 , 0.3042332 , 0.35751593],\n",
       "       [0.31242195, 0.4432161 , 0.24436195],\n",
       "       [0.13884097, 0.33819702, 0.52296203]], dtype=float32)"
      ]
     },
     "execution_count": 47,
     "metadata": {},
     "output_type": "execute_result"
    }
   ],
   "source": [
    "y_pred_3e_tst[0:10]"
   ]
  },
  {
   "cell_type": "code",
   "execution_count": null,
   "metadata": {},
   "outputs": [],
   "source": []
  },
  {
   "cell_type": "code",
   "execution_count": 48,
   "metadata": {},
   "outputs": [
    {
     "data": {
      "text/html": [
       "<div>\n",
       "<style scoped>\n",
       "    .dataframe tbody tr th:only-of-type {\n",
       "        vertical-align: middle;\n",
       "    }\n",
       "\n",
       "    .dataframe tbody tr th {\n",
       "        vertical-align: top;\n",
       "    }\n",
       "\n",
       "    .dataframe thead th {\n",
       "        text-align: right;\n",
       "    }\n",
       "</style>\n",
       "<table border=\"1\" class=\"dataframe\">\n",
       "  <thead>\n",
       "    <tr style=\"text-align: right;\">\n",
       "      <th></th>\n",
       "      <th>Type_1</th>\n",
       "      <th>Type_2</th>\n",
       "      <th>Type_3</th>\n",
       "    </tr>\n",
       "  </thead>\n",
       "  <tbody>\n",
       "    <tr>\n",
       "      <th>0</th>\n",
       "      <td>0.184889</td>\n",
       "      <td>0.401002</td>\n",
       "      <td>0.414110</td>\n",
       "    </tr>\n",
       "    <tr>\n",
       "      <th>1</th>\n",
       "      <td>0.170885</td>\n",
       "      <td>0.319332</td>\n",
       "      <td>0.509783</td>\n",
       "    </tr>\n",
       "    <tr>\n",
       "      <th>2</th>\n",
       "      <td>0.605237</td>\n",
       "      <td>0.237262</td>\n",
       "      <td>0.157501</td>\n",
       "    </tr>\n",
       "    <tr>\n",
       "      <th>3</th>\n",
       "      <td>0.217126</td>\n",
       "      <td>0.451024</td>\n",
       "      <td>0.331850</td>\n",
       "    </tr>\n",
       "    <tr>\n",
       "      <th>4</th>\n",
       "      <td>0.331867</td>\n",
       "      <td>0.260089</td>\n",
       "      <td>0.408044</td>\n",
       "    </tr>\n",
       "    <tr>\n",
       "      <th>5</th>\n",
       "      <td>0.302633</td>\n",
       "      <td>0.350358</td>\n",
       "      <td>0.347008</td>\n",
       "    </tr>\n",
       "    <tr>\n",
       "      <th>6</th>\n",
       "      <td>0.158540</td>\n",
       "      <td>0.290840</td>\n",
       "      <td>0.550620</td>\n",
       "    </tr>\n",
       "    <tr>\n",
       "      <th>7</th>\n",
       "      <td>0.338251</td>\n",
       "      <td>0.304233</td>\n",
       "      <td>0.357516</td>\n",
       "    </tr>\n",
       "    <tr>\n",
       "      <th>8</th>\n",
       "      <td>0.312422</td>\n",
       "      <td>0.443216</td>\n",
       "      <td>0.244362</td>\n",
       "    </tr>\n",
       "    <tr>\n",
       "      <th>9</th>\n",
       "      <td>0.138841</td>\n",
       "      <td>0.338197</td>\n",
       "      <td>0.522962</td>\n",
       "    </tr>\n",
       "  </tbody>\n",
       "</table>\n",
       "</div>"
      ],
      "text/plain": [
       "     Type_1    Type_2    Type_3\n",
       "0  0.184889  0.401002  0.414110\n",
       "1  0.170885  0.319332  0.509783\n",
       "2  0.605237  0.237262  0.157501\n",
       "3  0.217126  0.451024  0.331850\n",
       "4  0.331867  0.260089  0.408044\n",
       "5  0.302633  0.350358  0.347008\n",
       "6  0.158540  0.290840  0.550620\n",
       "7  0.338251  0.304233  0.357516\n",
       "8  0.312422  0.443216  0.244362\n",
       "9  0.138841  0.338197  0.522962"
      ]
     },
     "execution_count": 48,
     "metadata": {},
     "output_type": "execute_result"
    }
   ],
   "source": [
    "#xgboost_best = pd.DataFrame({'label': tr_lab_in, 'images': list(tr_im_in)}, columns=['label', 'images'])\n",
    "\n",
    "xgboost_best_128 = pd.DataFrame(list(y_pred_3e_tst), columns=[\"Type_1\", \"Type_2\", \"Type_3\"])\n",
    "xgboost_best_128 = xgboost_best_128.reset_index(drop=True)\n",
    "\n",
    "#xgboost_best = pd.DataFrame(tst_image_name, xgboost_best)\n",
    "xgboost_best_128[0:10]"
   ]
  },
  {
   "cell_type": "code",
   "execution_count": 49,
   "metadata": {},
   "outputs": [
    {
     "data": {
      "text/plain": [
       "array(['0.jpg', '1.jpg', '10.jpg', '100.jpg', '101.jpg', '102.jpg',\n",
       "       '103.jpg', '104.jpg', '105.jpg', '106.jpg'], dtype=object)"
      ]
     },
     "execution_count": 49,
     "metadata": {},
     "output_type": "execute_result"
    }
   ],
   "source": [
    "tst_image_name[0:10]"
   ]
  },
  {
   "cell_type": "code",
   "execution_count": 50,
   "metadata": {},
   "outputs": [],
   "source": [
    "tst_image_df_3 =pd.DataFrame({'image_name': tst_image_name})\n",
    "#tst_image_df[0:10]"
   ]
  },
  {
   "cell_type": "code",
   "execution_count": 51,
   "metadata": {},
   "outputs": [
    {
     "data": {
      "text/html": [
       "<div>\n",
       "<style scoped>\n",
       "    .dataframe tbody tr th:only-of-type {\n",
       "        vertical-align: middle;\n",
       "    }\n",
       "\n",
       "    .dataframe tbody tr th {\n",
       "        vertical-align: top;\n",
       "    }\n",
       "\n",
       "    .dataframe thead th {\n",
       "        text-align: right;\n",
       "    }\n",
       "</style>\n",
       "<table border=\"1\" class=\"dataframe\">\n",
       "  <thead>\n",
       "    <tr style=\"text-align: right;\">\n",
       "      <th></th>\n",
       "      <th>image_name</th>\n",
       "      <th>Type_1</th>\n",
       "      <th>Type_2</th>\n",
       "      <th>Type_3</th>\n",
       "    </tr>\n",
       "  </thead>\n",
       "  <tbody>\n",
       "    <tr>\n",
       "      <th>0</th>\n",
       "      <td>0.jpg</td>\n",
       "      <td>0.184889</td>\n",
       "      <td>0.401002</td>\n",
       "      <td>0.414110</td>\n",
       "    </tr>\n",
       "    <tr>\n",
       "      <th>1</th>\n",
       "      <td>1.jpg</td>\n",
       "      <td>0.170885</td>\n",
       "      <td>0.319332</td>\n",
       "      <td>0.509783</td>\n",
       "    </tr>\n",
       "    <tr>\n",
       "      <th>2</th>\n",
       "      <td>10.jpg</td>\n",
       "      <td>0.605237</td>\n",
       "      <td>0.237262</td>\n",
       "      <td>0.157501</td>\n",
       "    </tr>\n",
       "    <tr>\n",
       "      <th>3</th>\n",
       "      <td>100.jpg</td>\n",
       "      <td>0.217126</td>\n",
       "      <td>0.451024</td>\n",
       "      <td>0.331850</td>\n",
       "    </tr>\n",
       "    <tr>\n",
       "      <th>4</th>\n",
       "      <td>101.jpg</td>\n",
       "      <td>0.331867</td>\n",
       "      <td>0.260089</td>\n",
       "      <td>0.408044</td>\n",
       "    </tr>\n",
       "    <tr>\n",
       "      <th>5</th>\n",
       "      <td>102.jpg</td>\n",
       "      <td>0.302633</td>\n",
       "      <td>0.350358</td>\n",
       "      <td>0.347008</td>\n",
       "    </tr>\n",
       "    <tr>\n",
       "      <th>6</th>\n",
       "      <td>103.jpg</td>\n",
       "      <td>0.158540</td>\n",
       "      <td>0.290840</td>\n",
       "      <td>0.550620</td>\n",
       "    </tr>\n",
       "    <tr>\n",
       "      <th>7</th>\n",
       "      <td>104.jpg</td>\n",
       "      <td>0.338251</td>\n",
       "      <td>0.304233</td>\n",
       "      <td>0.357516</td>\n",
       "    </tr>\n",
       "    <tr>\n",
       "      <th>8</th>\n",
       "      <td>105.jpg</td>\n",
       "      <td>0.312422</td>\n",
       "      <td>0.443216</td>\n",
       "      <td>0.244362</td>\n",
       "    </tr>\n",
       "    <tr>\n",
       "      <th>9</th>\n",
       "      <td>106.jpg</td>\n",
       "      <td>0.138841</td>\n",
       "      <td>0.338197</td>\n",
       "      <td>0.522962</td>\n",
       "    </tr>\n",
       "  </tbody>\n",
       "</table>\n",
       "</div>"
      ],
      "text/plain": [
       "  image_name    Type_1    Type_2    Type_3\n",
       "0      0.jpg  0.184889  0.401002  0.414110\n",
       "1      1.jpg  0.170885  0.319332  0.509783\n",
       "2     10.jpg  0.605237  0.237262  0.157501\n",
       "3    100.jpg  0.217126  0.451024  0.331850\n",
       "4    101.jpg  0.331867  0.260089  0.408044\n",
       "5    102.jpg  0.302633  0.350358  0.347008\n",
       "6    103.jpg  0.158540  0.290840  0.550620\n",
       "7    104.jpg  0.338251  0.304233  0.357516\n",
       "8    105.jpg  0.312422  0.443216  0.244362\n",
       "9    106.jpg  0.138841  0.338197  0.522962"
      ]
     },
     "execution_count": 51,
     "metadata": {},
     "output_type": "execute_result"
    }
   ],
   "source": [
    "xg_best_df_3 = pd.concat([tst_image_df_3, xgboost_best_128], axis=1)\n",
    "xg_best_df_3[0:10]"
   ]
  },
  {
   "cell_type": "code",
   "execution_count": 52,
   "metadata": {},
   "outputs": [],
   "source": [
    "xg_best_df_3.to_csv('xg_128_best_out.csv', index=False)"
   ]
  },
  {
   "cell_type": "code",
   "execution_count": null,
   "metadata": {},
   "outputs": [],
   "source": [
    "#########     Model 3 using logloss as metric        #########\n",
    "\n",
    "#not run because less accurate than 64 bit version"
   ]
  },
  {
   "cell_type": "code",
   "execution_count": 53,
   "metadata": {},
   "outputs": [],
   "source": [
    "# Train and evaluate.\n",
    "\n",
    "# xgb_model_3l = XGBClassifier()\n",
    "\n",
    "# xgb_model_3l.fit(X_train, y_train, eval_metric=['mlogloss'], eval_set=[((X_train, y_train)),(X_test, y_test)])"
   ]
  },
  {
   "cell_type": "code",
   "execution_count": 165,
   "metadata": {},
   "outputs": [
    {
     "data": {
      "text/plain": [
       "Text(0.5,0,'Number of iterations')"
      ]
     },
     "execution_count": 165,
     "metadata": {},
     "output_type": "execute_result"
    },
    {
     "data": {
      "image/png": "[encoded data removed]",
      "text/plain": [
       "<matplotlib.figure.Figure at 0x29303781208>"
      ]
     },
     "metadata": {},
     "output_type": "display_data"
    }
   ],
   "source": [
    "# xgb_eval_3l = xgb_model_3l.evals_result()\n",
    "# eval_steps_3l = range(len(xgb_eval_3l['validation_0']['mlogloss']))\n",
    "\n",
    "# fig, ax = pyplot.subplots(1, 1, sharex=True, figsize=(8, 6))\n",
    "\n",
    "# ax.plot(eval_steps_3l, [x for x in xgb_eval_3l['validation_0']['mlogloss']], label='Train')\n",
    "# ax.plot(eval_steps_3l, [x for x in xgb_eval_3l['validation_1']['mlogloss']], label='Test')\n",
    "# ax.legend()\n",
    "# ax.set_title('LogLoss')\n",
    "# ax.set_xlabel('Number of iterations')"
   ]
  },
  {
   "cell_type": "code",
   "execution_count": 166,
   "metadata": {},
   "outputs": [],
   "source": [
    "# # Select trained model.\n",
    "# n_trees = 97\n",
    "# y_pred_3l = xgb_model_3l.predict_proba(X_test, ntree_limit= n_trees)\n"
   ]
  },
  {
   "cell_type": "code",
   "execution_count": 167,
   "metadata": {},
   "outputs": [
    {
     "data": {
      "text/plain": [
       "array([[0.20602359, 0.4318021 , 0.3621743 ],\n",
       "       [0.64309347, 0.14231452, 0.21459202],\n",
       "       [0.07207223, 0.34616938, 0.5817583 ],\n",
       "       [0.12676391, 0.24696985, 0.62626624],\n",
       "       [0.45309168, 0.2457423 , 0.30116606],\n",
       "       [0.15810008, 0.24676856, 0.59513134],\n",
       "       [0.08638909, 0.31548005, 0.5981308 ],\n",
       "       [0.55334944, 0.10883714, 0.33781338],\n",
       "       [0.3173042 , 0.44997072, 0.23272507],\n",
       "       [0.6143053 , 0.2400117 , 0.14568299]], dtype=float32)"
      ]
     },
     "execution_count": 167,
     "metadata": {},
     "output_type": "execute_result"
    }
   ],
   "source": [
    "# y_pred_3l[0:10]"
   ]
  },
  {
   "cell_type": "code",
   "execution_count": null,
   "metadata": {},
   "outputs": [],
   "source": []
  },
  {
   "cell_type": "code",
   "execution_count": null,
   "metadata": {},
   "outputs": [],
   "source": [
    "#########     Model 4 using grid       #########"
   ]
  },
  {
   "cell_type": "code",
   "execution_count": 54,
   "metadata": {},
   "outputs": [],
   "source": [
    "# Create XGBoost pipeline, set up parameter grid.\n",
    "xgb_model_4gs = XGBClassifier()\n",
    "parameters = {'reg_alpha': [0.0, 1.0], 'reg_lambda': [0.0, 1.0], 'n_estimators': [n_trees], 'seed': [123]}"
   ]
  },
  {
   "cell_type": "code",
   "execution_count": 55,
   "metadata": {},
   "outputs": [
    {
     "name": "stdout",
     "output_type": "stream",
     "text": [
      "Fitting 10 folds for each of 4 candidates, totalling 40 fits\n"
     ]
    },
    {
     "name": "stderr",
     "output_type": "stream",
     "text": [
      "[Parallel(n_jobs=-1)]: Done  40 out of  40 | elapsed: 18.0min finished\n"
     ]
    },
    {
     "data": {
      "text/plain": [
       "GridSearchCV(cv=10, error_score='raise',\n",
       "       estimator=XGBClassifier(base_score=0.5, booster='gbtree', colsample_bylevel=1,\n",
       "       colsample_bytree=1, gamma=0, learning_rate=0.1, max_delta_step=0,\n",
       "       max_depth=3, min_child_weight=1, missing=None, n_estimators=100,\n",
       "       n_jobs=1, nthread=None, objective='binary:logistic', random_state=0,\n",
       "       reg_alpha=0, reg_lambda=1, scale_pos_weight=1, seed=None,\n",
       "       silent=True, subsample=1),\n",
       "       fit_params=None, iid=True, n_jobs=-1,\n",
       "       param_grid={'reg_alpha': [0.0, 1.0], 'seed': [123], 'reg_lambda': [0.0, 1.0], 'n_estimators': [52]},\n",
       "       pre_dispatch='2*n_jobs', refit=True, return_train_score='warn',\n",
       "       scoring='accuracy', verbose=1)"
      ]
     },
     "execution_count": 55,
     "metadata": {},
     "output_type": "execute_result"
    }
   ],
   "source": [
    "# Search for the best parameters.\n",
    "clf4 = GridSearchCV(xgb_model_4gs, parameters, scoring='accuracy', cv=10, verbose=1, n_jobs=-1, refit=True)\n",
    "clf4.fit(X_train, y_train)"
   ]
  },
  {
   "cell_type": "code",
   "execution_count": 56,
   "metadata": {},
   "outputs": [
    {
     "name": "stderr",
     "output_type": "stream",
     "text": [
      "C:\\Users\\Jason\\Anaconda3\\envs\\tensorflow\\lib\\site-packages\\sklearn\\model_selection\\_search.py:761: DeprecationWarning:\n",
      "\n",
      "The grid_scores_ attribute was deprecated in version 0.18 in favor of the more elaborate cv_results_ attribute. The grid_scores_ attribute will not be available from 0.20\n",
      "\n"
     ]
    },
    {
     "data": {
      "text/plain": [
       "[mean: 0.48907, std: 0.04482, params: {'reg_alpha': 0.0, 'seed': 123, 'reg_lambda': 0.0, 'n_estimators': 52},\n",
       " mean: 0.49656, std: 0.03995, params: {'reg_alpha': 0.0, 'seed': 123, 'reg_lambda': 1.0, 'n_estimators': 52},\n",
       " mean: 0.49844, std: 0.04511, params: {'reg_alpha': 1.0, 'seed': 123, 'reg_lambda': 0.0, 'n_estimators': 52},\n",
       " mean: 0.49157, std: 0.03565, params: {'reg_alpha': 1.0, 'seed': 123, 'reg_lambda': 1.0, 'n_estimators': 52}]"
      ]
     },
     "execution_count": 56,
     "metadata": {},
     "output_type": "execute_result"
    }
   ],
   "source": [
    "# View the performance result.\n",
    "clf4.grid_scores_"
   ]
  },
  {
   "cell_type": "code",
   "execution_count": 57,
   "metadata": {},
   "outputs": [
    {
     "name": "stdout",
     "output_type": "stream",
     "text": [
      "Best score: 49.8%\n",
      "Best parameter set: {'reg_alpha': 1.0, 'seed': 123, 'reg_lambda': 0.0, 'n_estimators': 52}\n"
     ]
    }
   ],
   "source": [
    "print(\"Best score: %.1f%%\" % (clf4.best_score_*100))\n",
    "print(\"Best parameter set: %s\" % (clf4.best_params_))"
   ]
  },
  {
   "cell_type": "code",
   "execution_count": 59,
   "metadata": {},
   "outputs": [
    {
     "name": "stdout",
     "output_type": "stream",
     "text": [
      "Accuracy: 47.7%\n"
     ]
    },
    {
     "name": "stderr",
     "output_type": "stream",
     "text": [
      "C:\\Users\\Jason\\Anaconda3\\envs\\tensorflow\\lib\\site-packages\\sklearn\\preprocessing\\label.py:151: DeprecationWarning:\n",
      "\n",
      "The truth value of an empty array is ambiguous. Returning False, but in future this will result in an error. Use `array.size > 0` to check that an array is not empty.\n",
      "\n"
     ]
    }
   ],
   "source": [
    "y_pred_grid4 = clf4.best_estimator_.predict(X_test, ntree_limit= n_trees)\n",
    "\n",
    "accuracy4 = accuracy_score(y_test, y_pred_grid4)\n",
    "print(\"Accuracy: %.1f%%\" % (accuracy4 * 100.0))"
   ]
  },
  {
   "cell_type": "code",
   "execution_count": null,
   "metadata": {},
   "outputs": [],
   "source": []
  },
  {
   "cell_type": "code",
   "execution_count": null,
   "metadata": {},
   "outputs": [],
   "source": []
  },
  {
   "cell_type": "code",
   "execution_count": null,
   "metadata": {},
   "outputs": [],
   "source": []
  },
  {
   "cell_type": "code",
   "execution_count": null,
   "metadata": {},
   "outputs": [],
   "source": []
  },
  {
   "cell_type": "code",
   "execution_count": null,
   "metadata": {},
   "outputs": [],
   "source": []
  },
  {
   "cell_type": "code",
   "execution_count": null,
   "metadata": {},
   "outputs": [],
   "source": []
  },
  {
   "cell_type": "code",
   "execution_count": null,
   "metadata": {},
   "outputs": [],
   "source": []
  },
  {
   "cell_type": "code",
   "execution_count": null,
   "metadata": {},
   "outputs": [],
   "source": []
  },
  {
   "cell_type": "code",
   "execution_count": null,
   "metadata": {},
   "outputs": [],
   "source": []
  },
  {
   "cell_type": "code",
   "execution_count": null,
   "metadata": {},
   "outputs": [],
   "source": []
  },
  {
   "cell_type": "code",
   "execution_count": null,
   "metadata": {},
   "outputs": [],
   "source": []
  }
 ],
 "metadata": {
  "kernelspec": {
   "display_name": "Python 3",
   "language": "python",
   "name": "python3"
  },
  "language_info": {
   "codemirror_mode": {
    "name": "ipython",
    "version": 3
   },
   "file_extension": ".py",
   "mimetype": "text/x-python",
   "name": "python",
   "nbconvert_exporter": "python",
   "pygments_lexer": "ipython3",
   "version": "3.5.4"
  }
 },
 "nbformat": 4,
 "nbformat_minor": 2
}
