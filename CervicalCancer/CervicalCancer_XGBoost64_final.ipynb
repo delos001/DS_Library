{
 "cells": [
  {
   "cell_type": "code",
   "execution_count": 99,
   "metadata": {},
   "outputs": [],
   "source": [
    "\n",
    "###XGBoost Model 64###\n"
   ]
  },
  {
   "cell_type": "code",
   "execution_count": 100,
   "metadata": {},
   "outputs": [
    {
     "data": {
      "text/html": [
       "<script>requirejs.config({paths: { 'plotly': ['https://cdn.plot.ly/plotly-latest.min']},});if(!window.Plotly) {{require(['plotly'],function(plotly) {window.Plotly=plotly;});}}</script>"
      ],
      "text/vnd.plotly.v1+html": [
       "<script>requirejs.config({paths: { 'plotly': ['https://cdn.plot.ly/plotly-latest.min']},});if(!window.Plotly) {{require(['plotly'],function(plotly) {window.Plotly=plotly;});}}</script>"
      ]
     },
     "metadata": {},
     "output_type": "display_data"
    }
   ],
   "source": [
    "import numpy as np\n",
    "import pandas as pd\n",
    "import matplotlib.pyplot as plt\n",
    "import seaborn as sns\n",
    "from skimage.io import imread, imshow\n",
    "import cv2\n",
    "import os, os.path\n",
    "\n",
    "%matplotlib inline\n",
    "import plotly.offline as py\n",
    "py.init_notebook_mode(connected=True)\n",
    "import plotly.graph_objs as go\n",
    "import plotly.tools as tls\n",
    "\n",
    "from subprocess import check_output"
   ]
  },
  {
   "cell_type": "code",
   "execution_count": null,
   "metadata": {},
   "outputs": [],
   "source": []
  },
  {
   "cell_type": "code",
   "execution_count": null,
   "metadata": {},
   "outputs": [],
   "source": []
  },
  {
   "cell_type": "code",
   "execution_count": null,
   "metadata": {},
   "outputs": [],
   "source": []
  },
  {
   "cell_type": "code",
   "execution_count": 15,
   "metadata": {},
   "outputs": [],
   "source": [
    "#set train and test directories for desktop local C drive------------------------\n",
    "\n",
    "#local directory parent folder containing the training folders: type_1, type_2, type_3 and test files\n",
    "\n",
    "dir_loc = 'C:\\\\Users\\\\Jason\\\\Desktop\\\\Cervix'\n",
    "dir_loc_sub = '\\\\XGBoost64X64'\n",
    "\n",
    "#local directory parent folder containing the training folders: type_1, type_2, type_3\n",
    "tr1_dir_loc = dir_loc + dir_loc_sub + '\\\\train\\\\Type_1'\n",
    "tr2_dir_loc = dir_loc + dir_loc_sub + '\\\\train\\\\Type_2'\n",
    "tr3_dir_loc = dir_loc + dir_loc_sub + '\\\\train\\\\Type_3'\n",
    "\n",
    "#local directory parent folder containing the test files\n",
    "tst1_dir_loc = dir_loc + dir_loc_sub + '\\\\test'\n",
    "\n",
    "\n",
    "#files for each training type (1,2,3)\n",
    "tr1_f_loc = [os.path.join(tr1_dir_loc, f) for f in os.listdir(tr1_dir_loc)]\n",
    "tr2_f_loc = [os.path.join(tr2_dir_loc, f) for f in os.listdir(tr2_dir_loc)]\n",
    "tr3_f_loc = [os.path.join(tr3_dir_loc, f) for f in os.listdir(tr3_dir_loc)]\n",
    "\n",
    "#test image directory\n",
    "tst1_f_loc = [os.path.join(tst1_dir_loc, f) for f in os.listdir(tst1_dir_loc)]"
   ]
  },
  {
   "cell_type": "code",
   "execution_count": 174,
   "metadata": {},
   "outputs": [],
   "source": [
    "# #this is for a single load of extra test images to is blocked\n",
    "\n",
    "# #local directory parent folder containing the test files\n",
    "# tst1_dir_loc = dir_loc + dir_loc_sub + '\\\\test'\n",
    "# #test image directory: includes stage2\n",
    "# tst1_f_loc = [os.path.join(tst1_dir_loc, f) for f in os.listdir(tst1_dir_loc)]\n",
    "# for f in tst1_f_loc:\n",
    "#     piexif.remove(f)"
   ]
  },
  {
   "cell_type": "code",
   "execution_count": 8,
   "metadata": {},
   "outputs": [],
   "source": [
    "#remove corrupt exif data for local files\n",
    "\n",
    "import piexif\n",
    "\n",
    "\n",
    "for f in tr1_f_loc:\n",
    "    piexif.remove(f)\n",
    "\n",
    "for f in tr2_f_loc:\n",
    "    piexif.remove(f)\n",
    "    \n",
    "for f in tr3_f_loc:\n",
    "    piexif.remove(f)\n",
    "    \n",
    "for f in tst1_f_loc:\n",
    "    piexif.remove(f)\n",
    "    \n",
    "##this operations was already performed on files saved locally so \n",
    "##it is blocked off here "
   ]
  },
  {
   "cell_type": "code",
   "execution_count": 9,
   "metadata": {},
   "outputs": [],
   "source": [
    "#resize type1 files (note: these were already resized once with NN model)\n",
    "\n",
    "from PIL import Image, ImageFile\n",
    "import os, sys\n",
    "\n",
    "# this operations to resize files was alreay performed and saved locally\n",
    "# so doesn't need to be run again\n",
    "\n",
    "ImageFile.LOAD_TRUNCATED_IMAGES = True\n",
    "\n",
    "path1 = tr1_dir_loc + \"\\\\\"\n",
    "dirs = os.listdir( path1 )\n",
    "final_size = 64;\n",
    "\n",
    "def resize_aspect_fit():\n",
    "    for item in dirs:\n",
    "        if item == '.DS_Store':\n",
    "            continue\n",
    "        if os.path.isfile(path1+item):\n",
    "            im = Image.open(path1+item)\n",
    "            f, e = os.path.splitext(path1+item)\n",
    "            size = im.size\n",
    "            ratio = float(final_size) / max(size)\n",
    "            new_image_size = tuple([int(x*ratio) for x in size])\n",
    "            im = im.resize(new_image_size, Image.ANTIALIAS)\n",
    "            new_im = Image.new(\"RGB\", (final_size, final_size))\n",
    "            new_im.paste(im, ((final_size-new_image_size[0])//2, (final_size-new_image_size[1])//2))\n",
    "            new_im.save(f + '.jpg', 'JPEG', quality=90)\n",
    "resize_aspect_fit()"
   ]
  },
  {
   "cell_type": "code",
   "execution_count": 10,
   "metadata": {},
   "outputs": [],
   "source": [
    "#resize type2 files  (note: these were already resized once with NN model)\n",
    "\n",
    "#this operations to resize files was alreay performed and saved locally\n",
    "#so doesn't need to be run again\n",
    "\n",
    "path2 = tr2_dir_loc + \"\\\\\"\n",
    "dirs = os.listdir( path2 )\n",
    "final_size = 64;\n",
    "\n",
    "def resize_aspect_fit():\n",
    "    for item in dirs:\n",
    "        if item == '.DS_Store':\n",
    "            continue\n",
    "        if os.path.isfile(path2+item):\n",
    "            im = Image.open(path2+item)\n",
    "            f, e = os.path.splitext(path2+item)\n",
    "            size = im.size\n",
    "            ratio = float(final_size) / max(size)\n",
    "            new_image_size = tuple([int(x*ratio) for x in size])\n",
    "            im = im.resize(new_image_size, Image.ANTIALIAS)\n",
    "            new_im = Image.new(\"RGB\", (final_size, final_size))\n",
    "            new_im.paste(im, ((final_size-new_image_size[0])//2, (final_size-new_image_size[1])//2))\n",
    "            new_im.save(f + '.jpg', 'JPEG', quality=90)\n",
    "resize_aspect_fit()"
   ]
  },
  {
   "cell_type": "code",
   "execution_count": 11,
   "metadata": {},
   "outputs": [],
   "source": [
    "#resize type3 files (note: these were already resized once with NN model)\n",
    "\n",
    "#this operations to resize files was alreay performed and saved locally\n",
    "#so doesn't need to be run again\n",
    "\n",
    "path3 = tr3_dir_loc + \"\\\\\"\n",
    "dirs = os.listdir( path3 )\n",
    "final_size = 64;\n",
    "\n",
    "def resize_aspect_fit():\n",
    "    for item in dirs:\n",
    "        if item == '.DS_Store':\n",
    "            continue\n",
    "        if os.path.isfile(path3+item):\n",
    "            im = Image.open(path3+item)\n",
    "            f, e = os.path.splitext(path3+item)\n",
    "            size = im.size\n",
    "            ratio = float(final_size) / max(size)\n",
    "            new_image_size = tuple([int(x*ratio) for x in size])\n",
    "            im = im.resize(new_image_size, Image.ANTIALIAS)\n",
    "            new_im = Image.new(\"RGB\", (final_size, final_size))\n",
    "            new_im.paste(im, ((final_size-new_image_size[0])//2, (final_size-new_image_size[1])//2))\n",
    "            new_im.save(f + '.jpg', 'JPEG', quality=90)\n",
    "resize_aspect_fit()"
   ]
  },
  {
   "cell_type": "code",
   "execution_count": 175,
   "metadata": {},
   "outputs": [],
   "source": [
    "#resize test files (note: these were already resized once with NN model)\n",
    "\n",
    "#this operations to resize files was alreay performed and saved locally\n",
    "#so doesn't need to be run again\n",
    "\n",
    "path4 = tst1_dir_loc + \"\\\\\"\n",
    "dirs = os.listdir( path4 )\n",
    "final_size = 64;\n",
    "\n",
    "def resize_aspect_fit():\n",
    "    for item in dirs:\n",
    "        if item == '.DS_Store':\n",
    "            continue\n",
    "        if os.path.isfile(path4+item):\n",
    "            im = Image.open(path4+item)\n",
    "            f, e = os.path.splitext(path4+item)\n",
    "            size = im.size\n",
    "            ratio = float(final_size) / max(size)\n",
    "            new_image_size = tuple([int(x*ratio) for x in size])\n",
    "            im = im.resize(new_image_size, Image.ANTIALIAS)\n",
    "            new_im = Image.new(\"RGB\", (final_size, final_size))\n",
    "            new_im.paste(im, ((final_size-new_image_size[0])//2, (final_size-new_image_size[1])//2))\n",
    "            new_im.save(f + '.jpg', 'JPEG', quality=90)\n",
    "resize_aspect_fit()"
   ]
  },
  {
   "cell_type": "code",
   "execution_count": null,
   "metadata": {},
   "outputs": [],
   "source": []
  },
  {
   "cell_type": "code",
   "execution_count": 17,
   "metadata": {},
   "outputs": [
    {
     "name": "stdout",
     "output_type": "stream",
     "text": [
      "(4160, 3120, 3)\n"
     ]
    },
    {
     "data": {
      "image/png": "[encoded data removed]",
      "text/plain": [
       "<matplotlib.figure.Figure at 0x29301e1e208>"
      ]
     },
     "metadata": {},
     "output_type": "display_data"
    }
   ],
   "source": [
    "#compare original image with scaled and cropped image\n",
    "\n",
    "import imageio\n",
    "\n",
    "testImage = imageio.imread(\"C:\\\\Users\\\\Jason\\\\Desktop\\\\Cervix backup files\\\\train\\\\Type_1\\\\2.jpg\")\n",
    "\n",
    "testImageGray = testImage[:,:,0]\n",
    "\n",
    "plt.figure()\n",
    "plt.gray()\n",
    "\n",
    "plt.subplot(121)\n",
    "plt.imshow(testImage)\n",
    "\n",
    "print(testImage.shape)"
   ]
  },
  {
   "cell_type": "code",
   "execution_count": 19,
   "metadata": {},
   "outputs": [
    {
     "name": "stdout",
     "output_type": "stream",
     "text": [
      "(64, 64, 3)\n"
     ]
    },
    {
     "data": {
      "image/png": "[encoded data removed]",
      "text/plain": [
       "<matplotlib.figure.Figure at 0x2937c3b1c50>"
      ]
     },
     "metadata": {},
     "output_type": "display_data"
    }
   ],
   "source": [
    "#cropped and re-sized image\n",
    "testImage1 = imageio.imread(\"C:\\\\Users\\\\Jason\\\\Desktop\\\\Cervix\\\\XGBoost64x64\\\\train\\\\Type_1\\\\2.jpg\")\n",
    "\n",
    "plt.figure()\n",
    "\n",
    "plt.subplot(121)\n",
    "plt.imshow(testImage1)\n",
    "\n",
    "print(testImage1.shape)"
   ]
  },
  {
   "cell_type": "code",
   "execution_count": 20,
   "metadata": {},
   "outputs": [
    {
     "name": "stdout",
     "output_type": "stream",
     "text": [
      "(64, 64)\n"
     ]
    },
    {
     "data": {
      "image/png": "[encoded data removed]",
      "text/plain": [
       "<matplotlib.figure.Figure at 0x2930447c550>"
      ]
     },
     "metadata": {},
     "output_type": "display_data"
    }
   ],
   "source": [
    "#cropped and resized grey image\n",
    "testImageGray1 = testImage1[:,:,0]\n",
    "\n",
    "plt.subplot(121)\n",
    "plt.imshow(testImageGray1)\n",
    "\n",
    "print (testImageGray1.shape)"
   ]
  },
  {
   "cell_type": "code",
   "execution_count": null,
   "metadata": {},
   "outputs": [],
   "source": []
  },
  {
   "cell_type": "code",
   "execution_count": 21,
   "metadata": {},
   "outputs": [],
   "source": [
    "#######################################################\n",
    "#\n",
    "#\n",
    "#      Read Images into Python \n",
    "#\n",
    "#\n",
    "#######################################################\n",
    "from subprocess import check_output\n",
    "\n",
    "import os, sys\n",
    "from IPython.display import display\n",
    "from IPython.display import Image as _Imgdis\n",
    "from PIL import Image\n",
    "\n",
    "from time import time\n",
    "from time import sleep\n",
    "\n",
    "import pandas as pd\n",
    "import scipy.misc\n",
    "\n",
    "import matplotlib.pyplot as plt "
   ]
  },
  {
   "cell_type": "code",
   "execution_count": 22,
   "metadata": {},
   "outputs": [],
   "source": [
    "#re-set the files because they have been resized\n",
    "#files for each training type (1,2,3)\n",
    "tr1_f_loc = [os.path.join(tr1_dir_loc, f) for f in os.listdir(tr1_dir_loc)]\n",
    "tr2_f_loc = [os.path.join(tr2_dir_loc, f) for f in os.listdir(tr2_dir_loc)]\n",
    "tr3_f_loc = [os.path.join(tr3_dir_loc, f) for f in os.listdir(tr3_dir_loc)]\n",
    "\n",
    "#test image directory\n",
    "tst1_f_loc = [os.path.join(tst1_dir_loc, f) for f in os.listdir(tst1_dir_loc)]"
   ]
  },
  {
   "cell_type": "code",
   "execution_count": 101,
   "metadata": {},
   "outputs": [
    {
     "data": {
      "text/html": [
       "<div>\n",
       "<style scoped>\n",
       "    .dataframe tbody tr th:only-of-type {\n",
       "        vertical-align: middle;\n",
       "    }\n",
       "\n",
       "    .dataframe tbody tr th {\n",
       "        vertical-align: top;\n",
       "    }\n",
       "\n",
       "    .dataframe thead th {\n",
       "        text-align: right;\n",
       "    }\n",
       "</style>\n",
       "<table border=\"1\" class=\"dataframe\">\n",
       "  <thead>\n",
       "    <tr style=\"text-align: right;\">\n",
       "      <th></th>\n",
       "      <th>imagepath</th>\n",
       "      <th>filetype</th>\n",
       "      <th>type</th>\n",
       "      <th>name</th>\n",
       "    </tr>\n",
       "  </thead>\n",
       "  <tbody>\n",
       "    <tr>\n",
       "      <th>0</th>\n",
       "      <td>C:\\Users\\Jason\\Desktop\\Cervix\\XGBoost64X64\\tra...</td>\n",
       "      <td>jpg</td>\n",
       "      <td>Type_1</td>\n",
       "      <td>10.jpg</td>\n",
       "    </tr>\n",
       "    <tr>\n",
       "      <th>1</th>\n",
       "      <td>C:\\Users\\Jason\\Desktop\\Cervix\\XGBoost64X64\\tra...</td>\n",
       "      <td>jpg</td>\n",
       "      <td>Type_1</td>\n",
       "      <td>1013.jpg</td>\n",
       "    </tr>\n",
       "    <tr>\n",
       "      <th>2</th>\n",
       "      <td>C:\\Users\\Jason\\Desktop\\Cervix\\XGBoost64X64\\tra...</td>\n",
       "      <td>jpg</td>\n",
       "      <td>Type_1</td>\n",
       "      <td>1014.jpg</td>\n",
       "    </tr>\n",
       "    <tr>\n",
       "      <th>3</th>\n",
       "      <td>C:\\Users\\Jason\\Desktop\\Cervix\\XGBoost64X64\\tra...</td>\n",
       "      <td>jpg</td>\n",
       "      <td>Type_1</td>\n",
       "      <td>1019.jpg</td>\n",
       "    </tr>\n",
       "    <tr>\n",
       "      <th>4</th>\n",
       "      <td>C:\\Users\\Jason\\Desktop\\Cervix\\XGBoost64X64\\tra...</td>\n",
       "      <td>jpg</td>\n",
       "      <td>Type_1</td>\n",
       "      <td>102.jpg</td>\n",
       "    </tr>\n",
       "  </tbody>\n",
       "</table>\n",
       "</div>"
      ],
      "text/plain": [
       "                                           imagepath filetype    type  \\\n",
       "0  C:\\Users\\Jason\\Desktop\\Cervix\\XGBoost64X64\\tra...      jpg  Type_1   \n",
       "1  C:\\Users\\Jason\\Desktop\\Cervix\\XGBoost64X64\\tra...      jpg  Type_1   \n",
       "2  C:\\Users\\Jason\\Desktop\\Cervix\\XGBoost64X64\\tra...      jpg  Type_1   \n",
       "3  C:\\Users\\Jason\\Desktop\\Cervix\\XGBoost64X64\\tra...      jpg  Type_1   \n",
       "4  C:\\Users\\Jason\\Desktop\\Cervix\\XGBoost64X64\\tra...      jpg  Type_1   \n",
       "\n",
       "       name  \n",
       "0    10.jpg  \n",
       "1  1013.jpg  \n",
       "2  1014.jpg  \n",
       "3  1019.jpg  \n",
       "4   102.jpg  "
      ]
     },
     "execution_count": 101,
     "metadata": {},
     "output_type": "execute_result"
    }
   ],
   "source": [
    "#get path for all files in the local C: Type1 folder, then split to see file type and cervix type\n",
    "\n",
    "#tr1_f_loc = [os.path.join(tr_t1, f) for f in os.listdir(tr_t1)]\n",
    "tr1_im_loc = pd.DataFrame({\"imagepath\": tr1_f_loc})\n",
    "tr1_im_loc[\"filetype\"] = tr1_im_loc.apply(lambda row: row.imagepath.split(\".\")[-1], axis=1)\n",
    "tr1_im_loc[\"type\"] = tr1_im_loc.apply(lambda row: row.imagepath.split(\"\\\\\")[-2], axis=1)\n",
    "tr1_im_loc[\"name\"] = tr1_im_loc.apply(lambda row: row.imagepath.split(\"\\\\\")[8], axis=1)\n",
    "tr1_im_loc.head()\n",
    "\n",
    "# a=imageio.imread('C:\\\\Users\\\\Jason\\\\Desktop\\\\Cervix\\\\XGBoost64x64\\\\train\\\\Type_1\\\\2.jpg')\n",
    "# plt.imshow(a)"
   ]
  },
  {
   "cell_type": "code",
   "execution_count": 102,
   "metadata": {},
   "outputs": [
    {
     "data": {
      "text/plain": [
       "751"
      ]
     },
     "execution_count": 102,
     "metadata": {},
     "output_type": "execute_result"
    }
   ],
   "source": [
    "# a=imageio.imread('C:\\\\Users\\\\Jason\\Desktop\\\\Cervix\\\\train\\\\Type_1\\\\1013resCroppedres.jpg')\n",
    "# plt.imshow(a)\n",
    "\n",
    "#create ylab1\n",
    "\n",
    "y1 = tr1_im_loc['type']\n",
    "len(y1)"
   ]
  },
  {
   "cell_type": "code",
   "execution_count": 103,
   "metadata": {},
   "outputs": [
    {
     "data": {
      "text/html": [
       "<div>\n",
       "<style scoped>\n",
       "    .dataframe tbody tr th:only-of-type {\n",
       "        vertical-align: middle;\n",
       "    }\n",
       "\n",
       "    .dataframe tbody tr th {\n",
       "        vertical-align: top;\n",
       "    }\n",
       "\n",
       "    .dataframe thead th {\n",
       "        text-align: right;\n",
       "    }\n",
       "</style>\n",
       "<table border=\"1\" class=\"dataframe\">\n",
       "  <thead>\n",
       "    <tr style=\"text-align: right;\">\n",
       "      <th></th>\n",
       "      <th>imagepath</th>\n",
       "      <th>filetype</th>\n",
       "      <th>type</th>\n",
       "      <th>name</th>\n",
       "    </tr>\n",
       "  </thead>\n",
       "  <tbody>\n",
       "    <tr>\n",
       "      <th>0</th>\n",
       "      <td>C:\\Users\\Jason\\Desktop\\Cervix\\XGBoost64X64\\tra...</td>\n",
       "      <td>jpg</td>\n",
       "      <td>Type_2</td>\n",
       "      <td>1.jpg</td>\n",
       "    </tr>\n",
       "    <tr>\n",
       "      <th>1</th>\n",
       "      <td>C:\\Users\\Jason\\Desktop\\Cervix\\XGBoost64X64\\tra...</td>\n",
       "      <td>jpg</td>\n",
       "      <td>Type_2</td>\n",
       "      <td>100.jpg</td>\n",
       "    </tr>\n",
       "    <tr>\n",
       "      <th>2</th>\n",
       "      <td>C:\\Users\\Jason\\Desktop\\Cervix\\XGBoost64X64\\tra...</td>\n",
       "      <td>jpg</td>\n",
       "      <td>Type_2</td>\n",
       "      <td>1001.jpg</td>\n",
       "    </tr>\n",
       "    <tr>\n",
       "      <th>3</th>\n",
       "      <td>C:\\Users\\Jason\\Desktop\\Cervix\\XGBoost64X64\\tra...</td>\n",
       "      <td>jpg</td>\n",
       "      <td>Type_2</td>\n",
       "      <td>1002.jpg</td>\n",
       "    </tr>\n",
       "    <tr>\n",
       "      <th>4</th>\n",
       "      <td>C:\\Users\\Jason\\Desktop\\Cervix\\XGBoost64X64\\tra...</td>\n",
       "      <td>jpg</td>\n",
       "      <td>Type_2</td>\n",
       "      <td>1005.jpg</td>\n",
       "    </tr>\n",
       "  </tbody>\n",
       "</table>\n",
       "</div>"
      ],
      "text/plain": [
       "                                           imagepath filetype    type  \\\n",
       "0  C:\\Users\\Jason\\Desktop\\Cervix\\XGBoost64X64\\tra...      jpg  Type_2   \n",
       "1  C:\\Users\\Jason\\Desktop\\Cervix\\XGBoost64X64\\tra...      jpg  Type_2   \n",
       "2  C:\\Users\\Jason\\Desktop\\Cervix\\XGBoost64X64\\tra...      jpg  Type_2   \n",
       "3  C:\\Users\\Jason\\Desktop\\Cervix\\XGBoost64X64\\tra...      jpg  Type_2   \n",
       "4  C:\\Users\\Jason\\Desktop\\Cervix\\XGBoost64X64\\tra...      jpg  Type_2   \n",
       "\n",
       "       name  \n",
       "0     1.jpg  \n",
       "1   100.jpg  \n",
       "2  1001.jpg  \n",
       "3  1002.jpg  \n",
       "4  1005.jpg  "
      ]
     },
     "execution_count": 103,
     "metadata": {},
     "output_type": "execute_result"
    }
   ],
   "source": [
    "#get path for all files in the local C: Type2 folder, then split to see file type and cervix type\n",
    "\n",
    "tr2_im_loc = pd.DataFrame({\"imagepath\": tr2_f_loc})\n",
    "tr2_im_loc[\"filetype\"] = tr2_im_loc.apply(lambda row: row.imagepath.split(\".\")[-1], axis=1)\n",
    "tr2_im_loc[\"type\"] = tr2_im_loc.apply(lambda row: row.imagepath.split(\"\\\\\")[-2], axis=1)\n",
    "tr2_im_loc[\"name\"] = tr2_im_loc.apply(lambda row: row.imagepath.split(\"\\\\\")[8], axis=1)\n",
    "tr2_im_loc.head()\n"
   ]
  },
  {
   "cell_type": "code",
   "execution_count": 104,
   "metadata": {},
   "outputs": [
    {
     "data": {
      "text/plain": [
       "761"
      ]
     },
     "execution_count": 104,
     "metadata": {},
     "output_type": "execute_result"
    }
   ],
   "source": [
    "# a=imageio.imread('C:\\\\Users\\\\Jason\\Desktop\\\\Cervix\\\\train\\\\Type_2\\\\1001resCroppedres.jpg')\n",
    "# plt.imshow(a)\n",
    "\n",
    "#create ylab2\n",
    "\n",
    "y2 = tr2_im_loc['type']\n",
    "len(y2)"
   ]
  },
  {
   "cell_type": "code",
   "execution_count": 105,
   "metadata": {},
   "outputs": [
    {
     "data": {
      "text/html": [
       "<div>\n",
       "<style scoped>\n",
       "    .dataframe tbody tr th:only-of-type {\n",
       "        vertical-align: middle;\n",
       "    }\n",
       "\n",
       "    .dataframe tbody tr th {\n",
       "        vertical-align: top;\n",
       "    }\n",
       "\n",
       "    .dataframe thead th {\n",
       "        text-align: right;\n",
       "    }\n",
       "</style>\n",
       "<table border=\"1\" class=\"dataframe\">\n",
       "  <thead>\n",
       "    <tr style=\"text-align: right;\">\n",
       "      <th></th>\n",
       "      <th>imagepath</th>\n",
       "      <th>filetype</th>\n",
       "      <th>type</th>\n",
       "      <th>name</th>\n",
       "    </tr>\n",
       "  </thead>\n",
       "  <tbody>\n",
       "    <tr>\n",
       "      <th>0</th>\n",
       "      <td>C:\\Users\\Jason\\Desktop\\Cervix\\XGBoost64X64\\tra...</td>\n",
       "      <td>jpg</td>\n",
       "      <td>Type_3</td>\n",
       "      <td>100.jpg</td>\n",
       "    </tr>\n",
       "    <tr>\n",
       "      <th>1</th>\n",
       "      <td>C:\\Users\\Jason\\Desktop\\Cervix\\XGBoost64X64\\tra...</td>\n",
       "      <td>jpg</td>\n",
       "      <td>Type_3</td>\n",
       "      <td>1000.jpg</td>\n",
       "    </tr>\n",
       "    <tr>\n",
       "      <th>2</th>\n",
       "      <td>C:\\Users\\Jason\\Desktop\\Cervix\\XGBoost64X64\\tra...</td>\n",
       "      <td>jpg</td>\n",
       "      <td>Type_3</td>\n",
       "      <td>1003.jpg</td>\n",
       "    </tr>\n",
       "    <tr>\n",
       "      <th>3</th>\n",
       "      <td>C:\\Users\\Jason\\Desktop\\Cervix\\XGBoost64X64\\tra...</td>\n",
       "      <td>jpg</td>\n",
       "      <td>Type_3</td>\n",
       "      <td>1004.jpg</td>\n",
       "    </tr>\n",
       "    <tr>\n",
       "      <th>4</th>\n",
       "      <td>C:\\Users\\Jason\\Desktop\\Cervix\\XGBoost64X64\\tra...</td>\n",
       "      <td>jpg</td>\n",
       "      <td>Type_3</td>\n",
       "      <td>1007.jpg</td>\n",
       "    </tr>\n",
       "  </tbody>\n",
       "</table>\n",
       "</div>"
      ],
      "text/plain": [
       "                                           imagepath filetype    type  \\\n",
       "0  C:\\Users\\Jason\\Desktop\\Cervix\\XGBoost64X64\\tra...      jpg  Type_3   \n",
       "1  C:\\Users\\Jason\\Desktop\\Cervix\\XGBoost64X64\\tra...      jpg  Type_3   \n",
       "2  C:\\Users\\Jason\\Desktop\\Cervix\\XGBoost64X64\\tra...      jpg  Type_3   \n",
       "3  C:\\Users\\Jason\\Desktop\\Cervix\\XGBoost64X64\\tra...      jpg  Type_3   \n",
       "4  C:\\Users\\Jason\\Desktop\\Cervix\\XGBoost64X64\\tra...      jpg  Type_3   \n",
       "\n",
       "       name  \n",
       "0   100.jpg  \n",
       "1  1000.jpg  \n",
       "2  1003.jpg  \n",
       "3  1004.jpg  \n",
       "4  1007.jpg  "
      ]
     },
     "execution_count": 105,
     "metadata": {},
     "output_type": "execute_result"
    }
   ],
   "source": [
    "#get path for all files in the local C: Type3 folder, then split to see file type and cervix type\n",
    "\n",
    "tr3_im_loc = pd.DataFrame({\"imagepath\": tr3_f_loc})\n",
    "tr3_im_loc[\"filetype\"] = tr3_im_loc.apply(lambda row: row.imagepath.split(\".\")[-1], axis=1)\n",
    "tr3_im_loc[\"type\"] = tr3_im_loc.apply(lambda row: row.imagepath.split(\"\\\\\")[-2], axis=1)\n",
    "tr3_im_loc[\"name\"] = tr3_im_loc.apply(lambda row: row.imagepath.split(\"\\\\\")[8], axis=1)\n",
    "tr3_im_loc.head()\n"
   ]
  },
  {
   "cell_type": "code",
   "execution_count": 106,
   "metadata": {},
   "outputs": [
    {
     "data": {
      "text/plain": [
       "776"
      ]
     },
     "execution_count": 106,
     "metadata": {},
     "output_type": "execute_result"
    }
   ],
   "source": [
    "# a=imageio.imread('C:\\\\Users\\\\Jason\\Desktop\\\\Cervix\\\\train\\\\Type_3\\\\1000resCroppedres.jpg')\n",
    "# plt.imshow(a)\n",
    "\n",
    "#create ylab3\n",
    "\n",
    "y3 = tr3_im_loc['type']\n",
    "len(y3)"
   ]
  },
  {
   "cell_type": "code",
   "execution_count": 176,
   "metadata": {},
   "outputs": [
    {
     "data": {
      "text/html": [
       "<div>\n",
       "<style scoped>\n",
       "    .dataframe tbody tr th:only-of-type {\n",
       "        vertical-align: middle;\n",
       "    }\n",
       "\n",
       "    .dataframe tbody tr th {\n",
       "        vertical-align: top;\n",
       "    }\n",
       "\n",
       "    .dataframe thead th {\n",
       "        text-align: right;\n",
       "    }\n",
       "</style>\n",
       "<table border=\"1\" class=\"dataframe\">\n",
       "  <thead>\n",
       "    <tr style=\"text-align: right;\">\n",
       "      <th></th>\n",
       "      <th>imagepath</th>\n",
       "      <th>filetype</th>\n",
       "      <th>type</th>\n",
       "      <th>name</th>\n",
       "    </tr>\n",
       "  </thead>\n",
       "  <tbody>\n",
       "    <tr>\n",
       "      <th>0</th>\n",
       "      <td>C:\\Users\\Jason\\Desktop\\Cervix\\XGBoost64X64\\tes...</td>\n",
       "      <td>jpg</td>\n",
       "      <td>test</td>\n",
       "      <td>0.jpg</td>\n",
       "    </tr>\n",
       "    <tr>\n",
       "      <th>1</th>\n",
       "      <td>C:\\Users\\Jason\\Desktop\\Cervix\\XGBoost64X64\\tes...</td>\n",
       "      <td>jpg</td>\n",
       "      <td>test</td>\n",
       "      <td>1.jpg</td>\n",
       "    </tr>\n",
       "    <tr>\n",
       "      <th>2</th>\n",
       "      <td>C:\\Users\\Jason\\Desktop\\Cervix\\XGBoost64X64\\tes...</td>\n",
       "      <td>jpg</td>\n",
       "      <td>test</td>\n",
       "      <td>10.jpg</td>\n",
       "    </tr>\n",
       "    <tr>\n",
       "      <th>3</th>\n",
       "      <td>C:\\Users\\Jason\\Desktop\\Cervix\\XGBoost64X64\\tes...</td>\n",
       "      <td>jpg</td>\n",
       "      <td>test</td>\n",
       "      <td>100.jpg</td>\n",
       "    </tr>\n",
       "    <tr>\n",
       "      <th>4</th>\n",
       "      <td>C:\\Users\\Jason\\Desktop\\Cervix\\XGBoost64X64\\tes...</td>\n",
       "      <td>jpg</td>\n",
       "      <td>test</td>\n",
       "      <td>10000.jpg</td>\n",
       "    </tr>\n",
       "  </tbody>\n",
       "</table>\n",
       "</div>"
      ],
      "text/plain": [
       "                                           imagepath filetype  type       name\n",
       "0  C:\\Users\\Jason\\Desktop\\Cervix\\XGBoost64X64\\tes...      jpg  test      0.jpg\n",
       "1  C:\\Users\\Jason\\Desktop\\Cervix\\XGBoost64X64\\tes...      jpg  test      1.jpg\n",
       "2  C:\\Users\\Jason\\Desktop\\Cervix\\XGBoost64X64\\tes...      jpg  test     10.jpg\n",
       "3  C:\\Users\\Jason\\Desktop\\Cervix\\XGBoost64X64\\tes...      jpg  test    100.jpg\n",
       "4  C:\\Users\\Jason\\Desktop\\Cervix\\XGBoost64X64\\tes...      jpg  test  10000.jpg"
      ]
     },
     "execution_count": 176,
     "metadata": {},
     "output_type": "execute_result"
    }
   ],
   "source": [
    "#get path for all files in the local C: Test folder, then split to see file type and cervix type\n",
    "\n",
    "tst1_im_loc = pd.DataFrame({\"imagepath\": tst1_f_loc})\n",
    "tst1_im_loc[\"filetype\"] = tst1_im_loc.apply(lambda row: row.imagepath.split(\".\")[-1], axis=1)\n",
    "tst1_im_loc[\"type\"] = tst1_im_loc.apply(lambda row: row.imagepath.split(\"\\\\\")[-2], axis=1)\n",
    "tst1_im_loc[\"name\"] = tst1_im_loc.apply(lambda row: row.imagepath.split(\"\\\\\")[7], axis=1)\n",
    "tst1_im_loc.head()\n"
   ]
  },
  {
   "cell_type": "code",
   "execution_count": 190,
   "metadata": {},
   "outputs": [
    {
     "data": {
      "text/plain": [
       "(4018, 4018, 0    0.jpg\n",
       " 1    1.jpg\n",
       " Name: name, dtype: object)"
      ]
     },
     "execution_count": 190,
     "metadata": {},
     "output_type": "execute_result"
    }
   ],
   "source": [
    "# a=imageio.imread('C:\\\\Users\\\\Jason\\Desktop\\\\Cervix\\\\XGBoost64x64\\\\test\\\\0.jpg')\n",
    "# plt.imshow(a)\n",
    "\n",
    "#get the name of the images for testing\n",
    "tst_name = tst1_im_loc['name']\n",
    "len(tst_name), len(tst1_im_loc), tst_name[0:2]"
   ]
  },
  {
   "cell_type": "code",
   "execution_count": 109,
   "metadata": {},
   "outputs": [
    {
     "data": {
      "text/html": [
       "<div>\n",
       "<style scoped>\n",
       "    .dataframe tbody tr th:only-of-type {\n",
       "        vertical-align: middle;\n",
       "    }\n",
       "\n",
       "    .dataframe tbody tr th {\n",
       "        vertical-align: top;\n",
       "    }\n",
       "\n",
       "    .dataframe thead th {\n",
       "        text-align: right;\n",
       "    }\n",
       "</style>\n",
       "<table border=\"1\" class=\"dataframe\">\n",
       "  <thead>\n",
       "    <tr style=\"text-align: right;\">\n",
       "      <th></th>\n",
       "      <th>imagepath</th>\n",
       "      <th>filetype</th>\n",
       "      <th>type</th>\n",
       "      <th>name</th>\n",
       "    </tr>\n",
       "  </thead>\n",
       "  <tbody>\n",
       "    <tr>\n",
       "      <th>2283</th>\n",
       "      <td>C:\\Users\\Jason\\Desktop\\Cervix\\XGBoost64X64\\tra...</td>\n",
       "      <td>jpg</td>\n",
       "      <td>Type_3</td>\n",
       "      <td>986.jpg</td>\n",
       "    </tr>\n",
       "    <tr>\n",
       "      <th>2284</th>\n",
       "      <td>C:\\Users\\Jason\\Desktop\\Cervix\\XGBoost64X64\\tra...</td>\n",
       "      <td>jpg</td>\n",
       "      <td>Type_3</td>\n",
       "      <td>992.jpg</td>\n",
       "    </tr>\n",
       "    <tr>\n",
       "      <th>2285</th>\n",
       "      <td>C:\\Users\\Jason\\Desktop\\Cervix\\XGBoost64X64\\tra...</td>\n",
       "      <td>jpg</td>\n",
       "      <td>Type_3</td>\n",
       "      <td>993.jpg</td>\n",
       "    </tr>\n",
       "    <tr>\n",
       "      <th>2286</th>\n",
       "      <td>C:\\Users\\Jason\\Desktop\\Cervix\\XGBoost64X64\\tra...</td>\n",
       "      <td>jpg</td>\n",
       "      <td>Type_3</td>\n",
       "      <td>995.jpg</td>\n",
       "    </tr>\n",
       "    <tr>\n",
       "      <th>2287</th>\n",
       "      <td>C:\\Users\\Jason\\Desktop\\Cervix\\XGBoost64X64\\tra...</td>\n",
       "      <td>jpg</td>\n",
       "      <td>Type_3</td>\n",
       "      <td>996.jpg</td>\n",
       "    </tr>\n",
       "  </tbody>\n",
       "</table>\n",
       "</div>"
      ],
      "text/plain": [
       "                                              imagepath filetype    type  \\\n",
       "2283  C:\\Users\\Jason\\Desktop\\Cervix\\XGBoost64X64\\tra...      jpg  Type_3   \n",
       "2284  C:\\Users\\Jason\\Desktop\\Cervix\\XGBoost64X64\\tra...      jpg  Type_3   \n",
       "2285  C:\\Users\\Jason\\Desktop\\Cervix\\XGBoost64X64\\tra...      jpg  Type_3   \n",
       "2286  C:\\Users\\Jason\\Desktop\\Cervix\\XGBoost64X64\\tra...      jpg  Type_3   \n",
       "2287  C:\\Users\\Jason\\Desktop\\Cervix\\XGBoost64X64\\tra...      jpg  Type_3   \n",
       "\n",
       "         name  \n",
       "2283  986.jpg  \n",
       "2284  992.jpg  \n",
       "2285  993.jpg  \n",
       "2286  995.jpg  \n",
       "2287  996.jpg  "
      ]
     },
     "execution_count": 109,
     "metadata": {},
     "output_type": "execute_result"
    }
   ],
   "source": [
    "#combine all data frames together\n",
    "\n",
    "tr_all_loc = tr1_im_loc.append(tr2_im_loc)\n",
    "tr_all_loc = tr_all_loc.append(tr3_im_loc)\n",
    "\n",
    "tr_all_loc = tr_all_loc.reset_index(drop=True)\n",
    "\n",
    "tr_all_loc.tail()"
   ]
  },
  {
   "cell_type": "code",
   "execution_count": 110,
   "metadata": {},
   "outputs": [
    {
     "data": {
      "text/plain": [
       "(2288, 2288)"
      ]
     },
     "execution_count": 110,
     "metadata": {},
     "output_type": "execute_result"
    }
   ],
   "source": [
    "#check to make sure all files appended from each folder\n",
    "len(tr_all_loc), len(tr1_im_loc) + len(tr2_im_loc) + len(tr3_im_loc)"
   ]
  },
  {
   "cell_type": "code",
   "execution_count": 111,
   "metadata": {},
   "outputs": [
    {
     "data": {
      "text/plain": [
       "(2288, 0    Type_1\n",
       " 1    Type_1\n",
       " 2    Type_1\n",
       " 3    Type_1\n",
       " 4    Type_1\n",
       " Name: type, dtype: object, 2283    Type_3\n",
       " 2284    Type_3\n",
       " 2285    Type_3\n",
       " 2286    Type_3\n",
       " 2287    Type_3\n",
       " Name: type, dtype: object)"
      ]
     },
     "execution_count": 111,
     "metadata": {},
     "output_type": "execute_result"
    }
   ],
   "source": [
    "#combine all ylabels together\n",
    "type_all = y1.append(y2)\n",
    "type_all = type_all.append(y3)\n",
    "type_all = type_all.reset_index(drop=True)\n",
    "len(type_all), type_all.head(), type_all.tail()"
   ]
  },
  {
   "cell_type": "code",
   "execution_count": null,
   "metadata": {},
   "outputs": [],
   "source": []
  },
  {
   "cell_type": "code",
   "execution_count": 112,
   "metadata": {},
   "outputs": [],
   "source": [
    "import cv2\n",
    "\n",
    "arr_images_gr = []        \n",
    "\n",
    "for image in tr_all_loc[\"imagepath\"]:\n",
    "    arr_images_gr.append(cv2.imread(image, cv2.IMREAD_GRAYSCALE))"
   ]
  },
  {
   "cell_type": "code",
   "execution_count": 113,
   "metadata": {},
   "outputs": [
    {
     "data": {
      "text/plain": [
       "<matplotlib.image.AxesImage at 0x29302010550>"
      ]
     },
     "execution_count": 113,
     "metadata": {},
     "output_type": "execute_result"
    },
    {
     "data": {
      "image/png": "[encoded data removed]",
      "text/plain": [
       "<matplotlib.figure.Figure at 0x29301fb71d0>"
      ]
     },
     "metadata": {},
     "output_type": "display_data"
    }
   ],
   "source": [
    "a=imageio.imread('C:\\\\Users\\\\Jason\\Desktop\\\\Cervix\\\\XGBoost64x64\\\\train\\\\Type_1\\\\1013.jpg')\n",
    "plt.imshow(a)\n",
    "\n"
   ]
  },
  {
   "cell_type": "code",
   "execution_count": 114,
   "metadata": {},
   "outputs": [
    {
     "data": {
      "text/plain": [
       "<matplotlib.image.AxesImage at 0x29302043438>"
      ]
     },
     "execution_count": 114,
     "metadata": {},
     "output_type": "execute_result"
    },
    {
     "data": {
      "image/png": "[encoded data removed]",
      "text/plain": [
       "<matplotlib.figure.Figure at 0x293045e9ba8>"
      ]
     },
     "metadata": {},
     "output_type": "display_data"
    }
   ],
   "source": [
    "plt.imshow(arr_images_gr[0])"
   ]
  },
  {
   "cell_type": "code",
   "execution_count": null,
   "metadata": {},
   "outputs": [],
   "source": []
  },
  {
   "cell_type": "code",
   "execution_count": 115,
   "metadata": {},
   "outputs": [
    {
     "data": {
      "text/plain": [
       "<matplotlib.image.AxesImage at 0x293020809b0>"
      ]
     },
     "execution_count": 115,
     "metadata": {},
     "output_type": "execute_result"
    },
    {
     "data": {
      "image/png": "[encoded data removed]",
      "text/plain": [
       "<matplotlib.figure.Figure at 0x293020376a0>"
      ]
     },
     "metadata": {},
     "output_type": "display_data"
    }
   ],
   "source": [
    "a=imageio.imread('C:\\\\Users\\\\Jason\\Desktop\\\\Cervix\\\\XGBoost64x64\\\\train\\\\Type_3\\\\996.jpg')\n",
    "plt.imshow(a)\n"
   ]
  },
  {
   "cell_type": "code",
   "execution_count": 116,
   "metadata": {},
   "outputs": [
    {
     "data": {
      "text/plain": [
       "<matplotlib.image.AxesImage at 0x293020b7cf8>"
      ]
     },
     "execution_count": 116,
     "metadata": {},
     "output_type": "execute_result"
    },
    {
     "data": {
      "image/png": "[encoded data removed]",
      "text/plain": [
       "<matplotlib.figure.Figure at 0x293020675c0>"
      ]
     },
     "metadata": {},
     "output_type": "display_data"
    }
   ],
   "source": [
    "plt.imshow(arr_images_gr[2287])"
   ]
  },
  {
   "cell_type": "code",
   "execution_count": 178,
   "metadata": {},
   "outputs": [],
   "source": [
    "#convert all test images in the combined data frame to gray scale npy array\n",
    "\n",
    "arr_images_tst_gr = []        \n",
    "\n",
    "for image in tst1_im_loc[\"imagepath\"]:\n",
    "    arr_images_tst_gr.append(cv2.imread(image, cv2.IMREAD_GRAYSCALE))"
   ]
  },
  {
   "cell_type": "code",
   "execution_count": 193,
   "metadata": {},
   "outputs": [
    {
     "data": {
      "text/plain": [
       "<matplotlib.image.AxesImage at 0x29303ac7208>"
      ]
     },
     "execution_count": 193,
     "metadata": {},
     "output_type": "execute_result"
    },
    {
     "data": {
      "image/png": "[encoded data removed]",
      "text/plain": [
       "<matplotlib.figure.Figure at 0x29303a6ddd8>"
      ]
     },
     "metadata": {},
     "output_type": "display_data"
    }
   ],
   "source": [
    "plt.imshow(arr_images_tst_gr[4017])"
   ]
  },
  {
   "cell_type": "code",
   "execution_count": 194,
   "metadata": {},
   "outputs": [
    {
     "data": {
      "text/html": [
       "<div>\n",
       "<style scoped>\n",
       "    .dataframe tbody tr th:only-of-type {\n",
       "        vertical-align: middle;\n",
       "    }\n",
       "\n",
       "    .dataframe tbody tr th {\n",
       "        vertical-align: top;\n",
       "    }\n",
       "\n",
       "    .dataframe thead th {\n",
       "        text-align: right;\n",
       "    }\n",
       "</style>\n",
       "<table border=\"1\" class=\"dataframe\">\n",
       "  <thead>\n",
       "    <tr style=\"text-align: right;\">\n",
       "      <th></th>\n",
       "      <th>imagepath</th>\n",
       "      <th>filetype</th>\n",
       "      <th>type</th>\n",
       "      <th>name</th>\n",
       "    </tr>\n",
       "  </thead>\n",
       "  <tbody>\n",
       "    <tr>\n",
       "      <th>4013</th>\n",
       "      <td>C:\\Users\\Jason\\Desktop\\Cervix\\XGBoost64X64\\tes...</td>\n",
       "      <td>jpg</td>\n",
       "      <td>test</td>\n",
       "      <td>95.jpg</td>\n",
       "    </tr>\n",
       "    <tr>\n",
       "      <th>4014</th>\n",
       "      <td>C:\\Users\\Jason\\Desktop\\Cervix\\XGBoost64X64\\tes...</td>\n",
       "      <td>jpg</td>\n",
       "      <td>test</td>\n",
       "      <td>96.jpg</td>\n",
       "    </tr>\n",
       "    <tr>\n",
       "      <th>4015</th>\n",
       "      <td>C:\\Users\\Jason\\Desktop\\Cervix\\XGBoost64X64\\tes...</td>\n",
       "      <td>jpg</td>\n",
       "      <td>test</td>\n",
       "      <td>97.jpg</td>\n",
       "    </tr>\n",
       "    <tr>\n",
       "      <th>4016</th>\n",
       "      <td>C:\\Users\\Jason\\Desktop\\Cervix\\XGBoost64X64\\tes...</td>\n",
       "      <td>jpg</td>\n",
       "      <td>test</td>\n",
       "      <td>98.jpg</td>\n",
       "    </tr>\n",
       "    <tr>\n",
       "      <th>4017</th>\n",
       "      <td>C:\\Users\\Jason\\Desktop\\Cervix\\XGBoost64X64\\tes...</td>\n",
       "      <td>jpg</td>\n",
       "      <td>test</td>\n",
       "      <td>99.jpg</td>\n",
       "    </tr>\n",
       "  </tbody>\n",
       "</table>\n",
       "</div>"
      ],
      "text/plain": [
       "                                              imagepath filetype  type    name\n",
       "4013  C:\\Users\\Jason\\Desktop\\Cervix\\XGBoost64X64\\tes...      jpg  test  95.jpg\n",
       "4014  C:\\Users\\Jason\\Desktop\\Cervix\\XGBoost64X64\\tes...      jpg  test  96.jpg\n",
       "4015  C:\\Users\\Jason\\Desktop\\Cervix\\XGBoost64X64\\tes...      jpg  test  97.jpg\n",
       "4016  C:\\Users\\Jason\\Desktop\\Cervix\\XGBoost64X64\\tes...      jpg  test  98.jpg\n",
       "4017  C:\\Users\\Jason\\Desktop\\Cervix\\XGBoost64X64\\tes...      jpg  test  99.jpg"
      ]
     },
     "execution_count": 194,
     "metadata": {},
     "output_type": "execute_result"
    }
   ],
   "source": [
    "tst1_im_loc.tail()"
   ]
  },
  {
   "cell_type": "code",
   "execution_count": 119,
   "metadata": {},
   "outputs": [],
   "source": [
    "#save the training files and the y variable to numpy arrays\n",
    "\n",
    "import numpy as np\n",
    "\n",
    "np.save(\"Reduced_array_file_gray_64\", arr_images_gr)\n",
    "np.save(\"Reduced_y_train_types_64\", type_all)\n",
    "\n",
    "#save the testfile to numpy arrays\n",
    "\n",
    "np.save(\"Reduced_array_file_tst_gray_64\", arr_images_tst_gr)\n",
    "np.save(\"Reduced_test_filenames_64\", tst_name)\n"
   ]
  },
  {
   "cell_type": "code",
   "execution_count": 196,
   "metadata": {},
   "outputs": [
    {
     "data": {
      "text/plain": [
       "4018"
      ]
     },
     "execution_count": 196,
     "metadata": {},
     "output_type": "execute_result"
    }
   ],
   "source": [
    "len(arr_images_tst_gr)"
   ]
  },
  {
   "cell_type": "code",
   "execution_count": 197,
   "metadata": {},
   "outputs": [],
   "source": [
    "#this is to save the test files separately since the stage2 were added late\n",
    "np.save(\"Reduced_array_file_tst_gray_64\", arr_images_tst_gr)\n",
    "np.save(\"Reduced_test_filenames_64\", tst_name)"
   ]
  },
  {
   "cell_type": "code",
   "execution_count": null,
   "metadata": {},
   "outputs": [],
   "source": [
    "########################################################################\n",
    "#\n",
    "#\n",
    "#          XGBoost\n",
    "#\n",
    "#\n",
    "########################################################################"
   ]
  },
  {
   "cell_type": "code",
   "execution_count": 120,
   "metadata": {},
   "outputs": [],
   "source": [
    "import xgboost as xgb"
   ]
  },
  {
   "cell_type": "code",
   "execution_count": 121,
   "metadata": {},
   "outputs": [
    {
     "data": {
      "text/plain": [
       "(2288, (2288, 64, 64), 2288, (2288,), 512, 512)"
      ]
     },
     "execution_count": 121,
     "metadata": {},
     "output_type": "execute_result"
    }
   ],
   "source": [
    "#load gray npy array\n",
    "tr_im_in = np.load('Reduced_array_file_gray_64.npy')\n",
    "tr_lab_in = np.load('Reduced_y_train_types_64.npy')\n",
    "\n",
    "\n",
    "\n",
    "\n",
    "len(tr_im_in), tr_im_in.shape, len(tr_lab_in), tr_lab_in.shape"
   ]
  },
  {
   "cell_type": "code",
   "execution_count": 198,
   "metadata": {},
   "outputs": [
    {
     "data": {
      "text/plain": [
       "(4018, 4018)"
      ]
     },
     "execution_count": 198,
     "metadata": {},
     "output_type": "execute_result"
    }
   ],
   "source": [
    "#load the test images\n",
    "tst_im_in = np.load('Reduced_array_file_tst_gray_64.npy')\n",
    "tst_image_name = np.load('Reduced_test_filenames_64.npy')\n",
    "\n",
    "len(tst_im_in), len(tst_image_name)"
   ]
  },
  {
   "cell_type": "code",
   "execution_count": 83,
   "metadata": {},
   "outputs": [],
   "source": [
    "#y_lab = tr_lab_in.replace([\"Type_1\", \"Type_2\", \"Type_3\"], [0,1,2]).astype('category')"
   ]
  },
  {
   "cell_type": "code",
   "execution_count": 122,
   "metadata": {},
   "outputs": [
    {
     "data": {
      "text/plain": [
       "((2288, 4096), (512, 4096))"
      ]
     },
     "execution_count": 122,
     "metadata": {},
     "output_type": "execute_result"
    }
   ],
   "source": [
    "tr_im_in_rshape = tr_im_in.reshape(2288, 4096)\n",
    "\n",
    "\n",
    "tr_im_in_rshape.shape"
   ]
  },
  {
   "cell_type": "code",
   "execution_count": 199,
   "metadata": {},
   "outputs": [
    {
     "data": {
      "text/plain": [
       "(4018, 4096)"
      ]
     },
     "execution_count": 199,
     "metadata": {},
     "output_type": "execute_result"
    }
   ],
   "source": [
    "tst_im_in_rshape = tst_im_in.reshape(4018, 4096)\n",
    "tst_im_in_rshape.shape"
   ]
  },
  {
   "cell_type": "code",
   "execution_count": 123,
   "metadata": {},
   "outputs": [],
   "source": [
    "from sklearn.model_selection import train_test_split"
   ]
  },
  {
   "cell_type": "code",
   "execution_count": 124,
   "metadata": {},
   "outputs": [],
   "source": [
    "X_train, X_test, y_train, y_test = train_test_split(tr_im_in_rshape, tr_lab_in, test_size = 0.3, random_state=123)"
   ]
  },
  {
   "cell_type": "code",
   "execution_count": 125,
   "metadata": {},
   "outputs": [
    {
     "data": {
      "text/plain": [
       "array(['Type_1', 'Type_3', 'Type_1', 'Type_1'], dtype=object)"
      ]
     },
     "execution_count": 125,
     "metadata": {},
     "output_type": "execute_result"
    }
   ],
   "source": [
    "y_train[0:4]"
   ]
  },
  {
   "cell_type": "code",
   "execution_count": null,
   "metadata": {},
   "outputs": [],
   "source": []
  },
  {
   "cell_type": "code",
   "execution_count": 126,
   "metadata": {},
   "outputs": [],
   "source": [
    "from xgboost.sklearn import XGBClassifier\n",
    "from sklearn.model_selection import GridSearchCV\n",
    "from sklearn.metrics import accuracy_score"
   ]
  },
  {
   "cell_type": "code",
   "execution_count": 127,
   "metadata": {},
   "outputs": [
    {
     "name": "stdout",
     "output_type": "stream",
     "text": [
      "{'min_child_weight': 1, 'objective': 'binary:logistic', 'gamma': 0, 'seed': 0, 'silent': 1, 'nthread': 1, 'scale_pos_weight': 1, 'colsample_bylevel': 1, 'n_estimators': 100, 'base_score': 0.5, 'missing': None, 'subsample': 1, 'reg_lambda': 1, 'max_delta_step': 0, 'booster': 'gbtree', 'learning_rate': 0.1, 'colsample_bytree': 1, 'reg_alpha': 0, 'max_depth': 3}\n"
     ]
    }
   ],
   "source": [
    "xgb_model_1e = XGBClassifier()\n",
    "print(xgb_model_1e.get_xgb_params())"
   ]
  },
  {
   "cell_type": "code",
   "execution_count": 128,
   "metadata": {},
   "outputs": [],
   "source": [
    "#########     Model 1 using error as metric        #########"
   ]
  },
  {
   "cell_type": "code",
   "execution_count": 129,
   "metadata": {},
   "outputs": [
    {
     "name": "stdout",
     "output_type": "stream",
     "text": [
      "[0]\tvalidation_0-merror:0.458463\tvalidation_1-merror:0.560408\n",
      "[1]\tvalidation_0-merror:0.450344\tvalidation_1-merror:0.551674\n",
      "[2]\tvalidation_0-merror:0.417239\tvalidation_1-merror:0.525473\n",
      "[3]\tvalidation_0-merror:0.410993\tvalidation_1-merror:0.532751\n",
      "[4]\tvalidation_0-merror:0.398501\tvalidation_1-merror:0.52984\n",
      "[5]\tvalidation_0-merror:0.397252\tvalidation_1-merror:0.526929\n",
      "[6]\tvalidation_0-merror:0.384135\tvalidation_1-merror:0.528384\n",
      "[7]\tvalidation_0-merror:0.362898\tvalidation_1-merror:0.52984\n",
      "[8]\tvalidation_0-merror:0.362898\tvalidation_1-merror:0.544396\n",
      "[9]\tvalidation_0-merror:0.345409\tvalidation_1-merror:0.524017\n",
      "[10]\tvalidation_0-merror:0.336665\tvalidation_1-merror:0.512373\n",
      "[11]\tvalidation_0-merror:0.331668\tvalidation_1-merror:0.510917\n",
      "[12]\tvalidation_0-merror:0.32792\tvalidation_1-merror:0.515284\n",
      "[13]\tvalidation_0-merror:0.324172\tvalidation_1-merror:0.521106\n",
      "[14]\tvalidation_0-merror:0.320425\tvalidation_1-merror:0.519651\n",
      "[15]\tvalidation_0-merror:0.314179\tvalidation_1-merror:0.52984\n",
      "[16]\tvalidation_0-merror:0.307933\tvalidation_1-merror:0.534207\n",
      "[17]\tvalidation_0-merror:0.304185\tvalidation_1-merror:0.518195\n",
      "[18]\tvalidation_0-merror:0.29669\tvalidation_1-merror:0.519651\n",
      "[19]\tvalidation_0-merror:0.294191\tvalidation_1-merror:0.526929\n",
      "[20]\tvalidation_0-merror:0.289819\tvalidation_1-merror:0.519651\n",
      "[21]\tvalidation_0-merror:0.282948\tvalidation_1-merror:0.522562\n",
      "[22]\tvalidation_0-merror:0.284197\tvalidation_1-merror:0.524017\n",
      "[23]\tvalidation_0-merror:0.28045\tvalidation_1-merror:0.518195\n",
      "[24]\tvalidation_0-merror:0.276702\tvalidation_1-merror:0.516739\n",
      "[25]\tvalidation_0-merror:0.274828\tvalidation_1-merror:0.508006\n",
      "[26]\tvalidation_0-merror:0.271705\tvalidation_1-merror:0.510917\n",
      "[27]\tvalidation_0-merror:0.262961\tvalidation_1-merror:0.513828\n",
      "[28]\tvalidation_0-merror:0.260462\tvalidation_1-merror:0.515284\n",
      "[29]\tvalidation_0-merror:0.252342\tvalidation_1-merror:0.518195\n",
      "[30]\tvalidation_0-merror:0.252967\tvalidation_1-merror:0.516739\n",
      "[31]\tvalidation_0-merror:0.244847\tvalidation_1-merror:0.519651\n",
      "[32]\tvalidation_0-merror:0.239225\tvalidation_1-merror:0.518195\n",
      "[33]\tvalidation_0-merror:0.236727\tvalidation_1-merror:0.513828\n",
      "[34]\tvalidation_0-merror:0.232979\tvalidation_1-merror:0.513828\n",
      "[35]\tvalidation_0-merror:0.228607\tvalidation_1-merror:0.512373\n",
      "[36]\tvalidation_0-merror:0.221112\tvalidation_1-merror:0.512373\n",
      "[37]\tvalidation_0-merror:0.217364\tvalidation_1-merror:0.513828\n",
      "[38]\tvalidation_0-merror:0.217364\tvalidation_1-merror:0.509461\n",
      "[39]\tvalidation_0-merror:0.20862\tvalidation_1-merror:0.510917\n",
      "[40]\tvalidation_0-merror:0.204247\tvalidation_1-merror:0.510917\n",
      "[41]\tvalidation_0-merror:0.197377\tvalidation_1-merror:0.508006\n",
      "[42]\tvalidation_0-merror:0.19238\tvalidation_1-merror:0.510917\n",
      "[43]\tvalidation_0-merror:0.184884\tvalidation_1-merror:0.508006\n",
      "[44]\tvalidation_0-merror:0.184884\tvalidation_1-merror:0.509461\n",
      "[45]\tvalidation_0-merror:0.182386\tvalidation_1-merror:0.508006\n",
      "[46]\tvalidation_0-merror:0.179888\tvalidation_1-merror:0.510917\n",
      "[47]\tvalidation_0-merror:0.179888\tvalidation_1-merror:0.50655\n",
      "[48]\tvalidation_0-merror:0.179263\tvalidation_1-merror:0.508006\n",
      "[49]\tvalidation_0-merror:0.174891\tvalidation_1-merror:0.508006\n",
      "[50]\tvalidation_0-merror:0.173017\tvalidation_1-merror:0.512373\n",
      "[51]\tvalidation_0-merror:0.16802\tvalidation_1-merror:0.509461\n",
      "[52]\tvalidation_0-merror:0.16802\tvalidation_1-merror:0.510917\n",
      "[53]\tvalidation_0-merror:0.163023\tvalidation_1-merror:0.508006\n",
      "[54]\tvalidation_0-merror:0.161149\tvalidation_1-merror:0.509461\n",
      "[55]\tvalidation_0-merror:0.158026\tvalidation_1-merror:0.512373\n",
      "[56]\tvalidation_0-merror:0.153654\tvalidation_1-merror:0.512373\n",
      "[57]\tvalidation_0-merror:0.152405\tvalidation_1-merror:0.516739\n",
      "[58]\tvalidation_0-merror:0.151156\tvalidation_1-merror:0.516739\n",
      "[59]\tvalidation_0-merror:0.15178\tvalidation_1-merror:0.519651\n",
      "[60]\tvalidation_0-merror:0.149906\tvalidation_1-merror:0.508006\n",
      "[61]\tvalidation_0-merror:0.146159\tvalidation_1-merror:0.510917\n",
      "[62]\tvalidation_0-merror:0.141786\tvalidation_1-merror:0.50655\n",
      "[63]\tvalidation_0-merror:0.141162\tvalidation_1-merror:0.510917\n",
      "[64]\tvalidation_0-merror:0.139288\tvalidation_1-merror:0.509461\n",
      "[65]\tvalidation_0-merror:0.137414\tvalidation_1-merror:0.509461\n",
      "[66]\tvalidation_0-merror:0.134916\tvalidation_1-merror:0.508006\n",
      "[67]\tvalidation_0-merror:0.133042\tvalidation_1-merror:0.513828\n",
      "[68]\tvalidation_0-merror:0.132417\tvalidation_1-merror:0.510917\n",
      "[69]\tvalidation_0-merror:0.131168\tvalidation_1-merror:0.509461\n",
      "[70]\tvalidation_0-merror:0.125547\tvalidation_1-merror:0.510917\n",
      "[71]\tvalidation_0-merror:0.123048\tvalidation_1-merror:0.505095\n",
      "[72]\tvalidation_0-merror:0.119925\tvalidation_1-merror:0.508006\n",
      "[73]\tvalidation_0-merror:0.118676\tvalidation_1-merror:0.502183\n",
      "[74]\tvalidation_0-merror:0.116177\tvalidation_1-merror:0.502183\n",
      "[75]\tvalidation_0-merror:0.11243\tvalidation_1-merror:0.502183\n",
      "[76]\tvalidation_0-merror:0.109931\tvalidation_1-merror:0.499272\n",
      "[77]\tvalidation_0-merror:0.108057\tvalidation_1-merror:0.500728\n",
      "[78]\tvalidation_0-merror:0.106184\tvalidation_1-merror:0.494905\n",
      "[79]\tvalidation_0-merror:0.103685\tvalidation_1-merror:0.494905\n",
      "[80]\tvalidation_0-merror:0.102436\tvalidation_1-merror:0.499272\n",
      "[81]\tvalidation_0-merror:0.098064\tvalidation_1-merror:0.500728\n",
      "[82]\tvalidation_0-merror:0.091818\tvalidation_1-merror:0.502183\n",
      "[83]\tvalidation_0-merror:0.089944\tvalidation_1-merror:0.503639\n",
      "[84]\tvalidation_0-merror:0.089319\tvalidation_1-merror:0.505095\n",
      "[85]\tvalidation_0-merror:0.086821\tvalidation_1-merror:0.50655\n",
      "[86]\tvalidation_0-merror:0.083073\tvalidation_1-merror:0.500728\n",
      "[87]\tvalidation_0-merror:0.083073\tvalidation_1-merror:0.500728\n",
      "[88]\tvalidation_0-merror:0.078701\tvalidation_1-merror:0.503639\n",
      "[89]\tvalidation_0-merror:0.078701\tvalidation_1-merror:0.499272\n",
      "[90]\tvalidation_0-merror:0.076202\tvalidation_1-merror:0.497817\n",
      "[91]\tvalidation_0-merror:0.072455\tvalidation_1-merror:0.502183\n",
      "[92]\tvalidation_0-merror:0.070581\tvalidation_1-merror:0.503639\n",
      "[93]\tvalidation_0-merror:0.068707\tvalidation_1-merror:0.503639\n",
      "[94]\tvalidation_0-merror:0.067458\tvalidation_1-merror:0.503639\n",
      "[95]\tvalidation_0-merror:0.06371\tvalidation_1-merror:0.502183\n",
      "[96]\tvalidation_0-merror:0.06371\tvalidation_1-merror:0.500728\n",
      "[97]\tvalidation_0-merror:0.06371\tvalidation_1-merror:0.503639\n",
      "[98]\tvalidation_0-merror:0.062461\tvalidation_1-merror:0.500728\n",
      "[99]\tvalidation_0-merror:0.061836\tvalidation_1-merror:0.499272\n"
     ]
    },
    {
     "data": {
      "text/plain": [
       "XGBClassifier(base_score=0.5, booster='gbtree', colsample_bylevel=1,\n",
       "       colsample_bytree=1, gamma=0, learning_rate=0.1, max_delta_step=0,\n",
       "       max_depth=3, min_child_weight=1, missing=None, n_estimators=100,\n",
       "       n_jobs=1, nthread=None, objective='multi:softprob', random_state=0,\n",
       "       reg_alpha=0, reg_lambda=1, scale_pos_weight=1, seed=None,\n",
       "       silent=True, subsample=1)"
      ]
     },
     "execution_count": 129,
     "metadata": {},
     "output_type": "execute_result"
    }
   ],
   "source": [
    "# Train and evaluate.\n",
    "xgb_model_1e.fit(X_train, y_train, eval_metric=['merror'], eval_set=[((X_train, y_train)),(X_test, y_test)])"
   ]
  },
  {
   "cell_type": "code",
   "execution_count": 69,
   "metadata": {},
   "outputs": [
    {
     "data": {
      "text/plain": [
       "Text(0.5,0,'Number of iterations')"
      ]
     },
     "execution_count": 69,
     "metadata": {},
     "output_type": "execute_result"
    },
    {
     "data": {
      "image/png": "[encoded data removed]",
      "text/plain": [
       "<matplotlib.figure.Figure at 0x29304d9c748>"
      ]
     },
     "metadata": {},
     "output_type": "display_data"
    }
   ],
   "source": [
    "from matplotlib import pyplot\n",
    "\n",
    "xgb_eval_1e = xgb_model_1e.evals_result()\n",
    "eval_steps_1e = range(len(xgb_eval_1e['validation_0']['merror']))\n",
    "\n",
    "fig, ax = pyplot.subplots(1, 1, sharex=True, figsize=(8, 6))\n",
    "\n",
    "ax.plot(eval_steps_1e, [1-x for x in xgb_eval_1e['validation_0']['merror']], label='Train')\n",
    "ax.plot(eval_steps_1e, [1-x for x in xgb_eval_1e['validation_1']['merror']], label='Test')\n",
    "ax.legend()\n",
    "ax.set_title('Accuracy')\n",
    "ax.set_xlabel('Number of iterations')"
   ]
  },
  {
   "cell_type": "code",
   "execution_count": 131,
   "metadata": {},
   "outputs": [],
   "source": [
    "# Select trained model.\n",
    "n_trees = 78\n",
    "y_pred_1e = xgb_model_1e.predict_proba(X_test, ntree_limit= n_trees)"
   ]
  },
  {
   "cell_type": "code",
   "execution_count": 132,
   "metadata": {},
   "outputs": [
    {
     "data": {
      "text/plain": [
       "array([[0.20150383, 0.42972162, 0.3687746 ],\n",
       "       [0.65194064, 0.13850683, 0.20955247],\n",
       "       [0.08149654, 0.3498532 , 0.5686503 ],\n",
       "       [0.12827717, 0.22632398, 0.64539886],\n",
       "       [0.44840556, 0.24315846, 0.30843604],\n",
       "       [0.15586138, 0.24710757, 0.5970311 ],\n",
       "       [0.08968371, 0.29849142, 0.61182487],\n",
       "       [0.5155267 , 0.12920521, 0.35526815],\n",
       "       [0.3399704 , 0.42792514, 0.2321044 ],\n",
       "       [0.56877106, 0.26035693, 0.17087203]], dtype=float32)"
      ]
     },
     "execution_count": 132,
     "metadata": {},
     "output_type": "execute_result"
    }
   ],
   "source": [
    "y_pred_1e[0:10]"
   ]
  },
  {
   "cell_type": "code",
   "execution_count": 81,
   "metadata": {},
   "outputs": [],
   "source": [
    "# accuracy = accuracy_score(y_test, y_pred_1e)\n",
    "# print(\"Accuracy: %.1f%%\" % (accuracy * 100.0))"
   ]
  },
  {
   "cell_type": "code",
   "execution_count": 200,
   "metadata": {},
   "outputs": [],
   "source": [
    "#run test data through model using optimal number of trees\n",
    "# tst_im_in_rshape\n",
    "\n",
    "n_trees = 78\n",
    "y_pred_1e_tst = xgb_model_1e.predict_proba(tst_im_in_rshape, ntree_limit= n_trees)"
   ]
  },
  {
   "cell_type": "code",
   "execution_count": 201,
   "metadata": {},
   "outputs": [
    {
     "data": {
      "text/plain": [
       "array([[0.16646104, 0.5128205 , 0.32071844],\n",
       "       [0.12356198, 0.33954424, 0.5368938 ],\n",
       "       [0.65099746, 0.2348197 , 0.11418283],\n",
       "       [0.14596054, 0.5194338 , 0.3346056 ],\n",
       "       [0.2704965 , 0.41969797, 0.30980557],\n",
       "       [0.29139438, 0.24033913, 0.4682665 ],\n",
       "       [0.40727425, 0.2785118 , 0.31421393],\n",
       "       [0.57234854, 0.31502408, 0.11262739],\n",
       "       [0.36252716, 0.50734615, 0.13012667],\n",
       "       [0.41918752, 0.4106415 , 0.17017096]], dtype=float32)"
      ]
     },
     "execution_count": 201,
     "metadata": {},
     "output_type": "execute_result"
    }
   ],
   "source": [
    "y_pred_1e_tst[0:10]"
   ]
  },
  {
   "cell_type": "code",
   "execution_count": null,
   "metadata": {},
   "outputs": [],
   "source": []
  },
  {
   "cell_type": "code",
   "execution_count": 202,
   "metadata": {},
   "outputs": [
    {
     "data": {
      "text/html": [
       "<div>\n",
       "<style scoped>\n",
       "    .dataframe tbody tr th:only-of-type {\n",
       "        vertical-align: middle;\n",
       "    }\n",
       "\n",
       "    .dataframe tbody tr th {\n",
       "        vertical-align: top;\n",
       "    }\n",
       "\n",
       "    .dataframe thead th {\n",
       "        text-align: right;\n",
       "    }\n",
       "</style>\n",
       "<table border=\"1\" class=\"dataframe\">\n",
       "  <thead>\n",
       "    <tr style=\"text-align: right;\">\n",
       "      <th></th>\n",
       "      <th>Type_1</th>\n",
       "      <th>Type_2</th>\n",
       "      <th>Type_3</th>\n",
       "    </tr>\n",
       "  </thead>\n",
       "  <tbody>\n",
       "    <tr>\n",
       "      <th>0</th>\n",
       "      <td>0.166461</td>\n",
       "      <td>0.512820</td>\n",
       "      <td>0.320718</td>\n",
       "    </tr>\n",
       "    <tr>\n",
       "      <th>1</th>\n",
       "      <td>0.123562</td>\n",
       "      <td>0.339544</td>\n",
       "      <td>0.536894</td>\n",
       "    </tr>\n",
       "    <tr>\n",
       "      <th>2</th>\n",
       "      <td>0.650997</td>\n",
       "      <td>0.234820</td>\n",
       "      <td>0.114183</td>\n",
       "    </tr>\n",
       "    <tr>\n",
       "      <th>3</th>\n",
       "      <td>0.145961</td>\n",
       "      <td>0.519434</td>\n",
       "      <td>0.334606</td>\n",
       "    </tr>\n",
       "    <tr>\n",
       "      <th>4</th>\n",
       "      <td>0.270496</td>\n",
       "      <td>0.419698</td>\n",
       "      <td>0.309806</td>\n",
       "    </tr>\n",
       "    <tr>\n",
       "      <th>5</th>\n",
       "      <td>0.291394</td>\n",
       "      <td>0.240339</td>\n",
       "      <td>0.468266</td>\n",
       "    </tr>\n",
       "    <tr>\n",
       "      <th>6</th>\n",
       "      <td>0.407274</td>\n",
       "      <td>0.278512</td>\n",
       "      <td>0.314214</td>\n",
       "    </tr>\n",
       "    <tr>\n",
       "      <th>7</th>\n",
       "      <td>0.572349</td>\n",
       "      <td>0.315024</td>\n",
       "      <td>0.112627</td>\n",
       "    </tr>\n",
       "    <tr>\n",
       "      <th>8</th>\n",
       "      <td>0.362527</td>\n",
       "      <td>0.507346</td>\n",
       "      <td>0.130127</td>\n",
       "    </tr>\n",
       "    <tr>\n",
       "      <th>9</th>\n",
       "      <td>0.419188</td>\n",
       "      <td>0.410641</td>\n",
       "      <td>0.170171</td>\n",
       "    </tr>\n",
       "  </tbody>\n",
       "</table>\n",
       "</div>"
      ],
      "text/plain": [
       "     Type_1    Type_2    Type_3\n",
       "0  0.166461  0.512820  0.320718\n",
       "1  0.123562  0.339544  0.536894\n",
       "2  0.650997  0.234820  0.114183\n",
       "3  0.145961  0.519434  0.334606\n",
       "4  0.270496  0.419698  0.309806\n",
       "5  0.291394  0.240339  0.468266\n",
       "6  0.407274  0.278512  0.314214\n",
       "7  0.572349  0.315024  0.112627\n",
       "8  0.362527  0.507346  0.130127\n",
       "9  0.419188  0.410641  0.170171"
      ]
     },
     "execution_count": 202,
     "metadata": {},
     "output_type": "execute_result"
    }
   ],
   "source": [
    "#xgboost_best = pd.DataFrame({'label': tr_lab_in, 'images': list(tr_im_in)}, columns=['label', 'images'])\n",
    "\n",
    "xgboost_best = pd.DataFrame(list(y_pred_1e_tst), columns=[\"Type_1\", \"Type_2\", \"Type_3\"])\n",
    "xgboost_best = xgboost_best.reset_index(drop=True)\n",
    "\n",
    "#xgboost_best = pd.DataFrame(tst_image_name, xgboost_best)\n",
    "xgboost_best[0:10]"
   ]
  },
  {
   "cell_type": "code",
   "execution_count": 203,
   "metadata": {},
   "outputs": [
    {
     "data": {
      "text/plain": [
       "array(['0.jpg', '1.jpg', '10.jpg', '100.jpg', '10000.jpg', '10001.jpg',\n",
       "       '10002.jpg', '10003.jpg', '10004.jpg', '10005.jpg'], dtype=object)"
      ]
     },
     "execution_count": 203,
     "metadata": {},
     "output_type": "execute_result"
    }
   ],
   "source": [
    "tst_image_name[0:10]"
   ]
  },
  {
   "cell_type": "code",
   "execution_count": 204,
   "metadata": {},
   "outputs": [],
   "source": [
    "tst_image_df =pd.DataFrame({'image_name': tst_image_name})\n",
    "#tst_image_df[0:10]"
   ]
  },
  {
   "cell_type": "code",
   "execution_count": 205,
   "metadata": {},
   "outputs": [
    {
     "data": {
      "text/html": [
       "<div>\n",
       "<style scoped>\n",
       "    .dataframe tbody tr th:only-of-type {\n",
       "        vertical-align: middle;\n",
       "    }\n",
       "\n",
       "    .dataframe tbody tr th {\n",
       "        vertical-align: top;\n",
       "    }\n",
       "\n",
       "    .dataframe thead th {\n",
       "        text-align: right;\n",
       "    }\n",
       "</style>\n",
       "<table border=\"1\" class=\"dataframe\">\n",
       "  <thead>\n",
       "    <tr style=\"text-align: right;\">\n",
       "      <th></th>\n",
       "      <th>image_name</th>\n",
       "      <th>Type_1</th>\n",
       "      <th>Type_2</th>\n",
       "      <th>Type_3</th>\n",
       "    </tr>\n",
       "  </thead>\n",
       "  <tbody>\n",
       "    <tr>\n",
       "      <th>0</th>\n",
       "      <td>0.jpg</td>\n",
       "      <td>0.166461</td>\n",
       "      <td>0.512820</td>\n",
       "      <td>0.320718</td>\n",
       "    </tr>\n",
       "    <tr>\n",
       "      <th>1</th>\n",
       "      <td>1.jpg</td>\n",
       "      <td>0.123562</td>\n",
       "      <td>0.339544</td>\n",
       "      <td>0.536894</td>\n",
       "    </tr>\n",
       "    <tr>\n",
       "      <th>2</th>\n",
       "      <td>10.jpg</td>\n",
       "      <td>0.650997</td>\n",
       "      <td>0.234820</td>\n",
       "      <td>0.114183</td>\n",
       "    </tr>\n",
       "    <tr>\n",
       "      <th>3</th>\n",
       "      <td>100.jpg</td>\n",
       "      <td>0.145961</td>\n",
       "      <td>0.519434</td>\n",
       "      <td>0.334606</td>\n",
       "    </tr>\n",
       "    <tr>\n",
       "      <th>4</th>\n",
       "      <td>10000.jpg</td>\n",
       "      <td>0.270496</td>\n",
       "      <td>0.419698</td>\n",
       "      <td>0.309806</td>\n",
       "    </tr>\n",
       "    <tr>\n",
       "      <th>5</th>\n",
       "      <td>10001.jpg</td>\n",
       "      <td>0.291394</td>\n",
       "      <td>0.240339</td>\n",
       "      <td>0.468266</td>\n",
       "    </tr>\n",
       "    <tr>\n",
       "      <th>6</th>\n",
       "      <td>10002.jpg</td>\n",
       "      <td>0.407274</td>\n",
       "      <td>0.278512</td>\n",
       "      <td>0.314214</td>\n",
       "    </tr>\n",
       "    <tr>\n",
       "      <th>7</th>\n",
       "      <td>10003.jpg</td>\n",
       "      <td>0.572349</td>\n",
       "      <td>0.315024</td>\n",
       "      <td>0.112627</td>\n",
       "    </tr>\n",
       "    <tr>\n",
       "      <th>8</th>\n",
       "      <td>10004.jpg</td>\n",
       "      <td>0.362527</td>\n",
       "      <td>0.507346</td>\n",
       "      <td>0.130127</td>\n",
       "    </tr>\n",
       "    <tr>\n",
       "      <th>9</th>\n",
       "      <td>10005.jpg</td>\n",
       "      <td>0.419188</td>\n",
       "      <td>0.410641</td>\n",
       "      <td>0.170171</td>\n",
       "    </tr>\n",
       "  </tbody>\n",
       "</table>\n",
       "</div>"
      ],
      "text/plain": [
       "  image_name    Type_1    Type_2    Type_3\n",
       "0      0.jpg  0.166461  0.512820  0.320718\n",
       "1      1.jpg  0.123562  0.339544  0.536894\n",
       "2     10.jpg  0.650997  0.234820  0.114183\n",
       "3    100.jpg  0.145961  0.519434  0.334606\n",
       "4  10000.jpg  0.270496  0.419698  0.309806\n",
       "5  10001.jpg  0.291394  0.240339  0.468266\n",
       "6  10002.jpg  0.407274  0.278512  0.314214\n",
       "7  10003.jpg  0.572349  0.315024  0.112627\n",
       "8  10004.jpg  0.362527  0.507346  0.130127\n",
       "9  10005.jpg  0.419188  0.410641  0.170171"
      ]
     },
     "execution_count": 205,
     "metadata": {},
     "output_type": "execute_result"
    }
   ],
   "source": [
    "xg_best_df_1 = pd.concat([tst_image_df, xgboost_best], axis=1)\n",
    "xg_best_df_1[0:10]"
   ]
  },
  {
   "cell_type": "code",
   "execution_count": 206,
   "metadata": {},
   "outputs": [],
   "source": [
    "xg_best_df_1.to_csv('xg_64_best_out.csv', index=False)"
   ]
  },
  {
   "cell_type": "code",
   "execution_count": null,
   "metadata": {},
   "outputs": [],
   "source": [
    "#########     Model 1 using logloss as metric        #########"
   ]
  },
  {
   "cell_type": "code",
   "execution_count": 164,
   "metadata": {},
   "outputs": [
    {
     "name": "stdout",
     "output_type": "stream",
     "text": [
      "[0]\tvalidation_0-mlogloss:1.07962\tvalidation_1-mlogloss:1.08872\n",
      "[1]\tvalidation_0-mlogloss:1.06271\tvalidation_1-mlogloss:1.08055\n",
      "[2]\tvalidation_0-mlogloss:1.0472\tvalidation_1-mlogloss:1.07192\n",
      "[3]\tvalidation_0-mlogloss:1.03287\tvalidation_1-mlogloss:1.06538\n",
      "[4]\tvalidation_0-mlogloss:1.01891\tvalidation_1-mlogloss:1.0607\n",
      "[5]\tvalidation_0-mlogloss:1.00719\tvalidation_1-mlogloss:1.05436\n",
      "[6]\tvalidation_0-mlogloss:0.994305\tvalidation_1-mlogloss:1.04921\n",
      "[7]\tvalidation_0-mlogloss:0.982557\tvalidation_1-mlogloss:1.04578\n",
      "[8]\tvalidation_0-mlogloss:0.971432\tvalidation_1-mlogloss:1.04234\n",
      "[9]\tvalidation_0-mlogloss:0.960466\tvalidation_1-mlogloss:1.03858\n",
      "[10]\tvalidation_0-mlogloss:0.949992\tvalidation_1-mlogloss:1.03532\n",
      "[11]\tvalidation_0-mlogloss:0.940652\tvalidation_1-mlogloss:1.0327\n",
      "[12]\tvalidation_0-mlogloss:0.931454\tvalidation_1-mlogloss:1.03011\n",
      "[13]\tvalidation_0-mlogloss:0.922232\tvalidation_1-mlogloss:1.0278\n",
      "[14]\tvalidation_0-mlogloss:0.913279\tvalidation_1-mlogloss:1.02562\n",
      "[15]\tvalidation_0-mlogloss:0.905932\tvalidation_1-mlogloss:1.02548\n",
      "[16]\tvalidation_0-mlogloss:0.896844\tvalidation_1-mlogloss:1.02337\n",
      "[17]\tvalidation_0-mlogloss:0.888546\tvalidation_1-mlogloss:1.02042\n",
      "[18]\tvalidation_0-mlogloss:0.881495\tvalidation_1-mlogloss:1.01909\n",
      "[19]\tvalidation_0-mlogloss:0.875441\tvalidation_1-mlogloss:1.01805\n",
      "[20]\tvalidation_0-mlogloss:0.867668\tvalidation_1-mlogloss:1.01625\n",
      "[21]\tvalidation_0-mlogloss:0.859584\tvalidation_1-mlogloss:1.01556\n",
      "[22]\tvalidation_0-mlogloss:0.854005\tvalidation_1-mlogloss:1.01356\n",
      "[23]\tvalidation_0-mlogloss:0.848489\tvalidation_1-mlogloss:1.01175\n",
      "[24]\tvalidation_0-mlogloss:0.841991\tvalidation_1-mlogloss:1.01154\n",
      "[25]\tvalidation_0-mlogloss:0.835252\tvalidation_1-mlogloss:1.01012\n",
      "[26]\tvalidation_0-mlogloss:0.830555\tvalidation_1-mlogloss:1.00755\n",
      "[27]\tvalidation_0-mlogloss:0.824829\tvalidation_1-mlogloss:1.00675\n",
      "[28]\tvalidation_0-mlogloss:0.817429\tvalidation_1-mlogloss:1.00565\n",
      "[29]\tvalidation_0-mlogloss:0.811776\tvalidation_1-mlogloss:1.00444\n",
      "[30]\tvalidation_0-mlogloss:0.806669\tvalidation_1-mlogloss:1.00365\n",
      "[31]\tvalidation_0-mlogloss:0.799196\tvalidation_1-mlogloss:1.00374\n",
      "[32]\tvalidation_0-mlogloss:0.795012\tvalidation_1-mlogloss:1.00249\n",
      "[33]\tvalidation_0-mlogloss:0.790573\tvalidation_1-mlogloss:1.00094\n",
      "[34]\tvalidation_0-mlogloss:0.786025\tvalidation_1-mlogloss:0.999114\n",
      "[35]\tvalidation_0-mlogloss:0.779381\tvalidation_1-mlogloss:0.998184\n",
      "[36]\tvalidation_0-mlogloss:0.771509\tvalidation_1-mlogloss:0.997711\n",
      "[37]\tvalidation_0-mlogloss:0.766853\tvalidation_1-mlogloss:0.996589\n",
      "[38]\tvalidation_0-mlogloss:0.7631\tvalidation_1-mlogloss:0.996227\n",
      "[39]\tvalidation_0-mlogloss:0.756986\tvalidation_1-mlogloss:0.996434\n",
      "[40]\tvalidation_0-mlogloss:0.753301\tvalidation_1-mlogloss:0.995685\n",
      "[41]\tvalidation_0-mlogloss:0.747762\tvalidation_1-mlogloss:0.994839\n",
      "[42]\tvalidation_0-mlogloss:0.743855\tvalidation_1-mlogloss:0.994684\n",
      "[43]\tvalidation_0-mlogloss:0.73787\tvalidation_1-mlogloss:0.993225\n",
      "[44]\tvalidation_0-mlogloss:0.733931\tvalidation_1-mlogloss:0.99295\n",
      "[45]\tvalidation_0-mlogloss:0.729289\tvalidation_1-mlogloss:0.992217\n",
      "[46]\tvalidation_0-mlogloss:0.725055\tvalidation_1-mlogloss:0.992191\n",
      "[47]\tvalidation_0-mlogloss:0.720295\tvalidation_1-mlogloss:0.992716\n",
      "[48]\tvalidation_0-mlogloss:0.715319\tvalidation_1-mlogloss:0.99196\n",
      "[49]\tvalidation_0-mlogloss:0.711481\tvalidation_1-mlogloss:0.991466\n",
      "[50]\tvalidation_0-mlogloss:0.708656\tvalidation_1-mlogloss:0.990609\n",
      "[51]\tvalidation_0-mlogloss:0.703205\tvalidation_1-mlogloss:0.990807\n",
      "[52]\tvalidation_0-mlogloss:0.698444\tvalidation_1-mlogloss:0.990974\n",
      "[53]\tvalidation_0-mlogloss:0.692922\tvalidation_1-mlogloss:0.991318\n",
      "[54]\tvalidation_0-mlogloss:0.687761\tvalidation_1-mlogloss:0.990957\n",
      "[55]\tvalidation_0-mlogloss:0.684047\tvalidation_1-mlogloss:0.990461\n",
      "[56]\tvalidation_0-mlogloss:0.680449\tvalidation_1-mlogloss:0.990205\n",
      "[57]\tvalidation_0-mlogloss:0.676257\tvalidation_1-mlogloss:0.989851\n",
      "[58]\tvalidation_0-mlogloss:0.672727\tvalidation_1-mlogloss:0.990086\n",
      "[59]\tvalidation_0-mlogloss:0.669078\tvalidation_1-mlogloss:0.990604\n",
      "[60]\tvalidation_0-mlogloss:0.665249\tvalidation_1-mlogloss:0.990706\n",
      "[61]\tvalidation_0-mlogloss:0.66144\tvalidation_1-mlogloss:0.990273\n",
      "[62]\tvalidation_0-mlogloss:0.656106\tvalidation_1-mlogloss:0.990487\n",
      "[63]\tvalidation_0-mlogloss:0.652819\tvalidation_1-mlogloss:0.990765\n",
      "[64]\tvalidation_0-mlogloss:0.649007\tvalidation_1-mlogloss:0.990029\n",
      "[65]\tvalidation_0-mlogloss:0.645349\tvalidation_1-mlogloss:0.989551\n",
      "[66]\tvalidation_0-mlogloss:0.64042\tvalidation_1-mlogloss:0.989061\n",
      "[67]\tvalidation_0-mlogloss:0.637848\tvalidation_1-mlogloss:0.989505\n",
      "[68]\tvalidation_0-mlogloss:0.633211\tvalidation_1-mlogloss:0.989476\n",
      "[69]\tvalidation_0-mlogloss:0.629766\tvalidation_1-mlogloss:0.989013\n",
      "[70]\tvalidation_0-mlogloss:0.625896\tvalidation_1-mlogloss:0.988664\n",
      "[71]\tvalidation_0-mlogloss:0.621379\tvalidation_1-mlogloss:0.987667\n",
      "[72]\tvalidation_0-mlogloss:0.617921\tvalidation_1-mlogloss:0.986838\n",
      "[73]\tvalidation_0-mlogloss:0.613412\tvalidation_1-mlogloss:0.987588\n",
      "[74]\tvalidation_0-mlogloss:0.609172\tvalidation_1-mlogloss:0.986501\n",
      "[75]\tvalidation_0-mlogloss:0.606006\tvalidation_1-mlogloss:0.985818\n",
      "[76]\tvalidation_0-mlogloss:0.601937\tvalidation_1-mlogloss:0.985789\n",
      "[77]\tvalidation_0-mlogloss:0.597744\tvalidation_1-mlogloss:0.985765\n",
      "[78]\tvalidation_0-mlogloss:0.593974\tvalidation_1-mlogloss:0.985423\n",
      "[79]\tvalidation_0-mlogloss:0.590689\tvalidation_1-mlogloss:0.985528\n",
      "[80]\tvalidation_0-mlogloss:0.587496\tvalidation_1-mlogloss:0.985148\n",
      "[81]\tvalidation_0-mlogloss:0.583101\tvalidation_1-mlogloss:0.985694\n",
      "[82]\tvalidation_0-mlogloss:0.579053\tvalidation_1-mlogloss:0.985668\n",
      "[83]\tvalidation_0-mlogloss:0.575338\tvalidation_1-mlogloss:0.984846\n",
      "[84]\tvalidation_0-mlogloss:0.572516\tvalidation_1-mlogloss:0.984525\n",
      "[85]\tvalidation_0-mlogloss:0.568608\tvalidation_1-mlogloss:0.984123\n",
      "[86]\tvalidation_0-mlogloss:0.566031\tvalidation_1-mlogloss:0.984201\n",
      "[87]\tvalidation_0-mlogloss:0.561348\tvalidation_1-mlogloss:0.984062\n",
      "[88]\tvalidation_0-mlogloss:0.556179\tvalidation_1-mlogloss:0.984173\n",
      "[89]\tvalidation_0-mlogloss:0.552908\tvalidation_1-mlogloss:0.984672\n",
      "[90]\tvalidation_0-mlogloss:0.549281\tvalidation_1-mlogloss:0.984128\n",
      "[91]\tvalidation_0-mlogloss:0.545795\tvalidation_1-mlogloss:0.984307\n",
      "[92]\tvalidation_0-mlogloss:0.543535\tvalidation_1-mlogloss:0.984922\n",
      "[93]\tvalidation_0-mlogloss:0.54015\tvalidation_1-mlogloss:0.984653\n",
      "[94]\tvalidation_0-mlogloss:0.536958\tvalidation_1-mlogloss:0.984592\n",
      "[95]\tvalidation_0-mlogloss:0.532635\tvalidation_1-mlogloss:0.984714\n",
      "[96]\tvalidation_0-mlogloss:0.530521\tvalidation_1-mlogloss:0.983668\n",
      "[97]\tvalidation_0-mlogloss:0.526626\tvalidation_1-mlogloss:0.983433\n",
      "[98]\tvalidation_0-mlogloss:0.523585\tvalidation_1-mlogloss:0.983471\n",
      "[99]\tvalidation_0-mlogloss:0.520763\tvalidation_1-mlogloss:0.983502\n"
     ]
    },
    {
     "data": {
      "text/plain": [
       "XGBClassifier(base_score=0.5, booster='gbtree', colsample_bylevel=1,\n",
       "       colsample_bytree=1, gamma=0, learning_rate=0.1, max_delta_step=0,\n",
       "       max_depth=3, min_child_weight=1, missing=None, n_estimators=100,\n",
       "       n_jobs=1, nthread=None, objective='multi:softprob', random_state=0,\n",
       "       reg_alpha=0, reg_lambda=1, scale_pos_weight=1, seed=None,\n",
       "       silent=True, subsample=1)"
      ]
     },
     "execution_count": 164,
     "metadata": {},
     "output_type": "execute_result"
    }
   ],
   "source": [
    "# Train and evaluate.\n",
    "\n",
    "xgb_model_1l = XGBClassifier()\n",
    "\n",
    "xgb_model_1l.fit(X_train, y_train, eval_metric=['mlogloss'], eval_set=[((X_train, y_train)),(X_test, y_test)])"
   ]
  },
  {
   "cell_type": "code",
   "execution_count": 165,
   "metadata": {},
   "outputs": [
    {
     "data": {
      "text/plain": [
       "Text(0.5,0,'Number of iterations')"
      ]
     },
     "execution_count": 165,
     "metadata": {},
     "output_type": "execute_result"
    },
    {
     "data": {
      "image/png": "[encoded data removed]",
      "text/plain": [
       "<matplotlib.figure.Figure at 0x29303781208>"
      ]
     },
     "metadata": {},
     "output_type": "display_data"
    }
   ],
   "source": [
    "xgb_eval_1l = xgb_model_1l.evals_result()\n",
    "eval_steps_1l = range(len(xgb_eval_1l['validation_0']['mlogloss']))\n",
    "\n",
    "fig, ax = pyplot.subplots(1, 1, sharex=True, figsize=(8, 6))\n",
    "\n",
    "ax.plot(eval_steps_1l, [x for x in xgb_eval_1l['validation_0']['mlogloss']], label='Train')\n",
    "ax.plot(eval_steps_1l, [x for x in xgb_eval_1l['validation_1']['mlogloss']], label='Test')\n",
    "ax.legend()\n",
    "ax.set_title('LogLoss')\n",
    "ax.set_xlabel('Number of iterations')"
   ]
  },
  {
   "cell_type": "code",
   "execution_count": 166,
   "metadata": {},
   "outputs": [],
   "source": [
    "# Select trained model.\n",
    "n_trees = 97\n",
    "y_pred_1l = xgb_model_1l.predict_proba(X_test, ntree_limit= n_trees)\n"
   ]
  },
  {
   "cell_type": "code",
   "execution_count": 167,
   "metadata": {},
   "outputs": [
    {
     "data": {
      "text/plain": [
       "array([[0.20602359, 0.4318021 , 0.3621743 ],\n",
       "       [0.64309347, 0.14231452, 0.21459202],\n",
       "       [0.07207223, 0.34616938, 0.5817583 ],\n",
       "       [0.12676391, 0.24696985, 0.62626624],\n",
       "       [0.45309168, 0.2457423 , 0.30116606],\n",
       "       [0.15810008, 0.24676856, 0.59513134],\n",
       "       [0.08638909, 0.31548005, 0.5981308 ],\n",
       "       [0.55334944, 0.10883714, 0.33781338],\n",
       "       [0.3173042 , 0.44997072, 0.23272507],\n",
       "       [0.6143053 , 0.2400117 , 0.14568299]], dtype=float32)"
      ]
     },
     "execution_count": 167,
     "metadata": {},
     "output_type": "execute_result"
    }
   ],
   "source": [
    "y_pred_1l[0:10]"
   ]
  },
  {
   "cell_type": "code",
   "execution_count": null,
   "metadata": {},
   "outputs": [],
   "source": []
  },
  {
   "cell_type": "code",
   "execution_count": null,
   "metadata": {},
   "outputs": [],
   "source": [
    "#########     Model 2 using grid       #########"
   ]
  },
  {
   "cell_type": "code",
   "execution_count": 168,
   "metadata": {},
   "outputs": [],
   "source": [
    "# Create XGBoost pipeline, set up parameter grid.\n",
    "xgb_model_2gs = XGBClassifier()\n",
    "parameters = {'reg_alpha': [0.0, 1.0], 'reg_lambda': [0.0, 1.0], 'n_estimators': [n_trees], 'seed': [123]}"
   ]
  },
  {
   "cell_type": "code",
   "execution_count": 169,
   "metadata": {},
   "outputs": [
    {
     "name": "stdout",
     "output_type": "stream",
     "text": [
      "Fitting 10 folds for each of 4 candidates, totalling 40 fits\n"
     ]
    },
    {
     "name": "stderr",
     "output_type": "stream",
     "text": [
      "[Parallel(n_jobs=-1)]: Done  40 out of  40 | elapsed:  8.1min finished\n"
     ]
    },
    {
     "data": {
      "text/plain": [
       "GridSearchCV(cv=10, error_score='raise',\n",
       "       estimator=XGBClassifier(base_score=0.5, booster='gbtree', colsample_bylevel=1,\n",
       "       colsample_bytree=1, gamma=0, learning_rate=0.1, max_delta_step=0,\n",
       "       max_depth=3, min_child_weight=1, missing=None, n_estimators=100,\n",
       "       n_jobs=1, nthread=None, objective='binary:logistic', random_state=0,\n",
       "       reg_alpha=0, reg_lambda=1, scale_pos_weight=1, seed=None,\n",
       "       silent=True, subsample=1),\n",
       "       fit_params=None, iid=True, n_jobs=-1,\n",
       "       param_grid={'reg_lambda': [0.0, 1.0], 'n_estimators': [97], 'reg_alpha': [0.0, 1.0], 'seed': [123]},\n",
       "       pre_dispatch='2*n_jobs', refit=True, return_train_score='warn',\n",
       "       scoring='accuracy', verbose=1)"
      ]
     },
     "execution_count": 169,
     "metadata": {},
     "output_type": "execute_result"
    }
   ],
   "source": [
    "# Search for the best parameters.\n",
    "clf = GridSearchCV(xgb_model_2gs, parameters, scoring='accuracy', cv=10, verbose=1, n_jobs=-1, refit=True)\n",
    "clf.fit(X_train, y_train)"
   ]
  },
  {
   "cell_type": "code",
   "execution_count": 170,
   "metadata": {},
   "outputs": [
    {
     "name": "stderr",
     "output_type": "stream",
     "text": [
      "C:\\Users\\Jason\\Anaconda3\\envs\\tensorflow\\lib\\site-packages\\sklearn\\model_selection\\_search.py:761: DeprecationWarning:\n",
      "\n",
      "The grid_scores_ attribute was deprecated in version 0.18 in favor of the more elaborate cv_results_ attribute. The grid_scores_ attribute will not be available from 0.20\n",
      "\n"
     ]
    },
    {
     "data": {
      "text/plain": [
       "[mean: 0.51031, std: 0.01882, params: {'reg_lambda': 0.0, 'n_estimators': 97, 'reg_alpha': 0.0, 'seed': 123},\n",
       " mean: 0.51718, std: 0.02931, params: {'reg_lambda': 1.0, 'n_estimators': 97, 'reg_alpha': 0.0, 'seed': 123},\n",
       " mean: 0.50406, std: 0.03468, params: {'reg_lambda': 0.0, 'n_estimators': 97, 'reg_alpha': 1.0, 'seed': 123},\n",
       " mean: 0.50656, std: 0.02430, params: {'reg_lambda': 1.0, 'n_estimators': 97, 'reg_alpha': 1.0, 'seed': 123}]"
      ]
     },
     "execution_count": 170,
     "metadata": {},
     "output_type": "execute_result"
    }
   ],
   "source": [
    "# View the performance result.\n",
    "clf.grid_scores_"
   ]
  },
  {
   "cell_type": "code",
   "execution_count": 171,
   "metadata": {},
   "outputs": [
    {
     "name": "stdout",
     "output_type": "stream",
     "text": [
      "Best score: 51.7%\n",
      "Best parameter set: {'reg_lambda': 1.0, 'n_estimators': 97, 'reg_alpha': 0.0, 'seed': 123}\n"
     ]
    }
   ],
   "source": [
    "print(\"Best score: %.1f%%\" % (clf.best_score_*100))\n",
    "print(\"Best parameter set: %s\" % (clf.best_params_))"
   ]
  },
  {
   "cell_type": "code",
   "execution_count": 172,
   "metadata": {},
   "outputs": [
    {
     "name": "stdout",
     "output_type": "stream",
     "text": [
      "Accuracy: 49.9%\n"
     ]
    },
    {
     "name": "stderr",
     "output_type": "stream",
     "text": [
      "C:\\Users\\Jason\\Anaconda3\\envs\\tensorflow\\lib\\site-packages\\sklearn\\preprocessing\\label.py:151: DeprecationWarning:\n",
      "\n",
      "The truth value of an empty array is ambiguous. Returning False, but in future this will result in an error. Use `array.size > 0` to check that an array is not empty.\n",
      "\n"
     ]
    }
   ],
   "source": [
    "y_pred_grid = clf.best_estimator_.predict(X_test, ntree_limit= n_trees)\n",
    "\n",
    "accuracy = accuracy_score(y_test, y_pred_grid)\n",
    "print(\"Accuracy: %.1f%%\" % (accuracy * 100.0))"
   ]
  },
  {
   "cell_type": "code",
   "execution_count": null,
   "metadata": {},
   "outputs": [],
   "source": []
  },
  {
   "cell_type": "code",
   "execution_count": null,
   "metadata": {},
   "outputs": [],
   "source": []
  },
  {
   "cell_type": "code",
   "execution_count": null,
   "metadata": {},
   "outputs": [],
   "source": []
  },
  {
   "cell_type": "code",
   "execution_count": null,
   "metadata": {},
   "outputs": [],
   "source": []
  },
  {
   "cell_type": "code",
   "execution_count": null,
   "metadata": {},
   "outputs": [],
   "source": []
  },
  {
   "cell_type": "code",
   "execution_count": null,
   "metadata": {},
   "outputs": [],
   "source": []
  },
  {
   "cell_type": "code",
   "execution_count": null,
   "metadata": {},
   "outputs": [],
   "source": []
  },
  {
   "cell_type": "code",
   "execution_count": null,
   "metadata": {},
   "outputs": [],
   "source": []
  },
  {
   "cell_type": "code",
   "execution_count": null,
   "metadata": {},
   "outputs": [],
   "source": []
  },
  {
   "cell_type": "code",
   "execution_count": null,
   "metadata": {},
   "outputs": [],
   "source": []
  },
  {
   "cell_type": "code",
   "execution_count": null,
   "metadata": {},
   "outputs": [],
   "source": []
  }
 ],
 "metadata": {
  "kernelspec": {
   "display_name": "Python 3",
   "language": "python",
   "name": "python3"
  },
  "language_info": {
   "codemirror_mode": {
    "name": "ipython",
    "version": 3
   },
   "file_extension": ".py",
   "mimetype": "text/x-python",
   "name": "python",
   "nbconvert_exporter": "python",
   "pygments_lexer": "ipython3",
   "version": "3.5.4"
  }
 },
 "nbformat": 4,
 "nbformat_minor": 2
}
