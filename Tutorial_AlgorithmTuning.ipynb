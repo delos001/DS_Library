{
 "cells": [
  {
   "cell_type": "markdown",
   "metadata": {},
   "source": [
    "###  Python Basics Tutorial\n",
    "\n",
    "#### Improve Performance with Algorithm Tuning\n",
    "\n",
    "####  Machine Learning Mastery with Python\n",
    "####  Jason Brownlee"
   ]
  },
  {
   "cell_type": "markdown",
   "metadata": {},
   "source": [
    "## Grid Search Parameter Tuning\n",
    "- systematically run models on each combination of parameters"
   ]
  },
  {
   "cell_type": "code",
   "execution_count": 5,
   "metadata": {},
   "outputs": [],
   "source": [
    "## one dimensional grid search\n",
    "\n",
    "import numpy\n",
    "from pandas import read_csv\n",
    "\n",
    "from sklearn.linear_model import RidgeClassifier\n",
    "from sklearn.model_selection import GridSearchCV\n"
   ]
  },
  {
   "cell_type": "code",
   "execution_count": 6,
   "metadata": {},
   "outputs": [],
   "source": [
    "path = 'D:\\OneDrive - QJA\\My Files\\DataScience\\DataSets'\n",
    "filename = 'pima-indians-diabetes.data.csv'\n",
    "names = ['preg', 'plas', 'pres', 'skin', 'test', \n",
    "         'mass', 'pedi', 'age', 'class']\n",
    "\n",
    "df = read_csv(path + '\\\\' + filename, names = names)"
   ]
  },
  {
   "cell_type": "code",
   "execution_count": null,
   "metadata": {},
   "outputs": [],
   "source": []
  },
  {
   "cell_type": "markdown",
   "metadata": {},
   "source": [
    "### Grid Search Param Tuning"
   ]
  },
  {
   "cell_type": "code",
   "execution_count": 9,
   "metadata": {},
   "outputs": [
    {
     "name": "stdout",
     "output_type": "stream",
     "text": [
      "0.7708333333333334\n",
      "1.0\n"
     ]
    }
   ],
   "source": [
    "array = df.values\n",
    "X = array[:, 0:8]\n",
    "Y = array[:, 8]\n",
    "\n",
    "## set up grid parameters\n",
    "alphas = numpy.array([1, 0.1, 0.01, 0.001, 0.0001, 0])\n",
    "param_grid = dict(alpha = alphas)\n",
    "\n",
    "model = RidgeClassifier()\n",
    "\n",
    "grid = GridSearchCV(estimator = model, param_grid = param_grid, \n",
    "                    cv = 3)\n",
    "\n",
    "grid.fit(X, Y)\n",
    "\n",
    "print(grid.best_score_)\n",
    "print(grid.best_estimator_.alpha)\n",
    "\n",
    "## alpha value of 1.0 has best score of 0.771"
   ]
  },
  {
   "cell_type": "code",
   "execution_count": null,
   "metadata": {},
   "outputs": [],
   "source": []
  },
  {
   "cell_type": "markdown",
   "metadata": {},
   "source": [
    "### Random Search Param Tuning\n",
    "\n",
    "- sample parameters from random distribution for fixed number of iterations\n",
    "- model evaulted for each combination of params chosen"
   ]
  },
  {
   "cell_type": "code",
   "execution_count": 11,
   "metadata": {},
   "outputs": [
    {
     "name": "stdout",
     "output_type": "stream",
     "text": [
      "0.7708333333333334\n",
      "0.7799187922401146\n"
     ]
    }
   ],
   "source": [
    "from pandas import read_csv\n",
    "from scipy.stats import uniform\n",
    "\n",
    "from sklearn.linear_model import RidgeClassifier\n",
    "from sklearn.model_selection import RandomizedSearchCV\n",
    "\n",
    "array = df.values\n",
    "X = array[:, 0:8]\n",
    "Y = array[:, 8]\n",
    "\n",
    "## set up grid parameter for a uniform distribution of sample selection\n",
    "param_grid = {'alpha': uniform()}\n",
    "\n",
    "model = RidgeClassifier()\n",
    "\n",
    "rsearch = RandomizedSearchCV(estimator = model,\n",
    "                             param_distributions = param_grid,\n",
    "                             n_iter = 100,\n",
    "                             cv = 3,\n",
    "                             random_state = 7)\n",
    "\n",
    "rsearch.fit(X, Y)\n",
    "print(rsearch.best_score_)\n",
    "print(rsearch.best_estimator_.alpha)"
   ]
  },
  {
   "cell_type": "code",
   "execution_count": null,
   "metadata": {},
   "outputs": [],
   "source": []
  }
 ],
 "metadata": {
  "kernelspec": {
   "display_name": "Python 3",
   "language": "python",
   "name": "python3"
  },
  "language_info": {
   "codemirror_mode": {
    "name": "ipython",
    "version": 3
   },
   "file_extension": ".py",
   "mimetype": "text/x-python",
   "name": "python",
   "nbconvert_exporter": "python",
   "pygments_lexer": "ipython3",
   "version": "3.7.4"
  }
 },
 "nbformat": 4,
 "nbformat_minor": 2
}
