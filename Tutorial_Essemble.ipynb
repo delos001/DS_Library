{
 "cells": [
  {
   "cell_type": "markdown",
   "metadata": {},
   "source": [
    "###  Python Basics Tutorial\n",
    "\n",
    "#### Improve Performance with Ensembles\n",
    "\n",
    "####  Machine Learning Mastery with Python\n",
    "####  Jason Brownlee"
   ]
  },
  {
   "cell_type": "markdown",
   "metadata": {},
   "source": [
    "### 3 common ensemble models\n",
    "    1. bagging: multiple same models, different sample subsets\n",
    "    2. boosting: multiple same models, each learning to fix prediction errors of prior model\n",
    "    3. voting: multiple different models and simple statistics used to combine predictions    "
   ]
  },
  {
   "cell_type": "markdown",
   "metadata": {},
   "source": [
    "## Bagging Algorithms\n",
    "- bagged decision trees\n",
    "- random forest\n",
    "- extra trees"
   ]
  },
  {
   "cell_type": "markdown",
   "metadata": {},
   "source": [
    "#### Bagged Decision Trees"
   ]
  },
  {
   "cell_type": "code",
   "execution_count": 5,
   "metadata": {},
   "outputs": [],
   "source": [
    "from pandas import read_csv\n",
    "from sklearn.model_selection import KFold\n",
    "from sklearn.model_selection import cross_val_score\n",
    "\n",
    "from sklearn.ensemble import BaggingClassifier\n",
    "from sklearn.tree import DecisionTreeClassifier"
   ]
  },
  {
   "cell_type": "code",
   "execution_count": 6,
   "metadata": {},
   "outputs": [],
   "source": [
    "path = 'D:\\OneDrive - QJA\\My Files\\DataScience\\DataSets'\n",
    "filename = 'pima-indians-diabetes.data.csv'\n",
    "names = ['preg', 'plas', 'pres', 'skin', 'test', \n",
    "         'mass', 'pedi', 'age', 'class']\n",
    "\n",
    "df = read_csv(path + '\\\\' + filename, names = names)\n"
   ]
  },
  {
   "cell_type": "code",
   "execution_count": 8,
   "metadata": {},
   "outputs": [
    {
     "name": "stdout",
     "output_type": "stream",
     "text": [
      "Error Estimator: 0.7707\n"
     ]
    }
   ],
   "source": [
    "array = df.values\n",
    "X = array[:, 0:8]\n",
    "Y = array[:, 8]\n",
    "\n",
    "seed = 7\n",
    "n_splits = 10\n",
    "kfold = KFold(n_splits = n_splits, random_state = seed)\n",
    "\n",
    "cart = DecisionTreeClassifier()\n",
    "num_trees = 100\n",
    "\n",
    "model = BaggingClassifier(base_estimator = cart,\n",
    "                          n_estimators = num_trees,\n",
    "                          random_state = seed)\n",
    "\n",
    "results = cross_val_score(model, X, Y, cv = kfold)\n",
    "print('Error Estimator: %.4f' % results.mean())"
   ]
  },
  {
   "cell_type": "code",
   "execution_count": null,
   "metadata": {},
   "outputs": [],
   "source": []
  },
  {
   "cell_type": "markdown",
   "metadata": {},
   "source": [
    "#### Random Forest\n",
    "- sample taken with replacement\n",
    "- trees constructed to reduce correlation between classifiers\n",
    "    - rather than chose best split point in construction of each \n",
    "      tree, only random subset of features considered for each split"
   ]
  },
  {
   "cell_type": "code",
   "execution_count": 12,
   "metadata": {},
   "outputs": [
    {
     "name": "stdout",
     "output_type": "stream",
     "text": [
      "Error Estimator: 0.7591\n"
     ]
    }
   ],
   "source": [
    "#from pandas import read_csv\n",
    "#from sklearn.model_selection import KFold\n",
    "#from sklearn.model_selection import cross_val_score\n",
    "\n",
    "from sklearn.ensemble import RandomForestClassifier\n",
    "\n",
    "array = df.values\n",
    "X = array[:, 0:8]\n",
    "Y = array[:, 8]\n",
    "\n",
    "num_trees = 100\n",
    "max_features = 3 # randomly selected features used for each tree\n",
    "n_splits = 10\n",
    "seed = 7\n",
    "\n",
    "kfold = KFold(n_splits = n_splits, random_state = seed)\n",
    "\n",
    "model = RandomForestClassifier(n_estimators = num_trees,\n",
    "                                max_features = max_features)\n",
    "\n",
    "results = cross_val_score(model, X, Y, cv = kfold)\n",
    "print('Error Estimator: %.4f' % results.mean())"
   ]
  },
  {
   "cell_type": "code",
   "execution_count": null,
   "metadata": {},
   "outputs": [],
   "source": []
  },
  {
   "cell_type": "markdown",
   "metadata": {},
   "source": [
    "#### Extra Trees\n",
    "- modification of bagging where random trees are constructed from samples of training data"
   ]
  },
  {
   "cell_type": "code",
   "execution_count": 14,
   "metadata": {},
   "outputs": [
    {
     "name": "stdout",
     "output_type": "stream",
     "text": [
      "Error Estimator: 0.7656\n"
     ]
    }
   ],
   "source": [
    "#from pandas import read_csv\n",
    "#from sklearn.model_selection import KFold\n",
    "#from sklearn.model_selection import cross_val_score\n",
    "\n",
    "from sklearn.ensemble import ExtraTreesClassifier\n",
    "\n",
    "array = df.values\n",
    "X = array[:, 0:8]\n",
    "Y = array[:, 8]\n",
    "\n",
    "num_trees = 100\n",
    "max_features = 7\n",
    "n_splits = 10\n",
    "seed = 7\n",
    "\n",
    "kfold = KFold(n_splits = n_splits, random_state = seed)\n",
    "model = ExtraTreesClassifier(n_estimators = num_trees,\n",
    "                             max_features = max_features)\n",
    "\n",
    "results = cross_val_score(model, X, Y, cv = kfold)\n",
    "print('Error Estimator: %.4f' % results.mean())"
   ]
  },
  {
   "cell_type": "code",
   "execution_count": null,
   "metadata": {},
   "outputs": [],
   "source": []
  },
  {
   "cell_type": "markdown",
   "metadata": {},
   "source": [
    "## Boosting Algorithms\n",
    "- AdaBoost\n",
    "- Stochastic Gradient Boosting\n",
    "\n",
    "Once created boosting models weight predictions based on demonstrated accuracy"
   ]
  },
  {
   "cell_type": "markdown",
   "metadata": {},
   "source": [
    "#### AdaBoost"
   ]
  },
  {
   "cell_type": "code",
   "execution_count": 18,
   "metadata": {},
   "outputs": [
    {
     "name": "stdout",
     "output_type": "stream",
     "text": [
      "Error Estimate: 0.7605\n"
     ]
    }
   ],
   "source": [
    "#from pandas import read_csv\n",
    "#from sklearn.model_selection import KFold\n",
    "#from sklearn.model_selection import cross_val_score\n",
    "\n",
    "from sklearn.ensemble import AdaBoostClassifier\n",
    "\n",
    "array = df.values\n",
    "X = array[:, 0:8]\n",
    "Y = array[:, 8]\n",
    "\n",
    "num_trees = 30\n",
    "seed = 7\n",
    "n_splits = 10\n",
    "\n",
    "kfold = KFold(n_splits = n_splits, random_state = seed)\n",
    "model = AdaBoostClassifier(n_estimators = num_trees,\n",
    "                           random_state = seed)\n",
    "\n",
    "results = cross_val_score(model, X, Y, cv = kfold)\n",
    "print('Error Estimate: %.4f' % results.mean())"
   ]
  },
  {
   "cell_type": "code",
   "execution_count": null,
   "metadata": {},
   "outputs": [],
   "source": []
  },
  {
   "cell_type": "markdown",
   "metadata": {},
   "source": [
    "#### Stochastic Gradient Boosting (Gradient Boosting Machines)"
   ]
  },
  {
   "cell_type": "code",
   "execution_count": 20,
   "metadata": {},
   "outputs": [
    {
     "name": "stdout",
     "output_type": "stream",
     "text": [
      "Error Estimate: 0.7720\n"
     ]
    }
   ],
   "source": [
    "#from pandas import read_csv\n",
    "#from sklearn.model_selection import KFold\n",
    "#from sklearn.model_selection import cross_val_score\n",
    "\n",
    "from sklearn.ensemble import GradientBoostingClassifier\n",
    "\n",
    "array = df.values\n",
    "X = array[:, 0:8]\n",
    "Y = array[:, 8]\n",
    "\n",
    "num_trees = 30\n",
    "seed = 7\n",
    "n_splits = 10\n",
    "\n",
    "kfold = KFold(n_splits = n_splits, random_state = seed)\n",
    "model = GradientBoostingClassifier(n_estimators = num_trees,\n",
    "                           random_state = seed)\n",
    "\n",
    "results = cross_val_score(model, X, Y, cv = kfold)\n",
    "print('Error Estimate: %.4f' % results.mean())"
   ]
  },
  {
   "cell_type": "code",
   "execution_count": null,
   "metadata": {},
   "outputs": [],
   "source": []
  },
  {
   "cell_type": "markdown",
   "metadata": {},
   "source": [
    "## Voting Ensembles\n",
    "\n",
    "- voting classifier wraps models and averages predictions of sub-models\n",
    "- predictions of sub-models can be weigthed"
   ]
  },
  {
   "cell_type": "code",
   "execution_count": 23,
   "metadata": {},
   "outputs": [
    {
     "name": "stdout",
     "output_type": "stream",
     "text": [
      "Error Estimate: 0.7356\n"
     ]
    }
   ],
   "source": [
    "# in this example, log reg, CARTs and SVM combined and wrapped in voting classifer\n",
    "\n",
    "#from pandas import read_csv\n",
    "#from sklearn.model_selection import KFold\n",
    "#from sklearn.model_selection import cross_val_score\n",
    "\n",
    "from sklearn.linear_model import LogisticRegression\n",
    "from sklearn.tree import DecisionTreeClassifier\n",
    "from sklearn.svm import SVC\n",
    "\n",
    "from sklearn.ensemble import VotingClassifier\n",
    "\n",
    "array = df.values\n",
    "X = array[:, 0:8]\n",
    "Y = array[:, 8]\n",
    "\n",
    "n_splits = 10\n",
    "seed = 7\n",
    "\n",
    "kfold = KFold(n_splits = n_splits, random_state = seed)\n",
    "\n",
    "# create sub-models and empty list to store them\n",
    "estimators =[]\n",
    "mod1 = LogisticRegression(solver = 'liblinear')\n",
    "estimators.append(('logistic', mod1))\n",
    "mod2 = DecisionTreeClassifier()\n",
    "estimators.append(('cart', mod2))\n",
    "mod3 = SVC(gamma = 'auto')\n",
    "estimators.append(('svm', mod3))\n",
    "\n",
    "## create ensemble model\n",
    "ensemble = VotingClassifier(estimators)\n",
    "\n",
    "results = cross_val_score(ensemble, X, Y, cv = kfold)\n",
    "print('Error Estimate: %.4f' % results.mean())"
   ]
  },
  {
   "cell_type": "code",
   "execution_count": null,
   "metadata": {},
   "outputs": [],
   "source": []
  }
 ],
 "metadata": {
  "kernelspec": {
   "display_name": "Python 3",
   "language": "python",
   "name": "python3"
  },
  "language_info": {
   "codemirror_mode": {
    "name": "ipython",
    "version": 3
   },
   "file_extension": ".py",
   "mimetype": "text/x-python",
   "name": "python",
   "nbconvert_exporter": "python",
   "pygments_lexer": "ipython3",
   "version": "3.7.4"
  }
 },
 "nbformat": 4,
 "nbformat_minor": 2
}
