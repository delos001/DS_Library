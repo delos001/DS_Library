{
 "cells": [
  {
   "cell_type": "markdown",
   "metadata": {},
   "source": [
    "# Python Basics Tutorial\n",
    "\n",
    "#### Machine Learning Algorithm Performance Metrics\n",
    "\n",
    "####  Machine Learning Mastery with Python\n",
    "####  Jason Brownlee"
   ]
  },
  {
   "cell_type": "markdown",
   "metadata": {},
   "source": [
    "### In this recipe:\n",
    "\n",
    "- Classification metrics\n",
    "- Regression metrics\n",
    "\n",
    "\n",
    "- 10 fold CV with either Logistic or Linear Regression are used\n",
    "- cross_validation.cross_val_score used to rpt performance\n",
    "    - all scores reported so they can be sorted\n",
    "    - largest score is best (opposite of other metrics such as MSE)"
   ]
  },
  {
   "cell_type": "markdown",
   "metadata": {},
   "source": [
    "## Classification Metrics\n",
    "\n",
    "- Classification Accuracy\n",
    "- Logistic Loss\n",
    "- Area under ROC Curve\n",
    "- Confusion Matrix\n",
    "- Classification Report"
   ]
  },
  {
   "cell_type": "markdown",
   "metadata": {},
   "source": [
    "### Classification Accuracy\n",
    "\n",
    "- ratio: correct predictions to total predictions made\n",
    "- only suitable when observation frequency is equal across classes"
   ]
  },
  {
   "cell_type": "code",
   "execution_count": 2,
   "metadata": {},
   "outputs": [],
   "source": [
    "filename = 'pima-indians-diabetes.data.csv'\n",
    "path = 'D:\\\\OneDrive - QJA\\\\My Files\\\\DataScience\\\\DataSets'\n",
    "\n",
    "# name columns\n",
    "names = ['preg', 'plas', 'pres', 'skin', 'test',\n",
    "        'mass', 'pedi', 'age', 'class']\n",
    "\n"
   ]
  },
  {
   "cell_type": "code",
   "execution_count": 3,
   "metadata": {},
   "outputs": [],
   "source": [
    "from pandas import read_csv\n",
    "from sklearn.model_selection import KFold\n",
    "from sklearn.model_selection import cross_val_score\n",
    "from sklearn.linear_model import LogisticRegression\n",
    "\n",
    "dataframe = read_csv(path + '\\\\' + filename, names = names)"
   ]
  },
  {
   "cell_type": "code",
   "execution_count": 5,
   "metadata": {},
   "outputs": [
    {
     "name": "stdout",
     "output_type": "stream",
     "text": [
      "Accuracy: 76.951, Stnd Dev: 4.841\n"
     ]
    }
   ],
   "source": [
    "array = dataframe.values\n",
    "\n",
    "X = array[:, 0:8]\n",
    "Y = array[:, 8]\n",
    "\n",
    "seed = 7\n",
    "\n",
    "# object to store kfold specs\n",
    "kfold = KFold(n_splits = 10, random_state = seed)\n",
    "\n",
    "# object to specify the model\n",
    "model = LogisticRegression(solver = 'liblinear')\n",
    "\n",
    "scoring = 'accuracy'\n",
    "\n",
    "# run model\n",
    "results = cross_val_score(model, X, Y, \n",
    "                          cv = kfold,\n",
    "                          scoring = scoring)\n",
    "\n",
    "print('Accuracy: %.3f, Stnd Dev: %.3f' % (results.mean() * 100.0,\n",
    "                                          results.std() * 100.0))"
   ]
  },
  {
   "cell_type": "markdown",
   "metadata": {},
   "source": [
    "### Logistic Loss  (Logloss)\n",
    "\n",
    "- performance metric of probability (0-1) that observation will fall within certain class\n",
    "- predictions are rewarded/punished proportionally to confidence of prediction"
   ]
  },
  {
   "cell_type": "code",
   "execution_count": 8,
   "metadata": {},
   "outputs": [
    {
     "name": "stdout",
     "output_type": "stream",
     "text": [
      "Accuracy: -49.266, Stnd Dev: 4.689\n"
     ]
    }
   ],
   "source": [
    "#from pandas import read_csv\n",
    "#from sklearn.model_selection import KFold\n",
    "#from sklearn.model_selection import cross_val_score\n",
    "#from sklearn.linear_model import LogisticRegression\n",
    "\n",
    "array = dataframe.values\n",
    "\n",
    "X = array[:, 0:8]\n",
    "Y = array[:, 8]\n",
    "\n",
    "kfold = KFold(n_splits = 10, random_state = 7)\n",
    "\n",
    "model = LogisticRegression(solver = 'liblinear')\n",
    "scoring = 'neg_log_loss'\n",
    "\n",
    "results = cross_val_score(model, X, Y,\n",
    "                          cv = kfold,\n",
    "                          scoring = scoring)\n",
    "\n",
    "print('Accuracy: %.3f, Stnd Dev: %.3f' % (results.mean()*100.0,\n",
    "                                          results.std()*100.0))\n",
    "\n",
    "## note: smaller logloss is better.  0 means perfect logloss\n",
    "## result is negative because measure is inveted when using\n",
    "##    cross_val_score() (see machine learning master with python\n",
    "##    ch10 for further explanation)"
   ]
  },
  {
   "cell_type": "markdown",
   "metadata": {},
   "source": [
    "### Area Under ROC Curve\n",
    "\n",
    "- used for binary classification\n",
    "- Curve is plot of true + rate and false + rate for probability prediction at specified threshold used to map probabilities to class labels\n",
    "- discriminates between + & - classes\n",
    "- area = 1 means model made all predictions perfectly"
   ]
  },
  {
   "cell_type": "code",
   "execution_count": 9,
   "metadata": {},
   "outputs": [
    {
     "name": "stdout",
     "output_type": "stream",
     "text": [
      "AUC: 82.342, Stnd Dev: 4.071\n"
     ]
    }
   ],
   "source": [
    "#from pandas import read_csv\n",
    "#from sklearn.model_selection import KFold\n",
    "#from sklearn.model_selection import cross_val_score\n",
    "#from sklearn.linear_model import LogisticRegression\n",
    "\n",
    "array = dataframe.values\n",
    "\n",
    "X = array[:, 0:8]\n",
    "Y = array[:, 8]\n",
    "\n",
    "kfold = KFold(n_splits = 10, random_state = 7)\n",
    "model = LogisticRegression(solver = 'liblinear')\n",
    "\n",
    "scoring = 'roc_auc'\n",
    "\n",
    "results = cross_val_score(model, X, Y,\n",
    "                          cv = kfold,\n",
    "                          scoring = scoring)\n",
    "\n",
    "print('AUC: %.3f, Stnd Dev: %.3f' % (results.mean()*100.0,\n",
    "                                     results.std()*100.0))"
   ]
  },
  {
   "cell_type": "markdown",
   "metadata": {},
   "source": [
    "### Confusion Matrix\n",
    "\n",
    "- predictions on x-axis and true outcomes on y-axis"
   ]
  },
  {
   "cell_type": "code",
   "execution_count": 11,
   "metadata": {},
   "outputs": [
    {
     "name": "stdout",
     "output_type": "stream",
     "text": [
      "[[141  21]\n",
      " [ 41  51]]\n"
     ]
    }
   ],
   "source": [
    "#from pandas import read_csv\n",
    "#from sklearn.linear_model import LogisticRegression\n",
    "from sklearn.model_selection import train_test_split\n",
    "from sklearn.metrics import confusion_matrix\n",
    "\n",
    "array = dataframe.values\n",
    "\n",
    "X = array[:, 0:8]\n",
    "Y = array[:, 8]\n",
    "\n",
    "test_size = 0.33\n",
    "seed = 7\n",
    "\n",
    "X_train, X_test, Y_train, Y_test = train_test_split(X, Y,\n",
    "                                                    test_size = test_size,\n",
    "                                                    random_state = seed)\n",
    "\n",
    "# object to represent the logisticregression algo\n",
    "model = LogisticRegression(solver = 'liblinear')\n",
    "\n",
    "# fit on training data\n",
    "model.fit(X_train, Y_train)\n",
    "\n",
    "# predict on test date\n",
    "predicted = model.predict(X_test)\n",
    "\n",
    "# create matrix of Y_test compared to predicted values\n",
    "matrix = confusion_matrix(Y_test, predicted)\n",
    "print(matrix)\n",
    "\n",
    "# correct predictions will fall on diagonal line of matrix [1-1, 2-2]"
   ]
  },
  {
   "cell_type": "markdown",
   "metadata": {},
   "source": [
    "### Classification Report\n",
    "\n",
    "- displays precision, recall, F1-score, and support"
   ]
  },
  {
   "cell_type": "code",
   "execution_count": 12,
   "metadata": {},
   "outputs": [
    {
     "name": "stdout",
     "output_type": "stream",
     "text": [
      "              precision    recall  f1-score   support\n",
      "\n",
      "         0.0       0.77      0.87      0.82       162\n",
      "         1.0       0.71      0.55      0.62        92\n",
      "\n",
      "    accuracy                           0.76       254\n",
      "   macro avg       0.74      0.71      0.72       254\n",
      "weighted avg       0.75      0.76      0.75       254\n",
      "\n"
     ]
    }
   ],
   "source": [
    "#from pandas import read_csv\n",
    "#from sklearn.linear_model import LogisticRegression\n",
    "from sklearn.model_selection import train_test_split\n",
    "from sklearn.metrics import classification_report\n",
    "\n",
    "array = dataframe.values\n",
    "\n",
    "X = array[:, 0:8]\n",
    "Y = array[:, 8]\n",
    "\n",
    "test_size = 0.33\n",
    "seed = 7\n",
    "\n",
    "X_train, X_test, Y_train, Y_test = train_test_split(X, Y,\n",
    "                                                   test_size = test_size,\n",
    "                                                   random_state = seed)\n",
    "\n",
    "# object to hold log reg algo specs\n",
    "model = LogisticRegression(solver = 'liblinear')\n",
    "\n",
    "# fit model on train data\n",
    "model.fit(X_train, Y_train)\n",
    "\n",
    "# predict on test set\n",
    "predicted = model.predict(X_test)\n",
    "\n",
    "# create report\n",
    "report = classification_report(Y_test, predicted)\n",
    "\n",
    "print(report)\n",
    "\n",
    "## will need to look up precision, recall, f1score, support"
   ]
  },
  {
   "cell_type": "code",
   "execution_count": null,
   "metadata": {},
   "outputs": [],
   "source": []
  },
  {
   "cell_type": "markdown",
   "metadata": {},
   "source": [
    "## Regression metrics\n",
    "\n",
    "- Mean absolute error\n",
    "- Mean squared error\n",
    "- Rsqd\n",
    "\n",
    "- common metrics for evaluating predictions on regression machine learning problems"
   ]
  },
  {
   "cell_type": "markdown",
   "metadata": {},
   "source": [
    "### Mean Absolute Error\n",
    "\n",
    "- sum of absolute difference between predicted and actual values\n",
    "- gives idea of magnitude of error (but not direction)\n"
   ]
  },
  {
   "cell_type": "code",
   "execution_count": 18,
   "metadata": {},
   "outputs": [],
   "source": [
    "# this example uses boston house price data\n",
    "\n",
    "path = 'D:\\\\OneDrive - QJA\\\\My Files\\\\DataScience\\\\DataSets'\n",
    "filename = 'housing.csv'\n",
    "names = ['CRIM', 'ZN', 'INDUS', 'CHAS', 'NOX', 'RM', \n",
    "         'AGE', 'DIS', 'RAD', 'TAX', 'PTRATIO', 'B', \n",
    "         'LSTAT', 'MEDV']\n",
    "\n"
   ]
  },
  {
   "cell_type": "code",
   "execution_count": 21,
   "metadata": {},
   "outputs": [
    {
     "name": "stdout",
     "output_type": "stream",
     "text": [
      "MAE: -4.005, Stnd Dev: 2.084\n"
     ]
    }
   ],
   "source": [
    "from pandas import read_csv\n",
    "from sklearn.model_selection import KFold\n",
    "from sklearn.model_selection import cross_val_score\n",
    "from sklearn.linear_model import LinearRegression\n",
    "\n",
    "dataframe = read_csv(path + '\\\\' + filename, \n",
    "                     delim_whitespace = True,\n",
    "                     names = names)\n",
    "\n",
    "array = dataframe.values\n",
    "X = array[:, 0:13]\n",
    "Y = array[:, 13]\n",
    "\n",
    "n_splits = 10\n",
    "seed = 7\n",
    "\n",
    "# object to specify kfold specs\n",
    "kfold = KFold(n_splits = n_splits, random_state = seed)\n",
    "\n",
    "# object to specify desired algo\n",
    "model = LinearRegression()\n",
    "\n",
    "# specify scoring method\n",
    "scoring = 'neg_mean_absolute_error'\n",
    "\n",
    "# run model\n",
    "results = cross_val_score(model, X, Y,\n",
    "                          cv = kfold,\n",
    "                          scoring = scoring)\n",
    "\n",
    "print('MAE: %.3f, Stnd Dev: %.3f' % (results.mean(),\n",
    "                                     results.std()))\n",
    "\n",
    "## note: MAE indicates perfect prediction\n",
    "##    like logloss, cross_val_score() function inverts the metric"
   ]
  },
  {
   "cell_type": "markdown",
   "metadata": {},
   "source": [
    "### Mean Squared Error\n",
    "\n",
    "- provide magnitude of error but not direction"
   ]
  },
  {
   "cell_type": "code",
   "execution_count": 23,
   "metadata": {},
   "outputs": [
    {
     "name": "stdout",
     "output_type": "stream",
     "text": [
      "MSE: -34.705, Stnd Dev: 45.574\n"
     ]
    }
   ],
   "source": [
    "#from pandas import read_csv\n",
    "#from sklearn.model_selection import KFold\n",
    "#from sklearn.model_selection import cross_val_score\n",
    "#from sklearn.linear_model import LinearRegression\n",
    "\n",
    "array = dataframe.values\n",
    "\n",
    "X = array[:, 0:13]\n",
    "Y = array[:, 13]\n",
    "\n",
    "n_splits = 10\n",
    "seed = 7\n",
    "\n",
    "# object to hold kfold algo specs\n",
    "kfold = KFold(n_splits = n_splits, random_state = seed)\n",
    "\n",
    "model = LinearRegression()\n",
    "\n",
    "scoring = 'neg_mean_squared_error'\n",
    "\n",
    "results = cross_val_score(model, X, Y,\n",
    "                          cv = kfold,\n",
    "                          scoring = scoring)\n",
    "\n",
    "print('MSE: %.3f, Stnd Dev: %.3f' % (results.mean(),\n",
    "                                     results.std()))\n",
    "\n",
    "## NOTE: metric is invested so that results are increasing\n",
    "## to calc root means square error, take abs first"
   ]
  },
  {
   "cell_type": "markdown",
   "metadata": {},
   "source": [
    "### R squared Metric\n",
    "\n",
    "- indication of \"goodness of fit\"\n",
    "- also called 'coefficient of determination'\n",
    "- value btwn 0-1"
   ]
  },
  {
   "cell_type": "code",
   "execution_count": 24,
   "metadata": {},
   "outputs": [
    {
     "name": "stdout",
     "output_type": "stream",
     "text": [
      "R^2: 0.203, Stnd Dev: 0.595\n"
     ]
    }
   ],
   "source": [
    "#from pandas import read_csv\n",
    "#from sklearn.model_selection import KFold\n",
    "#from sklearn.model_selection import cross_val_score\n",
    "#from sklearn.linear_model import LinearRegression\n",
    "\n",
    "array = dataframe.values\n",
    "\n",
    "X = array[:, 0:13]\n",
    "Y = array[:, 13]\n",
    "\n",
    "seed = 7\n",
    "n_splits = 10\n",
    "\n",
    "kfold = KFold(n_splits = n_splits, random_state = seed)\n",
    "\n",
    "model = LinearRegression()\n",
    "\n",
    "scoring = 'r2'\n",
    "\n",
    "results = cross_val_score(model, X, Y,\n",
    "                          cv = kfold,\n",
    "                          scoring = scoring)\n",
    "\n",
    "print('R^2: %.3f, Stnd Dev: %.3f' % (results.mean(),\n",
    "                                     results.std()))"
   ]
  },
  {
   "cell_type": "code",
   "execution_count": null,
   "metadata": {},
   "outputs": [],
   "source": []
  }
 ],
 "metadata": {
  "kernelspec": {
   "display_name": "Python 3",
   "language": "python",
   "name": "python3"
  },
  "language_info": {
   "codemirror_mode": {
    "name": "ipython",
    "version": 3
   },
   "file_extension": ".py",
   "mimetype": "text/x-python",
   "name": "python",
   "nbconvert_exporter": "python",
   "pygments_lexer": "ipython3",
   "version": "3.7.4"
  }
 },
 "nbformat": 4,
 "nbformat_minor": 2
}
