{
 "cells": [
  {
   "cell_type": "markdown",
   "metadata": {},
   "source": [
    "###  Python Basics Tutorial\n",
    "\n",
    "#### Compare Machine Learning Algorithms\n",
    "\n",
    "####  Machine Learning Mastery with Python\n",
    "####  Jason Brownlee\n",
    "\n",
    "- In this recipe, 6 algo's used\n",
    "    - Logistic regression\n",
    "    - LDA\n",
    "    - KNN\n",
    "    - CART\n",
    "    - Naive Bayes\n",
    "    - SVM"
   ]
  },
  {
   "cell_type": "code",
   "execution_count": 1,
   "metadata": {},
   "outputs": [],
   "source": [
    "## Load packages for reading, plotting and performing\n",
    "##    each algo\n",
    "\n",
    "from pandas import read_csv\n",
    "from matplotlib import pyplot\n",
    "\n",
    "from sklearn.model_selection import KFold\n",
    "from sklearn.model_selection import cross_val_score\n",
    "\n",
    "from sklearn.linear_model import LogisticRegression\n",
    "from sklearn.tree import DecisionTreeClassifier\n",
    "from sklearn.neighbors import KNeighborsClassifier\n",
    "from sklearn.discriminant_analysis import LinearDiscriminantAnalysis\n",
    "from sklearn.naive_bayes import GaussianNB\n",
    "from sklearn.svm import SVC\n"
   ]
  },
  {
   "cell_type": "code",
   "execution_count": 2,
   "metadata": {},
   "outputs": [],
   "source": [
    "## Read file and designate depen and indepen vars\n",
    "\n",
    "path = 'D:\\OneDrive - QJA\\My Files\\DataScience\\DataSets'\n",
    "filename = 'pima-indians-diabetes.data.csv'\n",
    "names = ['preg', 'plas', 'pres', 'skin', 'test', \n",
    "         'mass', 'pedi', 'age', 'class']\n",
    "\n",
    "df = read_csv(path + '\\\\' + filename, names = names)\n",
    "array = df.values\n",
    "X = array[:, 0:8]\n",
    "Y = array[:, 8]"
   ]
  },
  {
   "cell_type": "code",
   "execution_count": null,
   "metadata": {},
   "outputs": [],
   "source": []
  },
  {
   "cell_type": "code",
   "execution_count": 5,
   "metadata": {},
   "outputs": [
    {
     "name": "stdout",
     "output_type": "stream",
     "text": [
      "LR: 0.770 (Stnd Dev: 0.048)\n",
      "LDA: 0.773 (Stnd Dev: 0.052)\n",
      "KNN: 0.727 (Stnd Dev: 0.062)\n",
      "CART: 0.693 (Stnd Dev: 0.061)\n",
      "NB: 0.755 (Stnd Dev: 0.043)\n",
      "SVM: 0.651 (Stnd Dev: 0.072)\n"
     ]
    }
   ],
   "source": [
    "## Prepare each model\n",
    "\n",
    "## create empty list to hold models\n",
    "models = []\n",
    "models.append(('LR', LogisticRegression(solver = 'liblinear')))\n",
    "models.append(('LDA', LinearDiscriminantAnalysis()))\n",
    "models.append(('KNN', KNeighborsClassifier()))\n",
    "models.append(('CART', DecisionTreeClassifier()))\n",
    "models.append(('NB', GaussianNB()))\n",
    "models.append(('SVM', SVC(gamma = 'auto')))\n",
    "\n",
    "results = []  # empty list to store results\n",
    "names = [] # empty list to stor model name\n",
    "\n",
    "scoring = 'accuracy'\n",
    "n_splits = 10  # for kfold splits\n",
    "seed = 7  # set random seed \n",
    "\n",
    "for name, model in models:\n",
    "    kfold = KFold(n_splits = n_splits, random_state = seed)\n",
    "    cv_results = cross_val_score(model, X, Y,\n",
    "                                 cv = kfold,\n",
    "                                 scoring = scoring)\n",
    "    results.append(cv_results)\n",
    "    names.append(name)\n",
    "    msg = '%s: %.3f (Stnd Dev: %.3f)' % (name,\n",
    "                           cv_results.mean(),\n",
    "                           cv_results.std())\n",
    "    print(msg)"
   ]
  },
  {
   "cell_type": "code",
   "execution_count": 6,
   "metadata": {},
   "outputs": [
    {
     "data": {
      "image/png": "[encoded data removed]",
      "text/plain": [
       "<Figure size 432x288 with 1 Axes>"
      ]
     },
     "metadata": {
      "needs_background": "light"
     },
     "output_type": "display_data"
    }
   ],
   "source": [
    "## Plot comparison of algos for each CV run\n",
    "\n",
    "fig = pyplot.figure()\n",
    "fig.suptitle('Algorithm Comparison')\n",
    "ax = fig.add_subplot(111)\n",
    "pyplot.boxplot(results)\n",
    "ax.set_xticklabels(names)\n",
    "pyplot.show()\n",
    "\n",
    "## LR, LDA, and NB seem to perform relatively equaly\n",
    "##    while SVM has very low mean accuracy"
   ]
  },
  {
   "cell_type": "code",
   "execution_count": null,
   "metadata": {},
   "outputs": [],
   "source": []
  }
 ],
 "metadata": {
  "kernelspec": {
   "display_name": "Python 3",
   "language": "python",
   "name": "python3"
  },
  "language_info": {
   "codemirror_mode": {
    "name": "ipython",
    "version": 3
   },
   "file_extension": ".py",
   "mimetype": "text/x-python",
   "name": "python",
   "nbconvert_exporter": "python",
   "pygments_lexer": "ipython3",
   "version": "3.7.4"
  }
 },
 "nbformat": 4,
 "nbformat_minor": 2
}
