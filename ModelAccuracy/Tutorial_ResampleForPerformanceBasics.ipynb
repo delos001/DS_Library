{
 "cells": [
  {
   "cell_type": "markdown",
   "metadata": {},
   "source": [
    "###  Python Basics Tutorial\n",
    "\n",
    "#### Evaluate Performance of Machine Learning Algorithms with Resampling Basics Tutorial\n",
    "\n",
    "####  Machine Learning Mastery with Python\n",
    "####  Jason Brownlee"
   ]
  },
  {
   "cell_type": "markdown",
   "metadata": {},
   "source": [
    "### In this recipe:\n",
    "\n",
    "- Create Traning and Test sets: good for speed when using large data sets\n",
    "- k-fold CV: 'gold standard'\n",
    "- LOOCV: good comprimise when balancing model performance variance and dataset size\n",
    "- Repeated Random Test/Train Splits: good comprimise when balancing model performance variance and dataset size"
   ]
  },
  {
   "cell_type": "code",
   "execution_count": 10,
   "metadata": {},
   "outputs": [],
   "source": [
    "path = 'D:\\\\OneDrive - QJA\\\\My Files\\\\DataScience\\\\DataSets'\n",
    "filename = 'pima-indians-diabetes.data.csv'\n",
    "\n",
    "names = ['preg', 'plas', 'pres', 'skin', 'test', \n",
    "         'mass', 'pedi', 'age', 'class']\n"
   ]
  },
  {
   "cell_type": "markdown",
   "metadata": {},
   "source": [
    "### Split into Train and Test Sets\n",
    "\n",
    "- take care to ensure a random split will not result in high variance between train and test\n",
    "    - if not, find another split method"
   ]
  },
  {
   "cell_type": "code",
   "execution_count": 9,
   "metadata": {},
   "outputs": [
    {
     "name": "stdout",
     "output_type": "stream",
     "text": [
      "Accuracy: 79.528%\n"
     ]
    }
   ],
   "source": [
    "from pandas import read_csv\n",
    "from sklearn.model_selection import train_test_split\n",
    "from sklearn.linear_model import LogisticRegression\n",
    "\n",
    "dataframe = read_csv(path + '\\\\' + filename, \n",
    "                    names = names)\n",
    "\n",
    "array = dataframe.values\n",
    "\n",
    "X = array[:, 0:8]\n",
    "Y = array[:, 8]\n",
    "\n",
    "test_size = 0.33\n",
    "seed = 123\n",
    "\n",
    "X_train, X_test, Y_train, Y_test = train_test_split(X, Y,\n",
    "                                                   test_size = test_size,\n",
    "                                                   random_state = seed)\n",
    "\n",
    "model = LogisticRegression(solver = 'liblinear')\n",
    "model.fit(X_train, Y_train)\n",
    "\n",
    "pred_test = model.score(X_test, Y_test)\n",
    "\n",
    "print('Accuracy: %.3f%%' % (pred_test * 100.0))"
   ]
  },
  {
   "cell_type": "code",
   "execution_count": null,
   "metadata": {},
   "outputs": [],
   "source": []
  },
  {
   "cell_type": "markdown",
   "metadata": {},
   "source": [
    "### K-Fold Cross Validation\n",
    "\n",
    "- data is split inot k folds\n",
    "- alogo trained on k-1 folds where 1 is held back as test\n",
    "- can be better be more reliable than train/test split method\n",
    "- k value must allow test partition to be appropriate sample size"
   ]
  },
  {
   "cell_type": "code",
   "execution_count": 14,
   "metadata": {},
   "outputs": [
    {
     "name": "stdout",
     "output_type": "stream",
     "text": [
      "Accuracy: 76.951%, Stnd Dev: (4.841%)\n"
     ]
    }
   ],
   "source": [
    "# 10-fold cross validation\n",
    "\n",
    "#from pandas import read_csv\n",
    "from sklearn.model_selection import KFold\n",
    "from sklearn.model_selection import cross_val_score\n",
    "from sklearn.linear_model import LogisticRegression\n",
    "\n",
    "array = dataframe.values\n",
    "\n",
    "X = array[:, 0:8]\n",
    "Y = array[:, 8]\n",
    "\n",
    "# specify kfold parameters\n",
    "kfold = KFold(n_splits = 10, random_state = 7)\n",
    "# create object to represent LR algo\n",
    "model = LogisticRegression(solver = 'liblinear')\n",
    "\n",
    "# run CV LR model\n",
    "results = cross_val_score(model, X, Y, cv = kfold)\n",
    "\n",
    "print('Accuracy: %.3f%%, Stnd Dev: (%.3f%%)' % (results.mean()*100.0,\n",
    "                                                results.std()*100.0))"
   ]
  },
  {
   "cell_type": "code",
   "execution_count": null,
   "metadata": {},
   "outputs": [],
   "source": []
  },
  {
   "cell_type": "markdown",
   "metadata": {},
   "source": [
    "### Leave One Out Cross Validation\n",
    "\n",
    "- k is set to number of observations in data set and 1 observation is left out each time\n",
    "- results in many measurements that are summarized\n",
    "- computationally expensive"
   ]
  },
  {
   "cell_type": "code",
   "execution_count": 18,
   "metadata": {},
   "outputs": [
    {
     "name": "stdout",
     "output_type": "stream",
     "text": [
      "Accuracy: 76.953%, Stnd Dev: 42.113%\n"
     ]
    }
   ],
   "source": [
    "#from pandas import read_csv\n",
    "#from sklearn.model_selection import cross_val_score\n",
    "#from sklearn.linear_model import LogisticRegression\n",
    "from sklearn.model_selection import LeaveOneOut\n",
    "\n",
    "array = dataframe.values\n",
    "\n",
    "X = array[:, 0:8]\n",
    "Y = array[:, 8]\n",
    "\n",
    "loocv = LeaveOneOut()\n",
    "model = LogisticRegression(solver = 'liblinear')\n",
    "\n",
    "results = cross_val_score(model, X, Y, cv = loocv)\n",
    "\n",
    "print('Accuracy: %.3f%%, Stnd Dev: %.3f%%' % (results.mean()*100.0,\n",
    "                                             results.std()*100.0))\n",
    "\n",
    "# note with stdev that there is much more variance with this model\n",
    "#   than with k-fold cv model above"
   ]
  },
  {
   "cell_type": "code",
   "execution_count": null,
   "metadata": {},
   "outputs": [],
   "source": []
  },
  {
   "cell_type": "markdown",
   "metadata": {},
   "source": [
    "### Repeated Random Test-Train Splits\n",
    "\n",
    "- variation of k-fold\n",
    "- creates random train/test split repeated mutiple times\n",
    "- con: splits may contain much of same data in train and test from each run"
   ]
  },
  {
   "cell_type": "code",
   "execution_count": 21,
   "metadata": {},
   "outputs": [
    {
     "name": "stdout",
     "output_type": "stream",
     "text": [
      "Accuracy: 76.496%, Stnd Dev: 1.698%\n"
     ]
    }
   ],
   "source": [
    "#from pandas import read_csv\n",
    "#from sklearn.model_selection import cross_val_score\n",
    "#from sklearn.linear_model import LogisticRegression\n",
    "from sklearn.model_selection import ShuffleSplit\n",
    "\n",
    "array = dataframe.values\n",
    "\n",
    "X = array[:, 0:8]\n",
    "Y = array[:, 8]\n",
    "\n",
    "n_splits = 10\n",
    "test_size = .33\n",
    "seed = 7\n",
    "\n",
    "# create object to represent random repeat specs\n",
    "kfold = ShuffleSplit(n_splits = n_splits,\n",
    "                    test_size = test_size,\n",
    "                    random_state = seed)\n",
    "\n",
    "model = LogisticRegression(solver = 'liblinear')\n",
    "\n",
    "results = cross_val_score(model, X, Y, cv = kfold)\n",
    "\n",
    "print('Accuracy: %.3f%%, Stnd Dev: %.3f%%' % (results.mean()*100.0,\n",
    "                                               results.std()*100.0))\n",
    "\n",
    "# has low variance similar to k-fold cv"
   ]
  },
  {
   "cell_type": "code",
   "execution_count": null,
   "metadata": {},
   "outputs": [],
   "source": []
  }
 ],
 "metadata": {
  "kernelspec": {
   "display_name": "Python 3",
   "language": "python",
   "name": "python3"
  },
  "language_info": {
   "codemirror_mode": {
    "name": "ipython",
    "version": 3
   },
   "file_extension": ".py",
   "mimetype": "text/x-python",
   "name": "python",
   "nbconvert_exporter": "python",
   "pygments_lexer": "ipython3",
   "version": "3.7.4"
  }
 },
 "nbformat": 4,
 "nbformat_minor": 2
}
