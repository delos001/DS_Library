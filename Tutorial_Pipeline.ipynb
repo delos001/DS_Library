{
 "cells": [
  {
   "cell_type": "markdown",
   "metadata": {},
   "source": [
    "###  Python Basics Tutorial\n",
    "\n",
    "#### Automate Machine Learning Workflows with Pipelines\n",
    "\n",
    "####  Machine Learning Mastery with Python\n",
    "####  Jason Brownlee"
   ]
  },
  {
   "cell_type": "markdown",
   "metadata": {},
   "source": [
    "### Data Prep and Modeling Pipeline\n",
    "- pipelines create workflows that prevent data leakage in test harnass"
   ]
  },
  {
   "cell_type": "code",
   "execution_count": 2,
   "metadata": {},
   "outputs": [],
   "source": [
    "from pandas import read_csv\n",
    "\n",
    "from sklearn.model_selection import KFold\n",
    "from sklearn.model_selection import cross_val_score\n",
    "\n",
    "from sklearn.preprocessing import StandardScaler\n",
    "from sklearn.pipeline import Pipeline\n",
    "\n",
    "from sklearn.discriminant_analysis import LinearDiscriminantAnalysis"
   ]
  },
  {
   "cell_type": "code",
   "execution_count": 3,
   "metadata": {},
   "outputs": [
    {
     "name": "stdout",
     "output_type": "stream",
     "text": [
      "Error Estimate: 0.7735\n"
     ]
    }
   ],
   "source": [
    "## Read file and designate depen and indepen vars\n",
    "\n",
    "path = 'D:\\OneDrive - QJA\\My Files\\DataScience\\DataSets'\n",
    "filename = 'pima-indians-diabetes.data.csv'\n",
    "names = ['preg', 'plas', 'pres', 'skin', 'test', \n",
    "         'mass', 'pedi', 'age', 'class']\n",
    "\n",
    "df = read_csv(path + '\\\\' + filename, names = names)\n",
    "array = df.values\n",
    "X = array[:, 0:8]\n",
    "Y = array[:, 8]\n",
    "\n",
    "## Create Pipeline\n",
    "## estimator is a list of steps provided to Pipeline\n",
    "## note that Pipeline itself is evaluted by kfold cv procedure\n",
    "estimators = []\n",
    "estimators.append(('standardize', StandardScaler()))\n",
    "estimators.append(('lda', LinearDiscriminantAnalysis()))\n",
    "\n",
    "n_splits = 10\n",
    "seed = 7\n",
    "\n",
    "model = Pipeline(estimators)\n",
    "kfold = KFold(n_splits = n_splits, random_state = seed)\n",
    "results = cross_val_score(model, X, Y,\n",
    "                          cv = kfold)\n",
    "\n",
    "print('Error Estimate: %.4f' % results.mean())\n"
   ]
  },
  {
   "cell_type": "code",
   "execution_count": null,
   "metadata": {},
   "outputs": [],
   "source": []
  },
  {
   "cell_type": "markdown",
   "metadata": {},
   "source": [
    "### Pipeline with Feature Extraction\n",
    "- feature extraction is susceptible to data leakage"
   ]
  },
  {
   "cell_type": "code",
   "execution_count": 9,
   "metadata": {},
   "outputs": [
    {
     "name": "stdout",
     "output_type": "stream",
     "text": [
      "[FeatureUnion] ........... (step 1 of 2) Processing pca, total=   0.0s\n",
      "[FeatureUnion] ... (step 2 of 2) Processing select best, total=   0.0s\n",
      "[FeatureUnion] ........... (step 1 of 2) Processing pca, total=   0.0s\n",
      "[FeatureUnion] ... (step 2 of 2) Processing select best, total=   0.0s\n",
      "[FeatureUnion] ........... (step 1 of 2) Processing pca, total=   0.0s\n",
      "[FeatureUnion] ... (step 2 of 2) Processing select best, total=   0.0s\n",
      "[FeatureUnion] ........... (step 1 of 2) Processing pca, total=   0.0s\n",
      "[FeatureUnion] ... (step 2 of 2) Processing select best, total=   0.0s\n",
      "[FeatureUnion] ........... (step 1 of 2) Processing pca, total=   0.0s\n",
      "[FeatureUnion] ... (step 2 of 2) Processing select best, total=   0.0s\n",
      "[FeatureUnion] ........... (step 1 of 2) Processing pca, total=   0.0s\n",
      "[FeatureUnion] ... (step 2 of 2) Processing select best, total=   0.0s\n",
      "[FeatureUnion] ........... (step 1 of 2) Processing pca, total=   0.0s\n",
      "[FeatureUnion] ... (step 2 of 2) Processing select best, total=   0.0s\n",
      "[FeatureUnion] ........... (step 1 of 2) Processing pca, total=   0.0s\n",
      "[FeatureUnion] ... (step 2 of 2) Processing select best, total=   0.0s\n",
      "[FeatureUnion] ........... (step 1 of 2) Processing pca, total=   0.0s\n",
      "[FeatureUnion] ... (step 2 of 2) Processing select best, total=   0.0s\n",
      "[FeatureUnion] ........... (step 1 of 2) Processing pca, total=   0.0s\n",
      "[FeatureUnion] ... (step 2 of 2) Processing select best, total=   0.0s\n",
      "Error Estimate:  0.7760\n"
     ]
    }
   ],
   "source": [
    "from pandas import read_csv\n",
    "\n",
    "from sklearn.model_selection import KFold\n",
    "from sklearn.model_selection import cross_val_score\n",
    "\n",
    "from sklearn.pipeline import Pipeline\n",
    "from sklearn.pipeline import FeatureUnion\n",
    "\n",
    "from sklearn.linear_model import LogisticRegression\n",
    "from sklearn.decomposition import PCA\n",
    "from sklearn.feature_selection import SelectKBest\n",
    "\n",
    "array = df.values\n",
    "X = array[:, 0:8]\n",
    "Y = array[:, 8]\n",
    "\n",
    "## Create Feature Union\n",
    "## feature untion allows results of multiple feature selection\n",
    "##     and extraction procedures to be combined and applied to \n",
    "##     the cv procedure\n",
    "features = []\n",
    "features.append(('pca', PCA(n_components = 3)))\n",
    "features.append(('select best', SelectKBest(k = 6)))\n",
    "\n",
    "feature_union = FeatureUnion(features, \n",
    "                             #verbose = True\n",
    "                            )\n",
    "\n",
    "## create pipeline \n",
    "estimators = []\n",
    "estimators.append(('feature_union', feature_union)) # results of PCA feature selection\n",
    "estimators.append(('logistic', LogisticRegression(solver = 'liblinear')))\n",
    "\n",
    "model = Pipeline(estimators)\n",
    "\n",
    "## evaluate pipeline\n",
    "kfold = KFold(n_splits = 10, random_state = 7)\n",
    "results = cross_val_score(model, X, Y,\n",
    "                          cv = kfold)\n",
    "\n",
    "print('Error Estimate: % .4f' % results.mean())"
   ]
  },
  {
   "cell_type": "code",
   "execution_count": null,
   "metadata": {},
   "outputs": [],
   "source": []
  },
  {
   "cell_type": "code",
   "execution_count": null,
   "metadata": {},
   "outputs": [],
   "source": []
  }
 ],
 "metadata": {
  "kernelspec": {
   "display_name": "Python 3",
   "language": "python",
   "name": "python3"
  },
  "language_info": {
   "codemirror_mode": {
    "name": "ipython",
    "version": 3
   },
   "file_extension": ".py",
   "mimetype": "text/x-python",
   "name": "python",
   "nbconvert_exporter": "python",
   "pygments_lexer": "ipython3",
   "version": "3.7.4"
  }
 },
 "nbformat": 4,
 "nbformat_minor": 2
}
