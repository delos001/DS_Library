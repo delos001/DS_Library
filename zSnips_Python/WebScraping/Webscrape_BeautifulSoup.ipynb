{
 "cells": [
  {
   "cell_type": "code",
   "execution_count": 8,
   "metadata": {},
   "outputs": [
    {
     "name": "stdout",
     "output_type": "stream",
     "text": [
      "132\n"
     ]
    }
   ],
   "source": [
    "from bs4 import BeautifulSoup\n",
    "import requests\n",
    "\n",
    "\n",
    "def get_img_cnt(url):\n",
    "    response = requests.get(url)\n",
    "    soup = BeautifulSoup(response.content, \"lxml\")\n",
    "\n",
    "    return len(soup.find_all('img'))\n",
    "\n",
    "\n",
    "print(get_img_cnt('http://www.cnn.com/2015/03/06/politics/hillary-clinton-emails-was-there-wrongdoing/'))"
   ]
  },
  {
   "cell_type": "code",
   "execution_count": 9,
   "metadata": {},
   "outputs": [
    {
     "name": "stdout",
     "output_type": "stream",
     "text": [
      "1\n"
     ]
    }
   ],
   "source": [
    "from lxml import etree\n",
    "import requests\n",
    "\n",
    "\n",
    "def get_img_cnt(url):\n",
    "    response = requests.get(url)\n",
    "    parser = etree.HTMLParser()\n",
    "    root = etree.fromstring(response.content, parser=parser)\n",
    "\n",
    "    return int(root.xpath('count(//img)'))\n",
    "\n",
    "\n",
    "print(get_img_cnt('https://www.forbes.com/sites/randybrown/2018/08/14/with-4-1-us-gdp-growth-what-comes-next/#6b79bf55342d/'))"
   ]
  },
  {
   "cell_type": "code",
   "execution_count": null,
   "metadata": {},
   "outputs": [],
   "source": []
  },
  {
   "cell_type": "code",
   "execution_count": 16,
   "metadata": {
    "scrolled": false
   },
   "outputs": [
    {
     "name": "stdout",
     "output_type": "stream",
     "text": [
      "/sites/randybrown/: 3\n",
      "https://www.forbes.com/worlds-billionaires/: 2\n",
      "https://www.forbes.com/forbes-400/: 2\n",
      "https://www.forbes.com/innovation/: 2\n",
      "https://www.forbes.com/sites/nvidia/: 2\n",
      "https://www.forbes.com/sites/oracle/: 2\n",
      "https://www.forbes.com/sites/riverbed/#65149b374561: 2\n",
      "https://www.forbes.com/sites/sap/: 2\n",
      "https://www.forbes.com/leadership/: 2\n",
      "https://www.forbes.com/sites/deloitte/: 2\n",
      "https://www.forbes.com/sites/workday/: 2\n",
      "https://www.forbes.com/money/: 2\n",
      "https://www.forbes.com/sites/capitalone/: 2\n",
      "https://www.forbes.com/sites/impactpartners/: 2\n",
      "https://www.forbes.com/consumer/: 2\n",
      "https://www.forbes.com/industry/: 2\n",
      "https://www.forbes.com/sites/mitsubishiheavyindustries/: 2\n",
      "https://www.forbes.com/lifestyle/: 2\n",
      "//www.forbes.com/: 1\n",
      "https://www.forbes.com/billionaires/: 1\n",
      "https://www.forbes.com/self-made-women/: 1\n",
      "https://www.forbes.com/china-billionaires/: 1\n",
      "https://www.forbes.com/india-billionaires/: 1\n",
      "https://www.forbes.com/indonesia-billionaires/: 1\n",
      "https://www.forbes.com/korea-billionaires/list/: 1\n",
      "https://www.forbes.com/thailand-billionaires/list/ : 1\n",
      "https://www.forbes.com/japan-billionaires/list/: 1\n",
      "https://www.forbes.com/australia-billionaires/: 1\n",
      "https://www.forbes.com/taiwan-billionaires/: 1\n",
      "https://www.forbes.com/singapore-billionaires/: 1\n",
      "https://www.forbes.com/philippines-billionaires/: 1\n",
      "https://www.forbes.com/hong-kong-billionaires/: 1\n",
      "https://www.forbes.com/malaysia-billionaires/: 1\n",
      "https://www.forbes.com/ai-big-data/: 1\n",
      "https://www.forbes.com/cloud100/: 1\n",
      "https://www.forbes.com/consumer-tech/: 1\n",
      "https://www.forbes.com/cybersecurity/: 1\n",
      "https://www.forbes.com/enterprise-cloud/: 1\n",
      "https://www.forbes.com/games/: 1\n",
      "https://www.forbes.com/green-tech/: 1\n",
      "https://www.forbes.com/healthcare/: 1\n",
      "https://www.forbes.com/sites/kpmg/: 1\n",
      "https://www.forbes.com/science/: 1\n",
      "https://www.forbes.com/sharing-economy/: 1\n",
      "https://www.forbes.com/social-media/: 1\n",
      "https://www.forbes.com/venture-capital/: 1\n",
      "https://www.forbes.com/cio-network/: 1\n",
      "https://www.forbes.com/careers/: 1\n",
      "https://www.forbes.com/cmo-network/: 1\n",
      "https://www.forbes.com/education/: 1\n",
      "https://www.forbes.com/entrepreneurs/: 1\n",
      "https://www.forbes.com/franchises/: 1\n",
      "https://www.forbes.com/leadership-strategy/: 1\n",
      "https://www.forbes.com/small-business/: 1\n",
      "https://www.forbes.com/under30/: 1\n",
      "https://www.forbes.com/women-at-forbes/: 1\n",
      "https://www.forbes.com/banking-insurance/: 1\n",
      "https://www.forbes.com/crypto-blockchain/: 1\n",
      "https://www.forbes.com/etfs-mutual-funds/: 1\n",
      "https://www.forbes.com/fintech/: 1\n",
      "https://www.forbes.com/hedge-funds-private-equity/: 1\n",
      "https://www.forbes.com/investing/: 1\n",
      "https://www.forbes.com/markets/: 1\n",
      "https://www.forbes.com/personal-finance/: 1\n",
      "https://www.forbes.com/retirement/: 1\n",
      "https://www.forbes.com/taxes/: 1\n",
      "https://www.forbes.com/wealth-management/ : 1\n",
      "https://www.forbes.com/food-drink/: 1\n",
      "https://www.forbes.com/hollywood-entertainment/: 1\n",
      "https://www.forbes.com/media/: 1\n",
      "https://www.forbes.com/real-estate/: 1\n",
      "https://www.forbes.com/retail/: 1\n",
      "https://www.forbes.com/sportsmoney/: 1\n",
      "https://www.forbes.com/aerospace-defense/: 1\n",
      "https://www.forbes.com/energy/: 1\n",
      "https://www.forbes.com/manufacturing/: 1\n",
      "https://www.forbes.com/policy/: 1\n",
      "https://www.forbes.com/transportation/: 1\n",
      "https://www.forbes.com/arts/: 1\n",
      "https://www.forbes.com/forbeslife/: 1\n",
      "https://www.forbes.com/vices/: 1\n",
      "https://www.forbes.com/boats-planes/: 1\n",
      "https://www.forbes.com/watches-jewelry/: 1\n",
      "https://www.forbes.com/cars-bikes/: 1\n",
      "https://www.forbes.com/sites/colehaan/: 1\n",
      "https://www.forbes.com/travel/: 1\n",
      "https://www.forbes.com/forbes-travel-guide/: 1\n",
      "https://www.forbes.com/dining-drinking/: 1\n",
      "https://www.forbes.com/1850brandcoffee/bold-moves/: 1\n",
      "https://www.forbes.com/citrix/empowering-ambition/: 1\n",
      "https://www.forbes.com/editors-picks/: 1\n",
      "https://www.forbes.com/insights-intelai/ai-issue-2/: 1\n",
      "https://www.forbes.com/insights-nuveen/closed-end-funds/: 1\n",
      "https://www.forbes.com/insights-inteliot/connecting-tomorrow/edge-to-edge-vision-and-ai/: 1\n",
      "https://www.forbes.com/video/: 1\n",
      "https://www.forbes.com/sites/forbeswealthteam/2018/10/03/impact-investing-the-billionaires-building-change/: 1\n",
      "https://www.forbes.com/ofx/global-movers/: 1\n",
      "https://www.forbes.com/feature/scale-up/: 1\n",
      "https://www.forbes.com/sites/themacallan/2018/10/01/the-macallan-30-stories-of-gratitude-from-exceptional-business-leaders/: 1\n",
      "https://www.forbes.com/sites/forbeswealthteam/2018/10/03/explore-the-investing-strategies-of-americas-billionaires/: 1\n",
      "https://www.forbes.com/top-wealth-advisors/: 1\n",
      "https://www.forbes.com/vanguard/find-your-retirement/: 1\n",
      "https://www.forbes.com/feature/views-from-under-30-summit/: 1\n",
      "https://www.forbes.com/sites/kpmg/ : 1\n",
      "https://www.forbes.com/lists/: 1\n",
      "/investing: 1\n",
      "http://www.forbes.com/sites/randybrown/2018/08/09/u-s-china-trade-volleys-continue-threaten-soybeans-lng/: 1\n",
      "mailto:feedback@forbes.com: 1\n",
      "https://www.forbes.com/tips/: 1\n",
      "mailto:corrections@forbes.com?subject=Report%20Correction&body=Reporting%20Correction%20for%3A%0A%0ATitle%3A%20With%204.1%25%20U.S.%20GDP%20Growth%2C%20What%20Comes%20Next%3F%0AAuthor%3A%20Randy%20Brown%0AURL%3A%20%2F%2Fwww.forbes.com%2Fsites%2Frandybrown%2F2018%2F08%2F14%2Fwith-4-1-us-gdp-growth-what-comes-next%2F%0A%0A--%0A%0AYour%20Name%3A%0ACorrection%20Request%3A%0A%0A--%0A%0AThank%20you%20for%20reporting%20a%20correction.%20Forbes%20staff%20will%20review%20your%20concern%20shortly.: 1\n",
      "http://forbesreprints.magreprints.com: 1\n",
      "https://www.forbes.com/terms/: 1\n",
      "https://www.forbes.com/fdc/privacy.html: 1\n",
      "http://preferences-mgr.truste.com/?pid=forbes01: 1\n"
     ]
    }
   ],
   "source": [
    "from bs4 import BeautifulSoup\n",
    "from collections import Counter\n",
    "import requests\n",
    "\n",
    "soup = BeautifulSoup(requests.get(\n",
    "    'https://www.forbes.com/sites/randybrown/2018/08/14/with-4-1-us-gdp-growth-what-comes-next/#ecf97342deaa')\n",
    "                     .text, \"html.parser\")\n",
    "\n",
    "foundUrls = Counter([link[\"href\"] for link in soup.find_all(\"a\", href=lambda href: href and not href.startswith(\"#\"))])\n",
    "foundUrls = foundUrls.most_common()\n",
    "\n",
    "for item in foundUrls:\n",
    "    print (\"%s: %d\" % (item[0], item[1]))"
   ]
  }
 ],
 "metadata": {
  "kernelspec": {
   "display_name": "Python 3",
   "language": "python",
   "name": "python3"
  },
  "language_info": {
   "codemirror_mode": {
    "name": "ipython",
    "version": 3
   },
   "file_extension": ".py",
   "mimetype": "text/x-python",
   "name": "python",
   "nbconvert_exporter": "python",
   "pygments_lexer": "ipython3",
   "version": "3.6.4"
  }
 },
 "nbformat": 4,
 "nbformat_minor": 2
}
