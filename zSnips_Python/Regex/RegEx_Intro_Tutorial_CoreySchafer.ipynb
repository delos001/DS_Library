{
 "cells": [
  {
   "cell_type": "markdown",
   "metadata": {},
   "source": [
    "## RegExpression Tutorial by Corey Schafer\n",
    "- https://www.youtube.com/watch?v=K8L6KVGG-7o&t=638s"
   ]
  },
  {
   "cell_type": "code",
   "execution_count": 1,
   "metadata": {},
   "outputs": [],
   "source": [
    "import re"
   ]
  },
  {
   "cell_type": "code",
   "execution_count": 73,
   "metadata": {},
   "outputs": [],
   "source": [
    "text_to_search = '''\n",
    "abcdefghijklmnopqrstuvwxyz\n",
    "ABCDEFGHIJKLMNOPQRSTUVWXYZ\n",
    "1234567890\n",
    "\n",
    "Ha HaHa\n",
    "\n",
    "Metacharacters to be escaped:\n",
    ". ^ $ * + { } [ ] \\ | ( )\n",
    "\n",
    "coreyms.com\n",
    "\n",
    "321-555-4321\n",
    "123.555.1234\n",
    "123*555*1234\n",
    "800-555-1234\n",
    "900-555-1234\n",
    "\n",
    "Mr. Schafer\n",
    "Mr Smith\n",
    "Ms Davis\n",
    "Mrs. Robinson\n",
    "Mr. T\n",
    "\n",
    "under_score\n",
    "\n",
    "cat\n",
    "mat\n",
    "pat\n",
    "bat\n",
    "'''\n",
    "\n"
   ]
  },
  {
   "cell_type": "markdown",
   "metadata": {},
   "source": [
    "### Demonstrate raw string 'r'"
   ]
  },
  {
   "cell_type": "code",
   "execution_count": 10,
   "metadata": {},
   "outputs": [
    {
     "name": "stdout",
     "output_type": "stream",
     "text": [
      "\tTab\n",
      "\\tTab\n"
     ]
    }
   ],
   "source": [
    "# Example to show how 'r' tells python to treat as raw string\n",
    "\n",
    "print('\\tTab'); print(r'\\tTab')"
   ]
  },
  {
   "cell_type": "markdown",
   "metadata": {},
   "source": [
    "### Literal Search with re.compile method"
   ]
  },
  {
   "cell_type": "code",
   "execution_count": 12,
   "metadata": {},
   "outputs": [
    {
     "name": "stdout",
     "output_type": "stream",
     "text": [
      "<re.Match object; span=(1, 4), match='abc'>\n",
      "abc\n"
     ]
    }
   ],
   "source": [
    "## Example using re.compile method\n",
    "##   can resuse variable for multiple searches\n",
    "\n",
    "pattern = re.compile(r'abc')  #searches for 'abc' in that order\n",
    "\n",
    "matches = pattern.finditer(text_to_search)\n",
    "\n",
    "for match in matches:\n",
    "    print(match)\n",
    "    \n",
    "## produces an object\n",
    "##  span is beginning and end index of the match\n",
    "##     so it found 1 match of 'abc' at index 1-4\n",
    "##         this is useful so we can use these indexes later (below)\n",
    "\n",
    "print(text_to_search[1:4])\n",
    "\n",
    "\n",
    "## output will produce one line per finding"
   ]
  },
  {
   "cell_type": "code",
   "execution_count": 14,
   "metadata": {},
   "outputs": [],
   "source": [
    "## note that above pattern 'abc' will search for that error\n",
    "##    so if we search cba, nothing will result\n",
    "\n",
    "pattern2 = re.compile(r'cba')\n",
    "matches2 = pattern2.finditer(text_to_search)\n",
    "\n",
    "for match in matches2:\n",
    "    print(match)"
   ]
  },
  {
   "cell_type": "code",
   "execution_count": 20,
   "metadata": {},
   "outputs": [],
   "source": [
    "## Example using the period special character\n",
    "\n",
    "pattern = re.compile(r'.')  # matches all characters (except new line)\n",
    "\n",
    "matches = pattern.finditer(text_to_search)\n",
    "\n",
    "#for match in matches:\n",
    "#    print(match)"
   ]
  },
  {
   "cell_type": "code",
   "execution_count": 16,
   "metadata": {},
   "outputs": [
    {
     "name": "stdout",
     "output_type": "stream",
     "text": [
      "<re.Match object; span=(106, 107), match='.'>\n",
      "<re.Match object; span=(140, 141), match='.'>\n",
      "<re.Match object; span=(162, 163), match='.'>\n",
      "<re.Match object; span=(166, 167), match='.'>\n",
      "<re.Match object; span=(175, 176), match='.'>\n",
      "<re.Match object; span=(206, 207), match='.'>\n",
      "<re.Match object; span=(219, 220), match='.'>\n"
     ]
    }
   ],
   "source": [
    "## now if we want to actually search for a period, \n",
    "##   must escape the period first\n",
    "\n",
    "pattern = re.compile(r'\\.')  #searches for 'abc' in that order\n",
    "\n",
    "matches = pattern.finditer(text_to_search)\n",
    "\n",
    "for match in matches:\n",
    "    print(match)\n",
    "    \n",
    "## output below is all the periods that appear in text_to_search"
   ]
  },
  {
   "cell_type": "code",
   "execution_count": 17,
   "metadata": {},
   "outputs": [
    {
     "name": "stdout",
     "output_type": "stream",
     "text": [
      "<re.Match object; span=(133, 144), match='coreyms.com'>\n"
     ]
    }
   ],
   "source": [
    "## Example scaping the period in a string such as a URL\n",
    "\n",
    "pattern = re.compile(r'coreyms\\.com')  #searches for 'abc' in that order\n",
    "\n",
    "matches = pattern.finditer(text_to_search)\n",
    "\n",
    "for match in matches:\n",
    "    print(match)"
   ]
  },
  {
   "cell_type": "code",
   "execution_count": null,
   "metadata": {},
   "outputs": [],
   "source": []
  },
  {
   "cell_type": "markdown",
   "metadata": {},
   "source": [
    "### Pattern Searching"
   ]
  },
  {
   "cell_type": "code",
   "execution_count": 54,
   "metadata": {},
   "outputs": [],
   "source": [
    "## '\\d'  #searches anything that is a digit\n",
    "## '\\D'  #searches anything that is not a digit\n",
    "## '\\w'  #searches for word character (a-z, A-Z, 0-9, _): any letter, digit, underscore\n",
    "## '\\W'  #searched for anything not a word Character: no upper/lower letters, digits, underscores\n",
    "## '\\s'  #searches anything that is whitespace (space, tab, newline)\n",
    "## '\\S'  #searches anything that is not whitespace\n",
    "## '\\b'  #searches anything that is a word boundary (whitespace or non-alphanumeric character)\n",
    "## '\\B'  #searches anything that is not a word boundary\n",
    "\n",
    "pattern = re.compile(r'\\W')  #searches anything that is a digit\n",
    "\n",
    "matches = pattern.finditer(text_to_search)\n",
    "\n",
    "#for match in matches:\n",
    "#    print(match)"
   ]
  },
  {
   "cell_type": "markdown",
   "metadata": {},
   "source": [
    "### Word Boundary example"
   ]
  },
  {
   "cell_type": "code",
   "execution_count": 40,
   "metadata": {},
   "outputs": [
    {
     "name": "stdout",
     "output_type": "stream",
     "text": [
      "<re.Match object; span=(67, 69), match='Ha'>\n",
      "<re.Match object; span=(72, 74), match='Ha'>\n"
     ]
    }
   ],
   "source": [
    "pattern = re.compile(r'\\bHa')\n",
    "matches = pattern.finditer(text_to_search)\n",
    "\n",
    "for match in matches:\n",
    "    print(match)\n",
    "    \n",
    "##  Ha HaHa\n",
    "##  this matches the first Ha since it's start of a line\n",
    "##    and the second Ha because there is a space between first\n",
    "##    Ha and second.  Doesn't get 3rd Ha because its not preceded\n",
    "##    by a word boundary\n",
    "\n",
    "##  if you change pattern to pattern = re.compile(r'\\bHa\\b')\n",
    "##   it will just get the first Ha since the pattern requires\n",
    "##   that word boundary be on both sides"
   ]
  },
  {
   "cell_type": "code",
   "execution_count": 39,
   "metadata": {},
   "outputs": [
    {
     "name": "stdout",
     "output_type": "stream",
     "text": [
      "<re.Match object; span=(72, 74), match='Ha'>\n"
     ]
    }
   ],
   "source": [
    "pattern = re.compile(r'\\BHa')\n",
    "matches = pattern.finditer(text_to_search)\n",
    "\n",
    "for match in matches:\n",
    "    print(match)\n",
    "    \n",
    "##  Ha HaHa\n",
    "##  this matches the 3rd Ha since it's the Ha that isn't bounded\n",
    "##    by a word boundary"
   ]
  },
  {
   "cell_type": "markdown",
   "metadata": {},
   "source": [
    "### Start of a String ^"
   ]
  },
  {
   "cell_type": "code",
   "execution_count": 43,
   "metadata": {},
   "outputs": [
    {
     "name": "stdout",
     "output_type": "stream",
     "text": [
      "<re.Match object; span=(0, 5), match='Start'>\n"
     ]
    }
   ],
   "source": [
    "sentence = 'Start a sentence and then bring it to an end'\n",
    "pattern = re.compile(r'^Start')  # 'Start' has to be at beginning of string \n",
    "matches = pattern.finditer(sentence)\n",
    "\n",
    "for match in matches:\n",
    "    print(match)\n",
    "    \n",
    "## would produce nothing because 'a' is not at begining of string    \n",
    "#pattern = re.compile(r'^a')  # 'a' has to be at beginning of string "
   ]
  },
  {
   "cell_type": "markdown",
   "metadata": {},
   "source": [
    "### End of the String $"
   ]
  },
  {
   "cell_type": "code",
   "execution_count": 45,
   "metadata": {},
   "outputs": [
    {
     "name": "stdout",
     "output_type": "stream",
     "text": [
      "<re.Match object; span=(41, 44), match='end'>\n"
     ]
    }
   ],
   "source": [
    "## note the order: $ goes after the test of interest\n",
    "\n",
    "sentence = 'Start a sentence and then bring it to an end'\n",
    "pattern = re.compile(r'end$')  # 'end' has to be at end of string \n",
    "matches = pattern.finditer(sentence)\n",
    "\n",
    "for match in matches:\n",
    "    print(match)\n",
    "    \n",
    "## produces nothing because 'a' is not at end of string\n",
    "#pattern = re.compile(r'a$')  # 'a' has to be at end of string"
   ]
  },
  {
   "cell_type": "code",
   "execution_count": null,
   "metadata": {},
   "outputs": [],
   "source": []
  },
  {
   "cell_type": "markdown",
   "metadata": {},
   "source": [
    "### Match Number Pattern"
   ]
  },
  {
   "cell_type": "code",
   "execution_count": 57,
   "metadata": {},
   "outputs": [
    {
     "name": "stdout",
     "output_type": "stream",
     "text": [
      "<re.Match object; span=(146, 158), match='321-555-4321'>\n",
      "<re.Match object; span=(159, 171), match='123.555.1234'>\n",
      "<re.Match object; span=(172, 184), match='123*555*1234'>\n"
     ]
    }
   ],
   "source": [
    "## see text_to_search\n",
    "\n",
    "# \\d\\d\\d get string of 3 digits \n",
    "# the . searches for any character (catches -, ., *)\n",
    "pattern = re.compile(r'\\d\\d\\d.\\d\\d\\d.\\d\\d\\d\\d')  \n",
    "matches = pattern.finditer(text_to_search)\n",
    "\n",
    "for match in matches:\n",
    "    print(match)"
   ]
  },
  {
   "cell_type": "code",
   "execution_count": 53,
   "metadata": {},
   "outputs": [],
   "source": [
    "## example: external file of names applying regex on with open\n",
    "\n",
    "path = 'D:\\OneDrive - QJA\\My Files\\DataScience\\DataSets'\n",
    "filename = 'NamePhoneAddressEmail.txt'\n",
    "\n",
    "with open(path + '\\\\' + filename, 'r') as f:\n",
    "    contents = f.read()\n",
    "    \n",
    "    matches = pattern.finditer(contents)\n",
    "    #for match in matches:\n",
    "    #    print(match)"
   ]
  },
  {
   "cell_type": "code",
   "execution_count": null,
   "metadata": {},
   "outputs": [],
   "source": []
  },
  {
   "cell_type": "code",
   "execution_count": 58,
   "metadata": {},
   "outputs": [
    {
     "name": "stdout",
     "output_type": "stream",
     "text": [
      "<re.Match object; span=(146, 158), match='321-555-4321'>\n",
      "<re.Match object; span=(159, 171), match='123.555.1234'>\n"
     ]
    }
   ],
   "source": [
    "## use [] to specify characters\n",
    "## see text_to_search\n",
    "\n",
    "# \\d\\d\\d get string of 3 digits \n",
    "# specify the characters between each digit segment (either a - or a .)\n",
    "pattern = re.compile(r'\\d\\d\\d[-.]\\d\\d\\d[-.]\\d\\d\\d\\d')  # notice don't need to escape with the []\n",
    "matches = pattern.finditer(text_to_search)\n",
    "\n",
    "for match in matches:\n",
    "    print(match)\n",
    "    \n",
    "## notice it doesn't grab '123*555*1234' since * isn't specified"
   ]
  },
  {
   "cell_type": "code",
   "execution_count": null,
   "metadata": {},
   "outputs": [],
   "source": []
  },
  {
   "cell_type": "markdown",
   "metadata": {},
   "source": [
    "### Match pattern of specifid digits"
   ]
  },
  {
   "cell_type": "code",
   "execution_count": 61,
   "metadata": {},
   "outputs": [
    {
     "name": "stdout",
     "output_type": "stream",
     "text": [
      "<re.Match object; span=(185, 197), match='800-555-1234'>\n",
      "<re.Match object; span=(198, 210), match='900-555-1234'>\n"
     ]
    }
   ],
   "source": [
    "## only get 800 or 900 numbers\n",
    "\n",
    "pattern = re.compile(r'[89]00[-.]\\d\\d\\d[-.]\\d\\d\\d\\d')  # notice don't need to escape with the []\n",
    "matches = pattern.finditer(text_to_search)\n",
    "\n",
    "for match in matches:\n",
    "    print(match)"
   ]
  },
  {
   "cell_type": "code",
   "execution_count": 63,
   "metadata": {},
   "outputs": [
    {
     "name": "stdout",
     "output_type": "stream",
     "text": [
      "<re.Match object; span=(102, 114), match='800-555-5669'>\n",
      "<re.Match object; span=(281, 293), match='900-555-9340'>\n",
      "<re.Match object; span=(467, 479), match='800-555-6771'>\n",
      "<re.Match object; span=(1093, 1105), match='900-555-3205'>\n",
      "<re.Match object; span=(1443, 1455), match='800-555-6089'>\n",
      "<re.Match object; span=(1794, 1806), match='800-555-7100'>\n",
      "<re.Match object; span=(2055, 2067), match='900-555-5118'>\n",
      "<re.Match object; span=(2830, 2842), match='900-555-5428'>\n",
      "<re.Match object; span=(3290, 3302), match='800-555-8810'>\n",
      "<re.Match object; span=(3977, 3989), match='900-555-9598'>\n",
      "<re.Match object; span=(4951, 4963), match='800-555-2420'>\n",
      "<re.Match object; span=(5572, 5584), match='900-555-3567'>\n",
      "<re.Match object; span=(6195, 6207), match='800-555-3216'>\n",
      "<re.Match object; span=(6897, 6909), match='900-555-7755'>\n",
      "<re.Match object; span=(7872, 7884), match='800-555-1372'>\n",
      "<re.Match object; span=(8751, 8763), match='900-555-6426'>\n"
     ]
    }
   ],
   "source": [
    "## same but using the external txt file to get all 800 and 900\n",
    "\n",
    "pattern = re.compile(r'[89]00[-.]\\d\\d\\d[-.]\\d\\d\\d\\d')  # notice don't need to escape with the []\n",
    "\n",
    "with open(path + '\\\\' + filename, 'r') as f:\n",
    "    contents = f.read()\n",
    "    \n",
    "    matches = pattern.finditer(contents)\n",
    "    for match in matches:\n",
    "        print(match)"
   ]
  },
  {
   "cell_type": "code",
   "execution_count": null,
   "metadata": {},
   "outputs": [],
   "source": []
  },
  {
   "cell_type": "markdown",
   "metadata": {},
   "source": [
    "### Match Characters in a Range"
   ]
  },
  {
   "cell_type": "code",
   "execution_count": null,
   "metadata": {},
   "outputs": [],
   "source": [
    "## match digits between 1 and 5\n",
    "\n",
    "pattern = re.compile(r'[1-5]')\n",
    "\n",
    "matches = pattern.finditer(text_to_search)\n",
    "\n",
    "for match in matches:\n",
    "    print(match)"
   ]
  },
  {
   "cell_type": "code",
   "execution_count": 66,
   "metadata": {},
   "outputs": [],
   "source": [
    "## match letters in a range\n",
    "\n",
    "pattern = re.compile(r'[a-z]') # lower case\n",
    "#pattern = re.compile(r'[a-zA-Z]') # upper and lower\n",
    "matches = pattern.finditer(text_to_search)\n",
    "\n",
    "#for match in matches:\n",
    "#    print(match)"
   ]
  },
  {
   "cell_type": "markdown",
   "metadata": {},
   "source": [
    "### Negate"
   ]
  },
  {
   "cell_type": "code",
   "execution_count": 69,
   "metadata": {},
   "outputs": [
    {
     "name": "stdout",
     "output_type": "stream",
     "text": [
      "<re.Match object; span=(0, 1), match='\\n'>\n"
     ]
    }
   ],
   "source": [
    "## A ^ outside character set means \"at the beginning\" but inside\n",
    "##   the character set means negate (get everything but...)\n",
    "pattern = re.compile(r'[^a-zA-Z]') # upper and lower\n",
    "matches = pattern.finditer(text_to_search)\n",
    "\n",
    "for match in matches:\n",
    "    print(match)"
   ]
  },
  {
   "cell_type": "code",
   "execution_count": 74,
   "metadata": {},
   "outputs": [
    {
     "name": "stdout",
     "output_type": "stream",
     "text": [
      "<re.Match object; span=(276, 279), match='cat'>\n",
      "<re.Match object; span=(280, 283), match='mat'>\n",
      "<re.Match object; span=(284, 287), match='pat'>\n"
     ]
    }
   ],
   "source": [
    "## cat, mat, pat, bat (from text_to_search)\n",
    "## get everything that doesn't start with a 'b' but is followed by 'at'\n",
    "\n",
    "pattern = re.compile(r'[^b]at') # upper and lower\n",
    "matches = pattern.finditer(text_to_search)\n",
    "\n",
    "for match in matches:\n",
    "    print(match)"
   ]
  },
  {
   "cell_type": "code",
   "execution_count": null,
   "metadata": {},
   "outputs": [],
   "source": []
  },
  {
   "cell_type": "markdown",
   "metadata": {},
   "source": [
    "### Quantifier to Match Multiple Characters at 1 Time"
   ]
  },
  {
   "cell_type": "code",
   "execution_count": 79,
   "metadata": {},
   "outputs": [
    {
     "name": "stdout",
     "output_type": "stream",
     "text": [
      "<re.Match object; span=(146, 158), match='321-555-4321'>\n",
      "<re.Match object; span=(159, 171), match='123.555.1234'>\n",
      "<re.Match object; span=(172, 184), match='123*555*1234'>\n",
      "<re.Match object; span=(185, 197), match='800-555-1234'>\n",
      "<re.Match object; span=(198, 210), match='900-555-1234'>\n"
     ]
    }
   ],
   "source": [
    "## when we know exact number\n",
    "\n",
    "## Instead of using pattern = re.compile(r'\\d\\d\\d.\\d\\d\\d.\\d\\d\\d\\d')\n",
    "##   to get phone numbers (example above)\n",
    "\n",
    "## match: digit with 3 sep by anaything, then digit of 3 sep by anything\n",
    "##   then digit of 4\n",
    "pattern = re.compile(r'\\d{3}.\\d{3}.\\d{4}')\n",
    "matches = pattern.finditer(text_to_search)\n",
    "\n",
    "for match in matches:\n",
    "    print(match)"
   ]
  },
  {
   "cell_type": "code",
   "execution_count": 86,
   "metadata": {},
   "outputs": [
    {
     "name": "stdout",
     "output_type": "stream",
     "text": [
      "<re.Match object; span=(212, 223), match='Mr. Schafer'>\n",
      "<re.Match object; span=(224, 232), match='Mr Smith'>\n",
      "<re.Match object; span=(233, 241), match='Ms Davis'>\n",
      "<re.Match object; span=(242, 255), match='Mrs. Robinson'>\n",
      "<re.Match object; span=(256, 261), match='Mr. T'>\n"
     ]
    }
   ],
   "source": [
    "##  when we don't know the exact number of characters\n",
    "## from text_to_search\n",
    "## Mr. Schafer\n",
    "## Mr Smith\n",
    "## Ms Davis\n",
    "## Mrs. Robinson\n",
    "## Mr. T\n",
    "\n",
    "## match string containing Mr and a period (the \\ escapes the period)\n",
    "pattern = re.compile(r'Mr\\.')\n",
    "\n",
    "# period after prefix optional(? zero or 1 period characters)\n",
    "# the \\ escapes the period so its not used as wildcard 'match any character'\n",
    "pattern = re.compile(r'Mr\\.?') \n",
    "\n",
    "# match up to 1st letter of last name (because we specified upper case)\n",
    "# \\s is space: so get capital letter after first space\n",
    "pattern = re.compile(r'Mr\\.?\\s[A-Z]') \n",
    "\n",
    "# same as above but \\w* = match zero or more word characters after first uppercase\n",
    "pattern = re.compile(r'Mr\\.?\\s[A-Z]\\w*')\n",
    "\n",
    "# create more specific pattern to capture Mr and Mrs\n",
    "# use or piple (|) to specify characters of interest\n",
    "pattern = re.compile(r'M(r|s|rs)\\.?\\s[A-Z]\\w*')\n",
    "\n",
    "matches = pattern.finditer(text_to_search)\n",
    "\n",
    "for match in matches:\n",
    "    print(match)"
   ]
  },
  {
   "cell_type": "code",
   "execution_count": null,
   "metadata": {},
   "outputs": [],
   "source": []
  },
  {
   "cell_type": "markdown",
   "metadata": {},
   "source": [
    "### Combine Concepts from Above"
   ]
  },
  {
   "cell_type": "code",
   "execution_count": 99,
   "metadata": {},
   "outputs": [
    {
     "name": "stdout",
     "output_type": "stream",
     "text": [
      "<re.Match object; span=(1, 24), match='CoreyMSchafer@gmail.com'>\n",
      "<re.Match object; span=(25, 53), match='corey.schafer@university.edu'>\n",
      "<re.Match object; span=(54, 83), match='corey-321-schafer@my-work.net'>\n"
     ]
    }
   ],
   "source": [
    "emails = '''\n",
    "CoreyMSchafer@gmail.com\n",
    "corey.schafer@university.edu\n",
    "corey-321-schafer@my-work.net\n",
    "'''\n",
    "\n",
    "\n",
    "# get upper or lower case\n",
    "# +@ match one or more of characters in the [] up until we hit @ symbol\n",
    "# get one or more letters after the @ up until the .com\n",
    "# will yeild the first email\n",
    "pattern = re.compile(r'[a-zA-Z]+@[a-zA-Z]+\\.com')\n",
    "\n",
    "# since above doesn't account for the period, need to include it after first char set\n",
    "# also need to include the edu\n",
    "pattern = re.compile(r'[a-zA-Z.]+@[a-zA-Z]+\\.(com|edu)')\n",
    "\n",
    "# above does't account for numbers and hyphen in 3rd email so need to account for that\n",
    "# add 0-9 to account for number, and a - to account for hypens at begining and end\n",
    "pattern = re.compile(r'[a-zA-Z0-9.-]+@[a-zA-Z-]+\\.(com|edu|net)')\n",
    "\n",
    "matches = pattern.finditer(emails) \n",
    "\n",
    "for match in matches:\n",
    "    print(match)"
   ]
  },
  {
   "cell_type": "code",
   "execution_count": null,
   "metadata": {},
   "outputs": [],
   "source": []
  },
  {
   "cell_type": "markdown",
   "metadata": {},
   "source": [
    "## Select characters from a String"
   ]
  },
  {
   "cell_type": "code",
   "execution_count": 122,
   "metadata": {},
   "outputs": [
    {
     "name": "stdout",
     "output_type": "stream",
     "text": [
      "https://\n",
      "http://\n",
      "https://\n",
      "https://\n"
     ]
    }
   ],
   "source": [
    "urls = '''\n",
    "https://www.google.com\n",
    "http://coryms.com\n",
    "https://youtube.com\n",
    "https://www.nasa.gov\n",
    "'''\n",
    "\n",
    "# ? after s tells the s is optional\n",
    "# putting www. in a group () allows to apply ? to entire www making it optional since some don't have www\n",
    "# \\w+ match 1 or more word character up to the period\n",
    "# \\w+ get one or more characters (after the period)\n",
    "pattern = re.compile(r'https?://(www\\.)?\\w+\\.\\w+')\n",
    "\n",
    "# since we are interested in the domain and high level domain, use\n",
    "#    parenthesis create 4 different groups: \n",
    "#      1: http(s)   2: www. 3: domain name   4: high level domain (.com, .gov)\n",
    "#      group 0 would be entire url\n",
    "pattern = re.compile(r'(https?://)(www\\.)?(\\w+)(\\.\\w+)')\n",
    "\n",
    "matches = pattern.finditer(url)\n",
    "for match in matches:\n",
    "    print(match.group(1))  # try group 0, 1, 2"
   ]
  },
  {
   "cell_type": "code",
   "execution_count": 124,
   "metadata": {},
   "outputs": [
    {
     "name": "stdout",
     "output_type": "stream",
     "text": [
      "\n",
      "google.com\n",
      "coryms.com\n",
      "youtube.com\n",
      "nasa.gov\n",
      "\n"
     ]
    }
   ],
   "source": [
    "# use the groups from above to specify which part of the strings\n",
    "#   you are interested (so it can be isolated if desired)\n",
    "\n",
    "subbed_urls = pattern.sub(r'\\3\\4', urls)\n",
    "print(subbed_urls)"
   ]
  },
  {
   "cell_type": "code",
   "execution_count": null,
   "metadata": {},
   "outputs": [],
   "source": []
  },
  {
   "cell_type": "markdown",
   "metadata": {},
   "source": [
    "### Findall Method\n",
    "\n",
    "finditer returns matches plus other metadata info\n",
    "findall will just return the matches"
   ]
  },
  {
   "cell_type": "code",
   "execution_count": 129,
   "metadata": {},
   "outputs": [
    {
     "name": "stdout",
     "output_type": "stream",
     "text": [
      "<re.Match object; span=(212, 223), match='Mr. Schafer'>\n",
      "<re.Match object; span=(224, 232), match='Mr Smith'>\n",
      "<re.Match object; span=(233, 241), match='Ms Davis'>\n",
      "<re.Match object; span=(242, 255), match='Mrs. Robinson'>\n",
      "<re.Match object; span=(256, 261), match='Mr. T'>\n",
      "Mr\n",
      "Mr\n",
      "Ms\n",
      "Mrs\n",
      "Mr\n"
     ]
    }
   ],
   "source": [
    "pattern = re.compile(r'(Mr|Ms|Mrs)\\.?\\s[A-Z]\\w*')\n",
    "\n",
    "## uses finditer\n",
    "matches = pattern.finditer(text_to_search)\n",
    "for match in matches:\n",
    "    print(match)\n",
    "    \n",
    "## uses findall  (just produces the groups)\n",
    "matches = pattern.findall(text_to_search)\n",
    "for match in matches:\n",
    "    print(match)"
   ]
  },
  {
   "cell_type": "code",
   "execution_count": 127,
   "metadata": {},
   "outputs": [
    {
     "name": "stdout",
     "output_type": "stream",
     "text": [
      "<re.Match object; span=(212, 223), match='Mr. Schafer'>\n",
      "<re.Match object; span=(224, 232), match='Mr Smith'>\n",
      "<re.Match object; span=(233, 241), match='Ms Davis'>\n",
      "<re.Match object; span=(242, 255), match='Mrs. Robinson'>\n",
      "<re.Match object; span=(256, 261), match='Mr. T'>\n"
     ]
    }
   ],
   "source": []
  },
  {
   "cell_type": "code",
   "execution_count": null,
   "metadata": {},
   "outputs": [],
   "source": []
  },
  {
   "cell_type": "markdown",
   "metadata": {},
   "source": [
    "### Match Method\n",
    "\n",
    "determine if a string is present within another string"
   ]
  },
  {
   "cell_type": "code",
   "execution_count": 134,
   "metadata": {},
   "outputs": [
    {
     "name": "stdout",
     "output_type": "stream",
     "text": [
      "<re.Match object; span=(0, 5), match='Start'>\n"
     ]
    }
   ],
   "source": [
    "## match matches if a string is present within another string\n",
    "##   only matches at beginning of string\n",
    "\n",
    "sentence = 'Start a sentence and then bring it to an end'\n",
    "\n",
    "pattern = re.compile(r'Start')\n",
    "\n",
    "matches = pattern.match(sentence)\n",
    "## match produces true false so don't need to iterate with for loop\n",
    "\n",
    "print(matches)"
   ]
  },
  {
   "cell_type": "markdown",
   "metadata": {},
   "source": [
    "### Search Method\n",
    "searches for a string within a string\n",
    "only prints first match it finds"
   ]
  },
  {
   "cell_type": "code",
   "execution_count": 136,
   "metadata": {},
   "outputs": [
    {
     "name": "stdout",
     "output_type": "stream",
     "text": [
      "<re.Match object; span=(26, 31), match='bring'>\n"
     ]
    }
   ],
   "source": [
    "sentence = 'Start a sentence and then bring it to an end'\n",
    "\n",
    "pattern = re.compile(r'bring')\n",
    "\n",
    "matches = pattern.search(sentence)\n",
    "## search produces true false so don't need to iterate with for loop\n",
    "\n",
    "print(matches)\n",
    "\n",
    "## if search for string that isn't present, produces 'None'"
   ]
  },
  {
   "cell_type": "code",
   "execution_count": null,
   "metadata": {},
   "outputs": [],
   "source": []
  },
  {
   "cell_type": "markdown",
   "metadata": {},
   "source": [
    "### Flags\n",
    "\n",
    "like shortcut functions that can help cut down on syntax"
   ]
  },
  {
   "cell_type": "code",
   "execution_count": 139,
   "metadata": {},
   "outputs": [
    {
     "name": "stdout",
     "output_type": "stream",
     "text": [
      "<re.Match object; span=(0, 5), match='Start'>\n"
     ]
    }
   ],
   "source": [
    "sentence = 'Start a sentence and then bring it to an end'\n",
    "\n",
    "## find 'start' at beginning of text and ignore upper or lower case\n",
    "pattern = re.compile(r'start', re.IGNORECASE)\n",
    "\n",
    "matches = pattern.search(sentence)\n",
    "print(matches)"
   ]
  },
  {
   "cell_type": "code",
   "execution_count": null,
   "metadata": {},
   "outputs": [],
   "source": []
  }
 ],
 "metadata": {
  "kernelspec": {
   "display_name": "Python 3",
   "language": "python",
   "name": "python3"
  },
  "language_info": {
   "codemirror_mode": {
    "name": "ipython",
    "version": 3
   },
   "file_extension": ".py",
   "mimetype": "text/x-python",
   "name": "python",
   "nbconvert_exporter": "python",
   "pygments_lexer": "ipython3",
   "version": "3.7.4"
  }
 },
 "nbformat": 4,
 "nbformat_minor": 2
}
