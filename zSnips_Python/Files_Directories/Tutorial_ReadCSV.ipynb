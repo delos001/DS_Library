{
 "cells": [
  {
   "cell_type": "markdown",
   "metadata": {},
   "source": [
    "###  Loading Data Basics Tutorial\n",
    "\n",
    "####  Machine Learning Mastery with Python\n",
    "####  Jason Brownlee"
   ]
  },
  {
   "cell_type": "markdown",
   "metadata": {},
   "source": [
    "####  Notes\n",
    "\n",
    "- Headers: if no header, may need to manually name columns\n",
    "- Comments: if comments present, need to indicate this and specify\n",
    "    character that designates a comment line (ie: hash(#) for CSV)\n",
    "- Delimiter: if file uses other than comma delimiter, you\n",
    "    need to specify\n",
    "    \n",
    "\n",
    "#### This tutorial uses PIMA Indian Dataset\n",
    "all the fields in data set are numeric and there is no header\n",
    "\n",
    "https://raw.githubusercontent.com/jbrownlee/Datasets/master/pima-indians-diabetes.data.csv"
   ]
  },
  {
   "cell_type": "markdown",
   "metadata": {},
   "source": [
    "##  Load CSV with Python Standard Library"
   ]
  },
  {
   "cell_type": "code",
   "execution_count": 10,
   "metadata": {},
   "outputs": [
    {
     "name": "stdout",
     "output_type": "stream",
     "text": [
      "(768, 9)\n"
     ]
    }
   ],
   "source": [
    "import csv\n",
    "import numpy\n",
    "\n",
    "filename = 'pima-indians-diabetes.data.csv'\n",
    "path = 'D:\\\\OneDrive - QJA\\\\My Files\\\\DataScience\\\\DataSets'\n",
    "\n",
    "# functional object to open the file\n",
    "raw_data = open(path + '\\\\' + filename, 'rt')\n",
    "\n",
    "# functional object to read file into python one row at a time\n",
    "reader = csv.reader(raw_data, \n",
    "                    delimiter = ',', \n",
    "                    quoting = csv.QUOTE_NONE)\n",
    "\n",
    "# turn into list\n",
    "x = list(reader)\n",
    "\n",
    "# turn data into array and number type as float\n",
    "data = numpy.array(x).astype('float')\n",
    "print(data.shape)"
   ]
  },
  {
   "cell_type": "markdown",
   "metadata": {},
   "source": [
    "##  Load CSV with Numpy"
   ]
  },
  {
   "cell_type": "code",
   "execution_count": 13,
   "metadata": {},
   "outputs": [
    {
     "name": "stdout",
     "output_type": "stream",
     "text": [
      "(768, 9)\n"
     ]
    }
   ],
   "source": [
    "from numpy import loadtxt\n",
    "\n",
    "filename = 'pima-indians-diabetes.data.csv'\n",
    "path = 'D:\\\\OneDrive - QJA\\\\My Files\\\\DataScience\\\\DataSets'\n",
    "\n",
    "raw_data = open(path + '\\\\' + filename, 'rt')\n",
    "data = loadtxt(raw_data, delimiter = ',')\n",
    "print(data.shape)"
   ]
  },
  {
   "cell_type": "markdown",
   "metadata": {},
   "source": [
    "## Load with Numpy from URL"
   ]
  },
  {
   "cell_type": "code",
   "execution_count": 14,
   "metadata": {},
   "outputs": [
    {
     "name": "stdout",
     "output_type": "stream",
     "text": [
      "(768, 9)\n"
     ]
    }
   ],
   "source": [
    "# load directly from URL\n",
    "\n",
    "from numpy import loadtxt\n",
    "from urllib.request import urlopen\n",
    "\n",
    "url = 'https://goo.gl/bDdBiA'\n",
    "\n",
    "raw_data = urlopen(url)\n",
    "\n",
    "dataset = loadtxt(raw_data, delimiter = ',')\n",
    "print(dataset.shape)"
   ]
  },
  {
   "cell_type": "markdown",
   "metadata": {},
   "source": [
    "##  Load CSV with Pandas"
   ]
  },
  {
   "cell_type": "code",
   "execution_count": 16,
   "metadata": {},
   "outputs": [
    {
     "name": "stdout",
     "output_type": "stream",
     "text": [
      "(768, 9)\n"
     ]
    }
   ],
   "source": [
    "from pandas import read_csv\n",
    "\n",
    "filename = 'pima-indians-diabetes.data.csv'\n",
    "path = 'D:\\\\OneDrive - QJA\\\\My Files\\\\DataScience\\\\DataSets'\n",
    "\n",
    "names = ['preg', 'plas', 'pres', 'skin', 'test',\n",
    "        'mass', 'pedi', 'age', 'class']\n",
    "\n",
    "data = read_csv(path + '\\\\' + filename, names = names)\n",
    "\n",
    "print(data.shape)"
   ]
  },
  {
   "cell_type": "markdown",
   "metadata": {},
   "source": [
    "##  Load with Pandas from URL"
   ]
  },
  {
   "cell_type": "code",
   "execution_count": 17,
   "metadata": {},
   "outputs": [
    {
     "name": "stdout",
     "output_type": "stream",
     "text": [
      "(768, 9)\n"
     ]
    }
   ],
   "source": [
    "from pandas import read_csv\n",
    "from urllib.request import urlopen\n",
    "\n",
    "url = 'https://goo.gl/bDdBiA'\n",
    "names = ['preg', 'plas', 'pres', 'skin', 'test',\n",
    "        'mass', 'pedi', 'age', 'class']\n",
    "\n",
    "data = read_csv(url, names=names)\n",
    "\n",
    "print(data.shape)"
   ]
  },
  {
   "cell_type": "code",
   "execution_count": null,
   "metadata": {},
   "outputs": [],
   "source": []
  }
 ],
 "metadata": {
  "kernelspec": {
   "display_name": "Python 3",
   "language": "python",
   "name": "python3"
  },
  "language_info": {
   "codemirror_mode": {
    "name": "ipython",
    "version": 3
   },
   "file_extension": ".py",
   "mimetype": "text/x-python",
   "name": "python",
   "nbconvert_exporter": "python",
   "pygments_lexer": "ipython3",
   "version": "3.7.4"
  }
 },
 "nbformat": 4,
 "nbformat_minor": 2
}
