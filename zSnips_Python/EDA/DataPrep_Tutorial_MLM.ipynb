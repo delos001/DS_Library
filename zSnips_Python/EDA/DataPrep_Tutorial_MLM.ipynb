{
 "cells": [
  {
   "cell_type": "markdown",
   "metadata": {},
   "source": [
    "### Data Preparation for Machien Learning Mini-course tutorial\n",
    "- Jason Brownlee\n",
    "- https://machinelearningmastery.com/data-preparation-for-machine-learning-7-day-mini-course/"
   ]
  },
  {
   "cell_type": "code",
   "execution_count": null,
   "metadata": {},
   "outputs": [],
   "source": []
  },
  {
   "cell_type": "code",
   "execution_count": 1,
   "metadata": {},
   "outputs": [
    {
     "name": "stdout",
     "output_type": "stream",
     "text": [
      "scipy: 1.4.1\n",
      "numpy: 1.17.0\n",
      "matplotlib: 3.2.2\n",
      "pandas: 1.1.0\n",
      "statsmodels: 0.11.1\n",
      "sklearn: 0.23.1\n"
     ]
    }
   ],
   "source": [
    "import scipy\n",
    "print('scipy: %s' % scipy.__version__)\n",
    "import numpy\n",
    "print('numpy: %s' % numpy.__version__)\n",
    "import matplotlib\n",
    "print('matplotlib: %s' % matplotlib.__version__)\n",
    "import pandas\n",
    "print('pandas: %s' % pandas.__version__)\n",
    "import statsmodels\n",
    "print('statsmodels: %s' % statsmodels.__version__)\n",
    "import sklearn\n",
    "print('sklearn: %s' % sklearn.__version__)\n"
   ]
  },
  {
   "cell_type": "code",
   "execution_count": null,
   "metadata": {},
   "outputs": [],
   "source": []
  },
  {
   "cell_type": "code",
   "execution_count": 7,
   "metadata": {
    "scrolled": true
   },
   "outputs": [
    {
     "name": "stdout",
     "output_type": "stream",
     "text": [
      "tensorflow: 1.14.0\n"
     ]
    }
   ],
   "source": [
    "import tensorflow\n",
    "print('tensorflow: %s' % tensorflow.__version__)\n"
   ]
  },
  {
   "cell_type": "code",
   "execution_count": 8,
   "metadata": {},
   "outputs": [
    {
     "name": "stdout",
     "output_type": "stream",
     "text": [
      "keras: 2.3.1\n"
     ]
    }
   ],
   "source": [
    "import keras\n",
    "print('keras: %s' % keras.__version__)"
   ]
  },
  {
   "cell_type": "markdown",
   "metadata": {},
   "source": [
    "## Imputation\n",
    "\n",
    "- statistical imputation\n",
    "- horse colic data"
   ]
  },
  {
   "cell_type": "code",
   "execution_count": 11,
   "metadata": {},
   "outputs": [],
   "source": [
    "from numpy import isnan\n",
    "from pandas import read_csv\n",
    "from sklearn.impute import SimpleImputer"
   ]
  },
  {
   "cell_type": "code",
   "execution_count": 25,
   "metadata": {},
   "outputs": [
    {
     "name": "stdout",
     "output_type": "stream",
     "text": [
      "[[2.00000e+00 1.00000e+00 5.30101e+05 3.85000e+01 6.60000e+01 2.80000e+01\n",
      "  3.00000e+00 3.00000e+00         nan 2.00000e+00 5.00000e+00 4.00000e+00\n",
      "  4.00000e+00         nan         nan         nan 3.00000e+00 5.00000e+00\n",
      "  4.50000e+01 8.40000e+00         nan         nan 2.00000e+00 2.00000e+00\n",
      "  1.13000e+04 0.00000e+00 0.00000e+00 2.00000e+00]\n",
      " [1.00000e+00 1.00000e+00 5.34817e+05 3.92000e+01 8.80000e+01 2.00000e+01\n",
      "          nan         nan 4.00000e+00 1.00000e+00 3.00000e+00 4.00000e+00\n",
      "  2.00000e+00         nan         nan         nan 4.00000e+00 2.00000e+00\n",
      "  5.00000e+01 8.50000e+01 2.00000e+00 2.00000e+00 3.00000e+00 2.00000e+00\n",
      "  2.20800e+03 0.00000e+00 0.00000e+00 2.00000e+00]]\n",
      "------------------------------------------------------------------------------------------\n",
      "[[1.00000e+00 1.00000e+00 5.30612e+05 3.65000e+01 1.00000e+02 2.40000e+01\n",
      "  3.00000e+00 3.00000e+00 3.00000e+00 1.00000e+00 3.00000e+00 3.00000e+00\n",
      "  3.00000e+00 3.00000e+00 1.00000e+00         nan 4.00000e+00 4.00000e+00\n",
      "  5.00000e+01 6.00000e+00 3.00000e+00 3.40000e+00 1.00000e+00 1.00000e+00\n",
      "  2.20800e+03 0.00000e+00 0.00000e+00 1.00000e+00]\n",
      " [1.00000e+00 1.00000e+00 5.34618e+05 3.72000e+01 4.00000e+01 2.00000e+01\n",
      "          nan         nan         nan         nan         nan         nan\n",
      "          nan         nan         nan         nan 4.00000e+00 1.00000e+00\n",
      "  3.60000e+01 6.20000e+01 1.00000e+00 1.00000e+00 3.00000e+00 2.00000e+00\n",
      "  6.11200e+03 0.00000e+00 0.00000e+00 2.00000e+00]]\n",
      "------------------------------------------------------------------------------------------\n",
      "(300, 28)\n"
     ]
    }
   ],
   "source": [
    "## load data\n",
    "\n",
    "url = 'https://raw.githubusercontent.com/jbrownlee/Datasets/master/horse-colic.csv'\n",
    "df = read_csv(url,\n",
    "              header=None,\n",
    "              na_values='?')\n",
    "data = df.values\n",
    "\n",
    "## inspect data\n",
    "print(data[0:2]); print('---'*30)\n",
    "print(data[-2:]); print('---'*30)\n",
    "print(data.shape)"
   ]
  },
  {
   "cell_type": "code",
   "execution_count": 28,
   "metadata": {},
   "outputs": [
    {
     "data": {
      "text/plain": [
       "28"
      ]
     },
     "execution_count": 28,
     "metadata": {},
     "output_type": "execute_result"
    }
   ],
   "source": [
    "data.shape[1]"
   ]
  },
  {
   "cell_type": "code",
   "execution_count": 32,
   "metadata": {},
   "outputs": [],
   "source": [
    "## split into input and output elements\n",
    "## ix is all columns (data.shape[1] gives column number) that aren't 23abs\n",
    "ix = [i for i in range(data.shape[1]) if i != 23]\n",
    "#print(ix[0:100])\n",
    "\n",
    "X, y = data[:, ix], data[:, 23]"
   ]
  },
  {
   "cell_type": "code",
   "execution_count": 34,
   "metadata": {},
   "outputs": [
    {
     "name": "stdout",
     "output_type": "stream",
     "text": [
      "Missing: 1605\n"
     ]
    }
   ],
   "source": [
    "## print missing\n",
    "\n",
    "print('Missing: %d' % sum(isnan(X).flatten()))"
   ]
  },
  {
   "cell_type": "code",
   "execution_count": 38,
   "metadata": {},
   "outputs": [],
   "source": [
    "## define the imputer and fit on data set\n",
    "## all nan's are replaced with the mean\n",
    "## https://scikit-learn.org/stable/modules/generated/sklearn.impute.SimpleImputer.html\n",
    "imputer = SimpleImputer(strategy='mean')\n",
    "imputer.fit(X)\n",
    "\n",
    "## tranform the dataset\n",
    "Xtrans = imputer.transform(X)"
   ]
  },
  {
   "cell_type": "code",
   "execution_count": 40,
   "metadata": {},
   "outputs": [
    {
     "name": "stdout",
     "output_type": "stream",
     "text": [
      "Missing: 0\n"
     ]
    }
   ],
   "source": [
    "print('Missing: %d' % sum(isnan(Xtrans).flatten()))"
   ]
  },
  {
   "cell_type": "code",
   "execution_count": null,
   "metadata": {},
   "outputs": [],
   "source": []
  }
 ],
 "metadata": {
  "kernelspec": {
   "display_name": "Python 3",
   "language": "python",
   "name": "python3"
  },
  "language_info": {
   "codemirror_mode": {
    "name": "ipython",
    "version": 3
   },
   "file_extension": ".py",
   "mimetype": "text/x-python",
   "name": "python",
   "nbconvert_exporter": "python",
   "pygments_lexer": "ipython3",
   "version": "3.7.7"
  },
  "toc": {
   "base_numbering": 1,
   "nav_menu": {},
   "number_sections": true,
   "sideBar": true,
   "skip_h1_title": false,
   "title_cell": "Table of Contents",
   "title_sidebar": "Contents",
   "toc_cell": false,
   "toc_position": {},
   "toc_section_display": true,
   "toc_window_display": true
  }
 },
 "nbformat": 4,
 "nbformat_minor": 4
}
