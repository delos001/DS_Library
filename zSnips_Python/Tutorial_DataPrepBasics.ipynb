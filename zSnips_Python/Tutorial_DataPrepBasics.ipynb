{
 "cells": [
  {
   "cell_type": "markdown",
   "metadata": {},
   "source": [
    "###  Python Basics Tutorial\n",
    "\n",
    "#### Data Prep Basics Tutorial\n",
    "\n",
    "####  Machine Learning Mastery with Python\n",
    "####  Jason Brownlee"
   ]
  },
  {
   "cell_type": "markdown",
   "metadata": {},
   "source": [
    "#### In this recipe:\n",
    "- rescaling\n",
    "- standardize\n",
    "- normalize\n",
    "- binarize"
   ]
  },
  {
   "cell_type": "markdown",
   "metadata": {},
   "source": [
    "###  Rescale Data\n",
    "\n",
    "- Many ML techniques can perform better when data is on same scale"
   ]
  },
  {
   "cell_type": "code",
   "execution_count": 1,
   "metadata": {},
   "outputs": [],
   "source": [
    "# Scikit-learn has MinMaxScaler class\n",
    "\n",
    "from pandas import read_csv\n",
    "from numpy import set_printoptions\n",
    "from sklearn.preprocessing import MinMaxScaler\n",
    "\n",
    "filename = 'pima-indians-diabetes.data.csv'\n",
    "path = 'D:\\\\OneDrive - QJA\\\\My Files\\\\DataScience\\\\DataSets'\n",
    "\n",
    "# name columns\n",
    "names = ['preg', 'plas', 'pres', 'skin', 'test',\n",
    "        'mass', 'pedi', 'age', 'class']\n",
    "\n",
    "dataframe = read_csv(path + '\\\\' + filename, names = names)"
   ]
  },
  {
   "cell_type": "code",
   "execution_count": 7,
   "metadata": {},
   "outputs": [
    {
     "name": "stdout",
     "output_type": "stream",
     "text": [
      "[[0.353 0.744 0.59  0.354 0.    0.501 0.234 0.483]\n",
      " [0.059 0.427 0.541 0.293 0.    0.396 0.117 0.167]\n",
      " [0.471 0.92  0.525 0.    0.    0.347 0.254 0.183]\n",
      " [0.059 0.447 0.541 0.232 0.111 0.419 0.038 0.   ]\n",
      " [0.    0.688 0.328 0.354 0.199 0.642 0.944 0.2  ]]\n"
     ]
    }
   ],
   "source": [
    "array = dataframe.values\n",
    "# print(array)\n",
    "\n",
    "# split array into input and output\n",
    "X = array[:, 0:8] # 1st through 7th column\n",
    "Y = array[:, 8] # just 8th column\n",
    "\n",
    "# set object to scale data between 0 and 1\n",
    "scaler = MinMaxScaler(feature_range = (0,1))\n",
    "rescaledX = scaler.fit_transform(X)\n",
    "\n",
    "# summarize transformed data\n",
    "set_printoptions(precision = 3)\n",
    "print(rescaledX[0:5,:])"
   ]
  },
  {
   "cell_type": "code",
   "execution_count": null,
   "metadata": {},
   "outputs": [],
   "source": []
  },
  {
   "cell_type": "markdown",
   "metadata": {},
   "source": [
    "### Standardize Data\n",
    "\n",
    "- transform attributes with Gaussian distributions and differing means and standard deviations to mean of 0, sd of 1\n",
    "\n",
    "- useful for techniques such as linear and logistic regression, and LDA"
   ]
  },
  {
   "cell_type": "code",
   "execution_count": 8,
   "metadata": {},
   "outputs": [
    {
     "name": "stdout",
     "output_type": "stream",
     "text": [
      "[[ 0.64   0.848  0.15   0.907 -0.693  0.204  0.468  1.426]\n",
      " [-0.845 -1.123 -0.161  0.531 -0.693 -0.684 -0.365 -0.191]\n",
      " [ 1.234  1.944 -0.264 -1.288 -0.693 -1.103  0.604 -0.106]\n",
      " [-0.845 -0.998 -0.161  0.155  0.123 -0.494 -0.921 -1.042]\n",
      " [-1.142  0.504 -1.505  0.907  0.766  1.41   5.485 -0.02 ]]\n"
     ]
    }
   ],
   "source": [
    "from sklearn.preprocessing import StandardScaler\n",
    "# from pandas import read_csv\n",
    "# from numpy import set_printoptions\n",
    "\n",
    "array = dataframe.values\n",
    "# print(array)\n",
    "\n",
    "# split array into input and output\n",
    "X = array[:, 0:8] # 1st through 7th column\n",
    "Y = array[:, 8] # just 8th column\n",
    "\n",
    "# set object to standardize data mean=0, sd=1\n",
    "scaler = StandardScaler().fit(X)\n",
    "rescaledX = scaler.transform(X)\n",
    "\n",
    "# summarize transformed data\n",
    "set_printoptions(precision = 3)\n",
    "print(rescaledX[0:5, :])"
   ]
  },
  {
   "cell_type": "code",
   "execution_count": null,
   "metadata": {},
   "outputs": [],
   "source": []
  },
  {
   "cell_type": "markdown",
   "metadata": {},
   "source": [
    "### Normalize Data\n",
    "\n",
    "- rescale each observation row to have unit norm of 1 (independent of other rows)\n",
    "- useful for sparse data sets when using weighting algo"
   ]
  },
  {
   "cell_type": "code",
   "execution_count": 11,
   "metadata": {},
   "outputs": [
    {
     "name": "stdout",
     "output_type": "stream",
     "text": [
      "[[0.034 0.828 0.403 0.196 0.    0.188 0.004 0.28 ]\n",
      " [0.008 0.716 0.556 0.244 0.    0.224 0.003 0.261]\n",
      " [0.04  0.924 0.323 0.    0.    0.118 0.003 0.162]\n",
      " [0.007 0.588 0.436 0.152 0.622 0.186 0.001 0.139]\n",
      " [0.    0.596 0.174 0.152 0.731 0.188 0.01  0.144]]\n"
     ]
    }
   ],
   "source": [
    "from sklearn.preprocessing import Normalizer\n",
    "# from pandas import read_csv\n",
    "# from numpy import set_printoptions\n",
    "\n",
    "array - dataframe.values\n",
    "\n",
    "# split array into input and output\n",
    "X = array[:, 0:8] # 1st through 7th column\n",
    "Y = array[:, 8] # just 8th column\n",
    "\n",
    "# set object to standardize each row mean=0, sd=1\n",
    "scaler = Normalizer().fit(X)\n",
    "normalizedX = scaler.transform(X)\n",
    "\n",
    "set_printoptions(precision = 3)\n",
    "print(normalizedX[0:5, :])\n",
    "\n"
   ]
  },
  {
   "cell_type": "code",
   "execution_count": null,
   "metadata": {},
   "outputs": [],
   "source": []
  },
  {
   "cell_type": "markdown",
   "metadata": {},
   "source": [
    "### Binarize Data\n",
    "\n",
    "- use a threshold to mark values 0 or 1\n",
    "    - above threshold = 1, below = 0\n",
    "- useful when you have probabilities you want to convert into binary (ie: yes/no)\n",
    "- useful to add features"
   ]
  },
  {
   "cell_type": "code",
   "execution_count": 13,
   "metadata": {},
   "outputs": [
    {
     "name": "stdout",
     "output_type": "stream",
     "text": [
      "[[1. 1. 1. 1. 0. 1. 1. 1.]\n",
      " [1. 1. 1. 1. 0. 1. 1. 1.]\n",
      " [1. 1. 1. 0. 0. 1. 1. 1.]\n",
      " [1. 1. 1. 1. 1. 1. 1. 1.]\n",
      " [0. 1. 1. 1. 1. 1. 1. 1.]]\n"
     ]
    }
   ],
   "source": [
    "from sklearn.preprocessing import Binarizer\n",
    "# from pandas import read_csv\n",
    "# from numpy import set_printoptions\n",
    "\n",
    "array = dataframe.values\n",
    "\n",
    "# split array into input and outp\n",
    "X = array[:, 0:8]  # 1st through 7th column\n",
    "Y = array[:, 8]  # just 8th column\n",
    "\n",
    "# set object to binarize data based on threshold\n",
    "# threshold: all values <= 0 turned to 0's, \n",
    "# all others turned to 1's\n",
    "binarizer = Binarizer(threshold = 0.0).fit(X)\n",
    "binaryX = binarizer.transform(X)\n",
    "\n",
    "set_printoptions(precision = 3)\n",
    "print(binaryX[0:5, :])\n"
   ]
  },
  {
   "cell_type": "code",
   "execution_count": null,
   "metadata": {},
   "outputs": [],
   "source": []
  }
 ],
 "metadata": {
  "kernelspec": {
   "display_name": "Python 3",
   "language": "python",
   "name": "python3"
  },
  "language_info": {
   "codemirror_mode": {
    "name": "ipython",
    "version": 3
   },
   "file_extension": ".py",
   "mimetype": "text/x-python",
   "name": "python",
   "nbconvert_exporter": "python",
   "pygments_lexer": "ipython3",
   "version": "3.7.4"
  }
 },
 "nbformat": 4,
 "nbformat_minor": 2
}
