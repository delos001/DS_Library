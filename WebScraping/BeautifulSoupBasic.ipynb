{
 "cells": [
  {
   "cell_type": "markdown",
   "metadata": {},
   "source": [
    "# Beautiful Soup Tutorial\n",
    "\n",
    "- based Vprusso tutorial: https://www.youtube.com/watch?v=87Gx3U0BDlo\n",
    "\n",
    "- github: https://github.com/vprusso/youtube_tutorials/blob/master/web_scraping_and_automation/beautiful_soup/beautiful_soup_and_requests.py"
   ]
  },
  {
   "cell_type": "code",
   "execution_count": null,
   "metadata": {},
   "outputs": [],
   "source": []
  },
  {
   "cell_type": "code",
   "execution_count": 2,
   "metadata": {},
   "outputs": [],
   "source": [
    "import requests\n",
    "from bs4 import BeautifulSoup  # BeautifulSoup is a class of bs4"
   ]
  },
  {
   "cell_type": "code",
   "execution_count": 36,
   "metadata": {},
   "outputs": [
    {
     "name": "stdout",
     "output_type": "stream",
     "text": [
      "200\n",
      "200\n",
      "200\n"
     ]
    }
   ],
   "source": [
    "# using requests, we can access a webpage\n",
    "\n",
    "wp1 = requests.get('https://www.google.com')\n",
    "wp2 = requests.get('https://www.clinicaltrials.gov')\n",
    "wp3 = requests.get('https://www.whitehouse.gov/briefings-statements')\n",
    "\n",
    "\n",
    "# verify access to the webpage: a code of 200 confirms access\n",
    "# list of status codes: https://en.wikipedia.org/wiki/List_of_HTTP_status_codes\n",
    "\n",
    "print(wp1.status_code)\n",
    "print(wp2.status_code)\n",
    "print(wp3.status_code) "
   ]
  },
  {
   "cell_type": "code",
   "execution_count": null,
   "metadata": {},
   "outputs": [],
   "source": []
  },
  {
   "cell_type": "code",
   "execution_count": 37,
   "metadata": {},
   "outputs": [
    {
     "name": "stdout",
     "output_type": "stream",
     "text": [
      "{'Date': 'Tue, 03 Mar 2020 03:07:32 GMT', 'Expires': '-1', 'Cache-Control': 'private, max-age=0', 'Content-Type': 'text/html; charset=ISO-8859-1', 'P3P': 'CP=\"This is not a P3P policy! See g.co/p3phelp for more info.\"', 'Content-Encoding': 'gzip', 'Server': 'gws', 'X-XSS-Protection': '0', 'X-Frame-Options': 'SAMEORIGIN', 'Set-Cookie': '1P_JAR=2020-03-03-03; expires=Thu, 02-Apr-2020 03:07:32 GMT; path=/; domain=.google.com; Secure, NID=199=ijbeFXY8eUyZt-JLawl_R0GfWK_uOs5nSdKdbkhuRV9Hp9gftEwMAjCt0lpnXsZetXetHx0y_oxkq_QkzU-4GiRw-V3qfUhM9rX3VOb-sYsm3MDN2jIEncfxhvjHdiwHePpbwnHCLfzeqdUC1MKhWc5lg8M42kNfhc4AJUoAB9w; expires=Wed, 02-Sep-2020 03:07:32 GMT; path=/; domain=.google.com; HttpOnly', 'Alt-Svc': 'quic=\":443\"; ma=2592000; v=\"46,43\",h3-Q050=\":443\"; ma=2592000,h3-Q049=\":443\"; ma=2592000,h3-Q048=\":443\"; ma=2592000,h3-Q046=\":443\"; ma=2592000,h3-Q043=\":443\"; ma=2592000', 'Transfer-Encoding': 'chunked'}\n",
      "{'Date': 'Tue, 03 Mar 2020 03:07:32 GMT', 'Server': 'Apache', 'Strict-Transport-Security': 'max-age=31536000; includeSubDomains; preload', 'Expires': 'Tue, 03 Mar 2020 09:07:32 GMT', 'Content-Type': 'text/html;charset=UTF-8', 'Vary': 'Accept-Encoding', 'Content-Encoding': 'gzip', 'Set-Cookie': 'Psid=fihzm6CLDwFk0PG5Fyz3FQ7V9ghH0KhnxR0kzg7P0K7BWgzqWRNjaBLgyPt; Expires=Wed, 03-Mar-2021 08:56:00 GMT; Path=/; Secure, CTOpts=Qihzm6CLDwFk0PG5FyUgzw-R98F5OR4jSKj5; Expires=Tue, 03-Mar-2020 03:27:32 GMT; Path=/; Secure', 'X-UA-Compatible': 'IE=Edge', 'X-XSS-Protection': '1; mode=block', 'Keep-Alive': 'timeout=5, max=100', 'Connection': 'Keep-Alive', 'Transfer-Encoding': 'chunked'}\n"
     ]
    }
   ],
   "source": [
    "# verify access to correct page\n",
    "# list of header information: https://en.wikipedia.org/wiki/List_of_HTTP_header_fields\n",
    "\n",
    "print(wp1.headers)\n",
    "print(wp2.headers)\n",
    "#print(wp3.headers)"
   ]
  },
  {
   "cell_type": "markdown",
   "metadata": {},
   "source": [
    "###  Create BeautifulSoup Object"
   ]
  },
  {
   "cell_type": "code",
   "execution_count": 38,
   "metadata": {},
   "outputs": [],
   "source": [
    "# store content of website in a variable then create a\n",
    "# beautiful soup object from that content\n",
    "\n",
    "src1 = wp1.content  # get content of www.google.com\n",
    "src2 = wp2.content  # get content of www.clinicaltrials.gov\n",
    "src3 = wp3.content\n",
    "\n",
    "bs1 = BeautifulSoup(src1, 'lxml')  # store content as soup object\n",
    "bs2 = BeautifulSoup(src2, 'lxml')\n",
    "bs3 = BeautifulSoup(src3, 'lxml')\n",
    "\n",
    "#print(bs1)\n",
    "#print(bs2)\n",
    "#print(bs3)"
   ]
  },
  {
   "cell_type": "markdown",
   "metadata": {},
   "source": [
    "### Links on webpage"
   ]
  },
  {
   "cell_type": "code",
   "execution_count": 39,
   "metadata": {},
   "outputs": [],
   "source": [
    "# Get all the links on the page\n",
    "# find_all is a method in bs\n",
    "# this code finds all the 'a' tags where a tags are links on the page\n",
    "# an a-tag contains all information between <a and /a>\n",
    "\n",
    "bs1links = bs1.find_all('a')\n",
    "bs2links = bs2.find_all('a')\n",
    "bs3links = bs3.find_all('a')\n",
    "\n",
    "# Print all the a-tags (links on the page)\n",
    "#print(bs1links)\n",
    "#print(bs2links)\n",
    "#print(bs3links)\n",
    "#print('\\n')  # not sure what this does"
   ]
  },
  {
   "cell_type": "code",
   "execution_count": 40,
   "metadata": {},
   "outputs": [
    {
     "name": "stdout",
     "output_type": "stream",
     "text": [
      "<a href=\"/intl/en/about.html\">About Google</a>\n",
      "/intl/en/about.html\n"
     ]
    }
   ],
   "source": [
    "# Access links of interst from google.com\n",
    "# will provide link information when \"About\" is in the text field \n",
    "# 'href' is an attribute within the a-tag (there are different kinds)\n",
    "\n",
    "for link in bs1links:\n",
    "    if \"About\" in link.text:\n",
    "        print(link)\n",
    "        print(link.attrs['href']) # prints the attributes for the link"
   ]
  },
  {
   "cell_type": "code",
   "execution_count": 41,
   "metadata": {},
   "outputs": [
    {
     "name": "stdout",
     "output_type": "stream",
     "text": [
      "<a href=\"/ct2/search/browse?brwse=cond_cat\">See Studies by Topic</a>\n",
      "/ct2/search/browse?brwse=cond_cat\n",
      "<a href=\"/ct2/search/browse?brwse=cond_cat\">See Studies by Topic</a>\n",
      "/ct2/search/browse?brwse=cond_cat\n",
      "<a href=\"/ct2/search/browse?brwse=cond_cat\"><span style=\"white-space:nowrap;\">Studies by Topic</span></a>\n",
      "/ct2/search/browse?brwse=cond_cat\n"
     ]
    }
   ],
   "source": [
    "# Access links of interst from clinicaltrials.com\n",
    "# will provide link information when \"About\" is in the text field \n",
    "# 'href' is an attribute within the a-tag (there are different kinds)\n",
    "# link here is <a href=\"/ct2/search/browse?brwse=cond_cat\">See Studies by Topic</a>\n",
    "# 'href' here is /ct2/search/browse?brwse=cond_cat\n",
    "\n",
    "for link in bs2links:\n",
    "    if \"Studies by Topic\" in link.text:\n",
    "        print(link)\n",
    "        print(link.attrs['href']) # prints the attributes for the link"
   ]
  },
  {
   "cell_type": "markdown",
   "metadata": {},
   "source": [
    "Tutorial stop using google.com, switch to whitehouse.gov\n"
   ]
  },
  {
   "cell_type": "code",
   "execution_count": 44,
   "metadata": {},
   "outputs": [
    {
     "name": "stdout",
     "output_type": "stream",
     "text": [
      "['https://www.whitehouse.gov/briefings-statements/remarks-president-trump-marine-one-departure-85/', 'https://www.whitehouse.gov/briefings-statements/bill-announcement-82/', 'https://www.whitehouse.gov/briefings-statements/vice-president-pence-secretary-azar-add-key-administration-officials-coronavirus-task-force-3/', 'https://www.whitehouse.gov/briefings-statements/readout-vice-presidents-discussion-nations-governors-covid-19-coordination-preparedness/', 'https://www.whitehouse.gov/briefings-statements/remarks-vice-president-pence-american-israel-public-affairs-committee-policy-conference/', 'https://www.whitehouse.gov/briefings-statements/remarks-president-trump-president-duque-colombia-bilateral-meeting-2/', 'https://www.whitehouse.gov/briefings-statements/presidential-message-read-across-america-day-2020/', 'https://www.whitehouse.gov/briefings-statements/readout-white-house-coronavrius-task-force-meeting/', 'https://www.whitehouse.gov/briefings-statements/remarks-president-trump-2020-conservative-political-action-conference-national-harbor-md/', 'https://www.whitehouse.gov/briefings-statements/vice-president-pence-secretary-azar-add-key-administration-officials-coronavirus-task-force-2/']\n"
     ]
    }
   ],
   "source": [
    "# Get a list of all the links on a page that point to links of interest\n",
    "\n",
    "# You need to identify format of the links: if you right click on list \n",
    "#    and click 'inspect', you can find the header type, ie: h2, h3, etc\n",
    "# for the whitehouse.gov example, the links of interest are header2 (h2)\n",
    "# once you specify header type, you then find the tag of interest \n",
    "\n",
    "urlList = []\n",
    "\n",
    "for h2_tag in bs3.find_all('h2'):  # similar to finding a-tag above\n",
    "    a_tag = h2_tag.find('a')  # find a-tags within each h2 header\n",
    "    \n",
    "    # href is the attribute that gives the URL for each a-tag link\n",
    "    urlList.append(a_tag.attrs['href'])  # append each URL to urlList\n",
    "\n",
    "print(urlList)\n"
   ]
  },
  {
   "cell_type": "code",
   "execution_count": 51,
   "metadata": {},
   "outputs": [
    {
     "name": "stdout",
     "output_type": "stream",
     "text": [
      "['https://clinicaltrials.gov/ct2/manage-recs/resources#DataElement']\n"
     ]
    }
   ],
   "source": [
    "# Same as above except with clinincaltrial.gov URL\n",
    "\n",
    "urlList = []\n",
    "\n",
    "for body_tag in bs2.find_all('body'):  # ho h2, so using 'body'\n",
    "    a_tag = body_tag.find('a')  # find a-tags within each h2 header\n",
    "    \n",
    "    # href is the attribute that gives the URL for each a-tag link\n",
    "    urlList.append(a_tag.attrs['href'])  # append each URL to urlList\n",
    "\n",
    "print(urlList)\n"
   ]
  },
  {
   "cell_type": "code",
   "execution_count": null,
   "metadata": {},
   "outputs": [],
   "source": []
  }
 ],
 "metadata": {
  "kernelspec": {
   "display_name": "Python 3",
   "language": "python",
   "name": "python3"
  },
  "language_info": {
   "codemirror_mode": {
    "name": "ipython",
    "version": 3
   },
   "file_extension": ".py",
   "mimetype": "text/x-python",
   "name": "python",
   "nbconvert_exporter": "python",
   "pygments_lexer": "ipython3",
   "version": "3.7.4"
  }
 },
 "nbformat": 4,
 "nbformat_minor": 2
}
