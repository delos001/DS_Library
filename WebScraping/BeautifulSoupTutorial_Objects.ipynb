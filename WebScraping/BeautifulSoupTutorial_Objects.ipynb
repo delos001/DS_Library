{
 "cells": [
  {
   "cell_type": "markdown",
   "metadata": {},
   "source": [
    "###  Create Objects with Beautiful Soup\n",
    "\n",
    "- based on vprusso tutorial: https://www.youtube.com/watch?v=oDtLJEc5Ako\n",
    "\n",
    "- github: https://github.com/vprusso/youtube_tutorials/blob/master/web_scraping_and_automation/beautiful_soup/beautiful_soup_objects.py\n",
    "\n",
    "\n",
    "- objects reviewed: Tag, NavigableString, BeautifulSoup, and Comment"
   ]
  },
  {
   "cell_type": "code",
   "execution_count": null,
   "metadata": {},
   "outputs": [],
   "source": []
  },
  {
   "cell_type": "code",
   "execution_count": 4,
   "metadata": {},
   "outputs": [],
   "source": [
    "from bs4 import BeautifulSoup\n",
    "\n",
    "import os"
   ]
  },
  {
   "cell_type": "code",
   "execution_count": null,
   "metadata": {},
   "outputs": [],
   "source": []
  },
  {
   "cell_type": "code",
   "execution_count": 2,
   "metadata": {},
   "outputs": [],
   "source": [
    "# This tutorial uses the following html\n",
    "\n",
    "html_doc = \"\"\"\n",
    "<html><head><title>The Dormouse's story</title></head>\n",
    "<body>\n",
    "<p class=\"title\"><b>The Dormouse's story</b></p>\n",
    "<p class=\"story\">Once upon a time there were three little sisters; their names:\n",
    "<a href=\"http://example.com/elsie\" class=\"sister\" id=\"link1\">Elsie</a>,\n",
    "<a href=\"http://example.com/lacie\" class=\"sister\" id=\"link2\">Lacie</a> and\n",
    "<a href=\"http://example.com/tillie\" class=\"sister\" id=\"link3\">Tillie</a>;\n",
    "and they lived at the bottom of a well.</p>\n",
    "<p class=\"story\">...</p>\n",
    "<b class=\"boldest\">Extremely bold</b>\n",
    "<blockquote class=\"boldest\">Extremely bold</blockquote>\n",
    "<b id=\"1\">Test 1</b>\n",
    "<b another-attribute=\"1\" id=\"verybold\">Test 2</b>\n",
    "\"\"\""
   ]
  },
  {
   "cell_type": "code",
   "execution_count": 6,
   "metadata": {},
   "outputs": [],
   "source": [
    "# writes html_doc to a file and use beautiful soup to create a soup object\n",
    "# see working directory to view the file (import os and use cmd os.getcwd())\n",
    "\n",
    "with open('index.html', 'w') as f:\n",
    "    f.write(html_doc)\n",
    "\n",
    "bs = BeautifulSoup(html_doc, \"lxml\")"
   ]
  },
  {
   "cell_type": "code",
   "execution_count": 11,
   "metadata": {},
   "outputs": [],
   "source": [
    "# view the bs object  \n",
    "# there are 2 options below: prettify includes indents and other html formats\n",
    "# prettify makes it easier to identify content tags like a-tags, headers, etc\n",
    "\n",
    "#print(bs)\n",
    "#print(bs.prettify())"
   ]
  },
  {
   "cell_type": "markdown",
   "metadata": {},
   "source": [
    "### Print Tags"
   ]
  },
  {
   "cell_type": "code",
   "execution_count": 16,
   "metadata": {},
   "outputs": [
    {
     "name": "stdout",
     "output_type": "stream",
     "text": [
      "<b>The Dormouse's story</b>\n",
      "<p class=\"title\"><b>The Dormouse's story</b></p>\n",
      "<b>The Dormouse's story</b>\n",
      "<p class=\"title\"><b>The Dormouse's story</b></p>\n"
     ]
    }
   ],
   "source": [
    "# print first occurrence of content wrapped in bold tags and p tags\n",
    "\n",
    "print(bs.b)\n",
    "print(bs.p)\n",
    "\n",
    "# alternatively, we can use the find function to do same thing\n",
    "print(bs.find('b'))  #note the quotes around b\n",
    "print(bs.find('p'))"
   ]
  },
  {
   "cell_type": "code",
   "execution_count": 32,
   "metadata": {},
   "outputs": [
    {
     "name": "stdout",
     "output_type": "stream",
     "text": [
      "[<p class=\"title\"><bold_type>The Dormouse's story</bold_type></p>, <p class=\"story\">Once upon a time there were three little sisters; their names:\n",
      "<a class=\"sister\" href=\"http://example.com/elsie\" id=\"link1\">Elsie</a>,\n",
      "<a class=\"sister\" href=\"http://example.com/lacie\" id=\"link2\">Lacie</a> and\n",
      "<a class=\"sister\" href=\"http://example.com/tillie\" id=\"link3\">Tillie</a>;\n",
      "and they lived at the bottom of a well.</p>, <p class=\"story\">...</p>]\n",
      "[<b class=\"boldest\">Extremely bold</b>, <b id=\"1\">Test 1</b>, <b another-attribute=\"1\" id=\"verybold\">Test 2</b>]\n",
      "3\n"
     ]
    }
   ],
   "source": [
    "# print all the content wrapped in a specified tag\n",
    "# produces a list\n",
    "\n",
    "print(bs.find_all('p'))\n",
    "print(bs.find_all('b'))\n",
    "\n",
    "#print(len(bs.find_all('p')))  # to see how many elements in the list"
   ]
  },
  {
   "cell_type": "markdown",
   "metadata": {},
   "source": [
    "### Tag Names"
   ]
  },
  {
   "cell_type": "code",
   "execution_count": 21,
   "metadata": {},
   "outputs": [
    {
     "name": "stdout",
     "output_type": "stream",
     "text": [
      "b\n",
      "<b>The Dormouse's story</b>\n",
      "<bold_type>The Dormouse's story</bold_type>\n"
     ]
    }
   ],
   "source": [
    "# print the name of a tag\n",
    "# in this case, the tag name is 'b'.  Duh\n",
    "\n",
    "print(bs.b.name)\n",
    "\n",
    "# we can alter the name of the tag\n",
    "\n",
    "tag1 = bs.b\n",
    "print(tag1)\n",
    "tag1.name = 'bold_type'\n",
    "print(tag1)"
   ]
  },
  {
   "cell_type": "markdown",
   "metadata": {},
   "source": [
    "### Attributes"
   ]
  },
  {
   "cell_type": "code",
   "execution_count": null,
   "metadata": {},
   "outputs": [],
   "source": [
    "# find all the bold elements (see above bs.find_all('b')) and\n",
    "#    give me the third element of the list\n",
    "\n",
    "tag1 = bs.find_all('b')[1]\n",
    "print(tag1)\n",
    "\n",
    "# this tag has an attribute called 'id'\n",
    "# using array notation [] we can get the contents of id attribute\n",
    "print(tag1['id'])"
   ]
  },
  {
   "cell_type": "code",
   "execution_count": 35,
   "metadata": {},
   "outputs": [
    {
     "name": "stdout",
     "output_type": "stream",
     "text": [
      "<b another-attribute=\"1\" id=\"verybold\">Test 2</b>\n",
      "verybold\n",
      "1\n"
     ]
    }
   ],
   "source": [
    "# similar example, but printing multiple attributes \n",
    "# in this example 'another-attribute' is an attribute in the html file\n",
    "\n",
    "tag2 = bs.find_all('b')[2]\n",
    "print(tag2)\n",
    "\n",
    "print(tag2['id'])\n",
    "print(tag2['another-attribute'])"
   ]
  },
  {
   "cell_type": "code",
   "execution_count": 41,
   "metadata": {},
   "outputs": [
    {
     "name": "stdout",
     "output_type": "stream",
     "text": [
      "{'another-attribute': 99, 'id': 'verybold'}\n"
     ]
    }
   ],
   "source": [
    "# See all the attributes that the bold (b) tag has\n",
    "# creates a dictionary with each attribute type\n",
    "\n",
    "print(tag2.attrs)"
   ]
  },
  {
   "cell_type": "code",
   "execution_count": 42,
   "metadata": {},
   "outputs": [
    {
     "name": "stdout",
     "output_type": "stream",
     "text": [
      "<b another-attribute=\"99\" id=\"verybold\">Test 2</b>\n"
     ]
    }
   ],
   "source": [
    "# Change the vaule of an attribute\n",
    "# In the example above, the value for 'another-attribute'\n",
    "#    is 1.  Here, we change it to something else\n",
    "\n",
    "tag2['another-attribute'] = 99\n",
    "\n",
    "print(tag3) # new attribute values"
   ]
  },
  {
   "cell_type": "code",
   "execution_count": 44,
   "metadata": {},
   "outputs": [
    {
     "name": "stdout",
     "output_type": "stream",
     "text": [
      "<b>Test 2</b>\n"
     ]
    }
   ],
   "source": [
    "# Removing Attributes\n",
    "# attribute content is mutable so in addition to being\n",
    "#    able to change it, we can delete contents too\n",
    "\n",
    "del tag2['id']\n",
    "del tag2['another-attribute']\n",
    "\n",
    "print(tag2)"
   ]
  },
  {
   "cell_type": "markdown",
   "metadata": {},
   "source": [
    "### Strings within Tags"
   ]
  },
  {
   "cell_type": "code",
   "execution_count": 47,
   "metadata": {},
   "outputs": [
    {
     "name": "stdout",
     "output_type": "stream",
     "text": [
      "<b>Test 2</b>\n",
      "Test 2\n"
     ]
    }
   ],
   "source": [
    "# String data can be found within tags\n",
    "\n",
    "tag3 = bs.find_all('b')[2]\n",
    "print(tag3)\n",
    "print(tag3.string)"
   ]
  },
  {
   "cell_type": "code",
   "execution_count": 48,
   "metadata": {},
   "outputs": [
    {
     "name": "stdout",
     "output_type": "stream",
     "text": [
      "Changed String Values\n"
     ]
    }
   ],
   "source": [
    "# Like attribute values, strings are mutable and can be changed\n",
    "\n",
    "tag3.string.replace_with('Changed String Values')\n",
    "print(tag3.string)"
   ]
  },
  {
   "cell_type": "code",
   "execution_count": null,
   "metadata": {},
   "outputs": [],
   "source": []
  },
  {
   "cell_type": "code",
   "execution_count": null,
   "metadata": {},
   "outputs": [],
   "source": []
  },
  {
   "cell_type": "code",
   "execution_count": null,
   "metadata": {},
   "outputs": [],
   "source": []
  },
  {
   "cell_type": "code",
   "execution_count": null,
   "metadata": {},
   "outputs": [],
   "source": []
  },
  {
   "cell_type": "code",
   "execution_count": null,
   "metadata": {},
   "outputs": [],
   "source": []
  },
  {
   "cell_type": "code",
   "execution_count": null,
   "metadata": {},
   "outputs": [],
   "source": []
  }
 ],
 "metadata": {
  "kernelspec": {
   "display_name": "Python 3",
   "language": "python",
   "name": "python3"
  },
  "language_info": {
   "codemirror_mode": {
    "name": "ipython",
    "version": 3
   },
   "file_extension": ".py",
   "mimetype": "text/x-python",
   "name": "python",
   "nbconvert_exporter": "python",
   "pygments_lexer": "ipython3",
   "version": "3.7.4"
  }
 },
 "nbformat": 4,
 "nbformat_minor": 2
}
